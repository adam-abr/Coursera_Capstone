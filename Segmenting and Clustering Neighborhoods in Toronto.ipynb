{
 "cells": [
  {
   "cell_type": "markdown",
   "metadata": {},
   "source": [
    "# Part 1"
   ]
  },
  {
   "cell_type": "code",
   "execution_count": 21,
   "metadata": {},
   "outputs": [],
   "source": [
    "#import all requred libraries\n",
    "import requests\n",
    "import pandas as pd\n",
    "import numpy as np\n",
    "import random\n",
    "from bs4 import BeautifulSoup\n",
    "import requests\n",
    "import re\n",
    "import geocoder"
   ]
  },
  {
   "cell_type": "markdown",
   "metadata": {},
   "source": [
    "Get the url text data and create a soup object, then fnd anything with tag table in the html data"
   ]
  },
  {
   "cell_type": "code",
   "execution_count": 22,
   "metadata": {},
   "outputs": [],
   "source": [
    "url = 'https://en.wikipedia.org/wiki/List_of_postal_codes_of_Canada:_M'\n",
    "data  = requests.get(url).text \n",
    "soup = BeautifulSoup(data,\"html5lib\")\n",
    "table = soup.find('table')"
   ]
  },
  {
   "cell_type": "markdown",
   "metadata": {},
   "source": [
    "Create an empty dataframe, then go row by row in each table and add values to the table_result "
   ]
  },
  {
   "cell_type": "code",
   "execution_count": 23,
   "metadata": {},
   "outputs": [],
   "source": [
    "table_result = pd.DataFrame(columns=[\"Postal Code\", \"Borough\",'Neighbourhood'])\n",
    "\n",
    "for row in table.tbody.find_all(\"tr\"):\n",
    "    col = row.find_all(\"td\")\n",
    "    if (col != []):\n",
    "        PostalCode = col[0].text\n",
    "        Borough = col[1].text\n",
    "        Neighbourhood = col[2].text\n",
    "        table_result = table_result.append({\"Postal Code\":PostalCode, \"Borough\":Borough,'Neighbourhood':Neighbourhood}, ignore_index=True)"
   ]
  },
  {
   "cell_type": "markdown",
   "metadata": {},
   "source": [
    "Filter the dataframe to rows where Borough is not 'Not assigned'"
   ]
  },
  {
   "cell_type": "code",
   "execution_count": 24,
   "metadata": {},
   "outputs": [],
   "source": [
    "table_result = table_result[table_result['Borough']!= 'Not assigned\\n']"
   ]
  },
  {
   "cell_type": "markdown",
   "metadata": {},
   "source": [
    "Remove all '\\n' from the dataframe"
   ]
  },
  {
   "cell_type": "code",
   "execution_count": 25,
   "metadata": {},
   "outputs": [],
   "source": [
    "table_result = table_result.replace(r'\\n',' ', regex=True) "
   ]
  },
  {
   "cell_type": "markdown",
   "metadata": {},
   "source": [
    "Groupy the dataframe by postal code and borough using a comma, reset index and add empty columns for futher use"
   ]
  },
  {
   "cell_type": "code",
   "execution_count": 26,
   "metadata": {},
   "outputs": [],
   "source": [
    "table_result = table_result.groupby(['Postal Code','Borough'], sort=False).agg( ', '.join)\n",
    "table_result = table_result.reset_index()\n",
    "table_result['Latitude']= ''\n",
    "table_result['Longitude']= ''\n"
   ]
  },
  {
   "cell_type": "markdown",
   "metadata": {},
   "source": [
    "Change each not assigned Borough to the neighbourhood"
   ]
  },
  {
   "cell_type": "code",
   "execution_count": 27,
   "metadata": {},
   "outputs": [],
   "source": [
    "for index, each in enumerate(table_result['Borough']):\n",
    "    if each == 'Not assigned':\n",
    "        table_result.loc[index,'Borough'] = table_result['Neighbourhood'][index]"
   ]
  },
  {
   "cell_type": "markdown",
   "metadata": {},
   "source": [
    "Remove all spaces in the Postal Code column"
   ]
  },
  {
   "cell_type": "code",
   "execution_count": 28,
   "metadata": {},
   "outputs": [
    {
     "data": {
      "text/html": [
       "<div>\n",
       "<style scoped>\n",
       "    .dataframe tbody tr th:only-of-type {\n",
       "        vertical-align: middle;\n",
       "    }\n",
       "\n",
       "    .dataframe tbody tr th {\n",
       "        vertical-align: top;\n",
       "    }\n",
       "\n",
       "    .dataframe thead th {\n",
       "        text-align: right;\n",
       "    }\n",
       "</style>\n",
       "<table border=\"1\" class=\"dataframe\">\n",
       "  <thead>\n",
       "    <tr style=\"text-align: right;\">\n",
       "      <th></th>\n",
       "      <th>Postal Code</th>\n",
       "      <th>Borough</th>\n",
       "      <th>Neighbourhood</th>\n",
       "      <th>Latitude</th>\n",
       "      <th>Longitude</th>\n",
       "    </tr>\n",
       "  </thead>\n",
       "  <tbody>\n",
       "    <tr>\n",
       "      <th>0</th>\n",
       "      <td>M3A</td>\n",
       "      <td>North York</td>\n",
       "      <td>Parkwoods</td>\n",
       "      <td></td>\n",
       "      <td></td>\n",
       "    </tr>\n",
       "    <tr>\n",
       "      <th>1</th>\n",
       "      <td>M4A</td>\n",
       "      <td>North York</td>\n",
       "      <td>Victoria Village</td>\n",
       "      <td></td>\n",
       "      <td></td>\n",
       "    </tr>\n",
       "    <tr>\n",
       "      <th>2</th>\n",
       "      <td>M5A</td>\n",
       "      <td>Downtown Toronto</td>\n",
       "      <td>Regent Park, Harbourfront</td>\n",
       "      <td></td>\n",
       "      <td></td>\n",
       "    </tr>\n",
       "    <tr>\n",
       "      <th>3</th>\n",
       "      <td>M6A</td>\n",
       "      <td>North York</td>\n",
       "      <td>Lawrence Manor, Lawrence Heights</td>\n",
       "      <td></td>\n",
       "      <td></td>\n",
       "    </tr>\n",
       "    <tr>\n",
       "      <th>4</th>\n",
       "      <td>M7A</td>\n",
       "      <td>Downtown Toronto</td>\n",
       "      <td>Queen's Park, Ontario Provincial Government</td>\n",
       "      <td></td>\n",
       "      <td></td>\n",
       "    </tr>\n",
       "    <tr>\n",
       "      <th>...</th>\n",
       "      <td>...</td>\n",
       "      <td>...</td>\n",
       "      <td>...</td>\n",
       "      <td>...</td>\n",
       "      <td>...</td>\n",
       "    </tr>\n",
       "    <tr>\n",
       "      <th>98</th>\n",
       "      <td>M8X</td>\n",
       "      <td>Etobicoke</td>\n",
       "      <td>The Kingsway, Montgomery Road, Old Mill North</td>\n",
       "      <td></td>\n",
       "      <td></td>\n",
       "    </tr>\n",
       "    <tr>\n",
       "      <th>99</th>\n",
       "      <td>M4Y</td>\n",
       "      <td>Downtown Toronto</td>\n",
       "      <td>Church and Wellesley</td>\n",
       "      <td></td>\n",
       "      <td></td>\n",
       "    </tr>\n",
       "    <tr>\n",
       "      <th>100</th>\n",
       "      <td>M7Y</td>\n",
       "      <td>East Toronto</td>\n",
       "      <td>Business reply mail Processing Centre, South C...</td>\n",
       "      <td></td>\n",
       "      <td></td>\n",
       "    </tr>\n",
       "    <tr>\n",
       "      <th>101</th>\n",
       "      <td>M8Y</td>\n",
       "      <td>Etobicoke</td>\n",
       "      <td>Old Mill South, King's Mill Park, Sunnylea, Hu...</td>\n",
       "      <td></td>\n",
       "      <td></td>\n",
       "    </tr>\n",
       "    <tr>\n",
       "      <th>102</th>\n",
       "      <td>M8Z</td>\n",
       "      <td>Etobicoke</td>\n",
       "      <td>Mimico NW, The Queensway West, South of Bloor,...</td>\n",
       "      <td></td>\n",
       "      <td></td>\n",
       "    </tr>\n",
       "  </tbody>\n",
       "</table>\n",
       "<p>103 rows × 5 columns</p>\n",
       "</div>"
      ],
      "text/plain": [
       "    Postal Code            Borough  \\\n",
       "0           M3A        North York    \n",
       "1           M4A        North York    \n",
       "2           M5A  Downtown Toronto    \n",
       "3           M6A        North York    \n",
       "4           M7A  Downtown Toronto    \n",
       "..          ...                ...   \n",
       "98          M8X         Etobicoke    \n",
       "99          M4Y  Downtown Toronto    \n",
       "100         M7Y      East Toronto    \n",
       "101         M8Y         Etobicoke    \n",
       "102         M8Z         Etobicoke    \n",
       "\n",
       "                                         Neighbourhood Latitude Longitude  \n",
       "0                                           Parkwoods                      \n",
       "1                                    Victoria Village                      \n",
       "2                           Regent Park, Harbourfront                      \n",
       "3                    Lawrence Manor, Lawrence Heights                      \n",
       "4         Queen's Park, Ontario Provincial Government                      \n",
       "..                                                 ...      ...       ...  \n",
       "98      The Kingsway, Montgomery Road, Old Mill North                      \n",
       "99                               Church and Wellesley                      \n",
       "100  Business reply mail Processing Centre, South C...                     \n",
       "101  Old Mill South, King's Mill Park, Sunnylea, Hu...                     \n",
       "102  Mimico NW, The Queensway West, South of Bloor,...                     \n",
       "\n",
       "[103 rows x 5 columns]"
      ]
     },
     "execution_count": 28,
     "metadata": {},
     "output_type": "execute_result"
    }
   ],
   "source": [
    "table_result['Postal Code'] = table_result['Postal Code'].str.replace(' ', '')\n",
    "table_result"
   ]
  },
  {
   "cell_type": "markdown",
   "metadata": {},
   "source": [
    "Download the geospacial data to a 'long_lat_data' dataframe, and set the postal code as index"
   ]
  },
  {
   "cell_type": "markdown",
   "metadata": {},
   "source": [
    "# Part 2"
   ]
  },
  {
   "cell_type": "code",
   "execution_count": 29,
   "metadata": {},
   "outputs": [
    {
     "name": "stderr",
     "output_type": "stream",
     "text": [
      "'wget' is not recognized as an internal or external command,\n",
      "operable program or batch file.\n"
     ]
    },
    {
     "data": {
      "text/html": [
       "<div>\n",
       "<style scoped>\n",
       "    .dataframe tbody tr th:only-of-type {\n",
       "        vertical-align: middle;\n",
       "    }\n",
       "\n",
       "    .dataframe tbody tr th {\n",
       "        vertical-align: top;\n",
       "    }\n",
       "\n",
       "    .dataframe thead th {\n",
       "        text-align: right;\n",
       "    }\n",
       "</style>\n",
       "<table border=\"1\" class=\"dataframe\">\n",
       "  <thead>\n",
       "    <tr style=\"text-align: right;\">\n",
       "      <th></th>\n",
       "      <th>Latitude</th>\n",
       "      <th>Longitude</th>\n",
       "    </tr>\n",
       "    <tr>\n",
       "      <th>Postal Code</th>\n",
       "      <th></th>\n",
       "      <th></th>\n",
       "    </tr>\n",
       "  </thead>\n",
       "  <tbody>\n",
       "    <tr>\n",
       "      <th>M1B</th>\n",
       "      <td>43.806686</td>\n",
       "      <td>-79.194353</td>\n",
       "    </tr>\n",
       "    <tr>\n",
       "      <th>M1C</th>\n",
       "      <td>43.784535</td>\n",
       "      <td>-79.160497</td>\n",
       "    </tr>\n",
       "    <tr>\n",
       "      <th>M1E</th>\n",
       "      <td>43.763573</td>\n",
       "      <td>-79.188711</td>\n",
       "    </tr>\n",
       "    <tr>\n",
       "      <th>M1G</th>\n",
       "      <td>43.770992</td>\n",
       "      <td>-79.216917</td>\n",
       "    </tr>\n",
       "    <tr>\n",
       "      <th>M1H</th>\n",
       "      <td>43.773136</td>\n",
       "      <td>-79.239476</td>\n",
       "    </tr>\n",
       "  </tbody>\n",
       "</table>\n",
       "</div>"
      ],
      "text/plain": [
       "              Latitude  Longitude\n",
       "Postal Code                      \n",
       "M1B          43.806686 -79.194353\n",
       "M1C          43.784535 -79.160497\n",
       "M1E          43.763573 -79.188711\n",
       "M1G          43.770992 -79.216917\n",
       "M1H          43.773136 -79.239476"
      ]
     },
     "execution_count": 29,
     "metadata": {},
     "output_type": "execute_result"
    }
   ],
   "source": [
    "long_lat = 'https://cocl.us/Geospatial_data'\n",
    "!wget -q -O 'toronto_m.geospatial_data.csv' long_lat\n",
    "long_lat_data = pd.read_csv(long_lat).set_index(\"Postal Code\")\n",
    "long_lat_data.head()"
   ]
  },
  {
   "cell_type": "markdown",
   "metadata": {},
   "source": [
    "Merge the imported geospacial data with main dataframe and save it as final_df, then clean the dataframe."
   ]
  },
  {
   "cell_type": "code",
   "execution_count": 30,
   "metadata": {},
   "outputs": [
    {
     "data": {
      "text/html": [
       "<div>\n",
       "<style scoped>\n",
       "    .dataframe tbody tr th:only-of-type {\n",
       "        vertical-align: middle;\n",
       "    }\n",
       "\n",
       "    .dataframe tbody tr th {\n",
       "        vertical-align: top;\n",
       "    }\n",
       "\n",
       "    .dataframe thead th {\n",
       "        text-align: right;\n",
       "    }\n",
       "</style>\n",
       "<table border=\"1\" class=\"dataframe\">\n",
       "  <thead>\n",
       "    <tr style=\"text-align: right;\">\n",
       "      <th></th>\n",
       "      <th>Postal Code</th>\n",
       "      <th>Borough</th>\n",
       "      <th>Neighbourhood</th>\n",
       "      <th>Latitude</th>\n",
       "      <th>Longitude</th>\n",
       "    </tr>\n",
       "  </thead>\n",
       "  <tbody>\n",
       "    <tr>\n",
       "      <th>0</th>\n",
       "      <td>M1B</td>\n",
       "      <td>Scarborough</td>\n",
       "      <td>Malvern, Rouge</td>\n",
       "      <td>43.806686</td>\n",
       "      <td>-79.194353</td>\n",
       "    </tr>\n",
       "    <tr>\n",
       "      <th>1</th>\n",
       "      <td>M1C</td>\n",
       "      <td>Scarborough</td>\n",
       "      <td>Rouge Hill, Port Union, Highland Creek</td>\n",
       "      <td>43.784535</td>\n",
       "      <td>-79.160497</td>\n",
       "    </tr>\n",
       "    <tr>\n",
       "      <th>2</th>\n",
       "      <td>M1E</td>\n",
       "      <td>Scarborough</td>\n",
       "      <td>Guildwood, Morningside, West Hill</td>\n",
       "      <td>43.763573</td>\n",
       "      <td>-79.188711</td>\n",
       "    </tr>\n",
       "    <tr>\n",
       "      <th>3</th>\n",
       "      <td>M1G</td>\n",
       "      <td>Scarborough</td>\n",
       "      <td>Woburn</td>\n",
       "      <td>43.770992</td>\n",
       "      <td>-79.216917</td>\n",
       "    </tr>\n",
       "    <tr>\n",
       "      <th>4</th>\n",
       "      <td>M1H</td>\n",
       "      <td>Scarborough</td>\n",
       "      <td>Cedarbrae</td>\n",
       "      <td>43.773136</td>\n",
       "      <td>-79.239476</td>\n",
       "    </tr>\n",
       "    <tr>\n",
       "      <th>...</th>\n",
       "      <td>...</td>\n",
       "      <td>...</td>\n",
       "      <td>...</td>\n",
       "      <td>...</td>\n",
       "      <td>...</td>\n",
       "    </tr>\n",
       "    <tr>\n",
       "      <th>98</th>\n",
       "      <td>M9N</td>\n",
       "      <td>York</td>\n",
       "      <td>Weston</td>\n",
       "      <td>43.706876</td>\n",
       "      <td>-79.518188</td>\n",
       "    </tr>\n",
       "    <tr>\n",
       "      <th>99</th>\n",
       "      <td>M9P</td>\n",
       "      <td>Etobicoke</td>\n",
       "      <td>Westmount</td>\n",
       "      <td>43.696319</td>\n",
       "      <td>-79.532242</td>\n",
       "    </tr>\n",
       "    <tr>\n",
       "      <th>100</th>\n",
       "      <td>M9R</td>\n",
       "      <td>Etobicoke</td>\n",
       "      <td>Kingsview Village, St. Phillips, Martin Grove ...</td>\n",
       "      <td>43.688905</td>\n",
       "      <td>-79.554724</td>\n",
       "    </tr>\n",
       "    <tr>\n",
       "      <th>101</th>\n",
       "      <td>M9V</td>\n",
       "      <td>Etobicoke</td>\n",
       "      <td>South Steeles, Silverstone, Humbergate, Jamest...</td>\n",
       "      <td>43.739416</td>\n",
       "      <td>-79.588437</td>\n",
       "    </tr>\n",
       "    <tr>\n",
       "      <th>102</th>\n",
       "      <td>M9W</td>\n",
       "      <td>Etobicoke</td>\n",
       "      <td>Northwest, West Humber - Clairville</td>\n",
       "      <td>43.706748</td>\n",
       "      <td>-79.594054</td>\n",
       "    </tr>\n",
       "  </tbody>\n",
       "</table>\n",
       "<p>103 rows × 5 columns</p>\n",
       "</div>"
      ],
      "text/plain": [
       "    Postal Code       Borough  \\\n",
       "0           M1B  Scarborough    \n",
       "1           M1C  Scarborough    \n",
       "2           M1E  Scarborough    \n",
       "3           M1G  Scarborough    \n",
       "4           M1H  Scarborough    \n",
       "..          ...           ...   \n",
       "98          M9N         York    \n",
       "99          M9P    Etobicoke    \n",
       "100         M9R    Etobicoke    \n",
       "101         M9V    Etobicoke    \n",
       "102         M9W    Etobicoke    \n",
       "\n",
       "                                         Neighbourhood   Latitude  Longitude  \n",
       "0                                      Malvern, Rouge   43.806686 -79.194353  \n",
       "1              Rouge Hill, Port Union, Highland Creek   43.784535 -79.160497  \n",
       "2                   Guildwood, Morningside, West Hill   43.763573 -79.188711  \n",
       "3                                              Woburn   43.770992 -79.216917  \n",
       "4                                           Cedarbrae   43.773136 -79.239476  \n",
       "..                                                 ...        ...        ...  \n",
       "98                                             Weston   43.706876 -79.518188  \n",
       "99                                          Westmount   43.696319 -79.532242  \n",
       "100  Kingsview Village, St. Phillips, Martin Grove ...  43.688905 -79.554724  \n",
       "101  South Steeles, Silverstone, Humbergate, Jamest...  43.739416 -79.588437  \n",
       "102               Northwest, West Humber - Clairville   43.706748 -79.594054  \n",
       "\n",
       "[103 rows x 5 columns]"
      ]
     },
     "execution_count": 30,
     "metadata": {},
     "output_type": "execute_result"
    }
   ],
   "source": [
    "final_df = pd.merge(long_lat_data, table_result, on='Postal Code')\n",
    "final_df = final_df[['Postal Code', 'Borough', 'Neighbourhood', 'Latitude_x', 'Longitude_x']]\n",
    "final_df.rename(columns={'Latitude_x':'Latitude'}, inplace=True)\n",
    "final_df.rename(columns={'Longitude_x':'Longitude'}, inplace=True)\n",
    "final_df"
   ]
  },
  {
   "cell_type": "markdown",
   "metadata": {},
   "source": [
    "# Part 3"
   ]
  },
  {
   "cell_type": "code",
   "execution_count": 31,
   "metadata": {},
   "outputs": [],
   "source": [
    "from geopy.geocoders import Nominatim\n",
    "import folium\n",
    "import matplotlib.cm as cm\n",
    "import matplotlib.colors as colors\n",
    "from IPython.display import display"
   ]
  },
  {
   "cell_type": "markdown",
   "metadata": {},
   "source": [
    "Find coordinates of toronto"
   ]
  },
  {
   "cell_type": "code",
   "execution_count": 32,
   "metadata": {},
   "outputs": [],
   "source": [
    "address = 'Toronto, Ontario'\n",
    "geolocator = Nominatim(user_agent=\"toronto_explorer\")\n",
    "location = geolocator.geocode(address)\n",
    "latitude = location.latitude\n",
    "longitude = location.longitude"
   ]
  },
  {
   "cell_type": "markdown",
   "metadata": {},
   "source": [
    "Filter the final_df to boroughs that contain toronto and reset index"
   ]
  },
  {
   "cell_type": "code",
   "execution_count": 33,
   "metadata": {},
   "outputs": [
    {
     "data": {
      "text/plain": [
       "(39, 5)"
      ]
     },
     "execution_count": 33,
     "metadata": {},
     "output_type": "execute_result"
    }
   ],
   "source": [
    "clustering_df=final_df[final_df['Borough'].str.contains('Toronto')]\n",
    "clustering_df=clustering_df.reset_index(drop=True)\n",
    "clustering_df.shape"
   ]
  },
  {
   "cell_type": "markdown",
   "metadata": {},
   "source": [
    "Remove spaces in borough names and change names to numerical values for further analysis."
   ]
  },
  {
   "cell_type": "code",
   "execution_count": 34,
   "metadata": {},
   "outputs": [
    {
     "data": {
      "text/html": [
       "<div>\n",
       "<style scoped>\n",
       "    .dataframe tbody tr th:only-of-type {\n",
       "        vertical-align: middle;\n",
       "    }\n",
       "\n",
       "    .dataframe tbody tr th {\n",
       "        vertical-align: top;\n",
       "    }\n",
       "\n",
       "    .dataframe thead th {\n",
       "        text-align: right;\n",
       "    }\n",
       "</style>\n",
       "<table border=\"1\" class=\"dataframe\">\n",
       "  <thead>\n",
       "    <tr style=\"text-align: right;\">\n",
       "      <th></th>\n",
       "      <th>Postal Code</th>\n",
       "      <th>Borough</th>\n",
       "      <th>Neighbourhood</th>\n",
       "      <th>Latitude</th>\n",
       "      <th>Longitude</th>\n",
       "      <th>Label</th>\n",
       "    </tr>\n",
       "  </thead>\n",
       "  <tbody>\n",
       "    <tr>\n",
       "      <th>0</th>\n",
       "      <td>M4E</td>\n",
       "      <td>EastToronto</td>\n",
       "      <td>The Beaches</td>\n",
       "      <td>43.676357</td>\n",
       "      <td>-79.293031</td>\n",
       "      <td>4</td>\n",
       "    </tr>\n",
       "    <tr>\n",
       "      <th>1</th>\n",
       "      <td>M4K</td>\n",
       "      <td>EastToronto</td>\n",
       "      <td>The Danforth West, Riverdale</td>\n",
       "      <td>43.679557</td>\n",
       "      <td>-79.352188</td>\n",
       "      <td>4</td>\n",
       "    </tr>\n",
       "    <tr>\n",
       "      <th>2</th>\n",
       "      <td>M4L</td>\n",
       "      <td>EastToronto</td>\n",
       "      <td>India Bazaar, The Beaches West</td>\n",
       "      <td>43.668999</td>\n",
       "      <td>-79.315572</td>\n",
       "      <td>4</td>\n",
       "    </tr>\n",
       "    <tr>\n",
       "      <th>3</th>\n",
       "      <td>M4M</td>\n",
       "      <td>EastToronto</td>\n",
       "      <td>Studio District</td>\n",
       "      <td>43.659526</td>\n",
       "      <td>-79.340923</td>\n",
       "      <td>4</td>\n",
       "    </tr>\n",
       "    <tr>\n",
       "      <th>4</th>\n",
       "      <td>M4N</td>\n",
       "      <td>CentralToronto</td>\n",
       "      <td>Lawrence Park</td>\n",
       "      <td>43.728020</td>\n",
       "      <td>-79.388790</td>\n",
       "      <td>2</td>\n",
       "    </tr>\n",
       "  </tbody>\n",
       "</table>\n",
       "</div>"
      ],
      "text/plain": [
       "  Postal Code         Borough                    Neighbourhood   Latitude  \\\n",
       "0         M4E     EastToronto                     The Beaches   43.676357   \n",
       "1         M4K     EastToronto    The Danforth West, Riverdale   43.679557   \n",
       "2         M4L     EastToronto  India Bazaar, The Beaches West   43.668999   \n",
       "3         M4M     EastToronto                 Studio District   43.659526   \n",
       "4         M4N  CentralToronto                   Lawrence Park   43.728020   \n",
       "\n",
       "   Longitude  Label  \n",
       "0 -79.293031      4  \n",
       "1 -79.352188      4  \n",
       "2 -79.315572      4  \n",
       "3 -79.340923      4  \n",
       "4 -79.388790      2  "
      ]
     },
     "execution_count": 34,
     "metadata": {},
     "output_type": "execute_result"
    }
   ],
   "source": [
    "clustering_df['Borough'] = clustering_df['Borough'].str.replace(' ', '')\n",
    "clustering_df['Label']=clustering_df['Borough'].replace(to_replace=['DowntownToronto','CentralToronto','WestToronto','EastToronto'],value=[1,2,3,4],inplace=False)\n",
    "clustering_df['Borough'].value_counts()\n",
    "clustering_df.head()"
   ]
  },
  {
   "cell_type": "markdown",
   "metadata": {},
   "source": [
    "Set amount clusters as unique values of labels. Create a map with coordinates of Toronto.\n",
    "Set rainbow colour ranges"
   ]
  },
  {
   "cell_type": "code",
   "execution_count": 35,
   "metadata": {},
   "outputs": [],
   "source": [
    "clusters=len(clustering_df.Label.unique())\n",
    "map_toronto = folium.Map(location=[latitude, longitude], zoom_start=11)\n",
    "x = np.arange(clusters)\n",
    "ys = [i + x + (i*x)**2 for i in range(clusters)]\n",
    "colors_array = cm.rainbow(np.linspace(0, 1, len(ys)))\n",
    "rainbow = [colors.rgb2hex(i) for i in colors_array]"
   ]
  },
  {
   "cell_type": "markdown",
   "metadata": {},
   "source": [
    "Add markers to the map by iterating through the dataframe."
   ]
  },
  {
   "cell_type": "code",
   "execution_count": 36,
   "metadata": {},
   "outputs": [],
   "source": [
    "markers_colors = []\n",
    "for lat, lon, cluster in zip(clustering_df['Latitude'], clustering_df['Longitude'], clustering_df['Label']):\n",
    "    label = folium.Popup(str(clustering_df['Borough']) + ' Cluster ' + str(cluster), parse_html=True)\n",
    "    folium.CircleMarker(\n",
    "        [lat, lon],\n",
    "        radius=5,\n",
    "        popup=label,\n",
    "        color=rainbow[cluster-1],\n",
    "        fill=True,\n",
    "        fill_color=rainbow[cluster-1],\n",
    "        fill_opacity=0.7).add_to(map_toronto)"
   ]
  },
  {
   "cell_type": "markdown",
   "metadata": {},
   "source": [
    "Print the map"
   ]
  },
  {
   "cell_type": "code",
   "execution_count": 37,
   "metadata": {},
   "outputs": [
    {
     "data": {
      "text/html": [
       "<div style=\"width:100%;\"><div style=\"position:relative;width:100%;height:0;padding-bottom:60%;\"><span style=\"color:#565656\">Make this Notebook Trusted to load map: File -> Trust Notebook</span><iframe src=\"about:blank\" style=\"position:absolute;width:100%;height:100%;left:0;top:0;border:none !important;\" data-html=%3C%21DOCTYPE%20html%3E%0A%3Chead%3E%20%20%20%20%0A%20%20%20%20%3Cmeta%20http-equiv%3D%22content-type%22%20content%3D%22text/html%3B%20charset%3DUTF-8%22%20/%3E%0A%20%20%20%20%0A%20%20%20%20%20%20%20%20%3Cscript%3E%0A%20%20%20%20%20%20%20%20%20%20%20%20L_NO_TOUCH%20%3D%20false%3B%0A%20%20%20%20%20%20%20%20%20%20%20%20L_DISABLE_3D%20%3D%20false%3B%0A%20%20%20%20%20%20%20%20%3C/script%3E%0A%20%20%20%20%0A%20%20%20%20%3Cstyle%3Ehtml%2C%20body%20%7Bwidth%3A%20100%25%3Bheight%3A%20100%25%3Bmargin%3A%200%3Bpadding%3A%200%3B%7D%3C/style%3E%0A%20%20%20%20%3Cstyle%3E%23map%20%7Bposition%3Aabsolute%3Btop%3A0%3Bbottom%3A0%3Bright%3A0%3Bleft%3A0%3B%7D%3C/style%3E%0A%20%20%20%20%3Cscript%20src%3D%22https%3A//cdn.jsdelivr.net/npm/leaflet%401.6.0/dist/leaflet.js%22%3E%3C/script%3E%0A%20%20%20%20%3Cscript%20src%3D%22https%3A//code.jquery.com/jquery-1.12.4.min.js%22%3E%3C/script%3E%0A%20%20%20%20%3Cscript%20src%3D%22https%3A//maxcdn.bootstrapcdn.com/bootstrap/3.2.0/js/bootstrap.min.js%22%3E%3C/script%3E%0A%20%20%20%20%3Cscript%20src%3D%22https%3A//cdnjs.cloudflare.com/ajax/libs/Leaflet.awesome-markers/2.0.2/leaflet.awesome-markers.js%22%3E%3C/script%3E%0A%20%20%20%20%3Clink%20rel%3D%22stylesheet%22%20href%3D%22https%3A//cdn.jsdelivr.net/npm/leaflet%401.6.0/dist/leaflet.css%22/%3E%0A%20%20%20%20%3Clink%20rel%3D%22stylesheet%22%20href%3D%22https%3A//maxcdn.bootstrapcdn.com/bootstrap/3.2.0/css/bootstrap.min.css%22/%3E%0A%20%20%20%20%3Clink%20rel%3D%22stylesheet%22%20href%3D%22https%3A//maxcdn.bootstrapcdn.com/bootstrap/3.2.0/css/bootstrap-theme.min.css%22/%3E%0A%20%20%20%20%3Clink%20rel%3D%22stylesheet%22%20href%3D%22https%3A//maxcdn.bootstrapcdn.com/font-awesome/4.6.3/css/font-awesome.min.css%22/%3E%0A%20%20%20%20%3Clink%20rel%3D%22stylesheet%22%20href%3D%22https%3A//cdnjs.cloudflare.com/ajax/libs/Leaflet.awesome-markers/2.0.2/leaflet.awesome-markers.css%22/%3E%0A%20%20%20%20%3Clink%20rel%3D%22stylesheet%22%20href%3D%22https%3A//cdn.jsdelivr.net/gh/python-visualization/folium/folium/templates/leaflet.awesome.rotate.min.css%22/%3E%0A%20%20%20%20%0A%20%20%20%20%20%20%20%20%20%20%20%20%3Cmeta%20name%3D%22viewport%22%20content%3D%22width%3Ddevice-width%2C%0A%20%20%20%20%20%20%20%20%20%20%20%20%20%20%20%20initial-scale%3D1.0%2C%20maximum-scale%3D1.0%2C%20user-scalable%3Dno%22%20/%3E%0A%20%20%20%20%20%20%20%20%20%20%20%20%3Cstyle%3E%0A%20%20%20%20%20%20%20%20%20%20%20%20%20%20%20%20%23map_a799dc456a2a42bf85b1cd9c431b31b7%20%7B%0A%20%20%20%20%20%20%20%20%20%20%20%20%20%20%20%20%20%20%20%20position%3A%20relative%3B%0A%20%20%20%20%20%20%20%20%20%20%20%20%20%20%20%20%20%20%20%20width%3A%20100.0%25%3B%0A%20%20%20%20%20%20%20%20%20%20%20%20%20%20%20%20%20%20%20%20height%3A%20100.0%25%3B%0A%20%20%20%20%20%20%20%20%20%20%20%20%20%20%20%20%20%20%20%20left%3A%200.0%25%3B%0A%20%20%20%20%20%20%20%20%20%20%20%20%20%20%20%20%20%20%20%20top%3A%200.0%25%3B%0A%20%20%20%20%20%20%20%20%20%20%20%20%20%20%20%20%7D%0A%20%20%20%20%20%20%20%20%20%20%20%20%3C/style%3E%0A%20%20%20%20%20%20%20%20%0A%3C/head%3E%0A%3Cbody%3E%20%20%20%20%0A%20%20%20%20%0A%20%20%20%20%20%20%20%20%20%20%20%20%3Cdiv%20class%3D%22folium-map%22%20id%3D%22map_a799dc456a2a42bf85b1cd9c431b31b7%22%20%3E%3C/div%3E%0A%20%20%20%20%20%20%20%20%0A%3C/body%3E%0A%3Cscript%3E%20%20%20%20%0A%20%20%20%20%0A%20%20%20%20%20%20%20%20%20%20%20%20var%20map_a799dc456a2a42bf85b1cd9c431b31b7%20%3D%20L.map%28%0A%20%20%20%20%20%20%20%20%20%20%20%20%20%20%20%20%22map_a799dc456a2a42bf85b1cd9c431b31b7%22%2C%0A%20%20%20%20%20%20%20%20%20%20%20%20%20%20%20%20%7B%0A%20%20%20%20%20%20%20%20%20%20%20%20%20%20%20%20%20%20%20%20center%3A%20%5B43.6534817%2C%20-79.3839347%5D%2C%0A%20%20%20%20%20%20%20%20%20%20%20%20%20%20%20%20%20%20%20%20crs%3A%20L.CRS.EPSG3857%2C%0A%20%20%20%20%20%20%20%20%20%20%20%20%20%20%20%20%20%20%20%20zoom%3A%2011%2C%0A%20%20%20%20%20%20%20%20%20%20%20%20%20%20%20%20%20%20%20%20zoomControl%3A%20true%2C%0A%20%20%20%20%20%20%20%20%20%20%20%20%20%20%20%20%20%20%20%20preferCanvas%3A%20false%2C%0A%20%20%20%20%20%20%20%20%20%20%20%20%20%20%20%20%7D%0A%20%20%20%20%20%20%20%20%20%20%20%20%29%3B%0A%0A%20%20%20%20%20%20%20%20%20%20%20%20%0A%0A%20%20%20%20%20%20%20%20%0A%20%20%20%20%0A%20%20%20%20%20%20%20%20%20%20%20%20var%20tile_layer_1325c8eb7a5a4771b58acc53afc2c832%20%3D%20L.tileLayer%28%0A%20%20%20%20%20%20%20%20%20%20%20%20%20%20%20%20%22https%3A//%7Bs%7D.tile.openstreetmap.org/%7Bz%7D/%7Bx%7D/%7By%7D.png%22%2C%0A%20%20%20%20%20%20%20%20%20%20%20%20%20%20%20%20%7B%22attribution%22%3A%20%22Data%20by%20%5Cu0026copy%3B%20%5Cu003ca%20href%3D%5C%22http%3A//openstreetmap.org%5C%22%5Cu003eOpenStreetMap%5Cu003c/a%5Cu003e%2C%20under%20%5Cu003ca%20href%3D%5C%22http%3A//www.openstreetmap.org/copyright%5C%22%5Cu003eODbL%5Cu003c/a%5Cu003e.%22%2C%20%22detectRetina%22%3A%20false%2C%20%22maxNativeZoom%22%3A%2018%2C%20%22maxZoom%22%3A%2018%2C%20%22minZoom%22%3A%200%2C%20%22noWrap%22%3A%20false%2C%20%22opacity%22%3A%201%2C%20%22subdomains%22%3A%20%22abc%22%2C%20%22tms%22%3A%20false%7D%0A%20%20%20%20%20%20%20%20%20%20%20%20%29.addTo%28map_a799dc456a2a42bf85b1cd9c431b31b7%29%3B%0A%20%20%20%20%20%20%20%20%0A%20%20%20%20%0A%20%20%20%20%20%20%20%20%20%20%20%20var%20circle_marker_435358731621413fafd3376a09a21b49%20%3D%20L.circleMarker%28%0A%20%20%20%20%20%20%20%20%20%20%20%20%20%20%20%20%5B43.67635739999999%2C%20-79.2930312%5D%2C%0A%20%20%20%20%20%20%20%20%20%20%20%20%20%20%20%20%7B%22bubblingMouseEvents%22%3A%20true%2C%20%22color%22%3A%20%22%23ff0000%22%2C%20%22dashArray%22%3A%20null%2C%20%22dashOffset%22%3A%20null%2C%20%22fill%22%3A%20true%2C%20%22fillColor%22%3A%20%22%23ff0000%22%2C%20%22fillOpacity%22%3A%200.7%2C%20%22fillRule%22%3A%20%22evenodd%22%2C%20%22lineCap%22%3A%20%22round%22%2C%20%22lineJoin%22%3A%20%22round%22%2C%20%22opacity%22%3A%201.0%2C%20%22radius%22%3A%205%2C%20%22stroke%22%3A%20true%2C%20%22weight%22%3A%203%7D%0A%20%20%20%20%20%20%20%20%20%20%20%20%29.addTo%28map_a799dc456a2a42bf85b1cd9c431b31b7%29%3B%0A%20%20%20%20%20%20%20%20%0A%20%20%20%20%0A%20%20%20%20%20%20%20%20var%20popup_0f2944dc4b874efc9d88afd4efda376b%20%3D%20L.popup%28%7B%22maxWidth%22%3A%20%22100%25%22%7D%29%3B%0A%0A%20%20%20%20%20%20%20%20%0A%20%20%20%20%20%20%20%20%20%20%20%20var%20html_ae3aae0e5f464a5887f2279f32057037%20%3D%20%24%28%60%3Cdiv%20id%3D%22html_ae3aae0e5f464a5887f2279f32057037%22%20style%3D%22width%3A%20100.0%25%3B%20height%3A%20100.0%25%3B%22%3E0%20%20%20%20%20%20%20%20%20EastToronto%201%20%20%20%20%20%20%20%20%20EastToronto%202%20%20%20%20%20%20%20%20%20EastToronto%203%20%20%20%20%20%20%20%20%20EastToronto%204%20%20%20%20%20%20CentralToronto%205%20%20%20%20%20%20CentralToronto%206%20%20%20%20%20%20CentralToronto%207%20%20%20%20%20%20CentralToronto%208%20%20%20%20%20%20CentralToronto%209%20%20%20%20%20%20CentralToronto%2010%20%20%20%20DowntownToronto%2011%20%20%20%20DowntownToronto%2012%20%20%20%20DowntownToronto%2013%20%20%20%20DowntownToronto%2014%20%20%20%20DowntownToronto%2015%20%20%20%20DowntownToronto%2016%20%20%20%20DowntownToronto%2017%20%20%20%20DowntownToronto%2018%20%20%20%20DowntownToronto%2019%20%20%20%20DowntownToronto%2020%20%20%20%20DowntownToronto%2021%20%20%20%20DowntownToronto%2022%20%20%20%20%20CentralToronto%2023%20%20%20%20%20CentralToronto%2024%20%20%20%20%20CentralToronto%2025%20%20%20%20DowntownToronto%2026%20%20%20%20DowntownToronto%2027%20%20%20%20DowntownToronto%2028%20%20%20%20DowntownToronto%2029%20%20%20%20DowntownToronto%2030%20%20%20%20DowntownToronto%2031%20%20%20%20%20%20%20%20WestToronto%2032%20%20%20%20%20%20%20%20WestToronto%2033%20%20%20%20%20%20%20%20WestToronto%2034%20%20%20%20%20%20%20%20WestToronto%2035%20%20%20%20%20%20%20%20WestToronto%2036%20%20%20%20%20%20%20%20WestToronto%2037%20%20%20%20DowntownToronto%2038%20%20%20%20%20%20%20%20EastToronto%20Name%3A%20Borough%2C%20dtype%3A%20object%20Cluster%204%3C/div%3E%60%29%5B0%5D%3B%0A%20%20%20%20%20%20%20%20%20%20%20%20popup_0f2944dc4b874efc9d88afd4efda376b.setContent%28html_ae3aae0e5f464a5887f2279f32057037%29%3B%0A%20%20%20%20%20%20%20%20%0A%0A%20%20%20%20%20%20%20%20circle_marker_435358731621413fafd3376a09a21b49.bindPopup%28popup_0f2944dc4b874efc9d88afd4efda376b%29%0A%20%20%20%20%20%20%20%20%3B%0A%0A%20%20%20%20%20%20%20%20%0A%20%20%20%20%0A%20%20%20%20%0A%20%20%20%20%20%20%20%20%20%20%20%20var%20circle_marker_4c827dce7d6d44fca8bdeddc7bb4f78d%20%3D%20L.circleMarker%28%0A%20%20%20%20%20%20%20%20%20%20%20%20%20%20%20%20%5B43.6795571%2C%20-79.352188%5D%2C%0A%20%20%20%20%20%20%20%20%20%20%20%20%20%20%20%20%7B%22bubblingMouseEvents%22%3A%20true%2C%20%22color%22%3A%20%22%23ff0000%22%2C%20%22dashArray%22%3A%20null%2C%20%22dashOffset%22%3A%20null%2C%20%22fill%22%3A%20true%2C%20%22fillColor%22%3A%20%22%23ff0000%22%2C%20%22fillOpacity%22%3A%200.7%2C%20%22fillRule%22%3A%20%22evenodd%22%2C%20%22lineCap%22%3A%20%22round%22%2C%20%22lineJoin%22%3A%20%22round%22%2C%20%22opacity%22%3A%201.0%2C%20%22radius%22%3A%205%2C%20%22stroke%22%3A%20true%2C%20%22weight%22%3A%203%7D%0A%20%20%20%20%20%20%20%20%20%20%20%20%29.addTo%28map_a799dc456a2a42bf85b1cd9c431b31b7%29%3B%0A%20%20%20%20%20%20%20%20%0A%20%20%20%20%0A%20%20%20%20%20%20%20%20var%20popup_1f9383e2ac64401a916387631a22394a%20%3D%20L.popup%28%7B%22maxWidth%22%3A%20%22100%25%22%7D%29%3B%0A%0A%20%20%20%20%20%20%20%20%0A%20%20%20%20%20%20%20%20%20%20%20%20var%20html_a4fde7bde0fc4574b6128589520e4002%20%3D%20%24%28%60%3Cdiv%20id%3D%22html_a4fde7bde0fc4574b6128589520e4002%22%20style%3D%22width%3A%20100.0%25%3B%20height%3A%20100.0%25%3B%22%3E0%20%20%20%20%20%20%20%20%20EastToronto%201%20%20%20%20%20%20%20%20%20EastToronto%202%20%20%20%20%20%20%20%20%20EastToronto%203%20%20%20%20%20%20%20%20%20EastToronto%204%20%20%20%20%20%20CentralToronto%205%20%20%20%20%20%20CentralToronto%206%20%20%20%20%20%20CentralToronto%207%20%20%20%20%20%20CentralToronto%208%20%20%20%20%20%20CentralToronto%209%20%20%20%20%20%20CentralToronto%2010%20%20%20%20DowntownToronto%2011%20%20%20%20DowntownToronto%2012%20%20%20%20DowntownToronto%2013%20%20%20%20DowntownToronto%2014%20%20%20%20DowntownToronto%2015%20%20%20%20DowntownToronto%2016%20%20%20%20DowntownToronto%2017%20%20%20%20DowntownToronto%2018%20%20%20%20DowntownToronto%2019%20%20%20%20DowntownToronto%2020%20%20%20%20DowntownToronto%2021%20%20%20%20DowntownToronto%2022%20%20%20%20%20CentralToronto%2023%20%20%20%20%20CentralToronto%2024%20%20%20%20%20CentralToronto%2025%20%20%20%20DowntownToronto%2026%20%20%20%20DowntownToronto%2027%20%20%20%20DowntownToronto%2028%20%20%20%20DowntownToronto%2029%20%20%20%20DowntownToronto%2030%20%20%20%20DowntownToronto%2031%20%20%20%20%20%20%20%20WestToronto%2032%20%20%20%20%20%20%20%20WestToronto%2033%20%20%20%20%20%20%20%20WestToronto%2034%20%20%20%20%20%20%20%20WestToronto%2035%20%20%20%20%20%20%20%20WestToronto%2036%20%20%20%20%20%20%20%20WestToronto%2037%20%20%20%20DowntownToronto%2038%20%20%20%20%20%20%20%20EastToronto%20Name%3A%20Borough%2C%20dtype%3A%20object%20Cluster%204%3C/div%3E%60%29%5B0%5D%3B%0A%20%20%20%20%20%20%20%20%20%20%20%20popup_1f9383e2ac64401a916387631a22394a.setContent%28html_a4fde7bde0fc4574b6128589520e4002%29%3B%0A%20%20%20%20%20%20%20%20%0A%0A%20%20%20%20%20%20%20%20circle_marker_4c827dce7d6d44fca8bdeddc7bb4f78d.bindPopup%28popup_1f9383e2ac64401a916387631a22394a%29%0A%20%20%20%20%20%20%20%20%3B%0A%0A%20%20%20%20%20%20%20%20%0A%20%20%20%20%0A%20%20%20%20%0A%20%20%20%20%20%20%20%20%20%20%20%20var%20circle_marker_7dbabe0a50f34a49bf3ccf00ee323424%20%3D%20L.circleMarker%28%0A%20%20%20%20%20%20%20%20%20%20%20%20%20%20%20%20%5B43.6689985%2C%20-79.31557159999998%5D%2C%0A%20%20%20%20%20%20%20%20%20%20%20%20%20%20%20%20%7B%22bubblingMouseEvents%22%3A%20true%2C%20%22color%22%3A%20%22%23ff0000%22%2C%20%22dashArray%22%3A%20null%2C%20%22dashOffset%22%3A%20null%2C%20%22fill%22%3A%20true%2C%20%22fillColor%22%3A%20%22%23ff0000%22%2C%20%22fillOpacity%22%3A%200.7%2C%20%22fillRule%22%3A%20%22evenodd%22%2C%20%22lineCap%22%3A%20%22round%22%2C%20%22lineJoin%22%3A%20%22round%22%2C%20%22opacity%22%3A%201.0%2C%20%22radius%22%3A%205%2C%20%22stroke%22%3A%20true%2C%20%22weight%22%3A%203%7D%0A%20%20%20%20%20%20%20%20%20%20%20%20%29.addTo%28map_a799dc456a2a42bf85b1cd9c431b31b7%29%3B%0A%20%20%20%20%20%20%20%20%0A%20%20%20%20%0A%20%20%20%20%20%20%20%20var%20popup_16c7ba08577d40fcb007d95bb0e1dd9f%20%3D%20L.popup%28%7B%22maxWidth%22%3A%20%22100%25%22%7D%29%3B%0A%0A%20%20%20%20%20%20%20%20%0A%20%20%20%20%20%20%20%20%20%20%20%20var%20html_7c9b27b8169d49f6aa4a93be4b75bb35%20%3D%20%24%28%60%3Cdiv%20id%3D%22html_7c9b27b8169d49f6aa4a93be4b75bb35%22%20style%3D%22width%3A%20100.0%25%3B%20height%3A%20100.0%25%3B%22%3E0%20%20%20%20%20%20%20%20%20EastToronto%201%20%20%20%20%20%20%20%20%20EastToronto%202%20%20%20%20%20%20%20%20%20EastToronto%203%20%20%20%20%20%20%20%20%20EastToronto%204%20%20%20%20%20%20CentralToronto%205%20%20%20%20%20%20CentralToronto%206%20%20%20%20%20%20CentralToronto%207%20%20%20%20%20%20CentralToronto%208%20%20%20%20%20%20CentralToronto%209%20%20%20%20%20%20CentralToronto%2010%20%20%20%20DowntownToronto%2011%20%20%20%20DowntownToronto%2012%20%20%20%20DowntownToronto%2013%20%20%20%20DowntownToronto%2014%20%20%20%20DowntownToronto%2015%20%20%20%20DowntownToronto%2016%20%20%20%20DowntownToronto%2017%20%20%20%20DowntownToronto%2018%20%20%20%20DowntownToronto%2019%20%20%20%20DowntownToronto%2020%20%20%20%20DowntownToronto%2021%20%20%20%20DowntownToronto%2022%20%20%20%20%20CentralToronto%2023%20%20%20%20%20CentralToronto%2024%20%20%20%20%20CentralToronto%2025%20%20%20%20DowntownToronto%2026%20%20%20%20DowntownToronto%2027%20%20%20%20DowntownToronto%2028%20%20%20%20DowntownToronto%2029%20%20%20%20DowntownToronto%2030%20%20%20%20DowntownToronto%2031%20%20%20%20%20%20%20%20WestToronto%2032%20%20%20%20%20%20%20%20WestToronto%2033%20%20%20%20%20%20%20%20WestToronto%2034%20%20%20%20%20%20%20%20WestToronto%2035%20%20%20%20%20%20%20%20WestToronto%2036%20%20%20%20%20%20%20%20WestToronto%2037%20%20%20%20DowntownToronto%2038%20%20%20%20%20%20%20%20EastToronto%20Name%3A%20Borough%2C%20dtype%3A%20object%20Cluster%204%3C/div%3E%60%29%5B0%5D%3B%0A%20%20%20%20%20%20%20%20%20%20%20%20popup_16c7ba08577d40fcb007d95bb0e1dd9f.setContent%28html_7c9b27b8169d49f6aa4a93be4b75bb35%29%3B%0A%20%20%20%20%20%20%20%20%0A%0A%20%20%20%20%20%20%20%20circle_marker_7dbabe0a50f34a49bf3ccf00ee323424.bindPopup%28popup_16c7ba08577d40fcb007d95bb0e1dd9f%29%0A%20%20%20%20%20%20%20%20%3B%0A%0A%20%20%20%20%20%20%20%20%0A%20%20%20%20%0A%20%20%20%20%0A%20%20%20%20%20%20%20%20%20%20%20%20var%20circle_marker_9d94e67eb5394853bddf58a947c02aa5%20%3D%20L.circleMarker%28%0A%20%20%20%20%20%20%20%20%20%20%20%20%20%20%20%20%5B43.6595255%2C%20-79.340923%5D%2C%0A%20%20%20%20%20%20%20%20%20%20%20%20%20%20%20%20%7B%22bubblingMouseEvents%22%3A%20true%2C%20%22color%22%3A%20%22%23ff0000%22%2C%20%22dashArray%22%3A%20null%2C%20%22dashOffset%22%3A%20null%2C%20%22fill%22%3A%20true%2C%20%22fillColor%22%3A%20%22%23ff0000%22%2C%20%22fillOpacity%22%3A%200.7%2C%20%22fillRule%22%3A%20%22evenodd%22%2C%20%22lineCap%22%3A%20%22round%22%2C%20%22lineJoin%22%3A%20%22round%22%2C%20%22opacity%22%3A%201.0%2C%20%22radius%22%3A%205%2C%20%22stroke%22%3A%20true%2C%20%22weight%22%3A%203%7D%0A%20%20%20%20%20%20%20%20%20%20%20%20%29.addTo%28map_a799dc456a2a42bf85b1cd9c431b31b7%29%3B%0A%20%20%20%20%20%20%20%20%0A%20%20%20%20%0A%20%20%20%20%20%20%20%20var%20popup_37a1452319f24b3cabd4f741c07acb45%20%3D%20L.popup%28%7B%22maxWidth%22%3A%20%22100%25%22%7D%29%3B%0A%0A%20%20%20%20%20%20%20%20%0A%20%20%20%20%20%20%20%20%20%20%20%20var%20html_2fd7e803dc86467b8cb9574ec83fd527%20%3D%20%24%28%60%3Cdiv%20id%3D%22html_2fd7e803dc86467b8cb9574ec83fd527%22%20style%3D%22width%3A%20100.0%25%3B%20height%3A%20100.0%25%3B%22%3E0%20%20%20%20%20%20%20%20%20EastToronto%201%20%20%20%20%20%20%20%20%20EastToronto%202%20%20%20%20%20%20%20%20%20EastToronto%203%20%20%20%20%20%20%20%20%20EastToronto%204%20%20%20%20%20%20CentralToronto%205%20%20%20%20%20%20CentralToronto%206%20%20%20%20%20%20CentralToronto%207%20%20%20%20%20%20CentralToronto%208%20%20%20%20%20%20CentralToronto%209%20%20%20%20%20%20CentralToronto%2010%20%20%20%20DowntownToronto%2011%20%20%20%20DowntownToronto%2012%20%20%20%20DowntownToronto%2013%20%20%20%20DowntownToronto%2014%20%20%20%20DowntownToronto%2015%20%20%20%20DowntownToronto%2016%20%20%20%20DowntownToronto%2017%20%20%20%20DowntownToronto%2018%20%20%20%20DowntownToronto%2019%20%20%20%20DowntownToronto%2020%20%20%20%20DowntownToronto%2021%20%20%20%20DowntownToronto%2022%20%20%20%20%20CentralToronto%2023%20%20%20%20%20CentralToronto%2024%20%20%20%20%20CentralToronto%2025%20%20%20%20DowntownToronto%2026%20%20%20%20DowntownToronto%2027%20%20%20%20DowntownToronto%2028%20%20%20%20DowntownToronto%2029%20%20%20%20DowntownToronto%2030%20%20%20%20DowntownToronto%2031%20%20%20%20%20%20%20%20WestToronto%2032%20%20%20%20%20%20%20%20WestToronto%2033%20%20%20%20%20%20%20%20WestToronto%2034%20%20%20%20%20%20%20%20WestToronto%2035%20%20%20%20%20%20%20%20WestToronto%2036%20%20%20%20%20%20%20%20WestToronto%2037%20%20%20%20DowntownToronto%2038%20%20%20%20%20%20%20%20EastToronto%20Name%3A%20Borough%2C%20dtype%3A%20object%20Cluster%204%3C/div%3E%60%29%5B0%5D%3B%0A%20%20%20%20%20%20%20%20%20%20%20%20popup_37a1452319f24b3cabd4f741c07acb45.setContent%28html_2fd7e803dc86467b8cb9574ec83fd527%29%3B%0A%20%20%20%20%20%20%20%20%0A%0A%20%20%20%20%20%20%20%20circle_marker_9d94e67eb5394853bddf58a947c02aa5.bindPopup%28popup_37a1452319f24b3cabd4f741c07acb45%29%0A%20%20%20%20%20%20%20%20%3B%0A%0A%20%20%20%20%20%20%20%20%0A%20%20%20%20%0A%20%20%20%20%0A%20%20%20%20%20%20%20%20%20%20%20%20var%20circle_marker_3c1f451abd8244f5911ca2ca1c77941e%20%3D%20L.circleMarker%28%0A%20%20%20%20%20%20%20%20%20%20%20%20%20%20%20%20%5B43.7280205%2C%20-79.3887901%5D%2C%0A%20%20%20%20%20%20%20%20%20%20%20%20%20%20%20%20%7B%22bubblingMouseEvents%22%3A%20true%2C%20%22color%22%3A%20%22%232adddd%22%2C%20%22dashArray%22%3A%20null%2C%20%22dashOffset%22%3A%20null%2C%20%22fill%22%3A%20true%2C%20%22fillColor%22%3A%20%22%232adddd%22%2C%20%22fillOpacity%22%3A%200.7%2C%20%22fillRule%22%3A%20%22evenodd%22%2C%20%22lineCap%22%3A%20%22round%22%2C%20%22lineJoin%22%3A%20%22round%22%2C%20%22opacity%22%3A%201.0%2C%20%22radius%22%3A%205%2C%20%22stroke%22%3A%20true%2C%20%22weight%22%3A%203%7D%0A%20%20%20%20%20%20%20%20%20%20%20%20%29.addTo%28map_a799dc456a2a42bf85b1cd9c431b31b7%29%3B%0A%20%20%20%20%20%20%20%20%0A%20%20%20%20%0A%20%20%20%20%20%20%20%20var%20popup_4f539f30292a4086ab108e83fffc8099%20%3D%20L.popup%28%7B%22maxWidth%22%3A%20%22100%25%22%7D%29%3B%0A%0A%20%20%20%20%20%20%20%20%0A%20%20%20%20%20%20%20%20%20%20%20%20var%20html_2b81d44bc7894a9a9fbc30694f55a07a%20%3D%20%24%28%60%3Cdiv%20id%3D%22html_2b81d44bc7894a9a9fbc30694f55a07a%22%20style%3D%22width%3A%20100.0%25%3B%20height%3A%20100.0%25%3B%22%3E0%20%20%20%20%20%20%20%20%20EastToronto%201%20%20%20%20%20%20%20%20%20EastToronto%202%20%20%20%20%20%20%20%20%20EastToronto%203%20%20%20%20%20%20%20%20%20EastToronto%204%20%20%20%20%20%20CentralToronto%205%20%20%20%20%20%20CentralToronto%206%20%20%20%20%20%20CentralToronto%207%20%20%20%20%20%20CentralToronto%208%20%20%20%20%20%20CentralToronto%209%20%20%20%20%20%20CentralToronto%2010%20%20%20%20DowntownToronto%2011%20%20%20%20DowntownToronto%2012%20%20%20%20DowntownToronto%2013%20%20%20%20DowntownToronto%2014%20%20%20%20DowntownToronto%2015%20%20%20%20DowntownToronto%2016%20%20%20%20DowntownToronto%2017%20%20%20%20DowntownToronto%2018%20%20%20%20DowntownToronto%2019%20%20%20%20DowntownToronto%2020%20%20%20%20DowntownToronto%2021%20%20%20%20DowntownToronto%2022%20%20%20%20%20CentralToronto%2023%20%20%20%20%20CentralToronto%2024%20%20%20%20%20CentralToronto%2025%20%20%20%20DowntownToronto%2026%20%20%20%20DowntownToronto%2027%20%20%20%20DowntownToronto%2028%20%20%20%20DowntownToronto%2029%20%20%20%20DowntownToronto%2030%20%20%20%20DowntownToronto%2031%20%20%20%20%20%20%20%20WestToronto%2032%20%20%20%20%20%20%20%20WestToronto%2033%20%20%20%20%20%20%20%20WestToronto%2034%20%20%20%20%20%20%20%20WestToronto%2035%20%20%20%20%20%20%20%20WestToronto%2036%20%20%20%20%20%20%20%20WestToronto%2037%20%20%20%20DowntownToronto%2038%20%20%20%20%20%20%20%20EastToronto%20Name%3A%20Borough%2C%20dtype%3A%20object%20Cluster%202%3C/div%3E%60%29%5B0%5D%3B%0A%20%20%20%20%20%20%20%20%20%20%20%20popup_4f539f30292a4086ab108e83fffc8099.setContent%28html_2b81d44bc7894a9a9fbc30694f55a07a%29%3B%0A%20%20%20%20%20%20%20%20%0A%0A%20%20%20%20%20%20%20%20circle_marker_3c1f451abd8244f5911ca2ca1c77941e.bindPopup%28popup_4f539f30292a4086ab108e83fffc8099%29%0A%20%20%20%20%20%20%20%20%3B%0A%0A%20%20%20%20%20%20%20%20%0A%20%20%20%20%0A%20%20%20%20%0A%20%20%20%20%20%20%20%20%20%20%20%20var%20circle_marker_22105a1d068f4faf94d37df170ebb490%20%3D%20L.circleMarker%28%0A%20%20%20%20%20%20%20%20%20%20%20%20%20%20%20%20%5B43.7127511%2C%20-79.3901975%5D%2C%0A%20%20%20%20%20%20%20%20%20%20%20%20%20%20%20%20%7B%22bubblingMouseEvents%22%3A%20true%2C%20%22color%22%3A%20%22%232adddd%22%2C%20%22dashArray%22%3A%20null%2C%20%22dashOffset%22%3A%20null%2C%20%22fill%22%3A%20true%2C%20%22fillColor%22%3A%20%22%232adddd%22%2C%20%22fillOpacity%22%3A%200.7%2C%20%22fillRule%22%3A%20%22evenodd%22%2C%20%22lineCap%22%3A%20%22round%22%2C%20%22lineJoin%22%3A%20%22round%22%2C%20%22opacity%22%3A%201.0%2C%20%22radius%22%3A%205%2C%20%22stroke%22%3A%20true%2C%20%22weight%22%3A%203%7D%0A%20%20%20%20%20%20%20%20%20%20%20%20%29.addTo%28map_a799dc456a2a42bf85b1cd9c431b31b7%29%3B%0A%20%20%20%20%20%20%20%20%0A%20%20%20%20%0A%20%20%20%20%20%20%20%20var%20popup_f66c8a4e01034cf4b556a160c1f0fa8d%20%3D%20L.popup%28%7B%22maxWidth%22%3A%20%22100%25%22%7D%29%3B%0A%0A%20%20%20%20%20%20%20%20%0A%20%20%20%20%20%20%20%20%20%20%20%20var%20html_85da55dced7a49a49f4b059d46e3ef59%20%3D%20%24%28%60%3Cdiv%20id%3D%22html_85da55dced7a49a49f4b059d46e3ef59%22%20style%3D%22width%3A%20100.0%25%3B%20height%3A%20100.0%25%3B%22%3E0%20%20%20%20%20%20%20%20%20EastToronto%201%20%20%20%20%20%20%20%20%20EastToronto%202%20%20%20%20%20%20%20%20%20EastToronto%203%20%20%20%20%20%20%20%20%20EastToronto%204%20%20%20%20%20%20CentralToronto%205%20%20%20%20%20%20CentralToronto%206%20%20%20%20%20%20CentralToronto%207%20%20%20%20%20%20CentralToronto%208%20%20%20%20%20%20CentralToronto%209%20%20%20%20%20%20CentralToronto%2010%20%20%20%20DowntownToronto%2011%20%20%20%20DowntownToronto%2012%20%20%20%20DowntownToronto%2013%20%20%20%20DowntownToronto%2014%20%20%20%20DowntownToronto%2015%20%20%20%20DowntownToronto%2016%20%20%20%20DowntownToronto%2017%20%20%20%20DowntownToronto%2018%20%20%20%20DowntownToronto%2019%20%20%20%20DowntownToronto%2020%20%20%20%20DowntownToronto%2021%20%20%20%20DowntownToronto%2022%20%20%20%20%20CentralToronto%2023%20%20%20%20%20CentralToronto%2024%20%20%20%20%20CentralToronto%2025%20%20%20%20DowntownToronto%2026%20%20%20%20DowntownToronto%2027%20%20%20%20DowntownToronto%2028%20%20%20%20DowntownToronto%2029%20%20%20%20DowntownToronto%2030%20%20%20%20DowntownToronto%2031%20%20%20%20%20%20%20%20WestToronto%2032%20%20%20%20%20%20%20%20WestToronto%2033%20%20%20%20%20%20%20%20WestToronto%2034%20%20%20%20%20%20%20%20WestToronto%2035%20%20%20%20%20%20%20%20WestToronto%2036%20%20%20%20%20%20%20%20WestToronto%2037%20%20%20%20DowntownToronto%2038%20%20%20%20%20%20%20%20EastToronto%20Name%3A%20Borough%2C%20dtype%3A%20object%20Cluster%202%3C/div%3E%60%29%5B0%5D%3B%0A%20%20%20%20%20%20%20%20%20%20%20%20popup_f66c8a4e01034cf4b556a160c1f0fa8d.setContent%28html_85da55dced7a49a49f4b059d46e3ef59%29%3B%0A%20%20%20%20%20%20%20%20%0A%0A%20%20%20%20%20%20%20%20circle_marker_22105a1d068f4faf94d37df170ebb490.bindPopup%28popup_f66c8a4e01034cf4b556a160c1f0fa8d%29%0A%20%20%20%20%20%20%20%20%3B%0A%0A%20%20%20%20%20%20%20%20%0A%20%20%20%20%0A%20%20%20%20%0A%20%20%20%20%20%20%20%20%20%20%20%20var%20circle_marker_807ac1a589114fa28a46f9450347d97e%20%3D%20L.circleMarker%28%0A%20%20%20%20%20%20%20%20%20%20%20%20%20%20%20%20%5B43.7153834%2C%20-79.40567840000001%5D%2C%0A%20%20%20%20%20%20%20%20%20%20%20%20%20%20%20%20%7B%22bubblingMouseEvents%22%3A%20true%2C%20%22color%22%3A%20%22%232adddd%22%2C%20%22dashArray%22%3A%20null%2C%20%22dashOffset%22%3A%20null%2C%20%22fill%22%3A%20true%2C%20%22fillColor%22%3A%20%22%232adddd%22%2C%20%22fillOpacity%22%3A%200.7%2C%20%22fillRule%22%3A%20%22evenodd%22%2C%20%22lineCap%22%3A%20%22round%22%2C%20%22lineJoin%22%3A%20%22round%22%2C%20%22opacity%22%3A%201.0%2C%20%22radius%22%3A%205%2C%20%22stroke%22%3A%20true%2C%20%22weight%22%3A%203%7D%0A%20%20%20%20%20%20%20%20%20%20%20%20%29.addTo%28map_a799dc456a2a42bf85b1cd9c431b31b7%29%3B%0A%20%20%20%20%20%20%20%20%0A%20%20%20%20%0A%20%20%20%20%20%20%20%20var%20popup_f3e3811b269a4c5cb324b367fdefc1dd%20%3D%20L.popup%28%7B%22maxWidth%22%3A%20%22100%25%22%7D%29%3B%0A%0A%20%20%20%20%20%20%20%20%0A%20%20%20%20%20%20%20%20%20%20%20%20var%20html_81d186c3fdaf47d49d478ff3a56a6596%20%3D%20%24%28%60%3Cdiv%20id%3D%22html_81d186c3fdaf47d49d478ff3a56a6596%22%20style%3D%22width%3A%20100.0%25%3B%20height%3A%20100.0%25%3B%22%3E0%20%20%20%20%20%20%20%20%20EastToronto%201%20%20%20%20%20%20%20%20%20EastToronto%202%20%20%20%20%20%20%20%20%20EastToronto%203%20%20%20%20%20%20%20%20%20EastToronto%204%20%20%20%20%20%20CentralToronto%205%20%20%20%20%20%20CentralToronto%206%20%20%20%20%20%20CentralToronto%207%20%20%20%20%20%20CentralToronto%208%20%20%20%20%20%20CentralToronto%209%20%20%20%20%20%20CentralToronto%2010%20%20%20%20DowntownToronto%2011%20%20%20%20DowntownToronto%2012%20%20%20%20DowntownToronto%2013%20%20%20%20DowntownToronto%2014%20%20%20%20DowntownToronto%2015%20%20%20%20DowntownToronto%2016%20%20%20%20DowntownToronto%2017%20%20%20%20DowntownToronto%2018%20%20%20%20DowntownToronto%2019%20%20%20%20DowntownToronto%2020%20%20%20%20DowntownToronto%2021%20%20%20%20DowntownToronto%2022%20%20%20%20%20CentralToronto%2023%20%20%20%20%20CentralToronto%2024%20%20%20%20%20CentralToronto%2025%20%20%20%20DowntownToronto%2026%20%20%20%20DowntownToronto%2027%20%20%20%20DowntownToronto%2028%20%20%20%20DowntownToronto%2029%20%20%20%20DowntownToronto%2030%20%20%20%20DowntownToronto%2031%20%20%20%20%20%20%20%20WestToronto%2032%20%20%20%20%20%20%20%20WestToronto%2033%20%20%20%20%20%20%20%20WestToronto%2034%20%20%20%20%20%20%20%20WestToronto%2035%20%20%20%20%20%20%20%20WestToronto%2036%20%20%20%20%20%20%20%20WestToronto%2037%20%20%20%20DowntownToronto%2038%20%20%20%20%20%20%20%20EastToronto%20Name%3A%20Borough%2C%20dtype%3A%20object%20Cluster%202%3C/div%3E%60%29%5B0%5D%3B%0A%20%20%20%20%20%20%20%20%20%20%20%20popup_f3e3811b269a4c5cb324b367fdefc1dd.setContent%28html_81d186c3fdaf47d49d478ff3a56a6596%29%3B%0A%20%20%20%20%20%20%20%20%0A%0A%20%20%20%20%20%20%20%20circle_marker_807ac1a589114fa28a46f9450347d97e.bindPopup%28popup_f3e3811b269a4c5cb324b367fdefc1dd%29%0A%20%20%20%20%20%20%20%20%3B%0A%0A%20%20%20%20%20%20%20%20%0A%20%20%20%20%0A%20%20%20%20%0A%20%20%20%20%20%20%20%20%20%20%20%20var%20circle_marker_8a9bd5a7149a4b6f8d6ac16dba56910f%20%3D%20L.circleMarker%28%0A%20%20%20%20%20%20%20%20%20%20%20%20%20%20%20%20%5B43.7043244%2C%20-79.3887901%5D%2C%0A%20%20%20%20%20%20%20%20%20%20%20%20%20%20%20%20%7B%22bubblingMouseEvents%22%3A%20true%2C%20%22color%22%3A%20%22%232adddd%22%2C%20%22dashArray%22%3A%20null%2C%20%22dashOffset%22%3A%20null%2C%20%22fill%22%3A%20true%2C%20%22fillColor%22%3A%20%22%232adddd%22%2C%20%22fillOpacity%22%3A%200.7%2C%20%22fillRule%22%3A%20%22evenodd%22%2C%20%22lineCap%22%3A%20%22round%22%2C%20%22lineJoin%22%3A%20%22round%22%2C%20%22opacity%22%3A%201.0%2C%20%22radius%22%3A%205%2C%20%22stroke%22%3A%20true%2C%20%22weight%22%3A%203%7D%0A%20%20%20%20%20%20%20%20%20%20%20%20%29.addTo%28map_a799dc456a2a42bf85b1cd9c431b31b7%29%3B%0A%20%20%20%20%20%20%20%20%0A%20%20%20%20%0A%20%20%20%20%20%20%20%20var%20popup_7438448349b04ac1b9e873f1b8e46b45%20%3D%20L.popup%28%7B%22maxWidth%22%3A%20%22100%25%22%7D%29%3B%0A%0A%20%20%20%20%20%20%20%20%0A%20%20%20%20%20%20%20%20%20%20%20%20var%20html_fed375f2925c4576af0ca8527e1f200e%20%3D%20%24%28%60%3Cdiv%20id%3D%22html_fed375f2925c4576af0ca8527e1f200e%22%20style%3D%22width%3A%20100.0%25%3B%20height%3A%20100.0%25%3B%22%3E0%20%20%20%20%20%20%20%20%20EastToronto%201%20%20%20%20%20%20%20%20%20EastToronto%202%20%20%20%20%20%20%20%20%20EastToronto%203%20%20%20%20%20%20%20%20%20EastToronto%204%20%20%20%20%20%20CentralToronto%205%20%20%20%20%20%20CentralToronto%206%20%20%20%20%20%20CentralToronto%207%20%20%20%20%20%20CentralToronto%208%20%20%20%20%20%20CentralToronto%209%20%20%20%20%20%20CentralToronto%2010%20%20%20%20DowntownToronto%2011%20%20%20%20DowntownToronto%2012%20%20%20%20DowntownToronto%2013%20%20%20%20DowntownToronto%2014%20%20%20%20DowntownToronto%2015%20%20%20%20DowntownToronto%2016%20%20%20%20DowntownToronto%2017%20%20%20%20DowntownToronto%2018%20%20%20%20DowntownToronto%2019%20%20%20%20DowntownToronto%2020%20%20%20%20DowntownToronto%2021%20%20%20%20DowntownToronto%2022%20%20%20%20%20CentralToronto%2023%20%20%20%20%20CentralToronto%2024%20%20%20%20%20CentralToronto%2025%20%20%20%20DowntownToronto%2026%20%20%20%20DowntownToronto%2027%20%20%20%20DowntownToronto%2028%20%20%20%20DowntownToronto%2029%20%20%20%20DowntownToronto%2030%20%20%20%20DowntownToronto%2031%20%20%20%20%20%20%20%20WestToronto%2032%20%20%20%20%20%20%20%20WestToronto%2033%20%20%20%20%20%20%20%20WestToronto%2034%20%20%20%20%20%20%20%20WestToronto%2035%20%20%20%20%20%20%20%20WestToronto%2036%20%20%20%20%20%20%20%20WestToronto%2037%20%20%20%20DowntownToronto%2038%20%20%20%20%20%20%20%20EastToronto%20Name%3A%20Borough%2C%20dtype%3A%20object%20Cluster%202%3C/div%3E%60%29%5B0%5D%3B%0A%20%20%20%20%20%20%20%20%20%20%20%20popup_7438448349b04ac1b9e873f1b8e46b45.setContent%28html_fed375f2925c4576af0ca8527e1f200e%29%3B%0A%20%20%20%20%20%20%20%20%0A%0A%20%20%20%20%20%20%20%20circle_marker_8a9bd5a7149a4b6f8d6ac16dba56910f.bindPopup%28popup_7438448349b04ac1b9e873f1b8e46b45%29%0A%20%20%20%20%20%20%20%20%3B%0A%0A%20%20%20%20%20%20%20%20%0A%20%20%20%20%0A%20%20%20%20%0A%20%20%20%20%20%20%20%20%20%20%20%20var%20circle_marker_0410aa97626e4a758fddfb26b96c979d%20%3D%20L.circleMarker%28%0A%20%20%20%20%20%20%20%20%20%20%20%20%20%20%20%20%5B43.6895743%2C%20-79.38315990000001%5D%2C%0A%20%20%20%20%20%20%20%20%20%20%20%20%20%20%20%20%7B%22bubblingMouseEvents%22%3A%20true%2C%20%22color%22%3A%20%22%232adddd%22%2C%20%22dashArray%22%3A%20null%2C%20%22dashOffset%22%3A%20null%2C%20%22fill%22%3A%20true%2C%20%22fillColor%22%3A%20%22%232adddd%22%2C%20%22fillOpacity%22%3A%200.7%2C%20%22fillRule%22%3A%20%22evenodd%22%2C%20%22lineCap%22%3A%20%22round%22%2C%20%22lineJoin%22%3A%20%22round%22%2C%20%22opacity%22%3A%201.0%2C%20%22radius%22%3A%205%2C%20%22stroke%22%3A%20true%2C%20%22weight%22%3A%203%7D%0A%20%20%20%20%20%20%20%20%20%20%20%20%29.addTo%28map_a799dc456a2a42bf85b1cd9c431b31b7%29%3B%0A%20%20%20%20%20%20%20%20%0A%20%20%20%20%0A%20%20%20%20%20%20%20%20var%20popup_a120da12f87b4d80934dbf398871de08%20%3D%20L.popup%28%7B%22maxWidth%22%3A%20%22100%25%22%7D%29%3B%0A%0A%20%20%20%20%20%20%20%20%0A%20%20%20%20%20%20%20%20%20%20%20%20var%20html_44e0a83307f9404088c1dc2a9bf42fab%20%3D%20%24%28%60%3Cdiv%20id%3D%22html_44e0a83307f9404088c1dc2a9bf42fab%22%20style%3D%22width%3A%20100.0%25%3B%20height%3A%20100.0%25%3B%22%3E0%20%20%20%20%20%20%20%20%20EastToronto%201%20%20%20%20%20%20%20%20%20EastToronto%202%20%20%20%20%20%20%20%20%20EastToronto%203%20%20%20%20%20%20%20%20%20EastToronto%204%20%20%20%20%20%20CentralToronto%205%20%20%20%20%20%20CentralToronto%206%20%20%20%20%20%20CentralToronto%207%20%20%20%20%20%20CentralToronto%208%20%20%20%20%20%20CentralToronto%209%20%20%20%20%20%20CentralToronto%2010%20%20%20%20DowntownToronto%2011%20%20%20%20DowntownToronto%2012%20%20%20%20DowntownToronto%2013%20%20%20%20DowntownToronto%2014%20%20%20%20DowntownToronto%2015%20%20%20%20DowntownToronto%2016%20%20%20%20DowntownToronto%2017%20%20%20%20DowntownToronto%2018%20%20%20%20DowntownToronto%2019%20%20%20%20DowntownToronto%2020%20%20%20%20DowntownToronto%2021%20%20%20%20DowntownToronto%2022%20%20%20%20%20CentralToronto%2023%20%20%20%20%20CentralToronto%2024%20%20%20%20%20CentralToronto%2025%20%20%20%20DowntownToronto%2026%20%20%20%20DowntownToronto%2027%20%20%20%20DowntownToronto%2028%20%20%20%20DowntownToronto%2029%20%20%20%20DowntownToronto%2030%20%20%20%20DowntownToronto%2031%20%20%20%20%20%20%20%20WestToronto%2032%20%20%20%20%20%20%20%20WestToronto%2033%20%20%20%20%20%20%20%20WestToronto%2034%20%20%20%20%20%20%20%20WestToronto%2035%20%20%20%20%20%20%20%20WestToronto%2036%20%20%20%20%20%20%20%20WestToronto%2037%20%20%20%20DowntownToronto%2038%20%20%20%20%20%20%20%20EastToronto%20Name%3A%20Borough%2C%20dtype%3A%20object%20Cluster%202%3C/div%3E%60%29%5B0%5D%3B%0A%20%20%20%20%20%20%20%20%20%20%20%20popup_a120da12f87b4d80934dbf398871de08.setContent%28html_44e0a83307f9404088c1dc2a9bf42fab%29%3B%0A%20%20%20%20%20%20%20%20%0A%0A%20%20%20%20%20%20%20%20circle_marker_0410aa97626e4a758fddfb26b96c979d.bindPopup%28popup_a120da12f87b4d80934dbf398871de08%29%0A%20%20%20%20%20%20%20%20%3B%0A%0A%20%20%20%20%20%20%20%20%0A%20%20%20%20%0A%20%20%20%20%0A%20%20%20%20%20%20%20%20%20%20%20%20var%20circle_marker_3aab96fc634941839cf22564a04c09f8%20%3D%20L.circleMarker%28%0A%20%20%20%20%20%20%20%20%20%20%20%20%20%20%20%20%5B43.68641229999999%2C%20-79.4000493%5D%2C%0A%20%20%20%20%20%20%20%20%20%20%20%20%20%20%20%20%7B%22bubblingMouseEvents%22%3A%20true%2C%20%22color%22%3A%20%22%232adddd%22%2C%20%22dashArray%22%3A%20null%2C%20%22dashOffset%22%3A%20null%2C%20%22fill%22%3A%20true%2C%20%22fillColor%22%3A%20%22%232adddd%22%2C%20%22fillOpacity%22%3A%200.7%2C%20%22fillRule%22%3A%20%22evenodd%22%2C%20%22lineCap%22%3A%20%22round%22%2C%20%22lineJoin%22%3A%20%22round%22%2C%20%22opacity%22%3A%201.0%2C%20%22radius%22%3A%205%2C%20%22stroke%22%3A%20true%2C%20%22weight%22%3A%203%7D%0A%20%20%20%20%20%20%20%20%20%20%20%20%29.addTo%28map_a799dc456a2a42bf85b1cd9c431b31b7%29%3B%0A%20%20%20%20%20%20%20%20%0A%20%20%20%20%0A%20%20%20%20%20%20%20%20var%20popup_b9f7d74d1bd6442b8df43a8f5d4795e6%20%3D%20L.popup%28%7B%22maxWidth%22%3A%20%22100%25%22%7D%29%3B%0A%0A%20%20%20%20%20%20%20%20%0A%20%20%20%20%20%20%20%20%20%20%20%20var%20html_2771d9a6760a47bda659e3e80a36c981%20%3D%20%24%28%60%3Cdiv%20id%3D%22html_2771d9a6760a47bda659e3e80a36c981%22%20style%3D%22width%3A%20100.0%25%3B%20height%3A%20100.0%25%3B%22%3E0%20%20%20%20%20%20%20%20%20EastToronto%201%20%20%20%20%20%20%20%20%20EastToronto%202%20%20%20%20%20%20%20%20%20EastToronto%203%20%20%20%20%20%20%20%20%20EastToronto%204%20%20%20%20%20%20CentralToronto%205%20%20%20%20%20%20CentralToronto%206%20%20%20%20%20%20CentralToronto%207%20%20%20%20%20%20CentralToronto%208%20%20%20%20%20%20CentralToronto%209%20%20%20%20%20%20CentralToronto%2010%20%20%20%20DowntownToronto%2011%20%20%20%20DowntownToronto%2012%20%20%20%20DowntownToronto%2013%20%20%20%20DowntownToronto%2014%20%20%20%20DowntownToronto%2015%20%20%20%20DowntownToronto%2016%20%20%20%20DowntownToronto%2017%20%20%20%20DowntownToronto%2018%20%20%20%20DowntownToronto%2019%20%20%20%20DowntownToronto%2020%20%20%20%20DowntownToronto%2021%20%20%20%20DowntownToronto%2022%20%20%20%20%20CentralToronto%2023%20%20%20%20%20CentralToronto%2024%20%20%20%20%20CentralToronto%2025%20%20%20%20DowntownToronto%2026%20%20%20%20DowntownToronto%2027%20%20%20%20DowntownToronto%2028%20%20%20%20DowntownToronto%2029%20%20%20%20DowntownToronto%2030%20%20%20%20DowntownToronto%2031%20%20%20%20%20%20%20%20WestToronto%2032%20%20%20%20%20%20%20%20WestToronto%2033%20%20%20%20%20%20%20%20WestToronto%2034%20%20%20%20%20%20%20%20WestToronto%2035%20%20%20%20%20%20%20%20WestToronto%2036%20%20%20%20%20%20%20%20WestToronto%2037%20%20%20%20DowntownToronto%2038%20%20%20%20%20%20%20%20EastToronto%20Name%3A%20Borough%2C%20dtype%3A%20object%20Cluster%202%3C/div%3E%60%29%5B0%5D%3B%0A%20%20%20%20%20%20%20%20%20%20%20%20popup_b9f7d74d1bd6442b8df43a8f5d4795e6.setContent%28html_2771d9a6760a47bda659e3e80a36c981%29%3B%0A%20%20%20%20%20%20%20%20%0A%0A%20%20%20%20%20%20%20%20circle_marker_3aab96fc634941839cf22564a04c09f8.bindPopup%28popup_b9f7d74d1bd6442b8df43a8f5d4795e6%29%0A%20%20%20%20%20%20%20%20%3B%0A%0A%20%20%20%20%20%20%20%20%0A%20%20%20%20%0A%20%20%20%20%0A%20%20%20%20%20%20%20%20%20%20%20%20var%20circle_marker_834108305b7b4015a499810170410bd2%20%3D%20L.circleMarker%28%0A%20%20%20%20%20%20%20%20%20%20%20%20%20%20%20%20%5B43.6795626%2C%20-79.37752940000001%5D%2C%0A%20%20%20%20%20%20%20%20%20%20%20%20%20%20%20%20%7B%22bubblingMouseEvents%22%3A%20true%2C%20%22color%22%3A%20%22%238000ff%22%2C%20%22dashArray%22%3A%20null%2C%20%22dashOffset%22%3A%20null%2C%20%22fill%22%3A%20true%2C%20%22fillColor%22%3A%20%22%238000ff%22%2C%20%22fillOpacity%22%3A%200.7%2C%20%22fillRule%22%3A%20%22evenodd%22%2C%20%22lineCap%22%3A%20%22round%22%2C%20%22lineJoin%22%3A%20%22round%22%2C%20%22opacity%22%3A%201.0%2C%20%22radius%22%3A%205%2C%20%22stroke%22%3A%20true%2C%20%22weight%22%3A%203%7D%0A%20%20%20%20%20%20%20%20%20%20%20%20%29.addTo%28map_a799dc456a2a42bf85b1cd9c431b31b7%29%3B%0A%20%20%20%20%20%20%20%20%0A%20%20%20%20%0A%20%20%20%20%20%20%20%20var%20popup_692ac7fad6db4b70970899cf292c8b9b%20%3D%20L.popup%28%7B%22maxWidth%22%3A%20%22100%25%22%7D%29%3B%0A%0A%20%20%20%20%20%20%20%20%0A%20%20%20%20%20%20%20%20%20%20%20%20var%20html_5aad66ce109a4ee6a63e7cccc00cd5e3%20%3D%20%24%28%60%3Cdiv%20id%3D%22html_5aad66ce109a4ee6a63e7cccc00cd5e3%22%20style%3D%22width%3A%20100.0%25%3B%20height%3A%20100.0%25%3B%22%3E0%20%20%20%20%20%20%20%20%20EastToronto%201%20%20%20%20%20%20%20%20%20EastToronto%202%20%20%20%20%20%20%20%20%20EastToronto%203%20%20%20%20%20%20%20%20%20EastToronto%204%20%20%20%20%20%20CentralToronto%205%20%20%20%20%20%20CentralToronto%206%20%20%20%20%20%20CentralToronto%207%20%20%20%20%20%20CentralToronto%208%20%20%20%20%20%20CentralToronto%209%20%20%20%20%20%20CentralToronto%2010%20%20%20%20DowntownToronto%2011%20%20%20%20DowntownToronto%2012%20%20%20%20DowntownToronto%2013%20%20%20%20DowntownToronto%2014%20%20%20%20DowntownToronto%2015%20%20%20%20DowntownToronto%2016%20%20%20%20DowntownToronto%2017%20%20%20%20DowntownToronto%2018%20%20%20%20DowntownToronto%2019%20%20%20%20DowntownToronto%2020%20%20%20%20DowntownToronto%2021%20%20%20%20DowntownToronto%2022%20%20%20%20%20CentralToronto%2023%20%20%20%20%20CentralToronto%2024%20%20%20%20%20CentralToronto%2025%20%20%20%20DowntownToronto%2026%20%20%20%20DowntownToronto%2027%20%20%20%20DowntownToronto%2028%20%20%20%20DowntownToronto%2029%20%20%20%20DowntownToronto%2030%20%20%20%20DowntownToronto%2031%20%20%20%20%20%20%20%20WestToronto%2032%20%20%20%20%20%20%20%20WestToronto%2033%20%20%20%20%20%20%20%20WestToronto%2034%20%20%20%20%20%20%20%20WestToronto%2035%20%20%20%20%20%20%20%20WestToronto%2036%20%20%20%20%20%20%20%20WestToronto%2037%20%20%20%20DowntownToronto%2038%20%20%20%20%20%20%20%20EastToronto%20Name%3A%20Borough%2C%20dtype%3A%20object%20Cluster%201%3C/div%3E%60%29%5B0%5D%3B%0A%20%20%20%20%20%20%20%20%20%20%20%20popup_692ac7fad6db4b70970899cf292c8b9b.setContent%28html_5aad66ce109a4ee6a63e7cccc00cd5e3%29%3B%0A%20%20%20%20%20%20%20%20%0A%0A%20%20%20%20%20%20%20%20circle_marker_834108305b7b4015a499810170410bd2.bindPopup%28popup_692ac7fad6db4b70970899cf292c8b9b%29%0A%20%20%20%20%20%20%20%20%3B%0A%0A%20%20%20%20%20%20%20%20%0A%20%20%20%20%0A%20%20%20%20%0A%20%20%20%20%20%20%20%20%20%20%20%20var%20circle_marker_7b28cd5860a844adb56464daa1ce3fc0%20%3D%20L.circleMarker%28%0A%20%20%20%20%20%20%20%20%20%20%20%20%20%20%20%20%5B43.667967%2C%20-79.3676753%5D%2C%0A%20%20%20%20%20%20%20%20%20%20%20%20%20%20%20%20%7B%22bubblingMouseEvents%22%3A%20true%2C%20%22color%22%3A%20%22%238000ff%22%2C%20%22dashArray%22%3A%20null%2C%20%22dashOffset%22%3A%20null%2C%20%22fill%22%3A%20true%2C%20%22fillColor%22%3A%20%22%238000ff%22%2C%20%22fillOpacity%22%3A%200.7%2C%20%22fillRule%22%3A%20%22evenodd%22%2C%20%22lineCap%22%3A%20%22round%22%2C%20%22lineJoin%22%3A%20%22round%22%2C%20%22opacity%22%3A%201.0%2C%20%22radius%22%3A%205%2C%20%22stroke%22%3A%20true%2C%20%22weight%22%3A%203%7D%0A%20%20%20%20%20%20%20%20%20%20%20%20%29.addTo%28map_a799dc456a2a42bf85b1cd9c431b31b7%29%3B%0A%20%20%20%20%20%20%20%20%0A%20%20%20%20%0A%20%20%20%20%20%20%20%20var%20popup_e202ca4271b04e31887f87e77432efcd%20%3D%20L.popup%28%7B%22maxWidth%22%3A%20%22100%25%22%7D%29%3B%0A%0A%20%20%20%20%20%20%20%20%0A%20%20%20%20%20%20%20%20%20%20%20%20var%20html_0072ab3aa445461f97c83531fcd76fb1%20%3D%20%24%28%60%3Cdiv%20id%3D%22html_0072ab3aa445461f97c83531fcd76fb1%22%20style%3D%22width%3A%20100.0%25%3B%20height%3A%20100.0%25%3B%22%3E0%20%20%20%20%20%20%20%20%20EastToronto%201%20%20%20%20%20%20%20%20%20EastToronto%202%20%20%20%20%20%20%20%20%20EastToronto%203%20%20%20%20%20%20%20%20%20EastToronto%204%20%20%20%20%20%20CentralToronto%205%20%20%20%20%20%20CentralToronto%206%20%20%20%20%20%20CentralToronto%207%20%20%20%20%20%20CentralToronto%208%20%20%20%20%20%20CentralToronto%209%20%20%20%20%20%20CentralToronto%2010%20%20%20%20DowntownToronto%2011%20%20%20%20DowntownToronto%2012%20%20%20%20DowntownToronto%2013%20%20%20%20DowntownToronto%2014%20%20%20%20DowntownToronto%2015%20%20%20%20DowntownToronto%2016%20%20%20%20DowntownToronto%2017%20%20%20%20DowntownToronto%2018%20%20%20%20DowntownToronto%2019%20%20%20%20DowntownToronto%2020%20%20%20%20DowntownToronto%2021%20%20%20%20DowntownToronto%2022%20%20%20%20%20CentralToronto%2023%20%20%20%20%20CentralToronto%2024%20%20%20%20%20CentralToronto%2025%20%20%20%20DowntownToronto%2026%20%20%20%20DowntownToronto%2027%20%20%20%20DowntownToronto%2028%20%20%20%20DowntownToronto%2029%20%20%20%20DowntownToronto%2030%20%20%20%20DowntownToronto%2031%20%20%20%20%20%20%20%20WestToronto%2032%20%20%20%20%20%20%20%20WestToronto%2033%20%20%20%20%20%20%20%20WestToronto%2034%20%20%20%20%20%20%20%20WestToronto%2035%20%20%20%20%20%20%20%20WestToronto%2036%20%20%20%20%20%20%20%20WestToronto%2037%20%20%20%20DowntownToronto%2038%20%20%20%20%20%20%20%20EastToronto%20Name%3A%20Borough%2C%20dtype%3A%20object%20Cluster%201%3C/div%3E%60%29%5B0%5D%3B%0A%20%20%20%20%20%20%20%20%20%20%20%20popup_e202ca4271b04e31887f87e77432efcd.setContent%28html_0072ab3aa445461f97c83531fcd76fb1%29%3B%0A%20%20%20%20%20%20%20%20%0A%0A%20%20%20%20%20%20%20%20circle_marker_7b28cd5860a844adb56464daa1ce3fc0.bindPopup%28popup_e202ca4271b04e31887f87e77432efcd%29%0A%20%20%20%20%20%20%20%20%3B%0A%0A%20%20%20%20%20%20%20%20%0A%20%20%20%20%0A%20%20%20%20%0A%20%20%20%20%20%20%20%20%20%20%20%20var%20circle_marker_8a0e587c04ad43af877da2ba233d8680%20%3D%20L.circleMarker%28%0A%20%20%20%20%20%20%20%20%20%20%20%20%20%20%20%20%5B43.6658599%2C%20-79.38315990000001%5D%2C%0A%20%20%20%20%20%20%20%20%20%20%20%20%20%20%20%20%7B%22bubblingMouseEvents%22%3A%20true%2C%20%22color%22%3A%20%22%238000ff%22%2C%20%22dashArray%22%3A%20null%2C%20%22dashOffset%22%3A%20null%2C%20%22fill%22%3A%20true%2C%20%22fillColor%22%3A%20%22%238000ff%22%2C%20%22fillOpacity%22%3A%200.7%2C%20%22fillRule%22%3A%20%22evenodd%22%2C%20%22lineCap%22%3A%20%22round%22%2C%20%22lineJoin%22%3A%20%22round%22%2C%20%22opacity%22%3A%201.0%2C%20%22radius%22%3A%205%2C%20%22stroke%22%3A%20true%2C%20%22weight%22%3A%203%7D%0A%20%20%20%20%20%20%20%20%20%20%20%20%29.addTo%28map_a799dc456a2a42bf85b1cd9c431b31b7%29%3B%0A%20%20%20%20%20%20%20%20%0A%20%20%20%20%0A%20%20%20%20%20%20%20%20var%20popup_8f262b70c4ea4eeda95c67a618cb02e0%20%3D%20L.popup%28%7B%22maxWidth%22%3A%20%22100%25%22%7D%29%3B%0A%0A%20%20%20%20%20%20%20%20%0A%20%20%20%20%20%20%20%20%20%20%20%20var%20html_b03af9fcb66b4c4c927a9f3c19158993%20%3D%20%24%28%60%3Cdiv%20id%3D%22html_b03af9fcb66b4c4c927a9f3c19158993%22%20style%3D%22width%3A%20100.0%25%3B%20height%3A%20100.0%25%3B%22%3E0%20%20%20%20%20%20%20%20%20EastToronto%201%20%20%20%20%20%20%20%20%20EastToronto%202%20%20%20%20%20%20%20%20%20EastToronto%203%20%20%20%20%20%20%20%20%20EastToronto%204%20%20%20%20%20%20CentralToronto%205%20%20%20%20%20%20CentralToronto%206%20%20%20%20%20%20CentralToronto%207%20%20%20%20%20%20CentralToronto%208%20%20%20%20%20%20CentralToronto%209%20%20%20%20%20%20CentralToronto%2010%20%20%20%20DowntownToronto%2011%20%20%20%20DowntownToronto%2012%20%20%20%20DowntownToronto%2013%20%20%20%20DowntownToronto%2014%20%20%20%20DowntownToronto%2015%20%20%20%20DowntownToronto%2016%20%20%20%20DowntownToronto%2017%20%20%20%20DowntownToronto%2018%20%20%20%20DowntownToronto%2019%20%20%20%20DowntownToronto%2020%20%20%20%20DowntownToronto%2021%20%20%20%20DowntownToronto%2022%20%20%20%20%20CentralToronto%2023%20%20%20%20%20CentralToronto%2024%20%20%20%20%20CentralToronto%2025%20%20%20%20DowntownToronto%2026%20%20%20%20DowntownToronto%2027%20%20%20%20DowntownToronto%2028%20%20%20%20DowntownToronto%2029%20%20%20%20DowntownToronto%2030%20%20%20%20DowntownToronto%2031%20%20%20%20%20%20%20%20WestToronto%2032%20%20%20%20%20%20%20%20WestToronto%2033%20%20%20%20%20%20%20%20WestToronto%2034%20%20%20%20%20%20%20%20WestToronto%2035%20%20%20%20%20%20%20%20WestToronto%2036%20%20%20%20%20%20%20%20WestToronto%2037%20%20%20%20DowntownToronto%2038%20%20%20%20%20%20%20%20EastToronto%20Name%3A%20Borough%2C%20dtype%3A%20object%20Cluster%201%3C/div%3E%60%29%5B0%5D%3B%0A%20%20%20%20%20%20%20%20%20%20%20%20popup_8f262b70c4ea4eeda95c67a618cb02e0.setContent%28html_b03af9fcb66b4c4c927a9f3c19158993%29%3B%0A%20%20%20%20%20%20%20%20%0A%0A%20%20%20%20%20%20%20%20circle_marker_8a0e587c04ad43af877da2ba233d8680.bindPopup%28popup_8f262b70c4ea4eeda95c67a618cb02e0%29%0A%20%20%20%20%20%20%20%20%3B%0A%0A%20%20%20%20%20%20%20%20%0A%20%20%20%20%0A%20%20%20%20%0A%20%20%20%20%20%20%20%20%20%20%20%20var%20circle_marker_06a3b9d1b3354a698cb567b2eb46f4d4%20%3D%20L.circleMarker%28%0A%20%20%20%20%20%20%20%20%20%20%20%20%20%20%20%20%5B43.6542599%2C%20-79.3606359%5D%2C%0A%20%20%20%20%20%20%20%20%20%20%20%20%20%20%20%20%7B%22bubblingMouseEvents%22%3A%20true%2C%20%22color%22%3A%20%22%238000ff%22%2C%20%22dashArray%22%3A%20null%2C%20%22dashOffset%22%3A%20null%2C%20%22fill%22%3A%20true%2C%20%22fillColor%22%3A%20%22%238000ff%22%2C%20%22fillOpacity%22%3A%200.7%2C%20%22fillRule%22%3A%20%22evenodd%22%2C%20%22lineCap%22%3A%20%22round%22%2C%20%22lineJoin%22%3A%20%22round%22%2C%20%22opacity%22%3A%201.0%2C%20%22radius%22%3A%205%2C%20%22stroke%22%3A%20true%2C%20%22weight%22%3A%203%7D%0A%20%20%20%20%20%20%20%20%20%20%20%20%29.addTo%28map_a799dc456a2a42bf85b1cd9c431b31b7%29%3B%0A%20%20%20%20%20%20%20%20%0A%20%20%20%20%0A%20%20%20%20%20%20%20%20var%20popup_e67605779df84a76978a4da5572814e1%20%3D%20L.popup%28%7B%22maxWidth%22%3A%20%22100%25%22%7D%29%3B%0A%0A%20%20%20%20%20%20%20%20%0A%20%20%20%20%20%20%20%20%20%20%20%20var%20html_c93b0f8c76d74ff4886b920dfce513ce%20%3D%20%24%28%60%3Cdiv%20id%3D%22html_c93b0f8c76d74ff4886b920dfce513ce%22%20style%3D%22width%3A%20100.0%25%3B%20height%3A%20100.0%25%3B%22%3E0%20%20%20%20%20%20%20%20%20EastToronto%201%20%20%20%20%20%20%20%20%20EastToronto%202%20%20%20%20%20%20%20%20%20EastToronto%203%20%20%20%20%20%20%20%20%20EastToronto%204%20%20%20%20%20%20CentralToronto%205%20%20%20%20%20%20CentralToronto%206%20%20%20%20%20%20CentralToronto%207%20%20%20%20%20%20CentralToronto%208%20%20%20%20%20%20CentralToronto%209%20%20%20%20%20%20CentralToronto%2010%20%20%20%20DowntownToronto%2011%20%20%20%20DowntownToronto%2012%20%20%20%20DowntownToronto%2013%20%20%20%20DowntownToronto%2014%20%20%20%20DowntownToronto%2015%20%20%20%20DowntownToronto%2016%20%20%20%20DowntownToronto%2017%20%20%20%20DowntownToronto%2018%20%20%20%20DowntownToronto%2019%20%20%20%20DowntownToronto%2020%20%20%20%20DowntownToronto%2021%20%20%20%20DowntownToronto%2022%20%20%20%20%20CentralToronto%2023%20%20%20%20%20CentralToronto%2024%20%20%20%20%20CentralToronto%2025%20%20%20%20DowntownToronto%2026%20%20%20%20DowntownToronto%2027%20%20%20%20DowntownToronto%2028%20%20%20%20DowntownToronto%2029%20%20%20%20DowntownToronto%2030%20%20%20%20DowntownToronto%2031%20%20%20%20%20%20%20%20WestToronto%2032%20%20%20%20%20%20%20%20WestToronto%2033%20%20%20%20%20%20%20%20WestToronto%2034%20%20%20%20%20%20%20%20WestToronto%2035%20%20%20%20%20%20%20%20WestToronto%2036%20%20%20%20%20%20%20%20WestToronto%2037%20%20%20%20DowntownToronto%2038%20%20%20%20%20%20%20%20EastToronto%20Name%3A%20Borough%2C%20dtype%3A%20object%20Cluster%201%3C/div%3E%60%29%5B0%5D%3B%0A%20%20%20%20%20%20%20%20%20%20%20%20popup_e67605779df84a76978a4da5572814e1.setContent%28html_c93b0f8c76d74ff4886b920dfce513ce%29%3B%0A%20%20%20%20%20%20%20%20%0A%0A%20%20%20%20%20%20%20%20circle_marker_06a3b9d1b3354a698cb567b2eb46f4d4.bindPopup%28popup_e67605779df84a76978a4da5572814e1%29%0A%20%20%20%20%20%20%20%20%3B%0A%0A%20%20%20%20%20%20%20%20%0A%20%20%20%20%0A%20%20%20%20%0A%20%20%20%20%20%20%20%20%20%20%20%20var%20circle_marker_ceb70973a1b04df3a73c154a51917ccb%20%3D%20L.circleMarker%28%0A%20%20%20%20%20%20%20%20%20%20%20%20%20%20%20%20%5B43.6571618%2C%20-79.37893709999999%5D%2C%0A%20%20%20%20%20%20%20%20%20%20%20%20%20%20%20%20%7B%22bubblingMouseEvents%22%3A%20true%2C%20%22color%22%3A%20%22%238000ff%22%2C%20%22dashArray%22%3A%20null%2C%20%22dashOffset%22%3A%20null%2C%20%22fill%22%3A%20true%2C%20%22fillColor%22%3A%20%22%238000ff%22%2C%20%22fillOpacity%22%3A%200.7%2C%20%22fillRule%22%3A%20%22evenodd%22%2C%20%22lineCap%22%3A%20%22round%22%2C%20%22lineJoin%22%3A%20%22round%22%2C%20%22opacity%22%3A%201.0%2C%20%22radius%22%3A%205%2C%20%22stroke%22%3A%20true%2C%20%22weight%22%3A%203%7D%0A%20%20%20%20%20%20%20%20%20%20%20%20%29.addTo%28map_a799dc456a2a42bf85b1cd9c431b31b7%29%3B%0A%20%20%20%20%20%20%20%20%0A%20%20%20%20%0A%20%20%20%20%20%20%20%20var%20popup_9e10bdf3aadf4d89acf44a4a3d91bc5a%20%3D%20L.popup%28%7B%22maxWidth%22%3A%20%22100%25%22%7D%29%3B%0A%0A%20%20%20%20%20%20%20%20%0A%20%20%20%20%20%20%20%20%20%20%20%20var%20html_6acc4ba26edc46068d132ae7a47fd640%20%3D%20%24%28%60%3Cdiv%20id%3D%22html_6acc4ba26edc46068d132ae7a47fd640%22%20style%3D%22width%3A%20100.0%25%3B%20height%3A%20100.0%25%3B%22%3E0%20%20%20%20%20%20%20%20%20EastToronto%201%20%20%20%20%20%20%20%20%20EastToronto%202%20%20%20%20%20%20%20%20%20EastToronto%203%20%20%20%20%20%20%20%20%20EastToronto%204%20%20%20%20%20%20CentralToronto%205%20%20%20%20%20%20CentralToronto%206%20%20%20%20%20%20CentralToronto%207%20%20%20%20%20%20CentralToronto%208%20%20%20%20%20%20CentralToronto%209%20%20%20%20%20%20CentralToronto%2010%20%20%20%20DowntownToronto%2011%20%20%20%20DowntownToronto%2012%20%20%20%20DowntownToronto%2013%20%20%20%20DowntownToronto%2014%20%20%20%20DowntownToronto%2015%20%20%20%20DowntownToronto%2016%20%20%20%20DowntownToronto%2017%20%20%20%20DowntownToronto%2018%20%20%20%20DowntownToronto%2019%20%20%20%20DowntownToronto%2020%20%20%20%20DowntownToronto%2021%20%20%20%20DowntownToronto%2022%20%20%20%20%20CentralToronto%2023%20%20%20%20%20CentralToronto%2024%20%20%20%20%20CentralToronto%2025%20%20%20%20DowntownToronto%2026%20%20%20%20DowntownToronto%2027%20%20%20%20DowntownToronto%2028%20%20%20%20DowntownToronto%2029%20%20%20%20DowntownToronto%2030%20%20%20%20DowntownToronto%2031%20%20%20%20%20%20%20%20WestToronto%2032%20%20%20%20%20%20%20%20WestToronto%2033%20%20%20%20%20%20%20%20WestToronto%2034%20%20%20%20%20%20%20%20WestToronto%2035%20%20%20%20%20%20%20%20WestToronto%2036%20%20%20%20%20%20%20%20WestToronto%2037%20%20%20%20DowntownToronto%2038%20%20%20%20%20%20%20%20EastToronto%20Name%3A%20Borough%2C%20dtype%3A%20object%20Cluster%201%3C/div%3E%60%29%5B0%5D%3B%0A%20%20%20%20%20%20%20%20%20%20%20%20popup_9e10bdf3aadf4d89acf44a4a3d91bc5a.setContent%28html_6acc4ba26edc46068d132ae7a47fd640%29%3B%0A%20%20%20%20%20%20%20%20%0A%0A%20%20%20%20%20%20%20%20circle_marker_ceb70973a1b04df3a73c154a51917ccb.bindPopup%28popup_9e10bdf3aadf4d89acf44a4a3d91bc5a%29%0A%20%20%20%20%20%20%20%20%3B%0A%0A%20%20%20%20%20%20%20%20%0A%20%20%20%20%0A%20%20%20%20%0A%20%20%20%20%20%20%20%20%20%20%20%20var%20circle_marker_d5c548bf47244a7db00ad24deabb6f2a%20%3D%20L.circleMarker%28%0A%20%20%20%20%20%20%20%20%20%20%20%20%20%20%20%20%5B43.6514939%2C%20-79.3754179%5D%2C%0A%20%20%20%20%20%20%20%20%20%20%20%20%20%20%20%20%7B%22bubblingMouseEvents%22%3A%20true%2C%20%22color%22%3A%20%22%238000ff%22%2C%20%22dashArray%22%3A%20null%2C%20%22dashOffset%22%3A%20null%2C%20%22fill%22%3A%20true%2C%20%22fillColor%22%3A%20%22%238000ff%22%2C%20%22fillOpacity%22%3A%200.7%2C%20%22fillRule%22%3A%20%22evenodd%22%2C%20%22lineCap%22%3A%20%22round%22%2C%20%22lineJoin%22%3A%20%22round%22%2C%20%22opacity%22%3A%201.0%2C%20%22radius%22%3A%205%2C%20%22stroke%22%3A%20true%2C%20%22weight%22%3A%203%7D%0A%20%20%20%20%20%20%20%20%20%20%20%20%29.addTo%28map_a799dc456a2a42bf85b1cd9c431b31b7%29%3B%0A%20%20%20%20%20%20%20%20%0A%20%20%20%20%0A%20%20%20%20%20%20%20%20var%20popup_cef3ef9988f3499d8c174c2733c6e5ed%20%3D%20L.popup%28%7B%22maxWidth%22%3A%20%22100%25%22%7D%29%3B%0A%0A%20%20%20%20%20%20%20%20%0A%20%20%20%20%20%20%20%20%20%20%20%20var%20html_9ce896b731c04c26a721a1509c8148e2%20%3D%20%24%28%60%3Cdiv%20id%3D%22html_9ce896b731c04c26a721a1509c8148e2%22%20style%3D%22width%3A%20100.0%25%3B%20height%3A%20100.0%25%3B%22%3E0%20%20%20%20%20%20%20%20%20EastToronto%201%20%20%20%20%20%20%20%20%20EastToronto%202%20%20%20%20%20%20%20%20%20EastToronto%203%20%20%20%20%20%20%20%20%20EastToronto%204%20%20%20%20%20%20CentralToronto%205%20%20%20%20%20%20CentralToronto%206%20%20%20%20%20%20CentralToronto%207%20%20%20%20%20%20CentralToronto%208%20%20%20%20%20%20CentralToronto%209%20%20%20%20%20%20CentralToronto%2010%20%20%20%20DowntownToronto%2011%20%20%20%20DowntownToronto%2012%20%20%20%20DowntownToronto%2013%20%20%20%20DowntownToronto%2014%20%20%20%20DowntownToronto%2015%20%20%20%20DowntownToronto%2016%20%20%20%20DowntownToronto%2017%20%20%20%20DowntownToronto%2018%20%20%20%20DowntownToronto%2019%20%20%20%20DowntownToronto%2020%20%20%20%20DowntownToronto%2021%20%20%20%20DowntownToronto%2022%20%20%20%20%20CentralToronto%2023%20%20%20%20%20CentralToronto%2024%20%20%20%20%20CentralToronto%2025%20%20%20%20DowntownToronto%2026%20%20%20%20DowntownToronto%2027%20%20%20%20DowntownToronto%2028%20%20%20%20DowntownToronto%2029%20%20%20%20DowntownToronto%2030%20%20%20%20DowntownToronto%2031%20%20%20%20%20%20%20%20WestToronto%2032%20%20%20%20%20%20%20%20WestToronto%2033%20%20%20%20%20%20%20%20WestToronto%2034%20%20%20%20%20%20%20%20WestToronto%2035%20%20%20%20%20%20%20%20WestToronto%2036%20%20%20%20%20%20%20%20WestToronto%2037%20%20%20%20DowntownToronto%2038%20%20%20%20%20%20%20%20EastToronto%20Name%3A%20Borough%2C%20dtype%3A%20object%20Cluster%201%3C/div%3E%60%29%5B0%5D%3B%0A%20%20%20%20%20%20%20%20%20%20%20%20popup_cef3ef9988f3499d8c174c2733c6e5ed.setContent%28html_9ce896b731c04c26a721a1509c8148e2%29%3B%0A%20%20%20%20%20%20%20%20%0A%0A%20%20%20%20%20%20%20%20circle_marker_d5c548bf47244a7db00ad24deabb6f2a.bindPopup%28popup_cef3ef9988f3499d8c174c2733c6e5ed%29%0A%20%20%20%20%20%20%20%20%3B%0A%0A%20%20%20%20%20%20%20%20%0A%20%20%20%20%0A%20%20%20%20%0A%20%20%20%20%20%20%20%20%20%20%20%20var%20circle_marker_ae486606245144b3b9d15192045d2975%20%3D%20L.circleMarker%28%0A%20%20%20%20%20%20%20%20%20%20%20%20%20%20%20%20%5B43.644770799999996%2C%20-79.3733064%5D%2C%0A%20%20%20%20%20%20%20%20%20%20%20%20%20%20%20%20%7B%22bubblingMouseEvents%22%3A%20true%2C%20%22color%22%3A%20%22%238000ff%22%2C%20%22dashArray%22%3A%20null%2C%20%22dashOffset%22%3A%20null%2C%20%22fill%22%3A%20true%2C%20%22fillColor%22%3A%20%22%238000ff%22%2C%20%22fillOpacity%22%3A%200.7%2C%20%22fillRule%22%3A%20%22evenodd%22%2C%20%22lineCap%22%3A%20%22round%22%2C%20%22lineJoin%22%3A%20%22round%22%2C%20%22opacity%22%3A%201.0%2C%20%22radius%22%3A%205%2C%20%22stroke%22%3A%20true%2C%20%22weight%22%3A%203%7D%0A%20%20%20%20%20%20%20%20%20%20%20%20%29.addTo%28map_a799dc456a2a42bf85b1cd9c431b31b7%29%3B%0A%20%20%20%20%20%20%20%20%0A%20%20%20%20%0A%20%20%20%20%20%20%20%20var%20popup_f195eb9b756e4901bc5f6767937642b6%20%3D%20L.popup%28%7B%22maxWidth%22%3A%20%22100%25%22%7D%29%3B%0A%0A%20%20%20%20%20%20%20%20%0A%20%20%20%20%20%20%20%20%20%20%20%20var%20html_98ed0aa8313f44e0bde4e16ede13f29c%20%3D%20%24%28%60%3Cdiv%20id%3D%22html_98ed0aa8313f44e0bde4e16ede13f29c%22%20style%3D%22width%3A%20100.0%25%3B%20height%3A%20100.0%25%3B%22%3E0%20%20%20%20%20%20%20%20%20EastToronto%201%20%20%20%20%20%20%20%20%20EastToronto%202%20%20%20%20%20%20%20%20%20EastToronto%203%20%20%20%20%20%20%20%20%20EastToronto%204%20%20%20%20%20%20CentralToronto%205%20%20%20%20%20%20CentralToronto%206%20%20%20%20%20%20CentralToronto%207%20%20%20%20%20%20CentralToronto%208%20%20%20%20%20%20CentralToronto%209%20%20%20%20%20%20CentralToronto%2010%20%20%20%20DowntownToronto%2011%20%20%20%20DowntownToronto%2012%20%20%20%20DowntownToronto%2013%20%20%20%20DowntownToronto%2014%20%20%20%20DowntownToronto%2015%20%20%20%20DowntownToronto%2016%20%20%20%20DowntownToronto%2017%20%20%20%20DowntownToronto%2018%20%20%20%20DowntownToronto%2019%20%20%20%20DowntownToronto%2020%20%20%20%20DowntownToronto%2021%20%20%20%20DowntownToronto%2022%20%20%20%20%20CentralToronto%2023%20%20%20%20%20CentralToronto%2024%20%20%20%20%20CentralToronto%2025%20%20%20%20DowntownToronto%2026%20%20%20%20DowntownToronto%2027%20%20%20%20DowntownToronto%2028%20%20%20%20DowntownToronto%2029%20%20%20%20DowntownToronto%2030%20%20%20%20DowntownToronto%2031%20%20%20%20%20%20%20%20WestToronto%2032%20%20%20%20%20%20%20%20WestToronto%2033%20%20%20%20%20%20%20%20WestToronto%2034%20%20%20%20%20%20%20%20WestToronto%2035%20%20%20%20%20%20%20%20WestToronto%2036%20%20%20%20%20%20%20%20WestToronto%2037%20%20%20%20DowntownToronto%2038%20%20%20%20%20%20%20%20EastToronto%20Name%3A%20Borough%2C%20dtype%3A%20object%20Cluster%201%3C/div%3E%60%29%5B0%5D%3B%0A%20%20%20%20%20%20%20%20%20%20%20%20popup_f195eb9b756e4901bc5f6767937642b6.setContent%28html_98ed0aa8313f44e0bde4e16ede13f29c%29%3B%0A%20%20%20%20%20%20%20%20%0A%0A%20%20%20%20%20%20%20%20circle_marker_ae486606245144b3b9d15192045d2975.bindPopup%28popup_f195eb9b756e4901bc5f6767937642b6%29%0A%20%20%20%20%20%20%20%20%3B%0A%0A%20%20%20%20%20%20%20%20%0A%20%20%20%20%0A%20%20%20%20%0A%20%20%20%20%20%20%20%20%20%20%20%20var%20circle_marker_ea23eef1100741b2b18fe5ce0507c44f%20%3D%20L.circleMarker%28%0A%20%20%20%20%20%20%20%20%20%20%20%20%20%20%20%20%5B43.6579524%2C%20-79.3873826%5D%2C%0A%20%20%20%20%20%20%20%20%20%20%20%20%20%20%20%20%7B%22bubblingMouseEvents%22%3A%20true%2C%20%22color%22%3A%20%22%238000ff%22%2C%20%22dashArray%22%3A%20null%2C%20%22dashOffset%22%3A%20null%2C%20%22fill%22%3A%20true%2C%20%22fillColor%22%3A%20%22%238000ff%22%2C%20%22fillOpacity%22%3A%200.7%2C%20%22fillRule%22%3A%20%22evenodd%22%2C%20%22lineCap%22%3A%20%22round%22%2C%20%22lineJoin%22%3A%20%22round%22%2C%20%22opacity%22%3A%201.0%2C%20%22radius%22%3A%205%2C%20%22stroke%22%3A%20true%2C%20%22weight%22%3A%203%7D%0A%20%20%20%20%20%20%20%20%20%20%20%20%29.addTo%28map_a799dc456a2a42bf85b1cd9c431b31b7%29%3B%0A%20%20%20%20%20%20%20%20%0A%20%20%20%20%0A%20%20%20%20%20%20%20%20var%20popup_fd755ecb60ef4729bdec306603bfdefd%20%3D%20L.popup%28%7B%22maxWidth%22%3A%20%22100%25%22%7D%29%3B%0A%0A%20%20%20%20%20%20%20%20%0A%20%20%20%20%20%20%20%20%20%20%20%20var%20html_a32f4d869892410fab647b54aab92dc2%20%3D%20%24%28%60%3Cdiv%20id%3D%22html_a32f4d869892410fab647b54aab92dc2%22%20style%3D%22width%3A%20100.0%25%3B%20height%3A%20100.0%25%3B%22%3E0%20%20%20%20%20%20%20%20%20EastToronto%201%20%20%20%20%20%20%20%20%20EastToronto%202%20%20%20%20%20%20%20%20%20EastToronto%203%20%20%20%20%20%20%20%20%20EastToronto%204%20%20%20%20%20%20CentralToronto%205%20%20%20%20%20%20CentralToronto%206%20%20%20%20%20%20CentralToronto%207%20%20%20%20%20%20CentralToronto%208%20%20%20%20%20%20CentralToronto%209%20%20%20%20%20%20CentralToronto%2010%20%20%20%20DowntownToronto%2011%20%20%20%20DowntownToronto%2012%20%20%20%20DowntownToronto%2013%20%20%20%20DowntownToronto%2014%20%20%20%20DowntownToronto%2015%20%20%20%20DowntownToronto%2016%20%20%20%20DowntownToronto%2017%20%20%20%20DowntownToronto%2018%20%20%20%20DowntownToronto%2019%20%20%20%20DowntownToronto%2020%20%20%20%20DowntownToronto%2021%20%20%20%20DowntownToronto%2022%20%20%20%20%20CentralToronto%2023%20%20%20%20%20CentralToronto%2024%20%20%20%20%20CentralToronto%2025%20%20%20%20DowntownToronto%2026%20%20%20%20DowntownToronto%2027%20%20%20%20DowntownToronto%2028%20%20%20%20DowntownToronto%2029%20%20%20%20DowntownToronto%2030%20%20%20%20DowntownToronto%2031%20%20%20%20%20%20%20%20WestToronto%2032%20%20%20%20%20%20%20%20WestToronto%2033%20%20%20%20%20%20%20%20WestToronto%2034%20%20%20%20%20%20%20%20WestToronto%2035%20%20%20%20%20%20%20%20WestToronto%2036%20%20%20%20%20%20%20%20WestToronto%2037%20%20%20%20DowntownToronto%2038%20%20%20%20%20%20%20%20EastToronto%20Name%3A%20Borough%2C%20dtype%3A%20object%20Cluster%201%3C/div%3E%60%29%5B0%5D%3B%0A%20%20%20%20%20%20%20%20%20%20%20%20popup_fd755ecb60ef4729bdec306603bfdefd.setContent%28html_a32f4d869892410fab647b54aab92dc2%29%3B%0A%20%20%20%20%20%20%20%20%0A%0A%20%20%20%20%20%20%20%20circle_marker_ea23eef1100741b2b18fe5ce0507c44f.bindPopup%28popup_fd755ecb60ef4729bdec306603bfdefd%29%0A%20%20%20%20%20%20%20%20%3B%0A%0A%20%20%20%20%20%20%20%20%0A%20%20%20%20%0A%20%20%20%20%0A%20%20%20%20%20%20%20%20%20%20%20%20var%20circle_marker_ae12602182674feea64815b0cdc47d4c%20%3D%20L.circleMarker%28%0A%20%20%20%20%20%20%20%20%20%20%20%20%20%20%20%20%5B43.65057120000001%2C%20-79.3845675%5D%2C%0A%20%20%20%20%20%20%20%20%20%20%20%20%20%20%20%20%7B%22bubblingMouseEvents%22%3A%20true%2C%20%22color%22%3A%20%22%238000ff%22%2C%20%22dashArray%22%3A%20null%2C%20%22dashOffset%22%3A%20null%2C%20%22fill%22%3A%20true%2C%20%22fillColor%22%3A%20%22%238000ff%22%2C%20%22fillOpacity%22%3A%200.7%2C%20%22fillRule%22%3A%20%22evenodd%22%2C%20%22lineCap%22%3A%20%22round%22%2C%20%22lineJoin%22%3A%20%22round%22%2C%20%22opacity%22%3A%201.0%2C%20%22radius%22%3A%205%2C%20%22stroke%22%3A%20true%2C%20%22weight%22%3A%203%7D%0A%20%20%20%20%20%20%20%20%20%20%20%20%29.addTo%28map_a799dc456a2a42bf85b1cd9c431b31b7%29%3B%0A%20%20%20%20%20%20%20%20%0A%20%20%20%20%0A%20%20%20%20%20%20%20%20var%20popup_d527a0b2fe0f47f5917fede87ec20527%20%3D%20L.popup%28%7B%22maxWidth%22%3A%20%22100%25%22%7D%29%3B%0A%0A%20%20%20%20%20%20%20%20%0A%20%20%20%20%20%20%20%20%20%20%20%20var%20html_871109f1e76f4ad09e67bca31b6b8abf%20%3D%20%24%28%60%3Cdiv%20id%3D%22html_871109f1e76f4ad09e67bca31b6b8abf%22%20style%3D%22width%3A%20100.0%25%3B%20height%3A%20100.0%25%3B%22%3E0%20%20%20%20%20%20%20%20%20EastToronto%201%20%20%20%20%20%20%20%20%20EastToronto%202%20%20%20%20%20%20%20%20%20EastToronto%203%20%20%20%20%20%20%20%20%20EastToronto%204%20%20%20%20%20%20CentralToronto%205%20%20%20%20%20%20CentralToronto%206%20%20%20%20%20%20CentralToronto%207%20%20%20%20%20%20CentralToronto%208%20%20%20%20%20%20CentralToronto%209%20%20%20%20%20%20CentralToronto%2010%20%20%20%20DowntownToronto%2011%20%20%20%20DowntownToronto%2012%20%20%20%20DowntownToronto%2013%20%20%20%20DowntownToronto%2014%20%20%20%20DowntownToronto%2015%20%20%20%20DowntownToronto%2016%20%20%20%20DowntownToronto%2017%20%20%20%20DowntownToronto%2018%20%20%20%20DowntownToronto%2019%20%20%20%20DowntownToronto%2020%20%20%20%20DowntownToronto%2021%20%20%20%20DowntownToronto%2022%20%20%20%20%20CentralToronto%2023%20%20%20%20%20CentralToronto%2024%20%20%20%20%20CentralToronto%2025%20%20%20%20DowntownToronto%2026%20%20%20%20DowntownToronto%2027%20%20%20%20DowntownToronto%2028%20%20%20%20DowntownToronto%2029%20%20%20%20DowntownToronto%2030%20%20%20%20DowntownToronto%2031%20%20%20%20%20%20%20%20WestToronto%2032%20%20%20%20%20%20%20%20WestToronto%2033%20%20%20%20%20%20%20%20WestToronto%2034%20%20%20%20%20%20%20%20WestToronto%2035%20%20%20%20%20%20%20%20WestToronto%2036%20%20%20%20%20%20%20%20WestToronto%2037%20%20%20%20DowntownToronto%2038%20%20%20%20%20%20%20%20EastToronto%20Name%3A%20Borough%2C%20dtype%3A%20object%20Cluster%201%3C/div%3E%60%29%5B0%5D%3B%0A%20%20%20%20%20%20%20%20%20%20%20%20popup_d527a0b2fe0f47f5917fede87ec20527.setContent%28html_871109f1e76f4ad09e67bca31b6b8abf%29%3B%0A%20%20%20%20%20%20%20%20%0A%0A%20%20%20%20%20%20%20%20circle_marker_ae12602182674feea64815b0cdc47d4c.bindPopup%28popup_d527a0b2fe0f47f5917fede87ec20527%29%0A%20%20%20%20%20%20%20%20%3B%0A%0A%20%20%20%20%20%20%20%20%0A%20%20%20%20%0A%20%20%20%20%0A%20%20%20%20%20%20%20%20%20%20%20%20var%20circle_marker_2c3b1ad704ad4974b05393af51b409bc%20%3D%20L.circleMarker%28%0A%20%20%20%20%20%20%20%20%20%20%20%20%20%20%20%20%5B43.6408157%2C%20-79.38175229999999%5D%2C%0A%20%20%20%20%20%20%20%20%20%20%20%20%20%20%20%20%7B%22bubblingMouseEvents%22%3A%20true%2C%20%22color%22%3A%20%22%238000ff%22%2C%20%22dashArray%22%3A%20null%2C%20%22dashOffset%22%3A%20null%2C%20%22fill%22%3A%20true%2C%20%22fillColor%22%3A%20%22%238000ff%22%2C%20%22fillOpacity%22%3A%200.7%2C%20%22fillRule%22%3A%20%22evenodd%22%2C%20%22lineCap%22%3A%20%22round%22%2C%20%22lineJoin%22%3A%20%22round%22%2C%20%22opacity%22%3A%201.0%2C%20%22radius%22%3A%205%2C%20%22stroke%22%3A%20true%2C%20%22weight%22%3A%203%7D%0A%20%20%20%20%20%20%20%20%20%20%20%20%29.addTo%28map_a799dc456a2a42bf85b1cd9c431b31b7%29%3B%0A%20%20%20%20%20%20%20%20%0A%20%20%20%20%0A%20%20%20%20%20%20%20%20var%20popup_a54832ab79534915a10299107b87c7e8%20%3D%20L.popup%28%7B%22maxWidth%22%3A%20%22100%25%22%7D%29%3B%0A%0A%20%20%20%20%20%20%20%20%0A%20%20%20%20%20%20%20%20%20%20%20%20var%20html_315a4d0099f3481dbabe5f953bcca802%20%3D%20%24%28%60%3Cdiv%20id%3D%22html_315a4d0099f3481dbabe5f953bcca802%22%20style%3D%22width%3A%20100.0%25%3B%20height%3A%20100.0%25%3B%22%3E0%20%20%20%20%20%20%20%20%20EastToronto%201%20%20%20%20%20%20%20%20%20EastToronto%202%20%20%20%20%20%20%20%20%20EastToronto%203%20%20%20%20%20%20%20%20%20EastToronto%204%20%20%20%20%20%20CentralToronto%205%20%20%20%20%20%20CentralToronto%206%20%20%20%20%20%20CentralToronto%207%20%20%20%20%20%20CentralToronto%208%20%20%20%20%20%20CentralToronto%209%20%20%20%20%20%20CentralToronto%2010%20%20%20%20DowntownToronto%2011%20%20%20%20DowntownToronto%2012%20%20%20%20DowntownToronto%2013%20%20%20%20DowntownToronto%2014%20%20%20%20DowntownToronto%2015%20%20%20%20DowntownToronto%2016%20%20%20%20DowntownToronto%2017%20%20%20%20DowntownToronto%2018%20%20%20%20DowntownToronto%2019%20%20%20%20DowntownToronto%2020%20%20%20%20DowntownToronto%2021%20%20%20%20DowntownToronto%2022%20%20%20%20%20CentralToronto%2023%20%20%20%20%20CentralToronto%2024%20%20%20%20%20CentralToronto%2025%20%20%20%20DowntownToronto%2026%20%20%20%20DowntownToronto%2027%20%20%20%20DowntownToronto%2028%20%20%20%20DowntownToronto%2029%20%20%20%20DowntownToronto%2030%20%20%20%20DowntownToronto%2031%20%20%20%20%20%20%20%20WestToronto%2032%20%20%20%20%20%20%20%20WestToronto%2033%20%20%20%20%20%20%20%20WestToronto%2034%20%20%20%20%20%20%20%20WestToronto%2035%20%20%20%20%20%20%20%20WestToronto%2036%20%20%20%20%20%20%20%20WestToronto%2037%20%20%20%20DowntownToronto%2038%20%20%20%20%20%20%20%20EastToronto%20Name%3A%20Borough%2C%20dtype%3A%20object%20Cluster%201%3C/div%3E%60%29%5B0%5D%3B%0A%20%20%20%20%20%20%20%20%20%20%20%20popup_a54832ab79534915a10299107b87c7e8.setContent%28html_315a4d0099f3481dbabe5f953bcca802%29%3B%0A%20%20%20%20%20%20%20%20%0A%0A%20%20%20%20%20%20%20%20circle_marker_2c3b1ad704ad4974b05393af51b409bc.bindPopup%28popup_a54832ab79534915a10299107b87c7e8%29%0A%20%20%20%20%20%20%20%20%3B%0A%0A%20%20%20%20%20%20%20%20%0A%20%20%20%20%0A%20%20%20%20%0A%20%20%20%20%20%20%20%20%20%20%20%20var%20circle_marker_0ff89a3f61e34346912f3adabde210b5%20%3D%20L.circleMarker%28%0A%20%20%20%20%20%20%20%20%20%20%20%20%20%20%20%20%5B43.6471768%2C%20-79.38157640000001%5D%2C%0A%20%20%20%20%20%20%20%20%20%20%20%20%20%20%20%20%7B%22bubblingMouseEvents%22%3A%20true%2C%20%22color%22%3A%20%22%238000ff%22%2C%20%22dashArray%22%3A%20null%2C%20%22dashOffset%22%3A%20null%2C%20%22fill%22%3A%20true%2C%20%22fillColor%22%3A%20%22%238000ff%22%2C%20%22fillOpacity%22%3A%200.7%2C%20%22fillRule%22%3A%20%22evenodd%22%2C%20%22lineCap%22%3A%20%22round%22%2C%20%22lineJoin%22%3A%20%22round%22%2C%20%22opacity%22%3A%201.0%2C%20%22radius%22%3A%205%2C%20%22stroke%22%3A%20true%2C%20%22weight%22%3A%203%7D%0A%20%20%20%20%20%20%20%20%20%20%20%20%29.addTo%28map_a799dc456a2a42bf85b1cd9c431b31b7%29%3B%0A%20%20%20%20%20%20%20%20%0A%20%20%20%20%0A%20%20%20%20%20%20%20%20var%20popup_118ae462bb2b46e1b287d00cf35e847e%20%3D%20L.popup%28%7B%22maxWidth%22%3A%20%22100%25%22%7D%29%3B%0A%0A%20%20%20%20%20%20%20%20%0A%20%20%20%20%20%20%20%20%20%20%20%20var%20html_7a25c30e5203411985f598d930ab57bd%20%3D%20%24%28%60%3Cdiv%20id%3D%22html_7a25c30e5203411985f598d930ab57bd%22%20style%3D%22width%3A%20100.0%25%3B%20height%3A%20100.0%25%3B%22%3E0%20%20%20%20%20%20%20%20%20EastToronto%201%20%20%20%20%20%20%20%20%20EastToronto%202%20%20%20%20%20%20%20%20%20EastToronto%203%20%20%20%20%20%20%20%20%20EastToronto%204%20%20%20%20%20%20CentralToronto%205%20%20%20%20%20%20CentralToronto%206%20%20%20%20%20%20CentralToronto%207%20%20%20%20%20%20CentralToronto%208%20%20%20%20%20%20CentralToronto%209%20%20%20%20%20%20CentralToronto%2010%20%20%20%20DowntownToronto%2011%20%20%20%20DowntownToronto%2012%20%20%20%20DowntownToronto%2013%20%20%20%20DowntownToronto%2014%20%20%20%20DowntownToronto%2015%20%20%20%20DowntownToronto%2016%20%20%20%20DowntownToronto%2017%20%20%20%20DowntownToronto%2018%20%20%20%20DowntownToronto%2019%20%20%20%20DowntownToronto%2020%20%20%20%20DowntownToronto%2021%20%20%20%20DowntownToronto%2022%20%20%20%20%20CentralToronto%2023%20%20%20%20%20CentralToronto%2024%20%20%20%20%20CentralToronto%2025%20%20%20%20DowntownToronto%2026%20%20%20%20DowntownToronto%2027%20%20%20%20DowntownToronto%2028%20%20%20%20DowntownToronto%2029%20%20%20%20DowntownToronto%2030%20%20%20%20DowntownToronto%2031%20%20%20%20%20%20%20%20WestToronto%2032%20%20%20%20%20%20%20%20WestToronto%2033%20%20%20%20%20%20%20%20WestToronto%2034%20%20%20%20%20%20%20%20WestToronto%2035%20%20%20%20%20%20%20%20WestToronto%2036%20%20%20%20%20%20%20%20WestToronto%2037%20%20%20%20DowntownToronto%2038%20%20%20%20%20%20%20%20EastToronto%20Name%3A%20Borough%2C%20dtype%3A%20object%20Cluster%201%3C/div%3E%60%29%5B0%5D%3B%0A%20%20%20%20%20%20%20%20%20%20%20%20popup_118ae462bb2b46e1b287d00cf35e847e.setContent%28html_7a25c30e5203411985f598d930ab57bd%29%3B%0A%20%20%20%20%20%20%20%20%0A%0A%20%20%20%20%20%20%20%20circle_marker_0ff89a3f61e34346912f3adabde210b5.bindPopup%28popup_118ae462bb2b46e1b287d00cf35e847e%29%0A%20%20%20%20%20%20%20%20%3B%0A%0A%20%20%20%20%20%20%20%20%0A%20%20%20%20%0A%20%20%20%20%0A%20%20%20%20%20%20%20%20%20%20%20%20var%20circle_marker_5c56776ff43e4b468799ab131d80394d%20%3D%20L.circleMarker%28%0A%20%20%20%20%20%20%20%20%20%20%20%20%20%20%20%20%5B43.6481985%2C%20-79.37981690000001%5D%2C%0A%20%20%20%20%20%20%20%20%20%20%20%20%20%20%20%20%7B%22bubblingMouseEvents%22%3A%20true%2C%20%22color%22%3A%20%22%238000ff%22%2C%20%22dashArray%22%3A%20null%2C%20%22dashOffset%22%3A%20null%2C%20%22fill%22%3A%20true%2C%20%22fillColor%22%3A%20%22%238000ff%22%2C%20%22fillOpacity%22%3A%200.7%2C%20%22fillRule%22%3A%20%22evenodd%22%2C%20%22lineCap%22%3A%20%22round%22%2C%20%22lineJoin%22%3A%20%22round%22%2C%20%22opacity%22%3A%201.0%2C%20%22radius%22%3A%205%2C%20%22stroke%22%3A%20true%2C%20%22weight%22%3A%203%7D%0A%20%20%20%20%20%20%20%20%20%20%20%20%29.addTo%28map_a799dc456a2a42bf85b1cd9c431b31b7%29%3B%0A%20%20%20%20%20%20%20%20%0A%20%20%20%20%0A%20%20%20%20%20%20%20%20var%20popup_4b5b3dff47dd46cf990231b80625e1fa%20%3D%20L.popup%28%7B%22maxWidth%22%3A%20%22100%25%22%7D%29%3B%0A%0A%20%20%20%20%20%20%20%20%0A%20%20%20%20%20%20%20%20%20%20%20%20var%20html_fe8028b5591f4d15820040e363e7f84a%20%3D%20%24%28%60%3Cdiv%20id%3D%22html_fe8028b5591f4d15820040e363e7f84a%22%20style%3D%22width%3A%20100.0%25%3B%20height%3A%20100.0%25%3B%22%3E0%20%20%20%20%20%20%20%20%20EastToronto%201%20%20%20%20%20%20%20%20%20EastToronto%202%20%20%20%20%20%20%20%20%20EastToronto%203%20%20%20%20%20%20%20%20%20EastToronto%204%20%20%20%20%20%20CentralToronto%205%20%20%20%20%20%20CentralToronto%206%20%20%20%20%20%20CentralToronto%207%20%20%20%20%20%20CentralToronto%208%20%20%20%20%20%20CentralToronto%209%20%20%20%20%20%20CentralToronto%2010%20%20%20%20DowntownToronto%2011%20%20%20%20DowntownToronto%2012%20%20%20%20DowntownToronto%2013%20%20%20%20DowntownToronto%2014%20%20%20%20DowntownToronto%2015%20%20%20%20DowntownToronto%2016%20%20%20%20DowntownToronto%2017%20%20%20%20DowntownToronto%2018%20%20%20%20DowntownToronto%2019%20%20%20%20DowntownToronto%2020%20%20%20%20DowntownToronto%2021%20%20%20%20DowntownToronto%2022%20%20%20%20%20CentralToronto%2023%20%20%20%20%20CentralToronto%2024%20%20%20%20%20CentralToronto%2025%20%20%20%20DowntownToronto%2026%20%20%20%20DowntownToronto%2027%20%20%20%20DowntownToronto%2028%20%20%20%20DowntownToronto%2029%20%20%20%20DowntownToronto%2030%20%20%20%20DowntownToronto%2031%20%20%20%20%20%20%20%20WestToronto%2032%20%20%20%20%20%20%20%20WestToronto%2033%20%20%20%20%20%20%20%20WestToronto%2034%20%20%20%20%20%20%20%20WestToronto%2035%20%20%20%20%20%20%20%20WestToronto%2036%20%20%20%20%20%20%20%20WestToronto%2037%20%20%20%20DowntownToronto%2038%20%20%20%20%20%20%20%20EastToronto%20Name%3A%20Borough%2C%20dtype%3A%20object%20Cluster%201%3C/div%3E%60%29%5B0%5D%3B%0A%20%20%20%20%20%20%20%20%20%20%20%20popup_4b5b3dff47dd46cf990231b80625e1fa.setContent%28html_fe8028b5591f4d15820040e363e7f84a%29%3B%0A%20%20%20%20%20%20%20%20%0A%0A%20%20%20%20%20%20%20%20circle_marker_5c56776ff43e4b468799ab131d80394d.bindPopup%28popup_4b5b3dff47dd46cf990231b80625e1fa%29%0A%20%20%20%20%20%20%20%20%3B%0A%0A%20%20%20%20%20%20%20%20%0A%20%20%20%20%0A%20%20%20%20%0A%20%20%20%20%20%20%20%20%20%20%20%20var%20circle_marker_bff96c14fbea4ea08e92d27065b7f04a%20%3D%20L.circleMarker%28%0A%20%20%20%20%20%20%20%20%20%20%20%20%20%20%20%20%5B43.7116948%2C%20-79.41693559999999%5D%2C%0A%20%20%20%20%20%20%20%20%20%20%20%20%20%20%20%20%7B%22bubblingMouseEvents%22%3A%20true%2C%20%22color%22%3A%20%22%232adddd%22%2C%20%22dashArray%22%3A%20null%2C%20%22dashOffset%22%3A%20null%2C%20%22fill%22%3A%20true%2C%20%22fillColor%22%3A%20%22%232adddd%22%2C%20%22fillOpacity%22%3A%200.7%2C%20%22fillRule%22%3A%20%22evenodd%22%2C%20%22lineCap%22%3A%20%22round%22%2C%20%22lineJoin%22%3A%20%22round%22%2C%20%22opacity%22%3A%201.0%2C%20%22radius%22%3A%205%2C%20%22stroke%22%3A%20true%2C%20%22weight%22%3A%203%7D%0A%20%20%20%20%20%20%20%20%20%20%20%20%29.addTo%28map_a799dc456a2a42bf85b1cd9c431b31b7%29%3B%0A%20%20%20%20%20%20%20%20%0A%20%20%20%20%0A%20%20%20%20%20%20%20%20var%20popup_ea8927d314774e7bbe44690c7ec6e18c%20%3D%20L.popup%28%7B%22maxWidth%22%3A%20%22100%25%22%7D%29%3B%0A%0A%20%20%20%20%20%20%20%20%0A%20%20%20%20%20%20%20%20%20%20%20%20var%20html_aaef5e8514fe454b867851d829d717b5%20%3D%20%24%28%60%3Cdiv%20id%3D%22html_aaef5e8514fe454b867851d829d717b5%22%20style%3D%22width%3A%20100.0%25%3B%20height%3A%20100.0%25%3B%22%3E0%20%20%20%20%20%20%20%20%20EastToronto%201%20%20%20%20%20%20%20%20%20EastToronto%202%20%20%20%20%20%20%20%20%20EastToronto%203%20%20%20%20%20%20%20%20%20EastToronto%204%20%20%20%20%20%20CentralToronto%205%20%20%20%20%20%20CentralToronto%206%20%20%20%20%20%20CentralToronto%207%20%20%20%20%20%20CentralToronto%208%20%20%20%20%20%20CentralToronto%209%20%20%20%20%20%20CentralToronto%2010%20%20%20%20DowntownToronto%2011%20%20%20%20DowntownToronto%2012%20%20%20%20DowntownToronto%2013%20%20%20%20DowntownToronto%2014%20%20%20%20DowntownToronto%2015%20%20%20%20DowntownToronto%2016%20%20%20%20DowntownToronto%2017%20%20%20%20DowntownToronto%2018%20%20%20%20DowntownToronto%2019%20%20%20%20DowntownToronto%2020%20%20%20%20DowntownToronto%2021%20%20%20%20DowntownToronto%2022%20%20%20%20%20CentralToronto%2023%20%20%20%20%20CentralToronto%2024%20%20%20%20%20CentralToronto%2025%20%20%20%20DowntownToronto%2026%20%20%20%20DowntownToronto%2027%20%20%20%20DowntownToronto%2028%20%20%20%20DowntownToronto%2029%20%20%20%20DowntownToronto%2030%20%20%20%20DowntownToronto%2031%20%20%20%20%20%20%20%20WestToronto%2032%20%20%20%20%20%20%20%20WestToronto%2033%20%20%20%20%20%20%20%20WestToronto%2034%20%20%20%20%20%20%20%20WestToronto%2035%20%20%20%20%20%20%20%20WestToronto%2036%20%20%20%20%20%20%20%20WestToronto%2037%20%20%20%20DowntownToronto%2038%20%20%20%20%20%20%20%20EastToronto%20Name%3A%20Borough%2C%20dtype%3A%20object%20Cluster%202%3C/div%3E%60%29%5B0%5D%3B%0A%20%20%20%20%20%20%20%20%20%20%20%20popup_ea8927d314774e7bbe44690c7ec6e18c.setContent%28html_aaef5e8514fe454b867851d829d717b5%29%3B%0A%20%20%20%20%20%20%20%20%0A%0A%20%20%20%20%20%20%20%20circle_marker_bff96c14fbea4ea08e92d27065b7f04a.bindPopup%28popup_ea8927d314774e7bbe44690c7ec6e18c%29%0A%20%20%20%20%20%20%20%20%3B%0A%0A%20%20%20%20%20%20%20%20%0A%20%20%20%20%0A%20%20%20%20%0A%20%20%20%20%20%20%20%20%20%20%20%20var%20circle_marker_74fa19ddba8949a3bb00bd41b158de4b%20%3D%20L.circleMarker%28%0A%20%20%20%20%20%20%20%20%20%20%20%20%20%20%20%20%5B43.6969476%2C%20-79.41130720000001%5D%2C%0A%20%20%20%20%20%20%20%20%20%20%20%20%20%20%20%20%7B%22bubblingMouseEvents%22%3A%20true%2C%20%22color%22%3A%20%22%232adddd%22%2C%20%22dashArray%22%3A%20null%2C%20%22dashOffset%22%3A%20null%2C%20%22fill%22%3A%20true%2C%20%22fillColor%22%3A%20%22%232adddd%22%2C%20%22fillOpacity%22%3A%200.7%2C%20%22fillRule%22%3A%20%22evenodd%22%2C%20%22lineCap%22%3A%20%22round%22%2C%20%22lineJoin%22%3A%20%22round%22%2C%20%22opacity%22%3A%201.0%2C%20%22radius%22%3A%205%2C%20%22stroke%22%3A%20true%2C%20%22weight%22%3A%203%7D%0A%20%20%20%20%20%20%20%20%20%20%20%20%29.addTo%28map_a799dc456a2a42bf85b1cd9c431b31b7%29%3B%0A%20%20%20%20%20%20%20%20%0A%20%20%20%20%0A%20%20%20%20%20%20%20%20var%20popup_837b8f7deed74b7492b8963fc21107b8%20%3D%20L.popup%28%7B%22maxWidth%22%3A%20%22100%25%22%7D%29%3B%0A%0A%20%20%20%20%20%20%20%20%0A%20%20%20%20%20%20%20%20%20%20%20%20var%20html_c15c8a5c7a234603bcd4ec3474d37467%20%3D%20%24%28%60%3Cdiv%20id%3D%22html_c15c8a5c7a234603bcd4ec3474d37467%22%20style%3D%22width%3A%20100.0%25%3B%20height%3A%20100.0%25%3B%22%3E0%20%20%20%20%20%20%20%20%20EastToronto%201%20%20%20%20%20%20%20%20%20EastToronto%202%20%20%20%20%20%20%20%20%20EastToronto%203%20%20%20%20%20%20%20%20%20EastToronto%204%20%20%20%20%20%20CentralToronto%205%20%20%20%20%20%20CentralToronto%206%20%20%20%20%20%20CentralToronto%207%20%20%20%20%20%20CentralToronto%208%20%20%20%20%20%20CentralToronto%209%20%20%20%20%20%20CentralToronto%2010%20%20%20%20DowntownToronto%2011%20%20%20%20DowntownToronto%2012%20%20%20%20DowntownToronto%2013%20%20%20%20DowntownToronto%2014%20%20%20%20DowntownToronto%2015%20%20%20%20DowntownToronto%2016%20%20%20%20DowntownToronto%2017%20%20%20%20DowntownToronto%2018%20%20%20%20DowntownToronto%2019%20%20%20%20DowntownToronto%2020%20%20%20%20DowntownToronto%2021%20%20%20%20DowntownToronto%2022%20%20%20%20%20CentralToronto%2023%20%20%20%20%20CentralToronto%2024%20%20%20%20%20CentralToronto%2025%20%20%20%20DowntownToronto%2026%20%20%20%20DowntownToronto%2027%20%20%20%20DowntownToronto%2028%20%20%20%20DowntownToronto%2029%20%20%20%20DowntownToronto%2030%20%20%20%20DowntownToronto%2031%20%20%20%20%20%20%20%20WestToronto%2032%20%20%20%20%20%20%20%20WestToronto%2033%20%20%20%20%20%20%20%20WestToronto%2034%20%20%20%20%20%20%20%20WestToronto%2035%20%20%20%20%20%20%20%20WestToronto%2036%20%20%20%20%20%20%20%20WestToronto%2037%20%20%20%20DowntownToronto%2038%20%20%20%20%20%20%20%20EastToronto%20Name%3A%20Borough%2C%20dtype%3A%20object%20Cluster%202%3C/div%3E%60%29%5B0%5D%3B%0A%20%20%20%20%20%20%20%20%20%20%20%20popup_837b8f7deed74b7492b8963fc21107b8.setContent%28html_c15c8a5c7a234603bcd4ec3474d37467%29%3B%0A%20%20%20%20%20%20%20%20%0A%0A%20%20%20%20%20%20%20%20circle_marker_74fa19ddba8949a3bb00bd41b158de4b.bindPopup%28popup_837b8f7deed74b7492b8963fc21107b8%29%0A%20%20%20%20%20%20%20%20%3B%0A%0A%20%20%20%20%20%20%20%20%0A%20%20%20%20%0A%20%20%20%20%0A%20%20%20%20%20%20%20%20%20%20%20%20var%20circle_marker_1bab0390528141d5b0dd323a362ae432%20%3D%20L.circleMarker%28%0A%20%20%20%20%20%20%20%20%20%20%20%20%20%20%20%20%5B43.6727097%2C%20-79.40567840000001%5D%2C%0A%20%20%20%20%20%20%20%20%20%20%20%20%20%20%20%20%7B%22bubblingMouseEvents%22%3A%20true%2C%20%22color%22%3A%20%22%232adddd%22%2C%20%22dashArray%22%3A%20null%2C%20%22dashOffset%22%3A%20null%2C%20%22fill%22%3A%20true%2C%20%22fillColor%22%3A%20%22%232adddd%22%2C%20%22fillOpacity%22%3A%200.7%2C%20%22fillRule%22%3A%20%22evenodd%22%2C%20%22lineCap%22%3A%20%22round%22%2C%20%22lineJoin%22%3A%20%22round%22%2C%20%22opacity%22%3A%201.0%2C%20%22radius%22%3A%205%2C%20%22stroke%22%3A%20true%2C%20%22weight%22%3A%203%7D%0A%20%20%20%20%20%20%20%20%20%20%20%20%29.addTo%28map_a799dc456a2a42bf85b1cd9c431b31b7%29%3B%0A%20%20%20%20%20%20%20%20%0A%20%20%20%20%0A%20%20%20%20%20%20%20%20var%20popup_fe9b2646235b4291ae49dd8217659752%20%3D%20L.popup%28%7B%22maxWidth%22%3A%20%22100%25%22%7D%29%3B%0A%0A%20%20%20%20%20%20%20%20%0A%20%20%20%20%20%20%20%20%20%20%20%20var%20html_365d0c3a51ce4f0cbf4969af9bfde2c4%20%3D%20%24%28%60%3Cdiv%20id%3D%22html_365d0c3a51ce4f0cbf4969af9bfde2c4%22%20style%3D%22width%3A%20100.0%25%3B%20height%3A%20100.0%25%3B%22%3E0%20%20%20%20%20%20%20%20%20EastToronto%201%20%20%20%20%20%20%20%20%20EastToronto%202%20%20%20%20%20%20%20%20%20EastToronto%203%20%20%20%20%20%20%20%20%20EastToronto%204%20%20%20%20%20%20CentralToronto%205%20%20%20%20%20%20CentralToronto%206%20%20%20%20%20%20CentralToronto%207%20%20%20%20%20%20CentralToronto%208%20%20%20%20%20%20CentralToronto%209%20%20%20%20%20%20CentralToronto%2010%20%20%20%20DowntownToronto%2011%20%20%20%20DowntownToronto%2012%20%20%20%20DowntownToronto%2013%20%20%20%20DowntownToronto%2014%20%20%20%20DowntownToronto%2015%20%20%20%20DowntownToronto%2016%20%20%20%20DowntownToronto%2017%20%20%20%20DowntownToronto%2018%20%20%20%20DowntownToronto%2019%20%20%20%20DowntownToronto%2020%20%20%20%20DowntownToronto%2021%20%20%20%20DowntownToronto%2022%20%20%20%20%20CentralToronto%2023%20%20%20%20%20CentralToronto%2024%20%20%20%20%20CentralToronto%2025%20%20%20%20DowntownToronto%2026%20%20%20%20DowntownToronto%2027%20%20%20%20DowntownToronto%2028%20%20%20%20DowntownToronto%2029%20%20%20%20DowntownToronto%2030%20%20%20%20DowntownToronto%2031%20%20%20%20%20%20%20%20WestToronto%2032%20%20%20%20%20%20%20%20WestToronto%2033%20%20%20%20%20%20%20%20WestToronto%2034%20%20%20%20%20%20%20%20WestToronto%2035%20%20%20%20%20%20%20%20WestToronto%2036%20%20%20%20%20%20%20%20WestToronto%2037%20%20%20%20DowntownToronto%2038%20%20%20%20%20%20%20%20EastToronto%20Name%3A%20Borough%2C%20dtype%3A%20object%20Cluster%202%3C/div%3E%60%29%5B0%5D%3B%0A%20%20%20%20%20%20%20%20%20%20%20%20popup_fe9b2646235b4291ae49dd8217659752.setContent%28html_365d0c3a51ce4f0cbf4969af9bfde2c4%29%3B%0A%20%20%20%20%20%20%20%20%0A%0A%20%20%20%20%20%20%20%20circle_marker_1bab0390528141d5b0dd323a362ae432.bindPopup%28popup_fe9b2646235b4291ae49dd8217659752%29%0A%20%20%20%20%20%20%20%20%3B%0A%0A%20%20%20%20%20%20%20%20%0A%20%20%20%20%0A%20%20%20%20%0A%20%20%20%20%20%20%20%20%20%20%20%20var%20circle_marker_0086b6c3e6174c1c96ac1af8708a6654%20%3D%20L.circleMarker%28%0A%20%20%20%20%20%20%20%20%20%20%20%20%20%20%20%20%5B43.6626956%2C%20-79.4000493%5D%2C%0A%20%20%20%20%20%20%20%20%20%20%20%20%20%20%20%20%7B%22bubblingMouseEvents%22%3A%20true%2C%20%22color%22%3A%20%22%238000ff%22%2C%20%22dashArray%22%3A%20null%2C%20%22dashOffset%22%3A%20null%2C%20%22fill%22%3A%20true%2C%20%22fillColor%22%3A%20%22%238000ff%22%2C%20%22fillOpacity%22%3A%200.7%2C%20%22fillRule%22%3A%20%22evenodd%22%2C%20%22lineCap%22%3A%20%22round%22%2C%20%22lineJoin%22%3A%20%22round%22%2C%20%22opacity%22%3A%201.0%2C%20%22radius%22%3A%205%2C%20%22stroke%22%3A%20true%2C%20%22weight%22%3A%203%7D%0A%20%20%20%20%20%20%20%20%20%20%20%20%29.addTo%28map_a799dc456a2a42bf85b1cd9c431b31b7%29%3B%0A%20%20%20%20%20%20%20%20%0A%20%20%20%20%0A%20%20%20%20%20%20%20%20var%20popup_ca24e071710f409688fa3d7ae7dee555%20%3D%20L.popup%28%7B%22maxWidth%22%3A%20%22100%25%22%7D%29%3B%0A%0A%20%20%20%20%20%20%20%20%0A%20%20%20%20%20%20%20%20%20%20%20%20var%20html_a450ba0965fb4733bd81850ffc9f4637%20%3D%20%24%28%60%3Cdiv%20id%3D%22html_a450ba0965fb4733bd81850ffc9f4637%22%20style%3D%22width%3A%20100.0%25%3B%20height%3A%20100.0%25%3B%22%3E0%20%20%20%20%20%20%20%20%20EastToronto%201%20%20%20%20%20%20%20%20%20EastToronto%202%20%20%20%20%20%20%20%20%20EastToronto%203%20%20%20%20%20%20%20%20%20EastToronto%204%20%20%20%20%20%20CentralToronto%205%20%20%20%20%20%20CentralToronto%206%20%20%20%20%20%20CentralToronto%207%20%20%20%20%20%20CentralToronto%208%20%20%20%20%20%20CentralToronto%209%20%20%20%20%20%20CentralToronto%2010%20%20%20%20DowntownToronto%2011%20%20%20%20DowntownToronto%2012%20%20%20%20DowntownToronto%2013%20%20%20%20DowntownToronto%2014%20%20%20%20DowntownToronto%2015%20%20%20%20DowntownToronto%2016%20%20%20%20DowntownToronto%2017%20%20%20%20DowntownToronto%2018%20%20%20%20DowntownToronto%2019%20%20%20%20DowntownToronto%2020%20%20%20%20DowntownToronto%2021%20%20%20%20DowntownToronto%2022%20%20%20%20%20CentralToronto%2023%20%20%20%20%20CentralToronto%2024%20%20%20%20%20CentralToronto%2025%20%20%20%20DowntownToronto%2026%20%20%20%20DowntownToronto%2027%20%20%20%20DowntownToronto%2028%20%20%20%20DowntownToronto%2029%20%20%20%20DowntownToronto%2030%20%20%20%20DowntownToronto%2031%20%20%20%20%20%20%20%20WestToronto%2032%20%20%20%20%20%20%20%20WestToronto%2033%20%20%20%20%20%20%20%20WestToronto%2034%20%20%20%20%20%20%20%20WestToronto%2035%20%20%20%20%20%20%20%20WestToronto%2036%20%20%20%20%20%20%20%20WestToronto%2037%20%20%20%20DowntownToronto%2038%20%20%20%20%20%20%20%20EastToronto%20Name%3A%20Borough%2C%20dtype%3A%20object%20Cluster%201%3C/div%3E%60%29%5B0%5D%3B%0A%20%20%20%20%20%20%20%20%20%20%20%20popup_ca24e071710f409688fa3d7ae7dee555.setContent%28html_a450ba0965fb4733bd81850ffc9f4637%29%3B%0A%20%20%20%20%20%20%20%20%0A%0A%20%20%20%20%20%20%20%20circle_marker_0086b6c3e6174c1c96ac1af8708a6654.bindPopup%28popup_ca24e071710f409688fa3d7ae7dee555%29%0A%20%20%20%20%20%20%20%20%3B%0A%0A%20%20%20%20%20%20%20%20%0A%20%20%20%20%0A%20%20%20%20%0A%20%20%20%20%20%20%20%20%20%20%20%20var%20circle_marker_22ec4c4fb9aa47d9b20f48a23e9f06d4%20%3D%20L.circleMarker%28%0A%20%20%20%20%20%20%20%20%20%20%20%20%20%20%20%20%5B43.6532057%2C%20-79.4000493%5D%2C%0A%20%20%20%20%20%20%20%20%20%20%20%20%20%20%20%20%7B%22bubblingMouseEvents%22%3A%20true%2C%20%22color%22%3A%20%22%238000ff%22%2C%20%22dashArray%22%3A%20null%2C%20%22dashOffset%22%3A%20null%2C%20%22fill%22%3A%20true%2C%20%22fillColor%22%3A%20%22%238000ff%22%2C%20%22fillOpacity%22%3A%200.7%2C%20%22fillRule%22%3A%20%22evenodd%22%2C%20%22lineCap%22%3A%20%22round%22%2C%20%22lineJoin%22%3A%20%22round%22%2C%20%22opacity%22%3A%201.0%2C%20%22radius%22%3A%205%2C%20%22stroke%22%3A%20true%2C%20%22weight%22%3A%203%7D%0A%20%20%20%20%20%20%20%20%20%20%20%20%29.addTo%28map_a799dc456a2a42bf85b1cd9c431b31b7%29%3B%0A%20%20%20%20%20%20%20%20%0A%20%20%20%20%0A%20%20%20%20%20%20%20%20var%20popup_d57f8c25294946a3a41f806cc0226c15%20%3D%20L.popup%28%7B%22maxWidth%22%3A%20%22100%25%22%7D%29%3B%0A%0A%20%20%20%20%20%20%20%20%0A%20%20%20%20%20%20%20%20%20%20%20%20var%20html_fa85e9d2c0f342ee9ef412780e621421%20%3D%20%24%28%60%3Cdiv%20id%3D%22html_fa85e9d2c0f342ee9ef412780e621421%22%20style%3D%22width%3A%20100.0%25%3B%20height%3A%20100.0%25%3B%22%3E0%20%20%20%20%20%20%20%20%20EastToronto%201%20%20%20%20%20%20%20%20%20EastToronto%202%20%20%20%20%20%20%20%20%20EastToronto%203%20%20%20%20%20%20%20%20%20EastToronto%204%20%20%20%20%20%20CentralToronto%205%20%20%20%20%20%20CentralToronto%206%20%20%20%20%20%20CentralToronto%207%20%20%20%20%20%20CentralToronto%208%20%20%20%20%20%20CentralToronto%209%20%20%20%20%20%20CentralToronto%2010%20%20%20%20DowntownToronto%2011%20%20%20%20DowntownToronto%2012%20%20%20%20DowntownToronto%2013%20%20%20%20DowntownToronto%2014%20%20%20%20DowntownToronto%2015%20%20%20%20DowntownToronto%2016%20%20%20%20DowntownToronto%2017%20%20%20%20DowntownToronto%2018%20%20%20%20DowntownToronto%2019%20%20%20%20DowntownToronto%2020%20%20%20%20DowntownToronto%2021%20%20%20%20DowntownToronto%2022%20%20%20%20%20CentralToronto%2023%20%20%20%20%20CentralToronto%2024%20%20%20%20%20CentralToronto%2025%20%20%20%20DowntownToronto%2026%20%20%20%20DowntownToronto%2027%20%20%20%20DowntownToronto%2028%20%20%20%20DowntownToronto%2029%20%20%20%20DowntownToronto%2030%20%20%20%20DowntownToronto%2031%20%20%20%20%20%20%20%20WestToronto%2032%20%20%20%20%20%20%20%20WestToronto%2033%20%20%20%20%20%20%20%20WestToronto%2034%20%20%20%20%20%20%20%20WestToronto%2035%20%20%20%20%20%20%20%20WestToronto%2036%20%20%20%20%20%20%20%20WestToronto%2037%20%20%20%20DowntownToronto%2038%20%20%20%20%20%20%20%20EastToronto%20Name%3A%20Borough%2C%20dtype%3A%20object%20Cluster%201%3C/div%3E%60%29%5B0%5D%3B%0A%20%20%20%20%20%20%20%20%20%20%20%20popup_d57f8c25294946a3a41f806cc0226c15.setContent%28html_fa85e9d2c0f342ee9ef412780e621421%29%3B%0A%20%20%20%20%20%20%20%20%0A%0A%20%20%20%20%20%20%20%20circle_marker_22ec4c4fb9aa47d9b20f48a23e9f06d4.bindPopup%28popup_d57f8c25294946a3a41f806cc0226c15%29%0A%20%20%20%20%20%20%20%20%3B%0A%0A%20%20%20%20%20%20%20%20%0A%20%20%20%20%0A%20%20%20%20%0A%20%20%20%20%20%20%20%20%20%20%20%20var%20circle_marker_4e70f17a50044438ab9d842a789470ed%20%3D%20L.circleMarker%28%0A%20%20%20%20%20%20%20%20%20%20%20%20%20%20%20%20%5B43.6289467%2C%20-79.3944199%5D%2C%0A%20%20%20%20%20%20%20%20%20%20%20%20%20%20%20%20%7B%22bubblingMouseEvents%22%3A%20true%2C%20%22color%22%3A%20%22%238000ff%22%2C%20%22dashArray%22%3A%20null%2C%20%22dashOffset%22%3A%20null%2C%20%22fill%22%3A%20true%2C%20%22fillColor%22%3A%20%22%238000ff%22%2C%20%22fillOpacity%22%3A%200.7%2C%20%22fillRule%22%3A%20%22evenodd%22%2C%20%22lineCap%22%3A%20%22round%22%2C%20%22lineJoin%22%3A%20%22round%22%2C%20%22opacity%22%3A%201.0%2C%20%22radius%22%3A%205%2C%20%22stroke%22%3A%20true%2C%20%22weight%22%3A%203%7D%0A%20%20%20%20%20%20%20%20%20%20%20%20%29.addTo%28map_a799dc456a2a42bf85b1cd9c431b31b7%29%3B%0A%20%20%20%20%20%20%20%20%0A%20%20%20%20%0A%20%20%20%20%20%20%20%20var%20popup_37f814ed17234bdea5a928b5cf4b191d%20%3D%20L.popup%28%7B%22maxWidth%22%3A%20%22100%25%22%7D%29%3B%0A%0A%20%20%20%20%20%20%20%20%0A%20%20%20%20%20%20%20%20%20%20%20%20var%20html_05d4d93883ca45639a7d4f3ab8f1c616%20%3D%20%24%28%60%3Cdiv%20id%3D%22html_05d4d93883ca45639a7d4f3ab8f1c616%22%20style%3D%22width%3A%20100.0%25%3B%20height%3A%20100.0%25%3B%22%3E0%20%20%20%20%20%20%20%20%20EastToronto%201%20%20%20%20%20%20%20%20%20EastToronto%202%20%20%20%20%20%20%20%20%20EastToronto%203%20%20%20%20%20%20%20%20%20EastToronto%204%20%20%20%20%20%20CentralToronto%205%20%20%20%20%20%20CentralToronto%206%20%20%20%20%20%20CentralToronto%207%20%20%20%20%20%20CentralToronto%208%20%20%20%20%20%20CentralToronto%209%20%20%20%20%20%20CentralToronto%2010%20%20%20%20DowntownToronto%2011%20%20%20%20DowntownToronto%2012%20%20%20%20DowntownToronto%2013%20%20%20%20DowntownToronto%2014%20%20%20%20DowntownToronto%2015%20%20%20%20DowntownToronto%2016%20%20%20%20DowntownToronto%2017%20%20%20%20DowntownToronto%2018%20%20%20%20DowntownToronto%2019%20%20%20%20DowntownToronto%2020%20%20%20%20DowntownToronto%2021%20%20%20%20DowntownToronto%2022%20%20%20%20%20CentralToronto%2023%20%20%20%20%20CentralToronto%2024%20%20%20%20%20CentralToronto%2025%20%20%20%20DowntownToronto%2026%20%20%20%20DowntownToronto%2027%20%20%20%20DowntownToronto%2028%20%20%20%20DowntownToronto%2029%20%20%20%20DowntownToronto%2030%20%20%20%20DowntownToronto%2031%20%20%20%20%20%20%20%20WestToronto%2032%20%20%20%20%20%20%20%20WestToronto%2033%20%20%20%20%20%20%20%20WestToronto%2034%20%20%20%20%20%20%20%20WestToronto%2035%20%20%20%20%20%20%20%20WestToronto%2036%20%20%20%20%20%20%20%20WestToronto%2037%20%20%20%20DowntownToronto%2038%20%20%20%20%20%20%20%20EastToronto%20Name%3A%20Borough%2C%20dtype%3A%20object%20Cluster%201%3C/div%3E%60%29%5B0%5D%3B%0A%20%20%20%20%20%20%20%20%20%20%20%20popup_37f814ed17234bdea5a928b5cf4b191d.setContent%28html_05d4d93883ca45639a7d4f3ab8f1c616%29%3B%0A%20%20%20%20%20%20%20%20%0A%0A%20%20%20%20%20%20%20%20circle_marker_4e70f17a50044438ab9d842a789470ed.bindPopup%28popup_37f814ed17234bdea5a928b5cf4b191d%29%0A%20%20%20%20%20%20%20%20%3B%0A%0A%20%20%20%20%20%20%20%20%0A%20%20%20%20%0A%20%20%20%20%0A%20%20%20%20%20%20%20%20%20%20%20%20var%20circle_marker_9526b40de2eb4dc3bfa811c81b09c7d4%20%3D%20L.circleMarker%28%0A%20%20%20%20%20%20%20%20%20%20%20%20%20%20%20%20%5B43.6464352%2C%20-79.37484599999999%5D%2C%0A%20%20%20%20%20%20%20%20%20%20%20%20%20%20%20%20%7B%22bubblingMouseEvents%22%3A%20true%2C%20%22color%22%3A%20%22%238000ff%22%2C%20%22dashArray%22%3A%20null%2C%20%22dashOffset%22%3A%20null%2C%20%22fill%22%3A%20true%2C%20%22fillColor%22%3A%20%22%238000ff%22%2C%20%22fillOpacity%22%3A%200.7%2C%20%22fillRule%22%3A%20%22evenodd%22%2C%20%22lineCap%22%3A%20%22round%22%2C%20%22lineJoin%22%3A%20%22round%22%2C%20%22opacity%22%3A%201.0%2C%20%22radius%22%3A%205%2C%20%22stroke%22%3A%20true%2C%20%22weight%22%3A%203%7D%0A%20%20%20%20%20%20%20%20%20%20%20%20%29.addTo%28map_a799dc456a2a42bf85b1cd9c431b31b7%29%3B%0A%20%20%20%20%20%20%20%20%0A%20%20%20%20%0A%20%20%20%20%20%20%20%20var%20popup_317d01ab525f430e96fe858aca000954%20%3D%20L.popup%28%7B%22maxWidth%22%3A%20%22100%25%22%7D%29%3B%0A%0A%20%20%20%20%20%20%20%20%0A%20%20%20%20%20%20%20%20%20%20%20%20var%20html_00363064fb7d47afa75dad1257ba21ca%20%3D%20%24%28%60%3Cdiv%20id%3D%22html_00363064fb7d47afa75dad1257ba21ca%22%20style%3D%22width%3A%20100.0%25%3B%20height%3A%20100.0%25%3B%22%3E0%20%20%20%20%20%20%20%20%20EastToronto%201%20%20%20%20%20%20%20%20%20EastToronto%202%20%20%20%20%20%20%20%20%20EastToronto%203%20%20%20%20%20%20%20%20%20EastToronto%204%20%20%20%20%20%20CentralToronto%205%20%20%20%20%20%20CentralToronto%206%20%20%20%20%20%20CentralToronto%207%20%20%20%20%20%20CentralToronto%208%20%20%20%20%20%20CentralToronto%209%20%20%20%20%20%20CentralToronto%2010%20%20%20%20DowntownToronto%2011%20%20%20%20DowntownToronto%2012%20%20%20%20DowntownToronto%2013%20%20%20%20DowntownToronto%2014%20%20%20%20DowntownToronto%2015%20%20%20%20DowntownToronto%2016%20%20%20%20DowntownToronto%2017%20%20%20%20DowntownToronto%2018%20%20%20%20DowntownToronto%2019%20%20%20%20DowntownToronto%2020%20%20%20%20DowntownToronto%2021%20%20%20%20DowntownToronto%2022%20%20%20%20%20CentralToronto%2023%20%20%20%20%20CentralToronto%2024%20%20%20%20%20CentralToronto%2025%20%20%20%20DowntownToronto%2026%20%20%20%20DowntownToronto%2027%20%20%20%20DowntownToronto%2028%20%20%20%20DowntownToronto%2029%20%20%20%20DowntownToronto%2030%20%20%20%20DowntownToronto%2031%20%20%20%20%20%20%20%20WestToronto%2032%20%20%20%20%20%20%20%20WestToronto%2033%20%20%20%20%20%20%20%20WestToronto%2034%20%20%20%20%20%20%20%20WestToronto%2035%20%20%20%20%20%20%20%20WestToronto%2036%20%20%20%20%20%20%20%20WestToronto%2037%20%20%20%20DowntownToronto%2038%20%20%20%20%20%20%20%20EastToronto%20Name%3A%20Borough%2C%20dtype%3A%20object%20Cluster%201%3C/div%3E%60%29%5B0%5D%3B%0A%20%20%20%20%20%20%20%20%20%20%20%20popup_317d01ab525f430e96fe858aca000954.setContent%28html_00363064fb7d47afa75dad1257ba21ca%29%3B%0A%20%20%20%20%20%20%20%20%0A%0A%20%20%20%20%20%20%20%20circle_marker_9526b40de2eb4dc3bfa811c81b09c7d4.bindPopup%28popup_317d01ab525f430e96fe858aca000954%29%0A%20%20%20%20%20%20%20%20%3B%0A%0A%20%20%20%20%20%20%20%20%0A%20%20%20%20%0A%20%20%20%20%0A%20%20%20%20%20%20%20%20%20%20%20%20var%20circle_marker_8bf77c5a0a7f4a1bae102d03236823bb%20%3D%20L.circleMarker%28%0A%20%20%20%20%20%20%20%20%20%20%20%20%20%20%20%20%5B43.6484292%2C%20-79.3822802%5D%2C%0A%20%20%20%20%20%20%20%20%20%20%20%20%20%20%20%20%7B%22bubblingMouseEvents%22%3A%20true%2C%20%22color%22%3A%20%22%238000ff%22%2C%20%22dashArray%22%3A%20null%2C%20%22dashOffset%22%3A%20null%2C%20%22fill%22%3A%20true%2C%20%22fillColor%22%3A%20%22%238000ff%22%2C%20%22fillOpacity%22%3A%200.7%2C%20%22fillRule%22%3A%20%22evenodd%22%2C%20%22lineCap%22%3A%20%22round%22%2C%20%22lineJoin%22%3A%20%22round%22%2C%20%22opacity%22%3A%201.0%2C%20%22radius%22%3A%205%2C%20%22stroke%22%3A%20true%2C%20%22weight%22%3A%203%7D%0A%20%20%20%20%20%20%20%20%20%20%20%20%29.addTo%28map_a799dc456a2a42bf85b1cd9c431b31b7%29%3B%0A%20%20%20%20%20%20%20%20%0A%20%20%20%20%0A%20%20%20%20%20%20%20%20var%20popup_a7645753104b4f328ffdcacb6fbe2984%20%3D%20L.popup%28%7B%22maxWidth%22%3A%20%22100%25%22%7D%29%3B%0A%0A%20%20%20%20%20%20%20%20%0A%20%20%20%20%20%20%20%20%20%20%20%20var%20html_d6419c300cf6483189511e115e560cab%20%3D%20%24%28%60%3Cdiv%20id%3D%22html_d6419c300cf6483189511e115e560cab%22%20style%3D%22width%3A%20100.0%25%3B%20height%3A%20100.0%25%3B%22%3E0%20%20%20%20%20%20%20%20%20EastToronto%201%20%20%20%20%20%20%20%20%20EastToronto%202%20%20%20%20%20%20%20%20%20EastToronto%203%20%20%20%20%20%20%20%20%20EastToronto%204%20%20%20%20%20%20CentralToronto%205%20%20%20%20%20%20CentralToronto%206%20%20%20%20%20%20CentralToronto%207%20%20%20%20%20%20CentralToronto%208%20%20%20%20%20%20CentralToronto%209%20%20%20%20%20%20CentralToronto%2010%20%20%20%20DowntownToronto%2011%20%20%20%20DowntownToronto%2012%20%20%20%20DowntownToronto%2013%20%20%20%20DowntownToronto%2014%20%20%20%20DowntownToronto%2015%20%20%20%20DowntownToronto%2016%20%20%20%20DowntownToronto%2017%20%20%20%20DowntownToronto%2018%20%20%20%20DowntownToronto%2019%20%20%20%20DowntownToronto%2020%20%20%20%20DowntownToronto%2021%20%20%20%20DowntownToronto%2022%20%20%20%20%20CentralToronto%2023%20%20%20%20%20CentralToronto%2024%20%20%20%20%20CentralToronto%2025%20%20%20%20DowntownToronto%2026%20%20%20%20DowntownToronto%2027%20%20%20%20DowntownToronto%2028%20%20%20%20DowntownToronto%2029%20%20%20%20DowntownToronto%2030%20%20%20%20DowntownToronto%2031%20%20%20%20%20%20%20%20WestToronto%2032%20%20%20%20%20%20%20%20WestToronto%2033%20%20%20%20%20%20%20%20WestToronto%2034%20%20%20%20%20%20%20%20WestToronto%2035%20%20%20%20%20%20%20%20WestToronto%2036%20%20%20%20%20%20%20%20WestToronto%2037%20%20%20%20DowntownToronto%2038%20%20%20%20%20%20%20%20EastToronto%20Name%3A%20Borough%2C%20dtype%3A%20object%20Cluster%201%3C/div%3E%60%29%5B0%5D%3B%0A%20%20%20%20%20%20%20%20%20%20%20%20popup_a7645753104b4f328ffdcacb6fbe2984.setContent%28html_d6419c300cf6483189511e115e560cab%29%3B%0A%20%20%20%20%20%20%20%20%0A%0A%20%20%20%20%20%20%20%20circle_marker_8bf77c5a0a7f4a1bae102d03236823bb.bindPopup%28popup_a7645753104b4f328ffdcacb6fbe2984%29%0A%20%20%20%20%20%20%20%20%3B%0A%0A%20%20%20%20%20%20%20%20%0A%20%20%20%20%0A%20%20%20%20%0A%20%20%20%20%20%20%20%20%20%20%20%20var%20circle_marker_f58cd57d420047909c76b4bd01d05b3d%20%3D%20L.circleMarker%28%0A%20%20%20%20%20%20%20%20%20%20%20%20%20%20%20%20%5B43.669542%2C%20-79.4225637%5D%2C%0A%20%20%20%20%20%20%20%20%20%20%20%20%20%20%20%20%7B%22bubblingMouseEvents%22%3A%20true%2C%20%22color%22%3A%20%22%238000ff%22%2C%20%22dashArray%22%3A%20null%2C%20%22dashOffset%22%3A%20null%2C%20%22fill%22%3A%20true%2C%20%22fillColor%22%3A%20%22%238000ff%22%2C%20%22fillOpacity%22%3A%200.7%2C%20%22fillRule%22%3A%20%22evenodd%22%2C%20%22lineCap%22%3A%20%22round%22%2C%20%22lineJoin%22%3A%20%22round%22%2C%20%22opacity%22%3A%201.0%2C%20%22radius%22%3A%205%2C%20%22stroke%22%3A%20true%2C%20%22weight%22%3A%203%7D%0A%20%20%20%20%20%20%20%20%20%20%20%20%29.addTo%28map_a799dc456a2a42bf85b1cd9c431b31b7%29%3B%0A%20%20%20%20%20%20%20%20%0A%20%20%20%20%0A%20%20%20%20%20%20%20%20var%20popup_bee371bbe6df4c7d9b14aadece62b781%20%3D%20L.popup%28%7B%22maxWidth%22%3A%20%22100%25%22%7D%29%3B%0A%0A%20%20%20%20%20%20%20%20%0A%20%20%20%20%20%20%20%20%20%20%20%20var%20html_8acac2eed06f4c578230ec72efd994d2%20%3D%20%24%28%60%3Cdiv%20id%3D%22html_8acac2eed06f4c578230ec72efd994d2%22%20style%3D%22width%3A%20100.0%25%3B%20height%3A%20100.0%25%3B%22%3E0%20%20%20%20%20%20%20%20%20EastToronto%201%20%20%20%20%20%20%20%20%20EastToronto%202%20%20%20%20%20%20%20%20%20EastToronto%203%20%20%20%20%20%20%20%20%20EastToronto%204%20%20%20%20%20%20CentralToronto%205%20%20%20%20%20%20CentralToronto%206%20%20%20%20%20%20CentralToronto%207%20%20%20%20%20%20CentralToronto%208%20%20%20%20%20%20CentralToronto%209%20%20%20%20%20%20CentralToronto%2010%20%20%20%20DowntownToronto%2011%20%20%20%20DowntownToronto%2012%20%20%20%20DowntownToronto%2013%20%20%20%20DowntownToronto%2014%20%20%20%20DowntownToronto%2015%20%20%20%20DowntownToronto%2016%20%20%20%20DowntownToronto%2017%20%20%20%20DowntownToronto%2018%20%20%20%20DowntownToronto%2019%20%20%20%20DowntownToronto%2020%20%20%20%20DowntownToronto%2021%20%20%20%20DowntownToronto%2022%20%20%20%20%20CentralToronto%2023%20%20%20%20%20CentralToronto%2024%20%20%20%20%20CentralToronto%2025%20%20%20%20DowntownToronto%2026%20%20%20%20DowntownToronto%2027%20%20%20%20DowntownToronto%2028%20%20%20%20DowntownToronto%2029%20%20%20%20DowntownToronto%2030%20%20%20%20DowntownToronto%2031%20%20%20%20%20%20%20%20WestToronto%2032%20%20%20%20%20%20%20%20WestToronto%2033%20%20%20%20%20%20%20%20WestToronto%2034%20%20%20%20%20%20%20%20WestToronto%2035%20%20%20%20%20%20%20%20WestToronto%2036%20%20%20%20%20%20%20%20WestToronto%2037%20%20%20%20DowntownToronto%2038%20%20%20%20%20%20%20%20EastToronto%20Name%3A%20Borough%2C%20dtype%3A%20object%20Cluster%201%3C/div%3E%60%29%5B0%5D%3B%0A%20%20%20%20%20%20%20%20%20%20%20%20popup_bee371bbe6df4c7d9b14aadece62b781.setContent%28html_8acac2eed06f4c578230ec72efd994d2%29%3B%0A%20%20%20%20%20%20%20%20%0A%0A%20%20%20%20%20%20%20%20circle_marker_f58cd57d420047909c76b4bd01d05b3d.bindPopup%28popup_bee371bbe6df4c7d9b14aadece62b781%29%0A%20%20%20%20%20%20%20%20%3B%0A%0A%20%20%20%20%20%20%20%20%0A%20%20%20%20%0A%20%20%20%20%0A%20%20%20%20%20%20%20%20%20%20%20%20var%20circle_marker_b9e747c3875f4a4baa80f57f7b5f9c26%20%3D%20L.circleMarker%28%0A%20%20%20%20%20%20%20%20%20%20%20%20%20%20%20%20%5B43.66900510000001%2C%20-79.4422593%5D%2C%0A%20%20%20%20%20%20%20%20%20%20%20%20%20%20%20%20%7B%22bubblingMouseEvents%22%3A%20true%2C%20%22color%22%3A%20%22%23d4dd80%22%2C%20%22dashArray%22%3A%20null%2C%20%22dashOffset%22%3A%20null%2C%20%22fill%22%3A%20true%2C%20%22fillColor%22%3A%20%22%23d4dd80%22%2C%20%22fillOpacity%22%3A%200.7%2C%20%22fillRule%22%3A%20%22evenodd%22%2C%20%22lineCap%22%3A%20%22round%22%2C%20%22lineJoin%22%3A%20%22round%22%2C%20%22opacity%22%3A%201.0%2C%20%22radius%22%3A%205%2C%20%22stroke%22%3A%20true%2C%20%22weight%22%3A%203%7D%0A%20%20%20%20%20%20%20%20%20%20%20%20%29.addTo%28map_a799dc456a2a42bf85b1cd9c431b31b7%29%3B%0A%20%20%20%20%20%20%20%20%0A%20%20%20%20%0A%20%20%20%20%20%20%20%20var%20popup_0109b44dd03a4525a991b3a09cdf85a8%20%3D%20L.popup%28%7B%22maxWidth%22%3A%20%22100%25%22%7D%29%3B%0A%0A%20%20%20%20%20%20%20%20%0A%20%20%20%20%20%20%20%20%20%20%20%20var%20html_0eba12fbdf5a439b9576b9a50a5acae2%20%3D%20%24%28%60%3Cdiv%20id%3D%22html_0eba12fbdf5a439b9576b9a50a5acae2%22%20style%3D%22width%3A%20100.0%25%3B%20height%3A%20100.0%25%3B%22%3E0%20%20%20%20%20%20%20%20%20EastToronto%201%20%20%20%20%20%20%20%20%20EastToronto%202%20%20%20%20%20%20%20%20%20EastToronto%203%20%20%20%20%20%20%20%20%20EastToronto%204%20%20%20%20%20%20CentralToronto%205%20%20%20%20%20%20CentralToronto%206%20%20%20%20%20%20CentralToronto%207%20%20%20%20%20%20CentralToronto%208%20%20%20%20%20%20CentralToronto%209%20%20%20%20%20%20CentralToronto%2010%20%20%20%20DowntownToronto%2011%20%20%20%20DowntownToronto%2012%20%20%20%20DowntownToronto%2013%20%20%20%20DowntownToronto%2014%20%20%20%20DowntownToronto%2015%20%20%20%20DowntownToronto%2016%20%20%20%20DowntownToronto%2017%20%20%20%20DowntownToronto%2018%20%20%20%20DowntownToronto%2019%20%20%20%20DowntownToronto%2020%20%20%20%20DowntownToronto%2021%20%20%20%20DowntownToronto%2022%20%20%20%20%20CentralToronto%2023%20%20%20%20%20CentralToronto%2024%20%20%20%20%20CentralToronto%2025%20%20%20%20DowntownToronto%2026%20%20%20%20DowntownToronto%2027%20%20%20%20DowntownToronto%2028%20%20%20%20DowntownToronto%2029%20%20%20%20DowntownToronto%2030%20%20%20%20DowntownToronto%2031%20%20%20%20%20%20%20%20WestToronto%2032%20%20%20%20%20%20%20%20WestToronto%2033%20%20%20%20%20%20%20%20WestToronto%2034%20%20%20%20%20%20%20%20WestToronto%2035%20%20%20%20%20%20%20%20WestToronto%2036%20%20%20%20%20%20%20%20WestToronto%2037%20%20%20%20DowntownToronto%2038%20%20%20%20%20%20%20%20EastToronto%20Name%3A%20Borough%2C%20dtype%3A%20object%20Cluster%203%3C/div%3E%60%29%5B0%5D%3B%0A%20%20%20%20%20%20%20%20%20%20%20%20popup_0109b44dd03a4525a991b3a09cdf85a8.setContent%28html_0eba12fbdf5a439b9576b9a50a5acae2%29%3B%0A%20%20%20%20%20%20%20%20%0A%0A%20%20%20%20%20%20%20%20circle_marker_b9e747c3875f4a4baa80f57f7b5f9c26.bindPopup%28popup_0109b44dd03a4525a991b3a09cdf85a8%29%0A%20%20%20%20%20%20%20%20%3B%0A%0A%20%20%20%20%20%20%20%20%0A%20%20%20%20%0A%20%20%20%20%0A%20%20%20%20%20%20%20%20%20%20%20%20var%20circle_marker_4f00114b1a104f60a0def8bd056fe98f%20%3D%20L.circleMarker%28%0A%20%20%20%20%20%20%20%20%20%20%20%20%20%20%20%20%5B43.647926700000006%2C%20-79.4197497%5D%2C%0A%20%20%20%20%20%20%20%20%20%20%20%20%20%20%20%20%7B%22bubblingMouseEvents%22%3A%20true%2C%20%22color%22%3A%20%22%23d4dd80%22%2C%20%22dashArray%22%3A%20null%2C%20%22dashOffset%22%3A%20null%2C%20%22fill%22%3A%20true%2C%20%22fillColor%22%3A%20%22%23d4dd80%22%2C%20%22fillOpacity%22%3A%200.7%2C%20%22fillRule%22%3A%20%22evenodd%22%2C%20%22lineCap%22%3A%20%22round%22%2C%20%22lineJoin%22%3A%20%22round%22%2C%20%22opacity%22%3A%201.0%2C%20%22radius%22%3A%205%2C%20%22stroke%22%3A%20true%2C%20%22weight%22%3A%203%7D%0A%20%20%20%20%20%20%20%20%20%20%20%20%29.addTo%28map_a799dc456a2a42bf85b1cd9c431b31b7%29%3B%0A%20%20%20%20%20%20%20%20%0A%20%20%20%20%0A%20%20%20%20%20%20%20%20var%20popup_11e0859d65c849d99bf868ea957c1874%20%3D%20L.popup%28%7B%22maxWidth%22%3A%20%22100%25%22%7D%29%3B%0A%0A%20%20%20%20%20%20%20%20%0A%20%20%20%20%20%20%20%20%20%20%20%20var%20html_6a1a97c7b20d4196a2613b08291c5ceb%20%3D%20%24%28%60%3Cdiv%20id%3D%22html_6a1a97c7b20d4196a2613b08291c5ceb%22%20style%3D%22width%3A%20100.0%25%3B%20height%3A%20100.0%25%3B%22%3E0%20%20%20%20%20%20%20%20%20EastToronto%201%20%20%20%20%20%20%20%20%20EastToronto%202%20%20%20%20%20%20%20%20%20EastToronto%203%20%20%20%20%20%20%20%20%20EastToronto%204%20%20%20%20%20%20CentralToronto%205%20%20%20%20%20%20CentralToronto%206%20%20%20%20%20%20CentralToronto%207%20%20%20%20%20%20CentralToronto%208%20%20%20%20%20%20CentralToronto%209%20%20%20%20%20%20CentralToronto%2010%20%20%20%20DowntownToronto%2011%20%20%20%20DowntownToronto%2012%20%20%20%20DowntownToronto%2013%20%20%20%20DowntownToronto%2014%20%20%20%20DowntownToronto%2015%20%20%20%20DowntownToronto%2016%20%20%20%20DowntownToronto%2017%20%20%20%20DowntownToronto%2018%20%20%20%20DowntownToronto%2019%20%20%20%20DowntownToronto%2020%20%20%20%20DowntownToronto%2021%20%20%20%20DowntownToronto%2022%20%20%20%20%20CentralToronto%2023%20%20%20%20%20CentralToronto%2024%20%20%20%20%20CentralToronto%2025%20%20%20%20DowntownToronto%2026%20%20%20%20DowntownToronto%2027%20%20%20%20DowntownToronto%2028%20%20%20%20DowntownToronto%2029%20%20%20%20DowntownToronto%2030%20%20%20%20DowntownToronto%2031%20%20%20%20%20%20%20%20WestToronto%2032%20%20%20%20%20%20%20%20WestToronto%2033%20%20%20%20%20%20%20%20WestToronto%2034%20%20%20%20%20%20%20%20WestToronto%2035%20%20%20%20%20%20%20%20WestToronto%2036%20%20%20%20%20%20%20%20WestToronto%2037%20%20%20%20DowntownToronto%2038%20%20%20%20%20%20%20%20EastToronto%20Name%3A%20Borough%2C%20dtype%3A%20object%20Cluster%203%3C/div%3E%60%29%5B0%5D%3B%0A%20%20%20%20%20%20%20%20%20%20%20%20popup_11e0859d65c849d99bf868ea957c1874.setContent%28html_6a1a97c7b20d4196a2613b08291c5ceb%29%3B%0A%20%20%20%20%20%20%20%20%0A%0A%20%20%20%20%20%20%20%20circle_marker_4f00114b1a104f60a0def8bd056fe98f.bindPopup%28popup_11e0859d65c849d99bf868ea957c1874%29%0A%20%20%20%20%20%20%20%20%3B%0A%0A%20%20%20%20%20%20%20%20%0A%20%20%20%20%0A%20%20%20%20%0A%20%20%20%20%20%20%20%20%20%20%20%20var%20circle_marker_e9fce33a8cc84b0091701e8e567cc53b%20%3D%20L.circleMarker%28%0A%20%20%20%20%20%20%20%20%20%20%20%20%20%20%20%20%5B43.6368472%2C%20-79.42819140000002%5D%2C%0A%20%20%20%20%20%20%20%20%20%20%20%20%20%20%20%20%7B%22bubblingMouseEvents%22%3A%20true%2C%20%22color%22%3A%20%22%23d4dd80%22%2C%20%22dashArray%22%3A%20null%2C%20%22dashOffset%22%3A%20null%2C%20%22fill%22%3A%20true%2C%20%22fillColor%22%3A%20%22%23d4dd80%22%2C%20%22fillOpacity%22%3A%200.7%2C%20%22fillRule%22%3A%20%22evenodd%22%2C%20%22lineCap%22%3A%20%22round%22%2C%20%22lineJoin%22%3A%20%22round%22%2C%20%22opacity%22%3A%201.0%2C%20%22radius%22%3A%205%2C%20%22stroke%22%3A%20true%2C%20%22weight%22%3A%203%7D%0A%20%20%20%20%20%20%20%20%20%20%20%20%29.addTo%28map_a799dc456a2a42bf85b1cd9c431b31b7%29%3B%0A%20%20%20%20%20%20%20%20%0A%20%20%20%20%0A%20%20%20%20%20%20%20%20var%20popup_8e1229595017408d841afc76598c627a%20%3D%20L.popup%28%7B%22maxWidth%22%3A%20%22100%25%22%7D%29%3B%0A%0A%20%20%20%20%20%20%20%20%0A%20%20%20%20%20%20%20%20%20%20%20%20var%20html_bdc945846eb34b3f812c296584d97511%20%3D%20%24%28%60%3Cdiv%20id%3D%22html_bdc945846eb34b3f812c296584d97511%22%20style%3D%22width%3A%20100.0%25%3B%20height%3A%20100.0%25%3B%22%3E0%20%20%20%20%20%20%20%20%20EastToronto%201%20%20%20%20%20%20%20%20%20EastToronto%202%20%20%20%20%20%20%20%20%20EastToronto%203%20%20%20%20%20%20%20%20%20EastToronto%204%20%20%20%20%20%20CentralToronto%205%20%20%20%20%20%20CentralToronto%206%20%20%20%20%20%20CentralToronto%207%20%20%20%20%20%20CentralToronto%208%20%20%20%20%20%20CentralToronto%209%20%20%20%20%20%20CentralToronto%2010%20%20%20%20DowntownToronto%2011%20%20%20%20DowntownToronto%2012%20%20%20%20DowntownToronto%2013%20%20%20%20DowntownToronto%2014%20%20%20%20DowntownToronto%2015%20%20%20%20DowntownToronto%2016%20%20%20%20DowntownToronto%2017%20%20%20%20DowntownToronto%2018%20%20%20%20DowntownToronto%2019%20%20%20%20DowntownToronto%2020%20%20%20%20DowntownToronto%2021%20%20%20%20DowntownToronto%2022%20%20%20%20%20CentralToronto%2023%20%20%20%20%20CentralToronto%2024%20%20%20%20%20CentralToronto%2025%20%20%20%20DowntownToronto%2026%20%20%20%20DowntownToronto%2027%20%20%20%20DowntownToronto%2028%20%20%20%20DowntownToronto%2029%20%20%20%20DowntownToronto%2030%20%20%20%20DowntownToronto%2031%20%20%20%20%20%20%20%20WestToronto%2032%20%20%20%20%20%20%20%20WestToronto%2033%20%20%20%20%20%20%20%20WestToronto%2034%20%20%20%20%20%20%20%20WestToronto%2035%20%20%20%20%20%20%20%20WestToronto%2036%20%20%20%20%20%20%20%20WestToronto%2037%20%20%20%20DowntownToronto%2038%20%20%20%20%20%20%20%20EastToronto%20Name%3A%20Borough%2C%20dtype%3A%20object%20Cluster%203%3C/div%3E%60%29%5B0%5D%3B%0A%20%20%20%20%20%20%20%20%20%20%20%20popup_8e1229595017408d841afc76598c627a.setContent%28html_bdc945846eb34b3f812c296584d97511%29%3B%0A%20%20%20%20%20%20%20%20%0A%0A%20%20%20%20%20%20%20%20circle_marker_e9fce33a8cc84b0091701e8e567cc53b.bindPopup%28popup_8e1229595017408d841afc76598c627a%29%0A%20%20%20%20%20%20%20%20%3B%0A%0A%20%20%20%20%20%20%20%20%0A%20%20%20%20%0A%20%20%20%20%0A%20%20%20%20%20%20%20%20%20%20%20%20var%20circle_marker_2083035bb48e4917971a43d67e6f7518%20%3D%20L.circleMarker%28%0A%20%20%20%20%20%20%20%20%20%20%20%20%20%20%20%20%5B43.6616083%2C%20-79.46476329999999%5D%2C%0A%20%20%20%20%20%20%20%20%20%20%20%20%20%20%20%20%7B%22bubblingMouseEvents%22%3A%20true%2C%20%22color%22%3A%20%22%23d4dd80%22%2C%20%22dashArray%22%3A%20null%2C%20%22dashOffset%22%3A%20null%2C%20%22fill%22%3A%20true%2C%20%22fillColor%22%3A%20%22%23d4dd80%22%2C%20%22fillOpacity%22%3A%200.7%2C%20%22fillRule%22%3A%20%22evenodd%22%2C%20%22lineCap%22%3A%20%22round%22%2C%20%22lineJoin%22%3A%20%22round%22%2C%20%22opacity%22%3A%201.0%2C%20%22radius%22%3A%205%2C%20%22stroke%22%3A%20true%2C%20%22weight%22%3A%203%7D%0A%20%20%20%20%20%20%20%20%20%20%20%20%29.addTo%28map_a799dc456a2a42bf85b1cd9c431b31b7%29%3B%0A%20%20%20%20%20%20%20%20%0A%20%20%20%20%0A%20%20%20%20%20%20%20%20var%20popup_340abaddf7b94e8dae4ca0713188dbaa%20%3D%20L.popup%28%7B%22maxWidth%22%3A%20%22100%25%22%7D%29%3B%0A%0A%20%20%20%20%20%20%20%20%0A%20%20%20%20%20%20%20%20%20%20%20%20var%20html_ad618b72959149ad9bce115799b9edff%20%3D%20%24%28%60%3Cdiv%20id%3D%22html_ad618b72959149ad9bce115799b9edff%22%20style%3D%22width%3A%20100.0%25%3B%20height%3A%20100.0%25%3B%22%3E0%20%20%20%20%20%20%20%20%20EastToronto%201%20%20%20%20%20%20%20%20%20EastToronto%202%20%20%20%20%20%20%20%20%20EastToronto%203%20%20%20%20%20%20%20%20%20EastToronto%204%20%20%20%20%20%20CentralToronto%205%20%20%20%20%20%20CentralToronto%206%20%20%20%20%20%20CentralToronto%207%20%20%20%20%20%20CentralToronto%208%20%20%20%20%20%20CentralToronto%209%20%20%20%20%20%20CentralToronto%2010%20%20%20%20DowntownToronto%2011%20%20%20%20DowntownToronto%2012%20%20%20%20DowntownToronto%2013%20%20%20%20DowntownToronto%2014%20%20%20%20DowntownToronto%2015%20%20%20%20DowntownToronto%2016%20%20%20%20DowntownToronto%2017%20%20%20%20DowntownToronto%2018%20%20%20%20DowntownToronto%2019%20%20%20%20DowntownToronto%2020%20%20%20%20DowntownToronto%2021%20%20%20%20DowntownToronto%2022%20%20%20%20%20CentralToronto%2023%20%20%20%20%20CentralToronto%2024%20%20%20%20%20CentralToronto%2025%20%20%20%20DowntownToronto%2026%20%20%20%20DowntownToronto%2027%20%20%20%20DowntownToronto%2028%20%20%20%20DowntownToronto%2029%20%20%20%20DowntownToronto%2030%20%20%20%20DowntownToronto%2031%20%20%20%20%20%20%20%20WestToronto%2032%20%20%20%20%20%20%20%20WestToronto%2033%20%20%20%20%20%20%20%20WestToronto%2034%20%20%20%20%20%20%20%20WestToronto%2035%20%20%20%20%20%20%20%20WestToronto%2036%20%20%20%20%20%20%20%20WestToronto%2037%20%20%20%20DowntownToronto%2038%20%20%20%20%20%20%20%20EastToronto%20Name%3A%20Borough%2C%20dtype%3A%20object%20Cluster%203%3C/div%3E%60%29%5B0%5D%3B%0A%20%20%20%20%20%20%20%20%20%20%20%20popup_340abaddf7b94e8dae4ca0713188dbaa.setContent%28html_ad618b72959149ad9bce115799b9edff%29%3B%0A%20%20%20%20%20%20%20%20%0A%0A%20%20%20%20%20%20%20%20circle_marker_2083035bb48e4917971a43d67e6f7518.bindPopup%28popup_340abaddf7b94e8dae4ca0713188dbaa%29%0A%20%20%20%20%20%20%20%20%3B%0A%0A%20%20%20%20%20%20%20%20%0A%20%20%20%20%0A%20%20%20%20%0A%20%20%20%20%20%20%20%20%20%20%20%20var%20circle_marker_028dabc4acd3480296598629f9e6fbb6%20%3D%20L.circleMarker%28%0A%20%20%20%20%20%20%20%20%20%20%20%20%20%20%20%20%5B43.6489597%2C%20-79.456325%5D%2C%0A%20%20%20%20%20%20%20%20%20%20%20%20%20%20%20%20%7B%22bubblingMouseEvents%22%3A%20true%2C%20%22color%22%3A%20%22%23d4dd80%22%2C%20%22dashArray%22%3A%20null%2C%20%22dashOffset%22%3A%20null%2C%20%22fill%22%3A%20true%2C%20%22fillColor%22%3A%20%22%23d4dd80%22%2C%20%22fillOpacity%22%3A%200.7%2C%20%22fillRule%22%3A%20%22evenodd%22%2C%20%22lineCap%22%3A%20%22round%22%2C%20%22lineJoin%22%3A%20%22round%22%2C%20%22opacity%22%3A%201.0%2C%20%22radius%22%3A%205%2C%20%22stroke%22%3A%20true%2C%20%22weight%22%3A%203%7D%0A%20%20%20%20%20%20%20%20%20%20%20%20%29.addTo%28map_a799dc456a2a42bf85b1cd9c431b31b7%29%3B%0A%20%20%20%20%20%20%20%20%0A%20%20%20%20%0A%20%20%20%20%20%20%20%20var%20popup_193a6ec52d9c40e7b21c8000a46ed180%20%3D%20L.popup%28%7B%22maxWidth%22%3A%20%22100%25%22%7D%29%3B%0A%0A%20%20%20%20%20%20%20%20%0A%20%20%20%20%20%20%20%20%20%20%20%20var%20html_2dbb2c54f8d04fd79481effaf12fbf4a%20%3D%20%24%28%60%3Cdiv%20id%3D%22html_2dbb2c54f8d04fd79481effaf12fbf4a%22%20style%3D%22width%3A%20100.0%25%3B%20height%3A%20100.0%25%3B%22%3E0%20%20%20%20%20%20%20%20%20EastToronto%201%20%20%20%20%20%20%20%20%20EastToronto%202%20%20%20%20%20%20%20%20%20EastToronto%203%20%20%20%20%20%20%20%20%20EastToronto%204%20%20%20%20%20%20CentralToronto%205%20%20%20%20%20%20CentralToronto%206%20%20%20%20%20%20CentralToronto%207%20%20%20%20%20%20CentralToronto%208%20%20%20%20%20%20CentralToronto%209%20%20%20%20%20%20CentralToronto%2010%20%20%20%20DowntownToronto%2011%20%20%20%20DowntownToronto%2012%20%20%20%20DowntownToronto%2013%20%20%20%20DowntownToronto%2014%20%20%20%20DowntownToronto%2015%20%20%20%20DowntownToronto%2016%20%20%20%20DowntownToronto%2017%20%20%20%20DowntownToronto%2018%20%20%20%20DowntownToronto%2019%20%20%20%20DowntownToronto%2020%20%20%20%20DowntownToronto%2021%20%20%20%20DowntownToronto%2022%20%20%20%20%20CentralToronto%2023%20%20%20%20%20CentralToronto%2024%20%20%20%20%20CentralToronto%2025%20%20%20%20DowntownToronto%2026%20%20%20%20DowntownToronto%2027%20%20%20%20DowntownToronto%2028%20%20%20%20DowntownToronto%2029%20%20%20%20DowntownToronto%2030%20%20%20%20DowntownToronto%2031%20%20%20%20%20%20%20%20WestToronto%2032%20%20%20%20%20%20%20%20WestToronto%2033%20%20%20%20%20%20%20%20WestToronto%2034%20%20%20%20%20%20%20%20WestToronto%2035%20%20%20%20%20%20%20%20WestToronto%2036%20%20%20%20%20%20%20%20WestToronto%2037%20%20%20%20DowntownToronto%2038%20%20%20%20%20%20%20%20EastToronto%20Name%3A%20Borough%2C%20dtype%3A%20object%20Cluster%203%3C/div%3E%60%29%5B0%5D%3B%0A%20%20%20%20%20%20%20%20%20%20%20%20popup_193a6ec52d9c40e7b21c8000a46ed180.setContent%28html_2dbb2c54f8d04fd79481effaf12fbf4a%29%3B%0A%20%20%20%20%20%20%20%20%0A%0A%20%20%20%20%20%20%20%20circle_marker_028dabc4acd3480296598629f9e6fbb6.bindPopup%28popup_193a6ec52d9c40e7b21c8000a46ed180%29%0A%20%20%20%20%20%20%20%20%3B%0A%0A%20%20%20%20%20%20%20%20%0A%20%20%20%20%0A%20%20%20%20%0A%20%20%20%20%20%20%20%20%20%20%20%20var%20circle_marker_7bfb89f1ae6e4bbc8050a6c79bce4a1b%20%3D%20L.circleMarker%28%0A%20%20%20%20%20%20%20%20%20%20%20%20%20%20%20%20%5B43.6515706%2C%20-79.4844499%5D%2C%0A%20%20%20%20%20%20%20%20%20%20%20%20%20%20%20%20%7B%22bubblingMouseEvents%22%3A%20true%2C%20%22color%22%3A%20%22%23d4dd80%22%2C%20%22dashArray%22%3A%20null%2C%20%22dashOffset%22%3A%20null%2C%20%22fill%22%3A%20true%2C%20%22fillColor%22%3A%20%22%23d4dd80%22%2C%20%22fillOpacity%22%3A%200.7%2C%20%22fillRule%22%3A%20%22evenodd%22%2C%20%22lineCap%22%3A%20%22round%22%2C%20%22lineJoin%22%3A%20%22round%22%2C%20%22opacity%22%3A%201.0%2C%20%22radius%22%3A%205%2C%20%22stroke%22%3A%20true%2C%20%22weight%22%3A%203%7D%0A%20%20%20%20%20%20%20%20%20%20%20%20%29.addTo%28map_a799dc456a2a42bf85b1cd9c431b31b7%29%3B%0A%20%20%20%20%20%20%20%20%0A%20%20%20%20%0A%20%20%20%20%20%20%20%20var%20popup_54d8dfe6f1844e00aadc2a907d8943d7%20%3D%20L.popup%28%7B%22maxWidth%22%3A%20%22100%25%22%7D%29%3B%0A%0A%20%20%20%20%20%20%20%20%0A%20%20%20%20%20%20%20%20%20%20%20%20var%20html_7852dd3bf92b4825b7188c92940a8169%20%3D%20%24%28%60%3Cdiv%20id%3D%22html_7852dd3bf92b4825b7188c92940a8169%22%20style%3D%22width%3A%20100.0%25%3B%20height%3A%20100.0%25%3B%22%3E0%20%20%20%20%20%20%20%20%20EastToronto%201%20%20%20%20%20%20%20%20%20EastToronto%202%20%20%20%20%20%20%20%20%20EastToronto%203%20%20%20%20%20%20%20%20%20EastToronto%204%20%20%20%20%20%20CentralToronto%205%20%20%20%20%20%20CentralToronto%206%20%20%20%20%20%20CentralToronto%207%20%20%20%20%20%20CentralToronto%208%20%20%20%20%20%20CentralToronto%209%20%20%20%20%20%20CentralToronto%2010%20%20%20%20DowntownToronto%2011%20%20%20%20DowntownToronto%2012%20%20%20%20DowntownToronto%2013%20%20%20%20DowntownToronto%2014%20%20%20%20DowntownToronto%2015%20%20%20%20DowntownToronto%2016%20%20%20%20DowntownToronto%2017%20%20%20%20DowntownToronto%2018%20%20%20%20DowntownToronto%2019%20%20%20%20DowntownToronto%2020%20%20%20%20DowntownToronto%2021%20%20%20%20DowntownToronto%2022%20%20%20%20%20CentralToronto%2023%20%20%20%20%20CentralToronto%2024%20%20%20%20%20CentralToronto%2025%20%20%20%20DowntownToronto%2026%20%20%20%20DowntownToronto%2027%20%20%20%20DowntownToronto%2028%20%20%20%20DowntownToronto%2029%20%20%20%20DowntownToronto%2030%20%20%20%20DowntownToronto%2031%20%20%20%20%20%20%20%20WestToronto%2032%20%20%20%20%20%20%20%20WestToronto%2033%20%20%20%20%20%20%20%20WestToronto%2034%20%20%20%20%20%20%20%20WestToronto%2035%20%20%20%20%20%20%20%20WestToronto%2036%20%20%20%20%20%20%20%20WestToronto%2037%20%20%20%20DowntownToronto%2038%20%20%20%20%20%20%20%20EastToronto%20Name%3A%20Borough%2C%20dtype%3A%20object%20Cluster%203%3C/div%3E%60%29%5B0%5D%3B%0A%20%20%20%20%20%20%20%20%20%20%20%20popup_54d8dfe6f1844e00aadc2a907d8943d7.setContent%28html_7852dd3bf92b4825b7188c92940a8169%29%3B%0A%20%20%20%20%20%20%20%20%0A%0A%20%20%20%20%20%20%20%20circle_marker_7bfb89f1ae6e4bbc8050a6c79bce4a1b.bindPopup%28popup_54d8dfe6f1844e00aadc2a907d8943d7%29%0A%20%20%20%20%20%20%20%20%3B%0A%0A%20%20%20%20%20%20%20%20%0A%20%20%20%20%0A%20%20%20%20%0A%20%20%20%20%20%20%20%20%20%20%20%20var%20circle_marker_6d41e6fd6b9d4f5d9e2a757725312ef0%20%3D%20L.circleMarker%28%0A%20%20%20%20%20%20%20%20%20%20%20%20%20%20%20%20%5B43.6623015%2C%20-79.3894938%5D%2C%0A%20%20%20%20%20%20%20%20%20%20%20%20%20%20%20%20%7B%22bubblingMouseEvents%22%3A%20true%2C%20%22color%22%3A%20%22%238000ff%22%2C%20%22dashArray%22%3A%20null%2C%20%22dashOffset%22%3A%20null%2C%20%22fill%22%3A%20true%2C%20%22fillColor%22%3A%20%22%238000ff%22%2C%20%22fillOpacity%22%3A%200.7%2C%20%22fillRule%22%3A%20%22evenodd%22%2C%20%22lineCap%22%3A%20%22round%22%2C%20%22lineJoin%22%3A%20%22round%22%2C%20%22opacity%22%3A%201.0%2C%20%22radius%22%3A%205%2C%20%22stroke%22%3A%20true%2C%20%22weight%22%3A%203%7D%0A%20%20%20%20%20%20%20%20%20%20%20%20%29.addTo%28map_a799dc456a2a42bf85b1cd9c431b31b7%29%3B%0A%20%20%20%20%20%20%20%20%0A%20%20%20%20%0A%20%20%20%20%20%20%20%20var%20popup_9a5cff204761490ea8b351230cd1b265%20%3D%20L.popup%28%7B%22maxWidth%22%3A%20%22100%25%22%7D%29%3B%0A%0A%20%20%20%20%20%20%20%20%0A%20%20%20%20%20%20%20%20%20%20%20%20var%20html_c39f16072e8c43a8a8176e1488b40d38%20%3D%20%24%28%60%3Cdiv%20id%3D%22html_c39f16072e8c43a8a8176e1488b40d38%22%20style%3D%22width%3A%20100.0%25%3B%20height%3A%20100.0%25%3B%22%3E0%20%20%20%20%20%20%20%20%20EastToronto%201%20%20%20%20%20%20%20%20%20EastToronto%202%20%20%20%20%20%20%20%20%20EastToronto%203%20%20%20%20%20%20%20%20%20EastToronto%204%20%20%20%20%20%20CentralToronto%205%20%20%20%20%20%20CentralToronto%206%20%20%20%20%20%20CentralToronto%207%20%20%20%20%20%20CentralToronto%208%20%20%20%20%20%20CentralToronto%209%20%20%20%20%20%20CentralToronto%2010%20%20%20%20DowntownToronto%2011%20%20%20%20DowntownToronto%2012%20%20%20%20DowntownToronto%2013%20%20%20%20DowntownToronto%2014%20%20%20%20DowntownToronto%2015%20%20%20%20DowntownToronto%2016%20%20%20%20DowntownToronto%2017%20%20%20%20DowntownToronto%2018%20%20%20%20DowntownToronto%2019%20%20%20%20DowntownToronto%2020%20%20%20%20DowntownToronto%2021%20%20%20%20DowntownToronto%2022%20%20%20%20%20CentralToronto%2023%20%20%20%20%20CentralToronto%2024%20%20%20%20%20CentralToronto%2025%20%20%20%20DowntownToronto%2026%20%20%20%20DowntownToronto%2027%20%20%20%20DowntownToronto%2028%20%20%20%20DowntownToronto%2029%20%20%20%20DowntownToronto%2030%20%20%20%20DowntownToronto%2031%20%20%20%20%20%20%20%20WestToronto%2032%20%20%20%20%20%20%20%20WestToronto%2033%20%20%20%20%20%20%20%20WestToronto%2034%20%20%20%20%20%20%20%20WestToronto%2035%20%20%20%20%20%20%20%20WestToronto%2036%20%20%20%20%20%20%20%20WestToronto%2037%20%20%20%20DowntownToronto%2038%20%20%20%20%20%20%20%20EastToronto%20Name%3A%20Borough%2C%20dtype%3A%20object%20Cluster%201%3C/div%3E%60%29%5B0%5D%3B%0A%20%20%20%20%20%20%20%20%20%20%20%20popup_9a5cff204761490ea8b351230cd1b265.setContent%28html_c39f16072e8c43a8a8176e1488b40d38%29%3B%0A%20%20%20%20%20%20%20%20%0A%0A%20%20%20%20%20%20%20%20circle_marker_6d41e6fd6b9d4f5d9e2a757725312ef0.bindPopup%28popup_9a5cff204761490ea8b351230cd1b265%29%0A%20%20%20%20%20%20%20%20%3B%0A%0A%20%20%20%20%20%20%20%20%0A%20%20%20%20%0A%20%20%20%20%0A%20%20%20%20%20%20%20%20%20%20%20%20var%20circle_marker_901919cd3f6144009f238bac877fc0eb%20%3D%20L.circleMarker%28%0A%20%20%20%20%20%20%20%20%20%20%20%20%20%20%20%20%5B43.6627439%2C%20-79.321558%5D%2C%0A%20%20%20%20%20%20%20%20%20%20%20%20%20%20%20%20%7B%22bubblingMouseEvents%22%3A%20true%2C%20%22color%22%3A%20%22%23ff0000%22%2C%20%22dashArray%22%3A%20null%2C%20%22dashOffset%22%3A%20null%2C%20%22fill%22%3A%20true%2C%20%22fillColor%22%3A%20%22%23ff0000%22%2C%20%22fillOpacity%22%3A%200.7%2C%20%22fillRule%22%3A%20%22evenodd%22%2C%20%22lineCap%22%3A%20%22round%22%2C%20%22lineJoin%22%3A%20%22round%22%2C%20%22opacity%22%3A%201.0%2C%20%22radius%22%3A%205%2C%20%22stroke%22%3A%20true%2C%20%22weight%22%3A%203%7D%0A%20%20%20%20%20%20%20%20%20%20%20%20%29.addTo%28map_a799dc456a2a42bf85b1cd9c431b31b7%29%3B%0A%20%20%20%20%20%20%20%20%0A%20%20%20%20%0A%20%20%20%20%20%20%20%20var%20popup_544aad4e3c0f44bc95a3a535af7db3e3%20%3D%20L.popup%28%7B%22maxWidth%22%3A%20%22100%25%22%7D%29%3B%0A%0A%20%20%20%20%20%20%20%20%0A%20%20%20%20%20%20%20%20%20%20%20%20var%20html_a2ec373a969e431f877efaa02770f479%20%3D%20%24%28%60%3Cdiv%20id%3D%22html_a2ec373a969e431f877efaa02770f479%22%20style%3D%22width%3A%20100.0%25%3B%20height%3A%20100.0%25%3B%22%3E0%20%20%20%20%20%20%20%20%20EastToronto%201%20%20%20%20%20%20%20%20%20EastToronto%202%20%20%20%20%20%20%20%20%20EastToronto%203%20%20%20%20%20%20%20%20%20EastToronto%204%20%20%20%20%20%20CentralToronto%205%20%20%20%20%20%20CentralToronto%206%20%20%20%20%20%20CentralToronto%207%20%20%20%20%20%20CentralToronto%208%20%20%20%20%20%20CentralToronto%209%20%20%20%20%20%20CentralToronto%2010%20%20%20%20DowntownToronto%2011%20%20%20%20DowntownToronto%2012%20%20%20%20DowntownToronto%2013%20%20%20%20DowntownToronto%2014%20%20%20%20DowntownToronto%2015%20%20%20%20DowntownToronto%2016%20%20%20%20DowntownToronto%2017%20%20%20%20DowntownToronto%2018%20%20%20%20DowntownToronto%2019%20%20%20%20DowntownToronto%2020%20%20%20%20DowntownToronto%2021%20%20%20%20DowntownToronto%2022%20%20%20%20%20CentralToronto%2023%20%20%20%20%20CentralToronto%2024%20%20%20%20%20CentralToronto%2025%20%20%20%20DowntownToronto%2026%20%20%20%20DowntownToronto%2027%20%20%20%20DowntownToronto%2028%20%20%20%20DowntownToronto%2029%20%20%20%20DowntownToronto%2030%20%20%20%20DowntownToronto%2031%20%20%20%20%20%20%20%20WestToronto%2032%20%20%20%20%20%20%20%20WestToronto%2033%20%20%20%20%20%20%20%20WestToronto%2034%20%20%20%20%20%20%20%20WestToronto%2035%20%20%20%20%20%20%20%20WestToronto%2036%20%20%20%20%20%20%20%20WestToronto%2037%20%20%20%20DowntownToronto%2038%20%20%20%20%20%20%20%20EastToronto%20Name%3A%20Borough%2C%20dtype%3A%20object%20Cluster%204%3C/div%3E%60%29%5B0%5D%3B%0A%20%20%20%20%20%20%20%20%20%20%20%20popup_544aad4e3c0f44bc95a3a535af7db3e3.setContent%28html_a2ec373a969e431f877efaa02770f479%29%3B%0A%20%20%20%20%20%20%20%20%0A%0A%20%20%20%20%20%20%20%20circle_marker_901919cd3f6144009f238bac877fc0eb.bindPopup%28popup_544aad4e3c0f44bc95a3a535af7db3e3%29%0A%20%20%20%20%20%20%20%20%3B%0A%0A%20%20%20%20%20%20%20%20%0A%20%20%20%20%0A%3C/script%3E onload=\"this.contentDocument.open();this.contentDocument.write(    decodeURIComponent(this.getAttribute('data-html')));this.contentDocument.close();\" allowfullscreen webkitallowfullscreen mozallowfullscreen></iframe></div></div>"
      ],
      "text/plain": [
       "<folium.folium.Map at 0x1f20ee9f250>"
      ]
     },
     "metadata": {},
     "output_type": "display_data"
    }
   ],
   "source": [
    "display(map_toronto)"
   ]
  },
  {
   "cell_type": "code",
   "execution_count": null,
   "metadata": {},
   "outputs": [],
   "source": []
  },
  {
   "cell_type": "code",
   "execution_count": null,
   "metadata": {},
   "outputs": [],
   "source": []
  }
 ],
 "metadata": {
  "kernelspec": {
   "display_name": "Python 3",
   "language": "python",
   "name": "python3"
  },
  "language_info": {
   "codemirror_mode": {
    "name": "ipython",
    "version": 3
   },
   "file_extension": ".py",
   "mimetype": "text/x-python",
   "name": "python",
   "nbconvert_exporter": "python",
   "pygments_lexer": "ipython3",
   "version": "3.8.5"
  }
 },
 "nbformat": 4,
 "nbformat_minor": 4
}
