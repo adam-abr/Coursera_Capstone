{
 "cells": [
  {
   "cell_type": "markdown",
   "metadata": {},
   "source": [
    "# Part 1"
   ]
  },
  {
   "cell_type": "code",
   "execution_count": 1,
   "metadata": {},
   "outputs": [],
   "source": [
    "#import all requred libraries\n",
    "import requests\n",
    "import pandas as pd\n",
    "import numpy as np\n",
    "import random\n",
    "from bs4 import BeautifulSoup\n",
    "import requests\n",
    "import re\n",
    "import geocoder"
   ]
  },
  {
   "cell_type": "markdown",
   "metadata": {},
   "source": [
    "Get the url text data and create a soup object, then fnd anything with tag table in the html data"
   ]
  },
  {
   "cell_type": "code",
   "execution_count": 2,
   "metadata": {},
   "outputs": [],
   "source": [
    "url = 'https://en.wikipedia.org/wiki/List_of_postal_codes_of_Canada:_M'\n",
    "data  = requests.get(url).text \n",
    "soup = BeautifulSoup(data,\"html5lib\")\n",
    "table = soup.find('table')"
   ]
  },
  {
   "cell_type": "markdown",
   "metadata": {},
   "source": [
    "Create an empty dataframe, then go row by row in each table and add values to the table_result "
   ]
  },
  {
   "cell_type": "code",
   "execution_count": 3,
   "metadata": {},
   "outputs": [],
   "source": [
    "table_result = pd.DataFrame(columns=[\"Postal Code\", \"Borough\",'Neighbourhood'])\n",
    "\n",
    "for row in table.tbody.find_all(\"tr\"):\n",
    "    col = row.find_all(\"td\")\n",
    "    if (col != []):\n",
    "        PostalCode = col[0].text\n",
    "        Borough = col[1].text\n",
    "        Neighbourhood = col[2].text\n",
    "        table_result = table_result.append({\"Postal Code\":PostalCode, \"Borough\":Borough,'Neighbourhood':Neighbourhood}, ignore_index=True)"
   ]
  },
  {
   "cell_type": "markdown",
   "metadata": {},
   "source": [
    "Filter the dataframe to rows where Borough is not 'Not assigned'"
   ]
  },
  {
   "cell_type": "code",
   "execution_count": 4,
   "metadata": {},
   "outputs": [],
   "source": [
    "table_result = table_result[table_result['Borough']!= 'Not assigned\\n']"
   ]
  },
  {
   "cell_type": "markdown",
   "metadata": {},
   "source": [
    "Remove all '\\n' from the dataframe"
   ]
  },
  {
   "cell_type": "code",
   "execution_count": 5,
   "metadata": {},
   "outputs": [],
   "source": [
    "table_result = table_result.replace(r'\\n',' ', regex=True) "
   ]
  },
  {
   "cell_type": "markdown",
   "metadata": {},
   "source": [
    "Groupy the dataframe by postal code and borough using a comma, reset index and add empty columns for futher use"
   ]
  },
  {
   "cell_type": "code",
   "execution_count": 6,
   "metadata": {},
   "outputs": [],
   "source": [
    "table_result = table_result.groupby(['Postal Code','Borough'], sort=False).agg( ', '.join)\n",
    "table_result = table_result.reset_index()\n",
    "table_result['Latitude']= ''\n",
    "table_result['Longitude']= ''\n"
   ]
  },
  {
   "cell_type": "markdown",
   "metadata": {},
   "source": [
    "Change each not assigned Borough to the neighbourhood"
   ]
  },
  {
   "cell_type": "code",
   "execution_count": 7,
   "metadata": {},
   "outputs": [],
   "source": [
    "for index, each in enumerate(table_result['Borough']):\n",
    "    if each == 'Not assigned':\n",
    "        table_result.loc[index,'Borough'] = table_result['Neighbourhood'][index]"
   ]
  },
  {
   "cell_type": "markdown",
   "metadata": {},
   "source": [
    "Remove all spaces in the Postal Code column"
   ]
  },
  {
   "cell_type": "code",
   "execution_count": 8,
   "metadata": {},
   "outputs": [
    {
     "data": {
      "text/html": [
       "<div>\n",
       "<style scoped>\n",
       "    .dataframe tbody tr th:only-of-type {\n",
       "        vertical-align: middle;\n",
       "    }\n",
       "\n",
       "    .dataframe tbody tr th {\n",
       "        vertical-align: top;\n",
       "    }\n",
       "\n",
       "    .dataframe thead th {\n",
       "        text-align: right;\n",
       "    }\n",
       "</style>\n",
       "<table border=\"1\" class=\"dataframe\">\n",
       "  <thead>\n",
       "    <tr style=\"text-align: right;\">\n",
       "      <th></th>\n",
       "      <th>Postal Code</th>\n",
       "      <th>Borough</th>\n",
       "      <th>Neighbourhood</th>\n",
       "      <th>Latitude</th>\n",
       "      <th>Longitude</th>\n",
       "    </tr>\n",
       "  </thead>\n",
       "  <tbody>\n",
       "    <tr>\n",
       "      <th>0</th>\n",
       "      <td>M3A</td>\n",
       "      <td>North York</td>\n",
       "      <td>Parkwoods</td>\n",
       "      <td></td>\n",
       "      <td></td>\n",
       "    </tr>\n",
       "    <tr>\n",
       "      <th>1</th>\n",
       "      <td>M4A</td>\n",
       "      <td>North York</td>\n",
       "      <td>Victoria Village</td>\n",
       "      <td></td>\n",
       "      <td></td>\n",
       "    </tr>\n",
       "    <tr>\n",
       "      <th>2</th>\n",
       "      <td>M5A</td>\n",
       "      <td>Downtown Toronto</td>\n",
       "      <td>Regent Park, Harbourfront</td>\n",
       "      <td></td>\n",
       "      <td></td>\n",
       "    </tr>\n",
       "    <tr>\n",
       "      <th>3</th>\n",
       "      <td>M6A</td>\n",
       "      <td>North York</td>\n",
       "      <td>Lawrence Manor, Lawrence Heights</td>\n",
       "      <td></td>\n",
       "      <td></td>\n",
       "    </tr>\n",
       "    <tr>\n",
       "      <th>4</th>\n",
       "      <td>M7A</td>\n",
       "      <td>Downtown Toronto</td>\n",
       "      <td>Queen's Park, Ontario Provincial Government</td>\n",
       "      <td></td>\n",
       "      <td></td>\n",
       "    </tr>\n",
       "    <tr>\n",
       "      <th>...</th>\n",
       "      <td>...</td>\n",
       "      <td>...</td>\n",
       "      <td>...</td>\n",
       "      <td>...</td>\n",
       "      <td>...</td>\n",
       "    </tr>\n",
       "    <tr>\n",
       "      <th>98</th>\n",
       "      <td>M8X</td>\n",
       "      <td>Etobicoke</td>\n",
       "      <td>The Kingsway, Montgomery Road, Old Mill North</td>\n",
       "      <td></td>\n",
       "      <td></td>\n",
       "    </tr>\n",
       "    <tr>\n",
       "      <th>99</th>\n",
       "      <td>M4Y</td>\n",
       "      <td>Downtown Toronto</td>\n",
       "      <td>Church and Wellesley</td>\n",
       "      <td></td>\n",
       "      <td></td>\n",
       "    </tr>\n",
       "    <tr>\n",
       "      <th>100</th>\n",
       "      <td>M7Y</td>\n",
       "      <td>East Toronto</td>\n",
       "      <td>Business reply mail Processing Centre, South C...</td>\n",
       "      <td></td>\n",
       "      <td></td>\n",
       "    </tr>\n",
       "    <tr>\n",
       "      <th>101</th>\n",
       "      <td>M8Y</td>\n",
       "      <td>Etobicoke</td>\n",
       "      <td>Old Mill South, King's Mill Park, Sunnylea, Hu...</td>\n",
       "      <td></td>\n",
       "      <td></td>\n",
       "    </tr>\n",
       "    <tr>\n",
       "      <th>102</th>\n",
       "      <td>M8Z</td>\n",
       "      <td>Etobicoke</td>\n",
       "      <td>Mimico NW, The Queensway West, South of Bloor,...</td>\n",
       "      <td></td>\n",
       "      <td></td>\n",
       "    </tr>\n",
       "  </tbody>\n",
       "</table>\n",
       "<p>103 rows × 5 columns</p>\n",
       "</div>"
      ],
      "text/plain": [
       "    Postal Code            Borough  \\\n",
       "0           M3A        North York    \n",
       "1           M4A        North York    \n",
       "2           M5A  Downtown Toronto    \n",
       "3           M6A        North York    \n",
       "4           M7A  Downtown Toronto    \n",
       "..          ...                ...   \n",
       "98          M8X         Etobicoke    \n",
       "99          M4Y  Downtown Toronto    \n",
       "100         M7Y      East Toronto    \n",
       "101         M8Y         Etobicoke    \n",
       "102         M8Z         Etobicoke    \n",
       "\n",
       "                                         Neighbourhood Latitude Longitude  \n",
       "0                                           Parkwoods                      \n",
       "1                                    Victoria Village                      \n",
       "2                           Regent Park, Harbourfront                      \n",
       "3                    Lawrence Manor, Lawrence Heights                      \n",
       "4         Queen's Park, Ontario Provincial Government                      \n",
       "..                                                 ...      ...       ...  \n",
       "98      The Kingsway, Montgomery Road, Old Mill North                      \n",
       "99                               Church and Wellesley                      \n",
       "100  Business reply mail Processing Centre, South C...                     \n",
       "101  Old Mill South, King's Mill Park, Sunnylea, Hu...                     \n",
       "102  Mimico NW, The Queensway West, South of Bloor,...                     \n",
       "\n",
       "[103 rows x 5 columns]"
      ]
     },
     "execution_count": 8,
     "metadata": {},
     "output_type": "execute_result"
    }
   ],
   "source": [
    "table_result['Postal Code'] = table_result['Postal Code'].str.replace(' ', '')\n",
    "table_result"
   ]
  },
  {
   "cell_type": "markdown",
   "metadata": {},
   "source": [
    "Download the geospacial data to a 'long_lat_data' dataframe, and set the postal code as index"
   ]
  },
  {
   "cell_type": "markdown",
   "metadata": {},
   "source": [
    "# Part 2"
   ]
  },
  {
   "cell_type": "code",
   "execution_count": 9,
   "metadata": {},
   "outputs": [
    {
     "name": "stderr",
     "output_type": "stream",
     "text": [
      "'wget' is not recognized as an internal or external command,\n",
      "operable program or batch file.\n"
     ]
    },
    {
     "data": {
      "text/html": [
       "<div>\n",
       "<style scoped>\n",
       "    .dataframe tbody tr th:only-of-type {\n",
       "        vertical-align: middle;\n",
       "    }\n",
       "\n",
       "    .dataframe tbody tr th {\n",
       "        vertical-align: top;\n",
       "    }\n",
       "\n",
       "    .dataframe thead th {\n",
       "        text-align: right;\n",
       "    }\n",
       "</style>\n",
       "<table border=\"1\" class=\"dataframe\">\n",
       "  <thead>\n",
       "    <tr style=\"text-align: right;\">\n",
       "      <th></th>\n",
       "      <th>Latitude</th>\n",
       "      <th>Longitude</th>\n",
       "    </tr>\n",
       "    <tr>\n",
       "      <th>Postal Code</th>\n",
       "      <th></th>\n",
       "      <th></th>\n",
       "    </tr>\n",
       "  </thead>\n",
       "  <tbody>\n",
       "    <tr>\n",
       "      <th>M1B</th>\n",
       "      <td>43.806686</td>\n",
       "      <td>-79.194353</td>\n",
       "    </tr>\n",
       "    <tr>\n",
       "      <th>M1C</th>\n",
       "      <td>43.784535</td>\n",
       "      <td>-79.160497</td>\n",
       "    </tr>\n",
       "    <tr>\n",
       "      <th>M1E</th>\n",
       "      <td>43.763573</td>\n",
       "      <td>-79.188711</td>\n",
       "    </tr>\n",
       "    <tr>\n",
       "      <th>M1G</th>\n",
       "      <td>43.770992</td>\n",
       "      <td>-79.216917</td>\n",
       "    </tr>\n",
       "    <tr>\n",
       "      <th>M1H</th>\n",
       "      <td>43.773136</td>\n",
       "      <td>-79.239476</td>\n",
       "    </tr>\n",
       "  </tbody>\n",
       "</table>\n",
       "</div>"
      ],
      "text/plain": [
       "              Latitude  Longitude\n",
       "Postal Code                      \n",
       "M1B          43.806686 -79.194353\n",
       "M1C          43.784535 -79.160497\n",
       "M1E          43.763573 -79.188711\n",
       "M1G          43.770992 -79.216917\n",
       "M1H          43.773136 -79.239476"
      ]
     },
     "execution_count": 9,
     "metadata": {},
     "output_type": "execute_result"
    }
   ],
   "source": [
    "long_lat = 'https://cocl.us/Geospatial_data'\n",
    "!wget -q -O 'toronto_m.geospatial_data.csv' long_lat\n",
    "long_lat_data = pd.read_csv(long_lat).set_index(\"Postal Code\")\n",
    "long_lat_data.head()"
   ]
  },
  {
   "cell_type": "markdown",
   "metadata": {},
   "source": [
    "Merge the imported geospacial data with main dataframe and save it as final_df, then clean the dataframe."
   ]
  },
  {
   "cell_type": "code",
   "execution_count": 10,
   "metadata": {},
   "outputs": [
    {
     "data": {
      "text/html": [
       "<div>\n",
       "<style scoped>\n",
       "    .dataframe tbody tr th:only-of-type {\n",
       "        vertical-align: middle;\n",
       "    }\n",
       "\n",
       "    .dataframe tbody tr th {\n",
       "        vertical-align: top;\n",
       "    }\n",
       "\n",
       "    .dataframe thead th {\n",
       "        text-align: right;\n",
       "    }\n",
       "</style>\n",
       "<table border=\"1\" class=\"dataframe\">\n",
       "  <thead>\n",
       "    <tr style=\"text-align: right;\">\n",
       "      <th></th>\n",
       "      <th>Postal Code</th>\n",
       "      <th>Borough</th>\n",
       "      <th>Neighbourhood</th>\n",
       "      <th>Latitude</th>\n",
       "      <th>Longitude</th>\n",
       "    </tr>\n",
       "  </thead>\n",
       "  <tbody>\n",
       "    <tr>\n",
       "      <th>0</th>\n",
       "      <td>M1B</td>\n",
       "      <td>Scarborough</td>\n",
       "      <td>Malvern, Rouge</td>\n",
       "      <td>43.806686</td>\n",
       "      <td>-79.194353</td>\n",
       "    </tr>\n",
       "    <tr>\n",
       "      <th>1</th>\n",
       "      <td>M1C</td>\n",
       "      <td>Scarborough</td>\n",
       "      <td>Rouge Hill, Port Union, Highland Creek</td>\n",
       "      <td>43.784535</td>\n",
       "      <td>-79.160497</td>\n",
       "    </tr>\n",
       "    <tr>\n",
       "      <th>2</th>\n",
       "      <td>M1E</td>\n",
       "      <td>Scarborough</td>\n",
       "      <td>Guildwood, Morningside, West Hill</td>\n",
       "      <td>43.763573</td>\n",
       "      <td>-79.188711</td>\n",
       "    </tr>\n",
       "    <tr>\n",
       "      <th>3</th>\n",
       "      <td>M1G</td>\n",
       "      <td>Scarborough</td>\n",
       "      <td>Woburn</td>\n",
       "      <td>43.770992</td>\n",
       "      <td>-79.216917</td>\n",
       "    </tr>\n",
       "    <tr>\n",
       "      <th>4</th>\n",
       "      <td>M1H</td>\n",
       "      <td>Scarborough</td>\n",
       "      <td>Cedarbrae</td>\n",
       "      <td>43.773136</td>\n",
       "      <td>-79.239476</td>\n",
       "    </tr>\n",
       "    <tr>\n",
       "      <th>...</th>\n",
       "      <td>...</td>\n",
       "      <td>...</td>\n",
       "      <td>...</td>\n",
       "      <td>...</td>\n",
       "      <td>...</td>\n",
       "    </tr>\n",
       "    <tr>\n",
       "      <th>98</th>\n",
       "      <td>M9N</td>\n",
       "      <td>York</td>\n",
       "      <td>Weston</td>\n",
       "      <td>43.706876</td>\n",
       "      <td>-79.518188</td>\n",
       "    </tr>\n",
       "    <tr>\n",
       "      <th>99</th>\n",
       "      <td>M9P</td>\n",
       "      <td>Etobicoke</td>\n",
       "      <td>Westmount</td>\n",
       "      <td>43.696319</td>\n",
       "      <td>-79.532242</td>\n",
       "    </tr>\n",
       "    <tr>\n",
       "      <th>100</th>\n",
       "      <td>M9R</td>\n",
       "      <td>Etobicoke</td>\n",
       "      <td>Kingsview Village, St. Phillips, Martin Grove ...</td>\n",
       "      <td>43.688905</td>\n",
       "      <td>-79.554724</td>\n",
       "    </tr>\n",
       "    <tr>\n",
       "      <th>101</th>\n",
       "      <td>M9V</td>\n",
       "      <td>Etobicoke</td>\n",
       "      <td>South Steeles, Silverstone, Humbergate, Jamest...</td>\n",
       "      <td>43.739416</td>\n",
       "      <td>-79.588437</td>\n",
       "    </tr>\n",
       "    <tr>\n",
       "      <th>102</th>\n",
       "      <td>M9W</td>\n",
       "      <td>Etobicoke</td>\n",
       "      <td>Northwest, West Humber - Clairville</td>\n",
       "      <td>43.706748</td>\n",
       "      <td>-79.594054</td>\n",
       "    </tr>\n",
       "  </tbody>\n",
       "</table>\n",
       "<p>103 rows × 5 columns</p>\n",
       "</div>"
      ],
      "text/plain": [
       "    Postal Code       Borough  \\\n",
       "0           M1B  Scarborough    \n",
       "1           M1C  Scarborough    \n",
       "2           M1E  Scarborough    \n",
       "3           M1G  Scarborough    \n",
       "4           M1H  Scarborough    \n",
       "..          ...           ...   \n",
       "98          M9N         York    \n",
       "99          M9P    Etobicoke    \n",
       "100         M9R    Etobicoke    \n",
       "101         M9V    Etobicoke    \n",
       "102         M9W    Etobicoke    \n",
       "\n",
       "                                         Neighbourhood   Latitude  Longitude  \n",
       "0                                      Malvern, Rouge   43.806686 -79.194353  \n",
       "1              Rouge Hill, Port Union, Highland Creek   43.784535 -79.160497  \n",
       "2                   Guildwood, Morningside, West Hill   43.763573 -79.188711  \n",
       "3                                              Woburn   43.770992 -79.216917  \n",
       "4                                           Cedarbrae   43.773136 -79.239476  \n",
       "..                                                 ...        ...        ...  \n",
       "98                                             Weston   43.706876 -79.518188  \n",
       "99                                          Westmount   43.696319 -79.532242  \n",
       "100  Kingsview Village, St. Phillips, Martin Grove ...  43.688905 -79.554724  \n",
       "101  South Steeles, Silverstone, Humbergate, Jamest...  43.739416 -79.588437  \n",
       "102               Northwest, West Humber - Clairville   43.706748 -79.594054  \n",
       "\n",
       "[103 rows x 5 columns]"
      ]
     },
     "execution_count": 10,
     "metadata": {},
     "output_type": "execute_result"
    }
   ],
   "source": [
    "final_df = pd.merge(long_lat_data, table_result, on='Postal Code')\n",
    "final_df = final_df[['Postal Code', 'Borough', 'Neighbourhood', 'Latitude_x', 'Longitude_x']]\n",
    "final_df.rename(columns={'Latitude_x':'Latitude'}, inplace=True)\n",
    "final_df.rename(columns={'Longitude_x':'Longitude'}, inplace=True)\n",
    "final_df"
   ]
  },
  {
   "cell_type": "markdown",
   "metadata": {},
   "source": [
    "# Part 3"
   ]
  },
  {
   "cell_type": "code",
   "execution_count": 11,
   "metadata": {},
   "outputs": [],
   "source": [
    "#import appropriate libraries\n",
    "from geopy.geocoders import Nominatim\n",
    "import folium\n",
    "import matplotlib.cm as cm\n",
    "import matplotlib.colors as colors"
   ]
  },
  {
   "cell_type": "markdown",
   "metadata": {},
   "source": [
    "Find coordinates of toronto"
   ]
  },
  {
   "cell_type": "code",
   "execution_count": 12,
   "metadata": {},
   "outputs": [],
   "source": [
    "address = 'Toronto, Ontario'\n",
    "geolocator = Nominatim(user_agent=\"toronto_explorer\")\n",
    "location = geolocator.geocode(address)\n",
    "latitude = location.latitude\n",
    "longitude = location.longitude"
   ]
  },
  {
   "cell_type": "markdown",
   "metadata": {},
   "source": [
    "Filter the final_df to boroughs that contain toronto and reset index"
   ]
  },
  {
   "cell_type": "code",
   "execution_count": 13,
   "metadata": {},
   "outputs": [
    {
     "data": {
      "text/plain": [
       "(39, 5)"
      ]
     },
     "execution_count": 13,
     "metadata": {},
     "output_type": "execute_result"
    }
   ],
   "source": [
    "clustering_df=final_df[final_df['Borough'].str.contains('Toronto')]\n",
    "clustering_df=clustering_df.reset_index(drop=True)\n",
    "clustering_df.shape"
   ]
  },
  {
   "cell_type": "markdown",
   "metadata": {},
   "source": [
    "Remove spaces in borough names and change names to numerical values for further analysis."
   ]
  },
  {
   "cell_type": "code",
   "execution_count": 14,
   "metadata": {},
   "outputs": [
    {
     "data": {
      "text/html": [
       "<div>\n",
       "<style scoped>\n",
       "    .dataframe tbody tr th:only-of-type {\n",
       "        vertical-align: middle;\n",
       "    }\n",
       "\n",
       "    .dataframe tbody tr th {\n",
       "        vertical-align: top;\n",
       "    }\n",
       "\n",
       "    .dataframe thead th {\n",
       "        text-align: right;\n",
       "    }\n",
       "</style>\n",
       "<table border=\"1\" class=\"dataframe\">\n",
       "  <thead>\n",
       "    <tr style=\"text-align: right;\">\n",
       "      <th></th>\n",
       "      <th>Postal Code</th>\n",
       "      <th>Borough</th>\n",
       "      <th>Neighbourhood</th>\n",
       "      <th>Latitude</th>\n",
       "      <th>Longitude</th>\n",
       "      <th>Label</th>\n",
       "    </tr>\n",
       "  </thead>\n",
       "  <tbody>\n",
       "    <tr>\n",
       "      <th>0</th>\n",
       "      <td>M4E</td>\n",
       "      <td>EastToronto</td>\n",
       "      <td>The Beaches</td>\n",
       "      <td>43.676357</td>\n",
       "      <td>-79.293031</td>\n",
       "      <td>4</td>\n",
       "    </tr>\n",
       "    <tr>\n",
       "      <th>1</th>\n",
       "      <td>M4K</td>\n",
       "      <td>EastToronto</td>\n",
       "      <td>The Danforth West, Riverdale</td>\n",
       "      <td>43.679557</td>\n",
       "      <td>-79.352188</td>\n",
       "      <td>4</td>\n",
       "    </tr>\n",
       "    <tr>\n",
       "      <th>2</th>\n",
       "      <td>M4L</td>\n",
       "      <td>EastToronto</td>\n",
       "      <td>India Bazaar, The Beaches West</td>\n",
       "      <td>43.668999</td>\n",
       "      <td>-79.315572</td>\n",
       "      <td>4</td>\n",
       "    </tr>\n",
       "    <tr>\n",
       "      <th>3</th>\n",
       "      <td>M4M</td>\n",
       "      <td>EastToronto</td>\n",
       "      <td>Studio District</td>\n",
       "      <td>43.659526</td>\n",
       "      <td>-79.340923</td>\n",
       "      <td>4</td>\n",
       "    </tr>\n",
       "    <tr>\n",
       "      <th>4</th>\n",
       "      <td>M4N</td>\n",
       "      <td>CentralToronto</td>\n",
       "      <td>Lawrence Park</td>\n",
       "      <td>43.728020</td>\n",
       "      <td>-79.388790</td>\n",
       "      <td>2</td>\n",
       "    </tr>\n",
       "  </tbody>\n",
       "</table>\n",
       "</div>"
      ],
      "text/plain": [
       "  Postal Code         Borough                    Neighbourhood   Latitude  \\\n",
       "0         M4E     EastToronto                     The Beaches   43.676357   \n",
       "1         M4K     EastToronto    The Danforth West, Riverdale   43.679557   \n",
       "2         M4L     EastToronto  India Bazaar, The Beaches West   43.668999   \n",
       "3         M4M     EastToronto                 Studio District   43.659526   \n",
       "4         M4N  CentralToronto                   Lawrence Park   43.728020   \n",
       "\n",
       "   Longitude  Label  \n",
       "0 -79.293031      4  \n",
       "1 -79.352188      4  \n",
       "2 -79.315572      4  \n",
       "3 -79.340923      4  \n",
       "4 -79.388790      2  "
      ]
     },
     "execution_count": 14,
     "metadata": {},
     "output_type": "execute_result"
    }
   ],
   "source": [
    "clustering_df['Borough'] = clustering_df['Borough'].str.replace(' ', '')\n",
    "clustering_df['Label']=clustering_df['Borough'].replace(to_replace=['DowntownToronto','CentralToronto','WestToronto','EastToronto'],value=[1,2,3,4],inplace=False)\n",
    "clustering_df['Borough'].value_counts()\n",
    "clustering_df.head()"
   ]
  },
  {
   "cell_type": "markdown",
   "metadata": {},
   "source": [
    "Set amount clusters as unique values of labels. Create a map with coordinates of Toronto.\n",
    "Set rainbow colour ranges"
   ]
  },
  {
   "cell_type": "code",
   "execution_count": 15,
   "metadata": {},
   "outputs": [],
   "source": [
    "clusters=len(clustering_df.Label.unique())\n",
    "map_toronto = folium.Map(location=[latitude, longitude], zoom_start=11)\n",
    "x = np.arange(clusters)\n",
    "ys = [i + x + (i*x)**2 for i in range(clusters)]\n",
    "colors_array = cm.rainbow(np.linspace(0, 1, len(ys)))\n",
    "rainbow = [colors.rgb2hex(i) for i in colors_array]"
   ]
  },
  {
   "cell_type": "markdown",
   "metadata": {},
   "source": [
    "Add markers to the map by iterating through the dataframe."
   ]
  },
  {
   "cell_type": "code",
   "execution_count": 16,
   "metadata": {},
   "outputs": [],
   "source": [
    "markers_colors = []\n",
    "for lat, lon, cluster in zip(clustering_df['Latitude'], clustering_df['Longitude'], clustering_df['Label']):\n",
    "    label = folium.Popup(str(clustering_df['Borough']) + ' Cluster ' + str(cluster), parse_html=True)\n",
    "    folium.CircleMarker(\n",
    "        [lat, lon],\n",
    "        radius=5,\n",
    "        popup=label,\n",
    "        color=rainbow[cluster-1],\n",
    "        fill=True,\n",
    "        fill_color=rainbow[cluster-1],\n",
    "        fill_opacity=0.7).add_to(map_toronto)"
   ]
  },
  {
   "cell_type": "markdown",
   "metadata": {},
   "source": [
    "Print the map"
   ]
  },
  {
   "cell_type": "code",
   "execution_count": 18,
   "metadata": {},
   "outputs": [
    {
     "data": {
      "text/html": [
       "<div style=\"width:100%;\"><div style=\"position:relative;width:100%;height:0;padding-bottom:60%;\"><span style=\"color:#565656\">Make this Notebook Trusted to load map: File -> Trust Notebook</span><iframe src=\"about:blank\" style=\"position:absolute;width:100%;height:100%;left:0;top:0;border:none !important;\" data-html=%3C%21DOCTYPE%20html%3E%0A%3Chead%3E%20%20%20%20%0A%20%20%20%20%3Cmeta%20http-equiv%3D%22content-type%22%20content%3D%22text/html%3B%20charset%3DUTF-8%22%20/%3E%0A%20%20%20%20%0A%20%20%20%20%20%20%20%20%3Cscript%3E%0A%20%20%20%20%20%20%20%20%20%20%20%20L_NO_TOUCH%20%3D%20false%3B%0A%20%20%20%20%20%20%20%20%20%20%20%20L_DISABLE_3D%20%3D%20false%3B%0A%20%20%20%20%20%20%20%20%3C/script%3E%0A%20%20%20%20%0A%20%20%20%20%3Cstyle%3Ehtml%2C%20body%20%7Bwidth%3A%20100%25%3Bheight%3A%20100%25%3Bmargin%3A%200%3Bpadding%3A%200%3B%7D%3C/style%3E%0A%20%20%20%20%3Cstyle%3E%23map%20%7Bposition%3Aabsolute%3Btop%3A0%3Bbottom%3A0%3Bright%3A0%3Bleft%3A0%3B%7D%3C/style%3E%0A%20%20%20%20%3Cscript%20src%3D%22https%3A//cdn.jsdelivr.net/npm/leaflet%401.6.0/dist/leaflet.js%22%3E%3C/script%3E%0A%20%20%20%20%3Cscript%20src%3D%22https%3A//code.jquery.com/jquery-1.12.4.min.js%22%3E%3C/script%3E%0A%20%20%20%20%3Cscript%20src%3D%22https%3A//maxcdn.bootstrapcdn.com/bootstrap/3.2.0/js/bootstrap.min.js%22%3E%3C/script%3E%0A%20%20%20%20%3Cscript%20src%3D%22https%3A//cdnjs.cloudflare.com/ajax/libs/Leaflet.awesome-markers/2.0.2/leaflet.awesome-markers.js%22%3E%3C/script%3E%0A%20%20%20%20%3Clink%20rel%3D%22stylesheet%22%20href%3D%22https%3A//cdn.jsdelivr.net/npm/leaflet%401.6.0/dist/leaflet.css%22/%3E%0A%20%20%20%20%3Clink%20rel%3D%22stylesheet%22%20href%3D%22https%3A//maxcdn.bootstrapcdn.com/bootstrap/3.2.0/css/bootstrap.min.css%22/%3E%0A%20%20%20%20%3Clink%20rel%3D%22stylesheet%22%20href%3D%22https%3A//maxcdn.bootstrapcdn.com/bootstrap/3.2.0/css/bootstrap-theme.min.css%22/%3E%0A%20%20%20%20%3Clink%20rel%3D%22stylesheet%22%20href%3D%22https%3A//maxcdn.bootstrapcdn.com/font-awesome/4.6.3/css/font-awesome.min.css%22/%3E%0A%20%20%20%20%3Clink%20rel%3D%22stylesheet%22%20href%3D%22https%3A//cdnjs.cloudflare.com/ajax/libs/Leaflet.awesome-markers/2.0.2/leaflet.awesome-markers.css%22/%3E%0A%20%20%20%20%3Clink%20rel%3D%22stylesheet%22%20href%3D%22https%3A//cdn.jsdelivr.net/gh/python-visualization/folium/folium/templates/leaflet.awesome.rotate.min.css%22/%3E%0A%20%20%20%20%0A%20%20%20%20%20%20%20%20%20%20%20%20%3Cmeta%20name%3D%22viewport%22%20content%3D%22width%3Ddevice-width%2C%0A%20%20%20%20%20%20%20%20%20%20%20%20%20%20%20%20initial-scale%3D1.0%2C%20maximum-scale%3D1.0%2C%20user-scalable%3Dno%22%20/%3E%0A%20%20%20%20%20%20%20%20%20%20%20%20%3Cstyle%3E%0A%20%20%20%20%20%20%20%20%20%20%20%20%20%20%20%20%23map_bb9a0736adde40079461befc4b5e56dd%20%7B%0A%20%20%20%20%20%20%20%20%20%20%20%20%20%20%20%20%20%20%20%20position%3A%20relative%3B%0A%20%20%20%20%20%20%20%20%20%20%20%20%20%20%20%20%20%20%20%20width%3A%20100.0%25%3B%0A%20%20%20%20%20%20%20%20%20%20%20%20%20%20%20%20%20%20%20%20height%3A%20100.0%25%3B%0A%20%20%20%20%20%20%20%20%20%20%20%20%20%20%20%20%20%20%20%20left%3A%200.0%25%3B%0A%20%20%20%20%20%20%20%20%20%20%20%20%20%20%20%20%20%20%20%20top%3A%200.0%25%3B%0A%20%20%20%20%20%20%20%20%20%20%20%20%20%20%20%20%7D%0A%20%20%20%20%20%20%20%20%20%20%20%20%3C/style%3E%0A%20%20%20%20%20%20%20%20%0A%3C/head%3E%0A%3Cbody%3E%20%20%20%20%0A%20%20%20%20%0A%20%20%20%20%20%20%20%20%20%20%20%20%3Cdiv%20class%3D%22folium-map%22%20id%3D%22map_bb9a0736adde40079461befc4b5e56dd%22%20%3E%3C/div%3E%0A%20%20%20%20%20%20%20%20%0A%3C/body%3E%0A%3Cscript%3E%20%20%20%20%0A%20%20%20%20%0A%20%20%20%20%20%20%20%20%20%20%20%20var%20map_bb9a0736adde40079461befc4b5e56dd%20%3D%20L.map%28%0A%20%20%20%20%20%20%20%20%20%20%20%20%20%20%20%20%22map_bb9a0736adde40079461befc4b5e56dd%22%2C%0A%20%20%20%20%20%20%20%20%20%20%20%20%20%20%20%20%7B%0A%20%20%20%20%20%20%20%20%20%20%20%20%20%20%20%20%20%20%20%20center%3A%20%5B43.6534817%2C%20-79.3839347%5D%2C%0A%20%20%20%20%20%20%20%20%20%20%20%20%20%20%20%20%20%20%20%20crs%3A%20L.CRS.EPSG3857%2C%0A%20%20%20%20%20%20%20%20%20%20%20%20%20%20%20%20%20%20%20%20zoom%3A%2011%2C%0A%20%20%20%20%20%20%20%20%20%20%20%20%20%20%20%20%20%20%20%20zoomControl%3A%20true%2C%0A%20%20%20%20%20%20%20%20%20%20%20%20%20%20%20%20%20%20%20%20preferCanvas%3A%20false%2C%0A%20%20%20%20%20%20%20%20%20%20%20%20%20%20%20%20%7D%0A%20%20%20%20%20%20%20%20%20%20%20%20%29%3B%0A%0A%20%20%20%20%20%20%20%20%20%20%20%20%0A%0A%20%20%20%20%20%20%20%20%0A%20%20%20%20%0A%20%20%20%20%20%20%20%20%20%20%20%20var%20tile_layer_ef421e3a5afa4632bbe4e9c9440c69ad%20%3D%20L.tileLayer%28%0A%20%20%20%20%20%20%20%20%20%20%20%20%20%20%20%20%22https%3A//%7Bs%7D.tile.openstreetmap.org/%7Bz%7D/%7Bx%7D/%7By%7D.png%22%2C%0A%20%20%20%20%20%20%20%20%20%20%20%20%20%20%20%20%7B%22attribution%22%3A%20%22Data%20by%20%5Cu0026copy%3B%20%5Cu003ca%20href%3D%5C%22http%3A//openstreetmap.org%5C%22%5Cu003eOpenStreetMap%5Cu003c/a%5Cu003e%2C%20under%20%5Cu003ca%20href%3D%5C%22http%3A//www.openstreetmap.org/copyright%5C%22%5Cu003eODbL%5Cu003c/a%5Cu003e.%22%2C%20%22detectRetina%22%3A%20false%2C%20%22maxNativeZoom%22%3A%2018%2C%20%22maxZoom%22%3A%2018%2C%20%22minZoom%22%3A%200%2C%20%22noWrap%22%3A%20false%2C%20%22opacity%22%3A%201%2C%20%22subdomains%22%3A%20%22abc%22%2C%20%22tms%22%3A%20false%7D%0A%20%20%20%20%20%20%20%20%20%20%20%20%29.addTo%28map_bb9a0736adde40079461befc4b5e56dd%29%3B%0A%20%20%20%20%20%20%20%20%0A%20%20%20%20%0A%20%20%20%20%20%20%20%20%20%20%20%20var%20circle_marker_b32e6322dca94fdb8d05cfcfd66020b3%20%3D%20L.circleMarker%28%0A%20%20%20%20%20%20%20%20%20%20%20%20%20%20%20%20%5B43.67635739999999%2C%20-79.2930312%5D%2C%0A%20%20%20%20%20%20%20%20%20%20%20%20%20%20%20%20%7B%22bubblingMouseEvents%22%3A%20true%2C%20%22color%22%3A%20%22%23ff0000%22%2C%20%22dashArray%22%3A%20null%2C%20%22dashOffset%22%3A%20null%2C%20%22fill%22%3A%20true%2C%20%22fillColor%22%3A%20%22%23ff0000%22%2C%20%22fillOpacity%22%3A%200.7%2C%20%22fillRule%22%3A%20%22evenodd%22%2C%20%22lineCap%22%3A%20%22round%22%2C%20%22lineJoin%22%3A%20%22round%22%2C%20%22opacity%22%3A%201.0%2C%20%22radius%22%3A%205%2C%20%22stroke%22%3A%20true%2C%20%22weight%22%3A%203%7D%0A%20%20%20%20%20%20%20%20%20%20%20%20%29.addTo%28map_bb9a0736adde40079461befc4b5e56dd%29%3B%0A%20%20%20%20%20%20%20%20%0A%20%20%20%20%0A%20%20%20%20%20%20%20%20var%20popup_97197a98354143628ce811dd1ead775d%20%3D%20L.popup%28%7B%22maxWidth%22%3A%20%22100%25%22%7D%29%3B%0A%0A%20%20%20%20%20%20%20%20%0A%20%20%20%20%20%20%20%20%20%20%20%20var%20html_3284c988e94a4a379fbe56a2fbc0a6e1%20%3D%20%24%28%60%3Cdiv%20id%3D%22html_3284c988e94a4a379fbe56a2fbc0a6e1%22%20style%3D%22width%3A%20100.0%25%3B%20height%3A%20100.0%25%3B%22%3E0%20%20%20%20%20%20%20%20%20EastToronto%201%20%20%20%20%20%20%20%20%20EastToronto%202%20%20%20%20%20%20%20%20%20EastToronto%203%20%20%20%20%20%20%20%20%20EastToronto%204%20%20%20%20%20%20CentralToronto%205%20%20%20%20%20%20CentralToronto%206%20%20%20%20%20%20CentralToronto%207%20%20%20%20%20%20CentralToronto%208%20%20%20%20%20%20CentralToronto%209%20%20%20%20%20%20CentralToronto%2010%20%20%20%20DowntownToronto%2011%20%20%20%20DowntownToronto%2012%20%20%20%20DowntownToronto%2013%20%20%20%20DowntownToronto%2014%20%20%20%20DowntownToronto%2015%20%20%20%20DowntownToronto%2016%20%20%20%20DowntownToronto%2017%20%20%20%20DowntownToronto%2018%20%20%20%20DowntownToronto%2019%20%20%20%20DowntownToronto%2020%20%20%20%20DowntownToronto%2021%20%20%20%20DowntownToronto%2022%20%20%20%20%20CentralToronto%2023%20%20%20%20%20CentralToronto%2024%20%20%20%20%20CentralToronto%2025%20%20%20%20DowntownToronto%2026%20%20%20%20DowntownToronto%2027%20%20%20%20DowntownToronto%2028%20%20%20%20DowntownToronto%2029%20%20%20%20DowntownToronto%2030%20%20%20%20DowntownToronto%2031%20%20%20%20%20%20%20%20WestToronto%2032%20%20%20%20%20%20%20%20WestToronto%2033%20%20%20%20%20%20%20%20WestToronto%2034%20%20%20%20%20%20%20%20WestToronto%2035%20%20%20%20%20%20%20%20WestToronto%2036%20%20%20%20%20%20%20%20WestToronto%2037%20%20%20%20DowntownToronto%2038%20%20%20%20%20%20%20%20EastToronto%20Name%3A%20Borough%2C%20dtype%3A%20object%20Cluster%204%3C/div%3E%60%29%5B0%5D%3B%0A%20%20%20%20%20%20%20%20%20%20%20%20popup_97197a98354143628ce811dd1ead775d.setContent%28html_3284c988e94a4a379fbe56a2fbc0a6e1%29%3B%0A%20%20%20%20%20%20%20%20%0A%0A%20%20%20%20%20%20%20%20circle_marker_b32e6322dca94fdb8d05cfcfd66020b3.bindPopup%28popup_97197a98354143628ce811dd1ead775d%29%0A%20%20%20%20%20%20%20%20%3B%0A%0A%20%20%20%20%20%20%20%20%0A%20%20%20%20%0A%20%20%20%20%0A%20%20%20%20%20%20%20%20%20%20%20%20var%20circle_marker_d53375f208b045a58eafc5a4b5b39aa5%20%3D%20L.circleMarker%28%0A%20%20%20%20%20%20%20%20%20%20%20%20%20%20%20%20%5B43.6795571%2C%20-79.352188%5D%2C%0A%20%20%20%20%20%20%20%20%20%20%20%20%20%20%20%20%7B%22bubblingMouseEvents%22%3A%20true%2C%20%22color%22%3A%20%22%23ff0000%22%2C%20%22dashArray%22%3A%20null%2C%20%22dashOffset%22%3A%20null%2C%20%22fill%22%3A%20true%2C%20%22fillColor%22%3A%20%22%23ff0000%22%2C%20%22fillOpacity%22%3A%200.7%2C%20%22fillRule%22%3A%20%22evenodd%22%2C%20%22lineCap%22%3A%20%22round%22%2C%20%22lineJoin%22%3A%20%22round%22%2C%20%22opacity%22%3A%201.0%2C%20%22radius%22%3A%205%2C%20%22stroke%22%3A%20true%2C%20%22weight%22%3A%203%7D%0A%20%20%20%20%20%20%20%20%20%20%20%20%29.addTo%28map_bb9a0736adde40079461befc4b5e56dd%29%3B%0A%20%20%20%20%20%20%20%20%0A%20%20%20%20%0A%20%20%20%20%20%20%20%20var%20popup_bb46b06d80c7478cb098a8219d30c093%20%3D%20L.popup%28%7B%22maxWidth%22%3A%20%22100%25%22%7D%29%3B%0A%0A%20%20%20%20%20%20%20%20%0A%20%20%20%20%20%20%20%20%20%20%20%20var%20html_971c772f06994d85bd13fbbdcfd47b49%20%3D%20%24%28%60%3Cdiv%20id%3D%22html_971c772f06994d85bd13fbbdcfd47b49%22%20style%3D%22width%3A%20100.0%25%3B%20height%3A%20100.0%25%3B%22%3E0%20%20%20%20%20%20%20%20%20EastToronto%201%20%20%20%20%20%20%20%20%20EastToronto%202%20%20%20%20%20%20%20%20%20EastToronto%203%20%20%20%20%20%20%20%20%20EastToronto%204%20%20%20%20%20%20CentralToronto%205%20%20%20%20%20%20CentralToronto%206%20%20%20%20%20%20CentralToronto%207%20%20%20%20%20%20CentralToronto%208%20%20%20%20%20%20CentralToronto%209%20%20%20%20%20%20CentralToronto%2010%20%20%20%20DowntownToronto%2011%20%20%20%20DowntownToronto%2012%20%20%20%20DowntownToronto%2013%20%20%20%20DowntownToronto%2014%20%20%20%20DowntownToronto%2015%20%20%20%20DowntownToronto%2016%20%20%20%20DowntownToronto%2017%20%20%20%20DowntownToronto%2018%20%20%20%20DowntownToronto%2019%20%20%20%20DowntownToronto%2020%20%20%20%20DowntownToronto%2021%20%20%20%20DowntownToronto%2022%20%20%20%20%20CentralToronto%2023%20%20%20%20%20CentralToronto%2024%20%20%20%20%20CentralToronto%2025%20%20%20%20DowntownToronto%2026%20%20%20%20DowntownToronto%2027%20%20%20%20DowntownToronto%2028%20%20%20%20DowntownToronto%2029%20%20%20%20DowntownToronto%2030%20%20%20%20DowntownToronto%2031%20%20%20%20%20%20%20%20WestToronto%2032%20%20%20%20%20%20%20%20WestToronto%2033%20%20%20%20%20%20%20%20WestToronto%2034%20%20%20%20%20%20%20%20WestToronto%2035%20%20%20%20%20%20%20%20WestToronto%2036%20%20%20%20%20%20%20%20WestToronto%2037%20%20%20%20DowntownToronto%2038%20%20%20%20%20%20%20%20EastToronto%20Name%3A%20Borough%2C%20dtype%3A%20object%20Cluster%204%3C/div%3E%60%29%5B0%5D%3B%0A%20%20%20%20%20%20%20%20%20%20%20%20popup_bb46b06d80c7478cb098a8219d30c093.setContent%28html_971c772f06994d85bd13fbbdcfd47b49%29%3B%0A%20%20%20%20%20%20%20%20%0A%0A%20%20%20%20%20%20%20%20circle_marker_d53375f208b045a58eafc5a4b5b39aa5.bindPopup%28popup_bb46b06d80c7478cb098a8219d30c093%29%0A%20%20%20%20%20%20%20%20%3B%0A%0A%20%20%20%20%20%20%20%20%0A%20%20%20%20%0A%20%20%20%20%0A%20%20%20%20%20%20%20%20%20%20%20%20var%20circle_marker_8bcff96564b349d1a70a285a84d495d3%20%3D%20L.circleMarker%28%0A%20%20%20%20%20%20%20%20%20%20%20%20%20%20%20%20%5B43.6689985%2C%20-79.31557159999998%5D%2C%0A%20%20%20%20%20%20%20%20%20%20%20%20%20%20%20%20%7B%22bubblingMouseEvents%22%3A%20true%2C%20%22color%22%3A%20%22%23ff0000%22%2C%20%22dashArray%22%3A%20null%2C%20%22dashOffset%22%3A%20null%2C%20%22fill%22%3A%20true%2C%20%22fillColor%22%3A%20%22%23ff0000%22%2C%20%22fillOpacity%22%3A%200.7%2C%20%22fillRule%22%3A%20%22evenodd%22%2C%20%22lineCap%22%3A%20%22round%22%2C%20%22lineJoin%22%3A%20%22round%22%2C%20%22opacity%22%3A%201.0%2C%20%22radius%22%3A%205%2C%20%22stroke%22%3A%20true%2C%20%22weight%22%3A%203%7D%0A%20%20%20%20%20%20%20%20%20%20%20%20%29.addTo%28map_bb9a0736adde40079461befc4b5e56dd%29%3B%0A%20%20%20%20%20%20%20%20%0A%20%20%20%20%0A%20%20%20%20%20%20%20%20var%20popup_652a11fe30c84fd997863182fe8c5b50%20%3D%20L.popup%28%7B%22maxWidth%22%3A%20%22100%25%22%7D%29%3B%0A%0A%20%20%20%20%20%20%20%20%0A%20%20%20%20%20%20%20%20%20%20%20%20var%20html_330ba5db65284fb38ec0a8bd34ccb563%20%3D%20%24%28%60%3Cdiv%20id%3D%22html_330ba5db65284fb38ec0a8bd34ccb563%22%20style%3D%22width%3A%20100.0%25%3B%20height%3A%20100.0%25%3B%22%3E0%20%20%20%20%20%20%20%20%20EastToronto%201%20%20%20%20%20%20%20%20%20EastToronto%202%20%20%20%20%20%20%20%20%20EastToronto%203%20%20%20%20%20%20%20%20%20EastToronto%204%20%20%20%20%20%20CentralToronto%205%20%20%20%20%20%20CentralToronto%206%20%20%20%20%20%20CentralToronto%207%20%20%20%20%20%20CentralToronto%208%20%20%20%20%20%20CentralToronto%209%20%20%20%20%20%20CentralToronto%2010%20%20%20%20DowntownToronto%2011%20%20%20%20DowntownToronto%2012%20%20%20%20DowntownToronto%2013%20%20%20%20DowntownToronto%2014%20%20%20%20DowntownToronto%2015%20%20%20%20DowntownToronto%2016%20%20%20%20DowntownToronto%2017%20%20%20%20DowntownToronto%2018%20%20%20%20DowntownToronto%2019%20%20%20%20DowntownToronto%2020%20%20%20%20DowntownToronto%2021%20%20%20%20DowntownToronto%2022%20%20%20%20%20CentralToronto%2023%20%20%20%20%20CentralToronto%2024%20%20%20%20%20CentralToronto%2025%20%20%20%20DowntownToronto%2026%20%20%20%20DowntownToronto%2027%20%20%20%20DowntownToronto%2028%20%20%20%20DowntownToronto%2029%20%20%20%20DowntownToronto%2030%20%20%20%20DowntownToronto%2031%20%20%20%20%20%20%20%20WestToronto%2032%20%20%20%20%20%20%20%20WestToronto%2033%20%20%20%20%20%20%20%20WestToronto%2034%20%20%20%20%20%20%20%20WestToronto%2035%20%20%20%20%20%20%20%20WestToronto%2036%20%20%20%20%20%20%20%20WestToronto%2037%20%20%20%20DowntownToronto%2038%20%20%20%20%20%20%20%20EastToronto%20Name%3A%20Borough%2C%20dtype%3A%20object%20Cluster%204%3C/div%3E%60%29%5B0%5D%3B%0A%20%20%20%20%20%20%20%20%20%20%20%20popup_652a11fe30c84fd997863182fe8c5b50.setContent%28html_330ba5db65284fb38ec0a8bd34ccb563%29%3B%0A%20%20%20%20%20%20%20%20%0A%0A%20%20%20%20%20%20%20%20circle_marker_8bcff96564b349d1a70a285a84d495d3.bindPopup%28popup_652a11fe30c84fd997863182fe8c5b50%29%0A%20%20%20%20%20%20%20%20%3B%0A%0A%20%20%20%20%20%20%20%20%0A%20%20%20%20%0A%20%20%20%20%0A%20%20%20%20%20%20%20%20%20%20%20%20var%20circle_marker_79622a974b834ac194764ba0e9fab41f%20%3D%20L.circleMarker%28%0A%20%20%20%20%20%20%20%20%20%20%20%20%20%20%20%20%5B43.6595255%2C%20-79.340923%5D%2C%0A%20%20%20%20%20%20%20%20%20%20%20%20%20%20%20%20%7B%22bubblingMouseEvents%22%3A%20true%2C%20%22color%22%3A%20%22%23ff0000%22%2C%20%22dashArray%22%3A%20null%2C%20%22dashOffset%22%3A%20null%2C%20%22fill%22%3A%20true%2C%20%22fillColor%22%3A%20%22%23ff0000%22%2C%20%22fillOpacity%22%3A%200.7%2C%20%22fillRule%22%3A%20%22evenodd%22%2C%20%22lineCap%22%3A%20%22round%22%2C%20%22lineJoin%22%3A%20%22round%22%2C%20%22opacity%22%3A%201.0%2C%20%22radius%22%3A%205%2C%20%22stroke%22%3A%20true%2C%20%22weight%22%3A%203%7D%0A%20%20%20%20%20%20%20%20%20%20%20%20%29.addTo%28map_bb9a0736adde40079461befc4b5e56dd%29%3B%0A%20%20%20%20%20%20%20%20%0A%20%20%20%20%0A%20%20%20%20%20%20%20%20var%20popup_2f1812bbbaf64676b48e6ef71b2d1c4f%20%3D%20L.popup%28%7B%22maxWidth%22%3A%20%22100%25%22%7D%29%3B%0A%0A%20%20%20%20%20%20%20%20%0A%20%20%20%20%20%20%20%20%20%20%20%20var%20html_1ad6dba3570e450aa9f91d4353676319%20%3D%20%24%28%60%3Cdiv%20id%3D%22html_1ad6dba3570e450aa9f91d4353676319%22%20style%3D%22width%3A%20100.0%25%3B%20height%3A%20100.0%25%3B%22%3E0%20%20%20%20%20%20%20%20%20EastToronto%201%20%20%20%20%20%20%20%20%20EastToronto%202%20%20%20%20%20%20%20%20%20EastToronto%203%20%20%20%20%20%20%20%20%20EastToronto%204%20%20%20%20%20%20CentralToronto%205%20%20%20%20%20%20CentralToronto%206%20%20%20%20%20%20CentralToronto%207%20%20%20%20%20%20CentralToronto%208%20%20%20%20%20%20CentralToronto%209%20%20%20%20%20%20CentralToronto%2010%20%20%20%20DowntownToronto%2011%20%20%20%20DowntownToronto%2012%20%20%20%20DowntownToronto%2013%20%20%20%20DowntownToronto%2014%20%20%20%20DowntownToronto%2015%20%20%20%20DowntownToronto%2016%20%20%20%20DowntownToronto%2017%20%20%20%20DowntownToronto%2018%20%20%20%20DowntownToronto%2019%20%20%20%20DowntownToronto%2020%20%20%20%20DowntownToronto%2021%20%20%20%20DowntownToronto%2022%20%20%20%20%20CentralToronto%2023%20%20%20%20%20CentralToronto%2024%20%20%20%20%20CentralToronto%2025%20%20%20%20DowntownToronto%2026%20%20%20%20DowntownToronto%2027%20%20%20%20DowntownToronto%2028%20%20%20%20DowntownToronto%2029%20%20%20%20DowntownToronto%2030%20%20%20%20DowntownToronto%2031%20%20%20%20%20%20%20%20WestToronto%2032%20%20%20%20%20%20%20%20WestToronto%2033%20%20%20%20%20%20%20%20WestToronto%2034%20%20%20%20%20%20%20%20WestToronto%2035%20%20%20%20%20%20%20%20WestToronto%2036%20%20%20%20%20%20%20%20WestToronto%2037%20%20%20%20DowntownToronto%2038%20%20%20%20%20%20%20%20EastToronto%20Name%3A%20Borough%2C%20dtype%3A%20object%20Cluster%204%3C/div%3E%60%29%5B0%5D%3B%0A%20%20%20%20%20%20%20%20%20%20%20%20popup_2f1812bbbaf64676b48e6ef71b2d1c4f.setContent%28html_1ad6dba3570e450aa9f91d4353676319%29%3B%0A%20%20%20%20%20%20%20%20%0A%0A%20%20%20%20%20%20%20%20circle_marker_79622a974b834ac194764ba0e9fab41f.bindPopup%28popup_2f1812bbbaf64676b48e6ef71b2d1c4f%29%0A%20%20%20%20%20%20%20%20%3B%0A%0A%20%20%20%20%20%20%20%20%0A%20%20%20%20%0A%20%20%20%20%0A%20%20%20%20%20%20%20%20%20%20%20%20var%20circle_marker_47332068416f4dc6b49cf48f8bcef6dd%20%3D%20L.circleMarker%28%0A%20%20%20%20%20%20%20%20%20%20%20%20%20%20%20%20%5B43.7280205%2C%20-79.3887901%5D%2C%0A%20%20%20%20%20%20%20%20%20%20%20%20%20%20%20%20%7B%22bubblingMouseEvents%22%3A%20true%2C%20%22color%22%3A%20%22%232adddd%22%2C%20%22dashArray%22%3A%20null%2C%20%22dashOffset%22%3A%20null%2C%20%22fill%22%3A%20true%2C%20%22fillColor%22%3A%20%22%232adddd%22%2C%20%22fillOpacity%22%3A%200.7%2C%20%22fillRule%22%3A%20%22evenodd%22%2C%20%22lineCap%22%3A%20%22round%22%2C%20%22lineJoin%22%3A%20%22round%22%2C%20%22opacity%22%3A%201.0%2C%20%22radius%22%3A%205%2C%20%22stroke%22%3A%20true%2C%20%22weight%22%3A%203%7D%0A%20%20%20%20%20%20%20%20%20%20%20%20%29.addTo%28map_bb9a0736adde40079461befc4b5e56dd%29%3B%0A%20%20%20%20%20%20%20%20%0A%20%20%20%20%0A%20%20%20%20%20%20%20%20var%20popup_c61fe1dbd0b44552973255f8b7742710%20%3D%20L.popup%28%7B%22maxWidth%22%3A%20%22100%25%22%7D%29%3B%0A%0A%20%20%20%20%20%20%20%20%0A%20%20%20%20%20%20%20%20%20%20%20%20var%20html_b4c39ec9d0c148e2b6c75fc400404f02%20%3D%20%24%28%60%3Cdiv%20id%3D%22html_b4c39ec9d0c148e2b6c75fc400404f02%22%20style%3D%22width%3A%20100.0%25%3B%20height%3A%20100.0%25%3B%22%3E0%20%20%20%20%20%20%20%20%20EastToronto%201%20%20%20%20%20%20%20%20%20EastToronto%202%20%20%20%20%20%20%20%20%20EastToronto%203%20%20%20%20%20%20%20%20%20EastToronto%204%20%20%20%20%20%20CentralToronto%205%20%20%20%20%20%20CentralToronto%206%20%20%20%20%20%20CentralToronto%207%20%20%20%20%20%20CentralToronto%208%20%20%20%20%20%20CentralToronto%209%20%20%20%20%20%20CentralToronto%2010%20%20%20%20DowntownToronto%2011%20%20%20%20DowntownToronto%2012%20%20%20%20DowntownToronto%2013%20%20%20%20DowntownToronto%2014%20%20%20%20DowntownToronto%2015%20%20%20%20DowntownToronto%2016%20%20%20%20DowntownToronto%2017%20%20%20%20DowntownToronto%2018%20%20%20%20DowntownToronto%2019%20%20%20%20DowntownToronto%2020%20%20%20%20DowntownToronto%2021%20%20%20%20DowntownToronto%2022%20%20%20%20%20CentralToronto%2023%20%20%20%20%20CentralToronto%2024%20%20%20%20%20CentralToronto%2025%20%20%20%20DowntownToronto%2026%20%20%20%20DowntownToronto%2027%20%20%20%20DowntownToronto%2028%20%20%20%20DowntownToronto%2029%20%20%20%20DowntownToronto%2030%20%20%20%20DowntownToronto%2031%20%20%20%20%20%20%20%20WestToronto%2032%20%20%20%20%20%20%20%20WestToronto%2033%20%20%20%20%20%20%20%20WestToronto%2034%20%20%20%20%20%20%20%20WestToronto%2035%20%20%20%20%20%20%20%20WestToronto%2036%20%20%20%20%20%20%20%20WestToronto%2037%20%20%20%20DowntownToronto%2038%20%20%20%20%20%20%20%20EastToronto%20Name%3A%20Borough%2C%20dtype%3A%20object%20Cluster%202%3C/div%3E%60%29%5B0%5D%3B%0A%20%20%20%20%20%20%20%20%20%20%20%20popup_c61fe1dbd0b44552973255f8b7742710.setContent%28html_b4c39ec9d0c148e2b6c75fc400404f02%29%3B%0A%20%20%20%20%20%20%20%20%0A%0A%20%20%20%20%20%20%20%20circle_marker_47332068416f4dc6b49cf48f8bcef6dd.bindPopup%28popup_c61fe1dbd0b44552973255f8b7742710%29%0A%20%20%20%20%20%20%20%20%3B%0A%0A%20%20%20%20%20%20%20%20%0A%20%20%20%20%0A%20%20%20%20%0A%20%20%20%20%20%20%20%20%20%20%20%20var%20circle_marker_f1ac3d0ab7cc427f9aea33581fd345aa%20%3D%20L.circleMarker%28%0A%20%20%20%20%20%20%20%20%20%20%20%20%20%20%20%20%5B43.7127511%2C%20-79.3901975%5D%2C%0A%20%20%20%20%20%20%20%20%20%20%20%20%20%20%20%20%7B%22bubblingMouseEvents%22%3A%20true%2C%20%22color%22%3A%20%22%232adddd%22%2C%20%22dashArray%22%3A%20null%2C%20%22dashOffset%22%3A%20null%2C%20%22fill%22%3A%20true%2C%20%22fillColor%22%3A%20%22%232adddd%22%2C%20%22fillOpacity%22%3A%200.7%2C%20%22fillRule%22%3A%20%22evenodd%22%2C%20%22lineCap%22%3A%20%22round%22%2C%20%22lineJoin%22%3A%20%22round%22%2C%20%22opacity%22%3A%201.0%2C%20%22radius%22%3A%205%2C%20%22stroke%22%3A%20true%2C%20%22weight%22%3A%203%7D%0A%20%20%20%20%20%20%20%20%20%20%20%20%29.addTo%28map_bb9a0736adde40079461befc4b5e56dd%29%3B%0A%20%20%20%20%20%20%20%20%0A%20%20%20%20%0A%20%20%20%20%20%20%20%20var%20popup_d03058fb29754a8da94a214c77019f28%20%3D%20L.popup%28%7B%22maxWidth%22%3A%20%22100%25%22%7D%29%3B%0A%0A%20%20%20%20%20%20%20%20%0A%20%20%20%20%20%20%20%20%20%20%20%20var%20html_dc3761f3d12640f2858bc82d7d5aec9c%20%3D%20%24%28%60%3Cdiv%20id%3D%22html_dc3761f3d12640f2858bc82d7d5aec9c%22%20style%3D%22width%3A%20100.0%25%3B%20height%3A%20100.0%25%3B%22%3E0%20%20%20%20%20%20%20%20%20EastToronto%201%20%20%20%20%20%20%20%20%20EastToronto%202%20%20%20%20%20%20%20%20%20EastToronto%203%20%20%20%20%20%20%20%20%20EastToronto%204%20%20%20%20%20%20CentralToronto%205%20%20%20%20%20%20CentralToronto%206%20%20%20%20%20%20CentralToronto%207%20%20%20%20%20%20CentralToronto%208%20%20%20%20%20%20CentralToronto%209%20%20%20%20%20%20CentralToronto%2010%20%20%20%20DowntownToronto%2011%20%20%20%20DowntownToronto%2012%20%20%20%20DowntownToronto%2013%20%20%20%20DowntownToronto%2014%20%20%20%20DowntownToronto%2015%20%20%20%20DowntownToronto%2016%20%20%20%20DowntownToronto%2017%20%20%20%20DowntownToronto%2018%20%20%20%20DowntownToronto%2019%20%20%20%20DowntownToronto%2020%20%20%20%20DowntownToronto%2021%20%20%20%20DowntownToronto%2022%20%20%20%20%20CentralToronto%2023%20%20%20%20%20CentralToronto%2024%20%20%20%20%20CentralToronto%2025%20%20%20%20DowntownToronto%2026%20%20%20%20DowntownToronto%2027%20%20%20%20DowntownToronto%2028%20%20%20%20DowntownToronto%2029%20%20%20%20DowntownToronto%2030%20%20%20%20DowntownToronto%2031%20%20%20%20%20%20%20%20WestToronto%2032%20%20%20%20%20%20%20%20WestToronto%2033%20%20%20%20%20%20%20%20WestToronto%2034%20%20%20%20%20%20%20%20WestToronto%2035%20%20%20%20%20%20%20%20WestToronto%2036%20%20%20%20%20%20%20%20WestToronto%2037%20%20%20%20DowntownToronto%2038%20%20%20%20%20%20%20%20EastToronto%20Name%3A%20Borough%2C%20dtype%3A%20object%20Cluster%202%3C/div%3E%60%29%5B0%5D%3B%0A%20%20%20%20%20%20%20%20%20%20%20%20popup_d03058fb29754a8da94a214c77019f28.setContent%28html_dc3761f3d12640f2858bc82d7d5aec9c%29%3B%0A%20%20%20%20%20%20%20%20%0A%0A%20%20%20%20%20%20%20%20circle_marker_f1ac3d0ab7cc427f9aea33581fd345aa.bindPopup%28popup_d03058fb29754a8da94a214c77019f28%29%0A%20%20%20%20%20%20%20%20%3B%0A%0A%20%20%20%20%20%20%20%20%0A%20%20%20%20%0A%20%20%20%20%0A%20%20%20%20%20%20%20%20%20%20%20%20var%20circle_marker_b1c73107e18f48f395dcf84ff9f85038%20%3D%20L.circleMarker%28%0A%20%20%20%20%20%20%20%20%20%20%20%20%20%20%20%20%5B43.7153834%2C%20-79.40567840000001%5D%2C%0A%20%20%20%20%20%20%20%20%20%20%20%20%20%20%20%20%7B%22bubblingMouseEvents%22%3A%20true%2C%20%22color%22%3A%20%22%232adddd%22%2C%20%22dashArray%22%3A%20null%2C%20%22dashOffset%22%3A%20null%2C%20%22fill%22%3A%20true%2C%20%22fillColor%22%3A%20%22%232adddd%22%2C%20%22fillOpacity%22%3A%200.7%2C%20%22fillRule%22%3A%20%22evenodd%22%2C%20%22lineCap%22%3A%20%22round%22%2C%20%22lineJoin%22%3A%20%22round%22%2C%20%22opacity%22%3A%201.0%2C%20%22radius%22%3A%205%2C%20%22stroke%22%3A%20true%2C%20%22weight%22%3A%203%7D%0A%20%20%20%20%20%20%20%20%20%20%20%20%29.addTo%28map_bb9a0736adde40079461befc4b5e56dd%29%3B%0A%20%20%20%20%20%20%20%20%0A%20%20%20%20%0A%20%20%20%20%20%20%20%20var%20popup_fd4d7356da1b4bac9eeea618a5b753b7%20%3D%20L.popup%28%7B%22maxWidth%22%3A%20%22100%25%22%7D%29%3B%0A%0A%20%20%20%20%20%20%20%20%0A%20%20%20%20%20%20%20%20%20%20%20%20var%20html_27475ba791ed4cb994c021ff00b633f1%20%3D%20%24%28%60%3Cdiv%20id%3D%22html_27475ba791ed4cb994c021ff00b633f1%22%20style%3D%22width%3A%20100.0%25%3B%20height%3A%20100.0%25%3B%22%3E0%20%20%20%20%20%20%20%20%20EastToronto%201%20%20%20%20%20%20%20%20%20EastToronto%202%20%20%20%20%20%20%20%20%20EastToronto%203%20%20%20%20%20%20%20%20%20EastToronto%204%20%20%20%20%20%20CentralToronto%205%20%20%20%20%20%20CentralToronto%206%20%20%20%20%20%20CentralToronto%207%20%20%20%20%20%20CentralToronto%208%20%20%20%20%20%20CentralToronto%209%20%20%20%20%20%20CentralToronto%2010%20%20%20%20DowntownToronto%2011%20%20%20%20DowntownToronto%2012%20%20%20%20DowntownToronto%2013%20%20%20%20DowntownToronto%2014%20%20%20%20DowntownToronto%2015%20%20%20%20DowntownToronto%2016%20%20%20%20DowntownToronto%2017%20%20%20%20DowntownToronto%2018%20%20%20%20DowntownToronto%2019%20%20%20%20DowntownToronto%2020%20%20%20%20DowntownToronto%2021%20%20%20%20DowntownToronto%2022%20%20%20%20%20CentralToronto%2023%20%20%20%20%20CentralToronto%2024%20%20%20%20%20CentralToronto%2025%20%20%20%20DowntownToronto%2026%20%20%20%20DowntownToronto%2027%20%20%20%20DowntownToronto%2028%20%20%20%20DowntownToronto%2029%20%20%20%20DowntownToronto%2030%20%20%20%20DowntownToronto%2031%20%20%20%20%20%20%20%20WestToronto%2032%20%20%20%20%20%20%20%20WestToronto%2033%20%20%20%20%20%20%20%20WestToronto%2034%20%20%20%20%20%20%20%20WestToronto%2035%20%20%20%20%20%20%20%20WestToronto%2036%20%20%20%20%20%20%20%20WestToronto%2037%20%20%20%20DowntownToronto%2038%20%20%20%20%20%20%20%20EastToronto%20Name%3A%20Borough%2C%20dtype%3A%20object%20Cluster%202%3C/div%3E%60%29%5B0%5D%3B%0A%20%20%20%20%20%20%20%20%20%20%20%20popup_fd4d7356da1b4bac9eeea618a5b753b7.setContent%28html_27475ba791ed4cb994c021ff00b633f1%29%3B%0A%20%20%20%20%20%20%20%20%0A%0A%20%20%20%20%20%20%20%20circle_marker_b1c73107e18f48f395dcf84ff9f85038.bindPopup%28popup_fd4d7356da1b4bac9eeea618a5b753b7%29%0A%20%20%20%20%20%20%20%20%3B%0A%0A%20%20%20%20%20%20%20%20%0A%20%20%20%20%0A%20%20%20%20%0A%20%20%20%20%20%20%20%20%20%20%20%20var%20circle_marker_a1a1de2cbdbb45cab515896360ce8c1b%20%3D%20L.circleMarker%28%0A%20%20%20%20%20%20%20%20%20%20%20%20%20%20%20%20%5B43.7043244%2C%20-79.3887901%5D%2C%0A%20%20%20%20%20%20%20%20%20%20%20%20%20%20%20%20%7B%22bubblingMouseEvents%22%3A%20true%2C%20%22color%22%3A%20%22%232adddd%22%2C%20%22dashArray%22%3A%20null%2C%20%22dashOffset%22%3A%20null%2C%20%22fill%22%3A%20true%2C%20%22fillColor%22%3A%20%22%232adddd%22%2C%20%22fillOpacity%22%3A%200.7%2C%20%22fillRule%22%3A%20%22evenodd%22%2C%20%22lineCap%22%3A%20%22round%22%2C%20%22lineJoin%22%3A%20%22round%22%2C%20%22opacity%22%3A%201.0%2C%20%22radius%22%3A%205%2C%20%22stroke%22%3A%20true%2C%20%22weight%22%3A%203%7D%0A%20%20%20%20%20%20%20%20%20%20%20%20%29.addTo%28map_bb9a0736adde40079461befc4b5e56dd%29%3B%0A%20%20%20%20%20%20%20%20%0A%20%20%20%20%0A%20%20%20%20%20%20%20%20var%20popup_37f34f03cdc640f8a146c22b0f955701%20%3D%20L.popup%28%7B%22maxWidth%22%3A%20%22100%25%22%7D%29%3B%0A%0A%20%20%20%20%20%20%20%20%0A%20%20%20%20%20%20%20%20%20%20%20%20var%20html_5c5751de83be4be38c2070d184dcfe57%20%3D%20%24%28%60%3Cdiv%20id%3D%22html_5c5751de83be4be38c2070d184dcfe57%22%20style%3D%22width%3A%20100.0%25%3B%20height%3A%20100.0%25%3B%22%3E0%20%20%20%20%20%20%20%20%20EastToronto%201%20%20%20%20%20%20%20%20%20EastToronto%202%20%20%20%20%20%20%20%20%20EastToronto%203%20%20%20%20%20%20%20%20%20EastToronto%204%20%20%20%20%20%20CentralToronto%205%20%20%20%20%20%20CentralToronto%206%20%20%20%20%20%20CentralToronto%207%20%20%20%20%20%20CentralToronto%208%20%20%20%20%20%20CentralToronto%209%20%20%20%20%20%20CentralToronto%2010%20%20%20%20DowntownToronto%2011%20%20%20%20DowntownToronto%2012%20%20%20%20DowntownToronto%2013%20%20%20%20DowntownToronto%2014%20%20%20%20DowntownToronto%2015%20%20%20%20DowntownToronto%2016%20%20%20%20DowntownToronto%2017%20%20%20%20DowntownToronto%2018%20%20%20%20DowntownToronto%2019%20%20%20%20DowntownToronto%2020%20%20%20%20DowntownToronto%2021%20%20%20%20DowntownToronto%2022%20%20%20%20%20CentralToronto%2023%20%20%20%20%20CentralToronto%2024%20%20%20%20%20CentralToronto%2025%20%20%20%20DowntownToronto%2026%20%20%20%20DowntownToronto%2027%20%20%20%20DowntownToronto%2028%20%20%20%20DowntownToronto%2029%20%20%20%20DowntownToronto%2030%20%20%20%20DowntownToronto%2031%20%20%20%20%20%20%20%20WestToronto%2032%20%20%20%20%20%20%20%20WestToronto%2033%20%20%20%20%20%20%20%20WestToronto%2034%20%20%20%20%20%20%20%20WestToronto%2035%20%20%20%20%20%20%20%20WestToronto%2036%20%20%20%20%20%20%20%20WestToronto%2037%20%20%20%20DowntownToronto%2038%20%20%20%20%20%20%20%20EastToronto%20Name%3A%20Borough%2C%20dtype%3A%20object%20Cluster%202%3C/div%3E%60%29%5B0%5D%3B%0A%20%20%20%20%20%20%20%20%20%20%20%20popup_37f34f03cdc640f8a146c22b0f955701.setContent%28html_5c5751de83be4be38c2070d184dcfe57%29%3B%0A%20%20%20%20%20%20%20%20%0A%0A%20%20%20%20%20%20%20%20circle_marker_a1a1de2cbdbb45cab515896360ce8c1b.bindPopup%28popup_37f34f03cdc640f8a146c22b0f955701%29%0A%20%20%20%20%20%20%20%20%3B%0A%0A%20%20%20%20%20%20%20%20%0A%20%20%20%20%0A%20%20%20%20%0A%20%20%20%20%20%20%20%20%20%20%20%20var%20circle_marker_25134dd464164661acab1eea50668193%20%3D%20L.circleMarker%28%0A%20%20%20%20%20%20%20%20%20%20%20%20%20%20%20%20%5B43.6895743%2C%20-79.38315990000001%5D%2C%0A%20%20%20%20%20%20%20%20%20%20%20%20%20%20%20%20%7B%22bubblingMouseEvents%22%3A%20true%2C%20%22color%22%3A%20%22%232adddd%22%2C%20%22dashArray%22%3A%20null%2C%20%22dashOffset%22%3A%20null%2C%20%22fill%22%3A%20true%2C%20%22fillColor%22%3A%20%22%232adddd%22%2C%20%22fillOpacity%22%3A%200.7%2C%20%22fillRule%22%3A%20%22evenodd%22%2C%20%22lineCap%22%3A%20%22round%22%2C%20%22lineJoin%22%3A%20%22round%22%2C%20%22opacity%22%3A%201.0%2C%20%22radius%22%3A%205%2C%20%22stroke%22%3A%20true%2C%20%22weight%22%3A%203%7D%0A%20%20%20%20%20%20%20%20%20%20%20%20%29.addTo%28map_bb9a0736adde40079461befc4b5e56dd%29%3B%0A%20%20%20%20%20%20%20%20%0A%20%20%20%20%0A%20%20%20%20%20%20%20%20var%20popup_5895b7b05cfe4d37942ec8b9da270e7e%20%3D%20L.popup%28%7B%22maxWidth%22%3A%20%22100%25%22%7D%29%3B%0A%0A%20%20%20%20%20%20%20%20%0A%20%20%20%20%20%20%20%20%20%20%20%20var%20html_4e2a733fd95546768e7937175d403127%20%3D%20%24%28%60%3Cdiv%20id%3D%22html_4e2a733fd95546768e7937175d403127%22%20style%3D%22width%3A%20100.0%25%3B%20height%3A%20100.0%25%3B%22%3E0%20%20%20%20%20%20%20%20%20EastToronto%201%20%20%20%20%20%20%20%20%20EastToronto%202%20%20%20%20%20%20%20%20%20EastToronto%203%20%20%20%20%20%20%20%20%20EastToronto%204%20%20%20%20%20%20CentralToronto%205%20%20%20%20%20%20CentralToronto%206%20%20%20%20%20%20CentralToronto%207%20%20%20%20%20%20CentralToronto%208%20%20%20%20%20%20CentralToronto%209%20%20%20%20%20%20CentralToronto%2010%20%20%20%20DowntownToronto%2011%20%20%20%20DowntownToronto%2012%20%20%20%20DowntownToronto%2013%20%20%20%20DowntownToronto%2014%20%20%20%20DowntownToronto%2015%20%20%20%20DowntownToronto%2016%20%20%20%20DowntownToronto%2017%20%20%20%20DowntownToronto%2018%20%20%20%20DowntownToronto%2019%20%20%20%20DowntownToronto%2020%20%20%20%20DowntownToronto%2021%20%20%20%20DowntownToronto%2022%20%20%20%20%20CentralToronto%2023%20%20%20%20%20CentralToronto%2024%20%20%20%20%20CentralToronto%2025%20%20%20%20DowntownToronto%2026%20%20%20%20DowntownToronto%2027%20%20%20%20DowntownToronto%2028%20%20%20%20DowntownToronto%2029%20%20%20%20DowntownToronto%2030%20%20%20%20DowntownToronto%2031%20%20%20%20%20%20%20%20WestToronto%2032%20%20%20%20%20%20%20%20WestToronto%2033%20%20%20%20%20%20%20%20WestToronto%2034%20%20%20%20%20%20%20%20WestToronto%2035%20%20%20%20%20%20%20%20WestToronto%2036%20%20%20%20%20%20%20%20WestToronto%2037%20%20%20%20DowntownToronto%2038%20%20%20%20%20%20%20%20EastToronto%20Name%3A%20Borough%2C%20dtype%3A%20object%20Cluster%202%3C/div%3E%60%29%5B0%5D%3B%0A%20%20%20%20%20%20%20%20%20%20%20%20popup_5895b7b05cfe4d37942ec8b9da270e7e.setContent%28html_4e2a733fd95546768e7937175d403127%29%3B%0A%20%20%20%20%20%20%20%20%0A%0A%20%20%20%20%20%20%20%20circle_marker_25134dd464164661acab1eea50668193.bindPopup%28popup_5895b7b05cfe4d37942ec8b9da270e7e%29%0A%20%20%20%20%20%20%20%20%3B%0A%0A%20%20%20%20%20%20%20%20%0A%20%20%20%20%0A%20%20%20%20%0A%20%20%20%20%20%20%20%20%20%20%20%20var%20circle_marker_94b9cef1e9664e2587289f95f6309b5f%20%3D%20L.circleMarker%28%0A%20%20%20%20%20%20%20%20%20%20%20%20%20%20%20%20%5B43.68641229999999%2C%20-79.4000493%5D%2C%0A%20%20%20%20%20%20%20%20%20%20%20%20%20%20%20%20%7B%22bubblingMouseEvents%22%3A%20true%2C%20%22color%22%3A%20%22%232adddd%22%2C%20%22dashArray%22%3A%20null%2C%20%22dashOffset%22%3A%20null%2C%20%22fill%22%3A%20true%2C%20%22fillColor%22%3A%20%22%232adddd%22%2C%20%22fillOpacity%22%3A%200.7%2C%20%22fillRule%22%3A%20%22evenodd%22%2C%20%22lineCap%22%3A%20%22round%22%2C%20%22lineJoin%22%3A%20%22round%22%2C%20%22opacity%22%3A%201.0%2C%20%22radius%22%3A%205%2C%20%22stroke%22%3A%20true%2C%20%22weight%22%3A%203%7D%0A%20%20%20%20%20%20%20%20%20%20%20%20%29.addTo%28map_bb9a0736adde40079461befc4b5e56dd%29%3B%0A%20%20%20%20%20%20%20%20%0A%20%20%20%20%0A%20%20%20%20%20%20%20%20var%20popup_bdde37171e4c453194e994b927c1790d%20%3D%20L.popup%28%7B%22maxWidth%22%3A%20%22100%25%22%7D%29%3B%0A%0A%20%20%20%20%20%20%20%20%0A%20%20%20%20%20%20%20%20%20%20%20%20var%20html_408b395053af470cba6e0a5027fdfcd8%20%3D%20%24%28%60%3Cdiv%20id%3D%22html_408b395053af470cba6e0a5027fdfcd8%22%20style%3D%22width%3A%20100.0%25%3B%20height%3A%20100.0%25%3B%22%3E0%20%20%20%20%20%20%20%20%20EastToronto%201%20%20%20%20%20%20%20%20%20EastToronto%202%20%20%20%20%20%20%20%20%20EastToronto%203%20%20%20%20%20%20%20%20%20EastToronto%204%20%20%20%20%20%20CentralToronto%205%20%20%20%20%20%20CentralToronto%206%20%20%20%20%20%20CentralToronto%207%20%20%20%20%20%20CentralToronto%208%20%20%20%20%20%20CentralToronto%209%20%20%20%20%20%20CentralToronto%2010%20%20%20%20DowntownToronto%2011%20%20%20%20DowntownToronto%2012%20%20%20%20DowntownToronto%2013%20%20%20%20DowntownToronto%2014%20%20%20%20DowntownToronto%2015%20%20%20%20DowntownToronto%2016%20%20%20%20DowntownToronto%2017%20%20%20%20DowntownToronto%2018%20%20%20%20DowntownToronto%2019%20%20%20%20DowntownToronto%2020%20%20%20%20DowntownToronto%2021%20%20%20%20DowntownToronto%2022%20%20%20%20%20CentralToronto%2023%20%20%20%20%20CentralToronto%2024%20%20%20%20%20CentralToronto%2025%20%20%20%20DowntownToronto%2026%20%20%20%20DowntownToronto%2027%20%20%20%20DowntownToronto%2028%20%20%20%20DowntownToronto%2029%20%20%20%20DowntownToronto%2030%20%20%20%20DowntownToronto%2031%20%20%20%20%20%20%20%20WestToronto%2032%20%20%20%20%20%20%20%20WestToronto%2033%20%20%20%20%20%20%20%20WestToronto%2034%20%20%20%20%20%20%20%20WestToronto%2035%20%20%20%20%20%20%20%20WestToronto%2036%20%20%20%20%20%20%20%20WestToronto%2037%20%20%20%20DowntownToronto%2038%20%20%20%20%20%20%20%20EastToronto%20Name%3A%20Borough%2C%20dtype%3A%20object%20Cluster%202%3C/div%3E%60%29%5B0%5D%3B%0A%20%20%20%20%20%20%20%20%20%20%20%20popup_bdde37171e4c453194e994b927c1790d.setContent%28html_408b395053af470cba6e0a5027fdfcd8%29%3B%0A%20%20%20%20%20%20%20%20%0A%0A%20%20%20%20%20%20%20%20circle_marker_94b9cef1e9664e2587289f95f6309b5f.bindPopup%28popup_bdde37171e4c453194e994b927c1790d%29%0A%20%20%20%20%20%20%20%20%3B%0A%0A%20%20%20%20%20%20%20%20%0A%20%20%20%20%0A%20%20%20%20%0A%20%20%20%20%20%20%20%20%20%20%20%20var%20circle_marker_4e8bb2074b274fc082d8ddf299bd319e%20%3D%20L.circleMarker%28%0A%20%20%20%20%20%20%20%20%20%20%20%20%20%20%20%20%5B43.6795626%2C%20-79.37752940000001%5D%2C%0A%20%20%20%20%20%20%20%20%20%20%20%20%20%20%20%20%7B%22bubblingMouseEvents%22%3A%20true%2C%20%22color%22%3A%20%22%238000ff%22%2C%20%22dashArray%22%3A%20null%2C%20%22dashOffset%22%3A%20null%2C%20%22fill%22%3A%20true%2C%20%22fillColor%22%3A%20%22%238000ff%22%2C%20%22fillOpacity%22%3A%200.7%2C%20%22fillRule%22%3A%20%22evenodd%22%2C%20%22lineCap%22%3A%20%22round%22%2C%20%22lineJoin%22%3A%20%22round%22%2C%20%22opacity%22%3A%201.0%2C%20%22radius%22%3A%205%2C%20%22stroke%22%3A%20true%2C%20%22weight%22%3A%203%7D%0A%20%20%20%20%20%20%20%20%20%20%20%20%29.addTo%28map_bb9a0736adde40079461befc4b5e56dd%29%3B%0A%20%20%20%20%20%20%20%20%0A%20%20%20%20%0A%20%20%20%20%20%20%20%20var%20popup_1188d0b742d64edeac4eaac1bab3b7d2%20%3D%20L.popup%28%7B%22maxWidth%22%3A%20%22100%25%22%7D%29%3B%0A%0A%20%20%20%20%20%20%20%20%0A%20%20%20%20%20%20%20%20%20%20%20%20var%20html_8b83db66024e40dbafe2efa0abd5e3f7%20%3D%20%24%28%60%3Cdiv%20id%3D%22html_8b83db66024e40dbafe2efa0abd5e3f7%22%20style%3D%22width%3A%20100.0%25%3B%20height%3A%20100.0%25%3B%22%3E0%20%20%20%20%20%20%20%20%20EastToronto%201%20%20%20%20%20%20%20%20%20EastToronto%202%20%20%20%20%20%20%20%20%20EastToronto%203%20%20%20%20%20%20%20%20%20EastToronto%204%20%20%20%20%20%20CentralToronto%205%20%20%20%20%20%20CentralToronto%206%20%20%20%20%20%20CentralToronto%207%20%20%20%20%20%20CentralToronto%208%20%20%20%20%20%20CentralToronto%209%20%20%20%20%20%20CentralToronto%2010%20%20%20%20DowntownToronto%2011%20%20%20%20DowntownToronto%2012%20%20%20%20DowntownToronto%2013%20%20%20%20DowntownToronto%2014%20%20%20%20DowntownToronto%2015%20%20%20%20DowntownToronto%2016%20%20%20%20DowntownToronto%2017%20%20%20%20DowntownToronto%2018%20%20%20%20DowntownToronto%2019%20%20%20%20DowntownToronto%2020%20%20%20%20DowntownToronto%2021%20%20%20%20DowntownToronto%2022%20%20%20%20%20CentralToronto%2023%20%20%20%20%20CentralToronto%2024%20%20%20%20%20CentralToronto%2025%20%20%20%20DowntownToronto%2026%20%20%20%20DowntownToronto%2027%20%20%20%20DowntownToronto%2028%20%20%20%20DowntownToronto%2029%20%20%20%20DowntownToronto%2030%20%20%20%20DowntownToronto%2031%20%20%20%20%20%20%20%20WestToronto%2032%20%20%20%20%20%20%20%20WestToronto%2033%20%20%20%20%20%20%20%20WestToronto%2034%20%20%20%20%20%20%20%20WestToronto%2035%20%20%20%20%20%20%20%20WestToronto%2036%20%20%20%20%20%20%20%20WestToronto%2037%20%20%20%20DowntownToronto%2038%20%20%20%20%20%20%20%20EastToronto%20Name%3A%20Borough%2C%20dtype%3A%20object%20Cluster%201%3C/div%3E%60%29%5B0%5D%3B%0A%20%20%20%20%20%20%20%20%20%20%20%20popup_1188d0b742d64edeac4eaac1bab3b7d2.setContent%28html_8b83db66024e40dbafe2efa0abd5e3f7%29%3B%0A%20%20%20%20%20%20%20%20%0A%0A%20%20%20%20%20%20%20%20circle_marker_4e8bb2074b274fc082d8ddf299bd319e.bindPopup%28popup_1188d0b742d64edeac4eaac1bab3b7d2%29%0A%20%20%20%20%20%20%20%20%3B%0A%0A%20%20%20%20%20%20%20%20%0A%20%20%20%20%0A%20%20%20%20%0A%20%20%20%20%20%20%20%20%20%20%20%20var%20circle_marker_247e8b9ddb544f5280cc214773bee7df%20%3D%20L.circleMarker%28%0A%20%20%20%20%20%20%20%20%20%20%20%20%20%20%20%20%5B43.667967%2C%20-79.3676753%5D%2C%0A%20%20%20%20%20%20%20%20%20%20%20%20%20%20%20%20%7B%22bubblingMouseEvents%22%3A%20true%2C%20%22color%22%3A%20%22%238000ff%22%2C%20%22dashArray%22%3A%20null%2C%20%22dashOffset%22%3A%20null%2C%20%22fill%22%3A%20true%2C%20%22fillColor%22%3A%20%22%238000ff%22%2C%20%22fillOpacity%22%3A%200.7%2C%20%22fillRule%22%3A%20%22evenodd%22%2C%20%22lineCap%22%3A%20%22round%22%2C%20%22lineJoin%22%3A%20%22round%22%2C%20%22opacity%22%3A%201.0%2C%20%22radius%22%3A%205%2C%20%22stroke%22%3A%20true%2C%20%22weight%22%3A%203%7D%0A%20%20%20%20%20%20%20%20%20%20%20%20%29.addTo%28map_bb9a0736adde40079461befc4b5e56dd%29%3B%0A%20%20%20%20%20%20%20%20%0A%20%20%20%20%0A%20%20%20%20%20%20%20%20var%20popup_aa89e8ad37b140f1bafaa6146adfeadf%20%3D%20L.popup%28%7B%22maxWidth%22%3A%20%22100%25%22%7D%29%3B%0A%0A%20%20%20%20%20%20%20%20%0A%20%20%20%20%20%20%20%20%20%20%20%20var%20html_252a6e5a4ef54a22a6806a9540d436da%20%3D%20%24%28%60%3Cdiv%20id%3D%22html_252a6e5a4ef54a22a6806a9540d436da%22%20style%3D%22width%3A%20100.0%25%3B%20height%3A%20100.0%25%3B%22%3E0%20%20%20%20%20%20%20%20%20EastToronto%201%20%20%20%20%20%20%20%20%20EastToronto%202%20%20%20%20%20%20%20%20%20EastToronto%203%20%20%20%20%20%20%20%20%20EastToronto%204%20%20%20%20%20%20CentralToronto%205%20%20%20%20%20%20CentralToronto%206%20%20%20%20%20%20CentralToronto%207%20%20%20%20%20%20CentralToronto%208%20%20%20%20%20%20CentralToronto%209%20%20%20%20%20%20CentralToronto%2010%20%20%20%20DowntownToronto%2011%20%20%20%20DowntownToronto%2012%20%20%20%20DowntownToronto%2013%20%20%20%20DowntownToronto%2014%20%20%20%20DowntownToronto%2015%20%20%20%20DowntownToronto%2016%20%20%20%20DowntownToronto%2017%20%20%20%20DowntownToronto%2018%20%20%20%20DowntownToronto%2019%20%20%20%20DowntownToronto%2020%20%20%20%20DowntownToronto%2021%20%20%20%20DowntownToronto%2022%20%20%20%20%20CentralToronto%2023%20%20%20%20%20CentralToronto%2024%20%20%20%20%20CentralToronto%2025%20%20%20%20DowntownToronto%2026%20%20%20%20DowntownToronto%2027%20%20%20%20DowntownToronto%2028%20%20%20%20DowntownToronto%2029%20%20%20%20DowntownToronto%2030%20%20%20%20DowntownToronto%2031%20%20%20%20%20%20%20%20WestToronto%2032%20%20%20%20%20%20%20%20WestToronto%2033%20%20%20%20%20%20%20%20WestToronto%2034%20%20%20%20%20%20%20%20WestToronto%2035%20%20%20%20%20%20%20%20WestToronto%2036%20%20%20%20%20%20%20%20WestToronto%2037%20%20%20%20DowntownToronto%2038%20%20%20%20%20%20%20%20EastToronto%20Name%3A%20Borough%2C%20dtype%3A%20object%20Cluster%201%3C/div%3E%60%29%5B0%5D%3B%0A%20%20%20%20%20%20%20%20%20%20%20%20popup_aa89e8ad37b140f1bafaa6146adfeadf.setContent%28html_252a6e5a4ef54a22a6806a9540d436da%29%3B%0A%20%20%20%20%20%20%20%20%0A%0A%20%20%20%20%20%20%20%20circle_marker_247e8b9ddb544f5280cc214773bee7df.bindPopup%28popup_aa89e8ad37b140f1bafaa6146adfeadf%29%0A%20%20%20%20%20%20%20%20%3B%0A%0A%20%20%20%20%20%20%20%20%0A%20%20%20%20%0A%20%20%20%20%0A%20%20%20%20%20%20%20%20%20%20%20%20var%20circle_marker_ae3ad2d362664edfb67145b2d78f5ded%20%3D%20L.circleMarker%28%0A%20%20%20%20%20%20%20%20%20%20%20%20%20%20%20%20%5B43.6658599%2C%20-79.38315990000001%5D%2C%0A%20%20%20%20%20%20%20%20%20%20%20%20%20%20%20%20%7B%22bubblingMouseEvents%22%3A%20true%2C%20%22color%22%3A%20%22%238000ff%22%2C%20%22dashArray%22%3A%20null%2C%20%22dashOffset%22%3A%20null%2C%20%22fill%22%3A%20true%2C%20%22fillColor%22%3A%20%22%238000ff%22%2C%20%22fillOpacity%22%3A%200.7%2C%20%22fillRule%22%3A%20%22evenodd%22%2C%20%22lineCap%22%3A%20%22round%22%2C%20%22lineJoin%22%3A%20%22round%22%2C%20%22opacity%22%3A%201.0%2C%20%22radius%22%3A%205%2C%20%22stroke%22%3A%20true%2C%20%22weight%22%3A%203%7D%0A%20%20%20%20%20%20%20%20%20%20%20%20%29.addTo%28map_bb9a0736adde40079461befc4b5e56dd%29%3B%0A%20%20%20%20%20%20%20%20%0A%20%20%20%20%0A%20%20%20%20%20%20%20%20var%20popup_15c8b495d5074e1da072b6c7cafb4447%20%3D%20L.popup%28%7B%22maxWidth%22%3A%20%22100%25%22%7D%29%3B%0A%0A%20%20%20%20%20%20%20%20%0A%20%20%20%20%20%20%20%20%20%20%20%20var%20html_abea0b8be22b443fa2a704b8917eca02%20%3D%20%24%28%60%3Cdiv%20id%3D%22html_abea0b8be22b443fa2a704b8917eca02%22%20style%3D%22width%3A%20100.0%25%3B%20height%3A%20100.0%25%3B%22%3E0%20%20%20%20%20%20%20%20%20EastToronto%201%20%20%20%20%20%20%20%20%20EastToronto%202%20%20%20%20%20%20%20%20%20EastToronto%203%20%20%20%20%20%20%20%20%20EastToronto%204%20%20%20%20%20%20CentralToronto%205%20%20%20%20%20%20CentralToronto%206%20%20%20%20%20%20CentralToronto%207%20%20%20%20%20%20CentralToronto%208%20%20%20%20%20%20CentralToronto%209%20%20%20%20%20%20CentralToronto%2010%20%20%20%20DowntownToronto%2011%20%20%20%20DowntownToronto%2012%20%20%20%20DowntownToronto%2013%20%20%20%20DowntownToronto%2014%20%20%20%20DowntownToronto%2015%20%20%20%20DowntownToronto%2016%20%20%20%20DowntownToronto%2017%20%20%20%20DowntownToronto%2018%20%20%20%20DowntownToronto%2019%20%20%20%20DowntownToronto%2020%20%20%20%20DowntownToronto%2021%20%20%20%20DowntownToronto%2022%20%20%20%20%20CentralToronto%2023%20%20%20%20%20CentralToronto%2024%20%20%20%20%20CentralToronto%2025%20%20%20%20DowntownToronto%2026%20%20%20%20DowntownToronto%2027%20%20%20%20DowntownToronto%2028%20%20%20%20DowntownToronto%2029%20%20%20%20DowntownToronto%2030%20%20%20%20DowntownToronto%2031%20%20%20%20%20%20%20%20WestToronto%2032%20%20%20%20%20%20%20%20WestToronto%2033%20%20%20%20%20%20%20%20WestToronto%2034%20%20%20%20%20%20%20%20WestToronto%2035%20%20%20%20%20%20%20%20WestToronto%2036%20%20%20%20%20%20%20%20WestToronto%2037%20%20%20%20DowntownToronto%2038%20%20%20%20%20%20%20%20EastToronto%20Name%3A%20Borough%2C%20dtype%3A%20object%20Cluster%201%3C/div%3E%60%29%5B0%5D%3B%0A%20%20%20%20%20%20%20%20%20%20%20%20popup_15c8b495d5074e1da072b6c7cafb4447.setContent%28html_abea0b8be22b443fa2a704b8917eca02%29%3B%0A%20%20%20%20%20%20%20%20%0A%0A%20%20%20%20%20%20%20%20circle_marker_ae3ad2d362664edfb67145b2d78f5ded.bindPopup%28popup_15c8b495d5074e1da072b6c7cafb4447%29%0A%20%20%20%20%20%20%20%20%3B%0A%0A%20%20%20%20%20%20%20%20%0A%20%20%20%20%0A%20%20%20%20%0A%20%20%20%20%20%20%20%20%20%20%20%20var%20circle_marker_707cfd542fd94b488d6341e6ce1a0b8b%20%3D%20L.circleMarker%28%0A%20%20%20%20%20%20%20%20%20%20%20%20%20%20%20%20%5B43.6542599%2C%20-79.3606359%5D%2C%0A%20%20%20%20%20%20%20%20%20%20%20%20%20%20%20%20%7B%22bubblingMouseEvents%22%3A%20true%2C%20%22color%22%3A%20%22%238000ff%22%2C%20%22dashArray%22%3A%20null%2C%20%22dashOffset%22%3A%20null%2C%20%22fill%22%3A%20true%2C%20%22fillColor%22%3A%20%22%238000ff%22%2C%20%22fillOpacity%22%3A%200.7%2C%20%22fillRule%22%3A%20%22evenodd%22%2C%20%22lineCap%22%3A%20%22round%22%2C%20%22lineJoin%22%3A%20%22round%22%2C%20%22opacity%22%3A%201.0%2C%20%22radius%22%3A%205%2C%20%22stroke%22%3A%20true%2C%20%22weight%22%3A%203%7D%0A%20%20%20%20%20%20%20%20%20%20%20%20%29.addTo%28map_bb9a0736adde40079461befc4b5e56dd%29%3B%0A%20%20%20%20%20%20%20%20%0A%20%20%20%20%0A%20%20%20%20%20%20%20%20var%20popup_5bfa18973751448fa95d6dc891abebb4%20%3D%20L.popup%28%7B%22maxWidth%22%3A%20%22100%25%22%7D%29%3B%0A%0A%20%20%20%20%20%20%20%20%0A%20%20%20%20%20%20%20%20%20%20%20%20var%20html_16a6680e28dc408f8a22307024261b75%20%3D%20%24%28%60%3Cdiv%20id%3D%22html_16a6680e28dc408f8a22307024261b75%22%20style%3D%22width%3A%20100.0%25%3B%20height%3A%20100.0%25%3B%22%3E0%20%20%20%20%20%20%20%20%20EastToronto%201%20%20%20%20%20%20%20%20%20EastToronto%202%20%20%20%20%20%20%20%20%20EastToronto%203%20%20%20%20%20%20%20%20%20EastToronto%204%20%20%20%20%20%20CentralToronto%205%20%20%20%20%20%20CentralToronto%206%20%20%20%20%20%20CentralToronto%207%20%20%20%20%20%20CentralToronto%208%20%20%20%20%20%20CentralToronto%209%20%20%20%20%20%20CentralToronto%2010%20%20%20%20DowntownToronto%2011%20%20%20%20DowntownToronto%2012%20%20%20%20DowntownToronto%2013%20%20%20%20DowntownToronto%2014%20%20%20%20DowntownToronto%2015%20%20%20%20DowntownToronto%2016%20%20%20%20DowntownToronto%2017%20%20%20%20DowntownToronto%2018%20%20%20%20DowntownToronto%2019%20%20%20%20DowntownToronto%2020%20%20%20%20DowntownToronto%2021%20%20%20%20DowntownToronto%2022%20%20%20%20%20CentralToronto%2023%20%20%20%20%20CentralToronto%2024%20%20%20%20%20CentralToronto%2025%20%20%20%20DowntownToronto%2026%20%20%20%20DowntownToronto%2027%20%20%20%20DowntownToronto%2028%20%20%20%20DowntownToronto%2029%20%20%20%20DowntownToronto%2030%20%20%20%20DowntownToronto%2031%20%20%20%20%20%20%20%20WestToronto%2032%20%20%20%20%20%20%20%20WestToronto%2033%20%20%20%20%20%20%20%20WestToronto%2034%20%20%20%20%20%20%20%20WestToronto%2035%20%20%20%20%20%20%20%20WestToronto%2036%20%20%20%20%20%20%20%20WestToronto%2037%20%20%20%20DowntownToronto%2038%20%20%20%20%20%20%20%20EastToronto%20Name%3A%20Borough%2C%20dtype%3A%20object%20Cluster%201%3C/div%3E%60%29%5B0%5D%3B%0A%20%20%20%20%20%20%20%20%20%20%20%20popup_5bfa18973751448fa95d6dc891abebb4.setContent%28html_16a6680e28dc408f8a22307024261b75%29%3B%0A%20%20%20%20%20%20%20%20%0A%0A%20%20%20%20%20%20%20%20circle_marker_707cfd542fd94b488d6341e6ce1a0b8b.bindPopup%28popup_5bfa18973751448fa95d6dc891abebb4%29%0A%20%20%20%20%20%20%20%20%3B%0A%0A%20%20%20%20%20%20%20%20%0A%20%20%20%20%0A%20%20%20%20%0A%20%20%20%20%20%20%20%20%20%20%20%20var%20circle_marker_ae8b41c1fe2a4e10a9772e6c478cad53%20%3D%20L.circleMarker%28%0A%20%20%20%20%20%20%20%20%20%20%20%20%20%20%20%20%5B43.6571618%2C%20-79.37893709999999%5D%2C%0A%20%20%20%20%20%20%20%20%20%20%20%20%20%20%20%20%7B%22bubblingMouseEvents%22%3A%20true%2C%20%22color%22%3A%20%22%238000ff%22%2C%20%22dashArray%22%3A%20null%2C%20%22dashOffset%22%3A%20null%2C%20%22fill%22%3A%20true%2C%20%22fillColor%22%3A%20%22%238000ff%22%2C%20%22fillOpacity%22%3A%200.7%2C%20%22fillRule%22%3A%20%22evenodd%22%2C%20%22lineCap%22%3A%20%22round%22%2C%20%22lineJoin%22%3A%20%22round%22%2C%20%22opacity%22%3A%201.0%2C%20%22radius%22%3A%205%2C%20%22stroke%22%3A%20true%2C%20%22weight%22%3A%203%7D%0A%20%20%20%20%20%20%20%20%20%20%20%20%29.addTo%28map_bb9a0736adde40079461befc4b5e56dd%29%3B%0A%20%20%20%20%20%20%20%20%0A%20%20%20%20%0A%20%20%20%20%20%20%20%20var%20popup_6d3e5de8a40149d3952952b28f2dc253%20%3D%20L.popup%28%7B%22maxWidth%22%3A%20%22100%25%22%7D%29%3B%0A%0A%20%20%20%20%20%20%20%20%0A%20%20%20%20%20%20%20%20%20%20%20%20var%20html_6ce30821985143559b2fde1719f22e88%20%3D%20%24%28%60%3Cdiv%20id%3D%22html_6ce30821985143559b2fde1719f22e88%22%20style%3D%22width%3A%20100.0%25%3B%20height%3A%20100.0%25%3B%22%3E0%20%20%20%20%20%20%20%20%20EastToronto%201%20%20%20%20%20%20%20%20%20EastToronto%202%20%20%20%20%20%20%20%20%20EastToronto%203%20%20%20%20%20%20%20%20%20EastToronto%204%20%20%20%20%20%20CentralToronto%205%20%20%20%20%20%20CentralToronto%206%20%20%20%20%20%20CentralToronto%207%20%20%20%20%20%20CentralToronto%208%20%20%20%20%20%20CentralToronto%209%20%20%20%20%20%20CentralToronto%2010%20%20%20%20DowntownToronto%2011%20%20%20%20DowntownToronto%2012%20%20%20%20DowntownToronto%2013%20%20%20%20DowntownToronto%2014%20%20%20%20DowntownToronto%2015%20%20%20%20DowntownToronto%2016%20%20%20%20DowntownToronto%2017%20%20%20%20DowntownToronto%2018%20%20%20%20DowntownToronto%2019%20%20%20%20DowntownToronto%2020%20%20%20%20DowntownToronto%2021%20%20%20%20DowntownToronto%2022%20%20%20%20%20CentralToronto%2023%20%20%20%20%20CentralToronto%2024%20%20%20%20%20CentralToronto%2025%20%20%20%20DowntownToronto%2026%20%20%20%20DowntownToronto%2027%20%20%20%20DowntownToronto%2028%20%20%20%20DowntownToronto%2029%20%20%20%20DowntownToronto%2030%20%20%20%20DowntownToronto%2031%20%20%20%20%20%20%20%20WestToronto%2032%20%20%20%20%20%20%20%20WestToronto%2033%20%20%20%20%20%20%20%20WestToronto%2034%20%20%20%20%20%20%20%20WestToronto%2035%20%20%20%20%20%20%20%20WestToronto%2036%20%20%20%20%20%20%20%20WestToronto%2037%20%20%20%20DowntownToronto%2038%20%20%20%20%20%20%20%20EastToronto%20Name%3A%20Borough%2C%20dtype%3A%20object%20Cluster%201%3C/div%3E%60%29%5B0%5D%3B%0A%20%20%20%20%20%20%20%20%20%20%20%20popup_6d3e5de8a40149d3952952b28f2dc253.setContent%28html_6ce30821985143559b2fde1719f22e88%29%3B%0A%20%20%20%20%20%20%20%20%0A%0A%20%20%20%20%20%20%20%20circle_marker_ae8b41c1fe2a4e10a9772e6c478cad53.bindPopup%28popup_6d3e5de8a40149d3952952b28f2dc253%29%0A%20%20%20%20%20%20%20%20%3B%0A%0A%20%20%20%20%20%20%20%20%0A%20%20%20%20%0A%20%20%20%20%0A%20%20%20%20%20%20%20%20%20%20%20%20var%20circle_marker_95e96a1d90eb46c8929e742668cb43c5%20%3D%20L.circleMarker%28%0A%20%20%20%20%20%20%20%20%20%20%20%20%20%20%20%20%5B43.6514939%2C%20-79.3754179%5D%2C%0A%20%20%20%20%20%20%20%20%20%20%20%20%20%20%20%20%7B%22bubblingMouseEvents%22%3A%20true%2C%20%22color%22%3A%20%22%238000ff%22%2C%20%22dashArray%22%3A%20null%2C%20%22dashOffset%22%3A%20null%2C%20%22fill%22%3A%20true%2C%20%22fillColor%22%3A%20%22%238000ff%22%2C%20%22fillOpacity%22%3A%200.7%2C%20%22fillRule%22%3A%20%22evenodd%22%2C%20%22lineCap%22%3A%20%22round%22%2C%20%22lineJoin%22%3A%20%22round%22%2C%20%22opacity%22%3A%201.0%2C%20%22radius%22%3A%205%2C%20%22stroke%22%3A%20true%2C%20%22weight%22%3A%203%7D%0A%20%20%20%20%20%20%20%20%20%20%20%20%29.addTo%28map_bb9a0736adde40079461befc4b5e56dd%29%3B%0A%20%20%20%20%20%20%20%20%0A%20%20%20%20%0A%20%20%20%20%20%20%20%20var%20popup_f8fa6ff7b45e409d84f05e5f507fb20d%20%3D%20L.popup%28%7B%22maxWidth%22%3A%20%22100%25%22%7D%29%3B%0A%0A%20%20%20%20%20%20%20%20%0A%20%20%20%20%20%20%20%20%20%20%20%20var%20html_247028756c984b9eae4bbe4ac64e0378%20%3D%20%24%28%60%3Cdiv%20id%3D%22html_247028756c984b9eae4bbe4ac64e0378%22%20style%3D%22width%3A%20100.0%25%3B%20height%3A%20100.0%25%3B%22%3E0%20%20%20%20%20%20%20%20%20EastToronto%201%20%20%20%20%20%20%20%20%20EastToronto%202%20%20%20%20%20%20%20%20%20EastToronto%203%20%20%20%20%20%20%20%20%20EastToronto%204%20%20%20%20%20%20CentralToronto%205%20%20%20%20%20%20CentralToronto%206%20%20%20%20%20%20CentralToronto%207%20%20%20%20%20%20CentralToronto%208%20%20%20%20%20%20CentralToronto%209%20%20%20%20%20%20CentralToronto%2010%20%20%20%20DowntownToronto%2011%20%20%20%20DowntownToronto%2012%20%20%20%20DowntownToronto%2013%20%20%20%20DowntownToronto%2014%20%20%20%20DowntownToronto%2015%20%20%20%20DowntownToronto%2016%20%20%20%20DowntownToronto%2017%20%20%20%20DowntownToronto%2018%20%20%20%20DowntownToronto%2019%20%20%20%20DowntownToronto%2020%20%20%20%20DowntownToronto%2021%20%20%20%20DowntownToronto%2022%20%20%20%20%20CentralToronto%2023%20%20%20%20%20CentralToronto%2024%20%20%20%20%20CentralToronto%2025%20%20%20%20DowntownToronto%2026%20%20%20%20DowntownToronto%2027%20%20%20%20DowntownToronto%2028%20%20%20%20DowntownToronto%2029%20%20%20%20DowntownToronto%2030%20%20%20%20DowntownToronto%2031%20%20%20%20%20%20%20%20WestToronto%2032%20%20%20%20%20%20%20%20WestToronto%2033%20%20%20%20%20%20%20%20WestToronto%2034%20%20%20%20%20%20%20%20WestToronto%2035%20%20%20%20%20%20%20%20WestToronto%2036%20%20%20%20%20%20%20%20WestToronto%2037%20%20%20%20DowntownToronto%2038%20%20%20%20%20%20%20%20EastToronto%20Name%3A%20Borough%2C%20dtype%3A%20object%20Cluster%201%3C/div%3E%60%29%5B0%5D%3B%0A%20%20%20%20%20%20%20%20%20%20%20%20popup_f8fa6ff7b45e409d84f05e5f507fb20d.setContent%28html_247028756c984b9eae4bbe4ac64e0378%29%3B%0A%20%20%20%20%20%20%20%20%0A%0A%20%20%20%20%20%20%20%20circle_marker_95e96a1d90eb46c8929e742668cb43c5.bindPopup%28popup_f8fa6ff7b45e409d84f05e5f507fb20d%29%0A%20%20%20%20%20%20%20%20%3B%0A%0A%20%20%20%20%20%20%20%20%0A%20%20%20%20%0A%20%20%20%20%0A%20%20%20%20%20%20%20%20%20%20%20%20var%20circle_marker_38926d85b3914dff90da591f9eed3769%20%3D%20L.circleMarker%28%0A%20%20%20%20%20%20%20%20%20%20%20%20%20%20%20%20%5B43.644770799999996%2C%20-79.3733064%5D%2C%0A%20%20%20%20%20%20%20%20%20%20%20%20%20%20%20%20%7B%22bubblingMouseEvents%22%3A%20true%2C%20%22color%22%3A%20%22%238000ff%22%2C%20%22dashArray%22%3A%20null%2C%20%22dashOffset%22%3A%20null%2C%20%22fill%22%3A%20true%2C%20%22fillColor%22%3A%20%22%238000ff%22%2C%20%22fillOpacity%22%3A%200.7%2C%20%22fillRule%22%3A%20%22evenodd%22%2C%20%22lineCap%22%3A%20%22round%22%2C%20%22lineJoin%22%3A%20%22round%22%2C%20%22opacity%22%3A%201.0%2C%20%22radius%22%3A%205%2C%20%22stroke%22%3A%20true%2C%20%22weight%22%3A%203%7D%0A%20%20%20%20%20%20%20%20%20%20%20%20%29.addTo%28map_bb9a0736adde40079461befc4b5e56dd%29%3B%0A%20%20%20%20%20%20%20%20%0A%20%20%20%20%0A%20%20%20%20%20%20%20%20var%20popup_313519bfa36248c080239303835f6627%20%3D%20L.popup%28%7B%22maxWidth%22%3A%20%22100%25%22%7D%29%3B%0A%0A%20%20%20%20%20%20%20%20%0A%20%20%20%20%20%20%20%20%20%20%20%20var%20html_e4e50af69c0948c59d6469159ab55a93%20%3D%20%24%28%60%3Cdiv%20id%3D%22html_e4e50af69c0948c59d6469159ab55a93%22%20style%3D%22width%3A%20100.0%25%3B%20height%3A%20100.0%25%3B%22%3E0%20%20%20%20%20%20%20%20%20EastToronto%201%20%20%20%20%20%20%20%20%20EastToronto%202%20%20%20%20%20%20%20%20%20EastToronto%203%20%20%20%20%20%20%20%20%20EastToronto%204%20%20%20%20%20%20CentralToronto%205%20%20%20%20%20%20CentralToronto%206%20%20%20%20%20%20CentralToronto%207%20%20%20%20%20%20CentralToronto%208%20%20%20%20%20%20CentralToronto%209%20%20%20%20%20%20CentralToronto%2010%20%20%20%20DowntownToronto%2011%20%20%20%20DowntownToronto%2012%20%20%20%20DowntownToronto%2013%20%20%20%20DowntownToronto%2014%20%20%20%20DowntownToronto%2015%20%20%20%20DowntownToronto%2016%20%20%20%20DowntownToronto%2017%20%20%20%20DowntownToronto%2018%20%20%20%20DowntownToronto%2019%20%20%20%20DowntownToronto%2020%20%20%20%20DowntownToronto%2021%20%20%20%20DowntownToronto%2022%20%20%20%20%20CentralToronto%2023%20%20%20%20%20CentralToronto%2024%20%20%20%20%20CentralToronto%2025%20%20%20%20DowntownToronto%2026%20%20%20%20DowntownToronto%2027%20%20%20%20DowntownToronto%2028%20%20%20%20DowntownToronto%2029%20%20%20%20DowntownToronto%2030%20%20%20%20DowntownToronto%2031%20%20%20%20%20%20%20%20WestToronto%2032%20%20%20%20%20%20%20%20WestToronto%2033%20%20%20%20%20%20%20%20WestToronto%2034%20%20%20%20%20%20%20%20WestToronto%2035%20%20%20%20%20%20%20%20WestToronto%2036%20%20%20%20%20%20%20%20WestToronto%2037%20%20%20%20DowntownToronto%2038%20%20%20%20%20%20%20%20EastToronto%20Name%3A%20Borough%2C%20dtype%3A%20object%20Cluster%201%3C/div%3E%60%29%5B0%5D%3B%0A%20%20%20%20%20%20%20%20%20%20%20%20popup_313519bfa36248c080239303835f6627.setContent%28html_e4e50af69c0948c59d6469159ab55a93%29%3B%0A%20%20%20%20%20%20%20%20%0A%0A%20%20%20%20%20%20%20%20circle_marker_38926d85b3914dff90da591f9eed3769.bindPopup%28popup_313519bfa36248c080239303835f6627%29%0A%20%20%20%20%20%20%20%20%3B%0A%0A%20%20%20%20%20%20%20%20%0A%20%20%20%20%0A%20%20%20%20%0A%20%20%20%20%20%20%20%20%20%20%20%20var%20circle_marker_4bbcf36b0f5e4a4bb5ef595e976dd1be%20%3D%20L.circleMarker%28%0A%20%20%20%20%20%20%20%20%20%20%20%20%20%20%20%20%5B43.6579524%2C%20-79.3873826%5D%2C%0A%20%20%20%20%20%20%20%20%20%20%20%20%20%20%20%20%7B%22bubblingMouseEvents%22%3A%20true%2C%20%22color%22%3A%20%22%238000ff%22%2C%20%22dashArray%22%3A%20null%2C%20%22dashOffset%22%3A%20null%2C%20%22fill%22%3A%20true%2C%20%22fillColor%22%3A%20%22%238000ff%22%2C%20%22fillOpacity%22%3A%200.7%2C%20%22fillRule%22%3A%20%22evenodd%22%2C%20%22lineCap%22%3A%20%22round%22%2C%20%22lineJoin%22%3A%20%22round%22%2C%20%22opacity%22%3A%201.0%2C%20%22radius%22%3A%205%2C%20%22stroke%22%3A%20true%2C%20%22weight%22%3A%203%7D%0A%20%20%20%20%20%20%20%20%20%20%20%20%29.addTo%28map_bb9a0736adde40079461befc4b5e56dd%29%3B%0A%20%20%20%20%20%20%20%20%0A%20%20%20%20%0A%20%20%20%20%20%20%20%20var%20popup_3226bb0277e640b69069fa88065db3b8%20%3D%20L.popup%28%7B%22maxWidth%22%3A%20%22100%25%22%7D%29%3B%0A%0A%20%20%20%20%20%20%20%20%0A%20%20%20%20%20%20%20%20%20%20%20%20var%20html_1d17a711725e4154982863c898ac5e19%20%3D%20%24%28%60%3Cdiv%20id%3D%22html_1d17a711725e4154982863c898ac5e19%22%20style%3D%22width%3A%20100.0%25%3B%20height%3A%20100.0%25%3B%22%3E0%20%20%20%20%20%20%20%20%20EastToronto%201%20%20%20%20%20%20%20%20%20EastToronto%202%20%20%20%20%20%20%20%20%20EastToronto%203%20%20%20%20%20%20%20%20%20EastToronto%204%20%20%20%20%20%20CentralToronto%205%20%20%20%20%20%20CentralToronto%206%20%20%20%20%20%20CentralToronto%207%20%20%20%20%20%20CentralToronto%208%20%20%20%20%20%20CentralToronto%209%20%20%20%20%20%20CentralToronto%2010%20%20%20%20DowntownToronto%2011%20%20%20%20DowntownToronto%2012%20%20%20%20DowntownToronto%2013%20%20%20%20DowntownToronto%2014%20%20%20%20DowntownToronto%2015%20%20%20%20DowntownToronto%2016%20%20%20%20DowntownToronto%2017%20%20%20%20DowntownToronto%2018%20%20%20%20DowntownToronto%2019%20%20%20%20DowntownToronto%2020%20%20%20%20DowntownToronto%2021%20%20%20%20DowntownToronto%2022%20%20%20%20%20CentralToronto%2023%20%20%20%20%20CentralToronto%2024%20%20%20%20%20CentralToronto%2025%20%20%20%20DowntownToronto%2026%20%20%20%20DowntownToronto%2027%20%20%20%20DowntownToronto%2028%20%20%20%20DowntownToronto%2029%20%20%20%20DowntownToronto%2030%20%20%20%20DowntownToronto%2031%20%20%20%20%20%20%20%20WestToronto%2032%20%20%20%20%20%20%20%20WestToronto%2033%20%20%20%20%20%20%20%20WestToronto%2034%20%20%20%20%20%20%20%20WestToronto%2035%20%20%20%20%20%20%20%20WestToronto%2036%20%20%20%20%20%20%20%20WestToronto%2037%20%20%20%20DowntownToronto%2038%20%20%20%20%20%20%20%20EastToronto%20Name%3A%20Borough%2C%20dtype%3A%20object%20Cluster%201%3C/div%3E%60%29%5B0%5D%3B%0A%20%20%20%20%20%20%20%20%20%20%20%20popup_3226bb0277e640b69069fa88065db3b8.setContent%28html_1d17a711725e4154982863c898ac5e19%29%3B%0A%20%20%20%20%20%20%20%20%0A%0A%20%20%20%20%20%20%20%20circle_marker_4bbcf36b0f5e4a4bb5ef595e976dd1be.bindPopup%28popup_3226bb0277e640b69069fa88065db3b8%29%0A%20%20%20%20%20%20%20%20%3B%0A%0A%20%20%20%20%20%20%20%20%0A%20%20%20%20%0A%20%20%20%20%0A%20%20%20%20%20%20%20%20%20%20%20%20var%20circle_marker_d1964716946a4c74a8a4f6ff4fffca16%20%3D%20L.circleMarker%28%0A%20%20%20%20%20%20%20%20%20%20%20%20%20%20%20%20%5B43.65057120000001%2C%20-79.3845675%5D%2C%0A%20%20%20%20%20%20%20%20%20%20%20%20%20%20%20%20%7B%22bubblingMouseEvents%22%3A%20true%2C%20%22color%22%3A%20%22%238000ff%22%2C%20%22dashArray%22%3A%20null%2C%20%22dashOffset%22%3A%20null%2C%20%22fill%22%3A%20true%2C%20%22fillColor%22%3A%20%22%238000ff%22%2C%20%22fillOpacity%22%3A%200.7%2C%20%22fillRule%22%3A%20%22evenodd%22%2C%20%22lineCap%22%3A%20%22round%22%2C%20%22lineJoin%22%3A%20%22round%22%2C%20%22opacity%22%3A%201.0%2C%20%22radius%22%3A%205%2C%20%22stroke%22%3A%20true%2C%20%22weight%22%3A%203%7D%0A%20%20%20%20%20%20%20%20%20%20%20%20%29.addTo%28map_bb9a0736adde40079461befc4b5e56dd%29%3B%0A%20%20%20%20%20%20%20%20%0A%20%20%20%20%0A%20%20%20%20%20%20%20%20var%20popup_960c2d9ac3b24104b88bca7b4d020d15%20%3D%20L.popup%28%7B%22maxWidth%22%3A%20%22100%25%22%7D%29%3B%0A%0A%20%20%20%20%20%20%20%20%0A%20%20%20%20%20%20%20%20%20%20%20%20var%20html_d1ad7b6e8ad24658b714bdcdb2f877c2%20%3D%20%24%28%60%3Cdiv%20id%3D%22html_d1ad7b6e8ad24658b714bdcdb2f877c2%22%20style%3D%22width%3A%20100.0%25%3B%20height%3A%20100.0%25%3B%22%3E0%20%20%20%20%20%20%20%20%20EastToronto%201%20%20%20%20%20%20%20%20%20EastToronto%202%20%20%20%20%20%20%20%20%20EastToronto%203%20%20%20%20%20%20%20%20%20EastToronto%204%20%20%20%20%20%20CentralToronto%205%20%20%20%20%20%20CentralToronto%206%20%20%20%20%20%20CentralToronto%207%20%20%20%20%20%20CentralToronto%208%20%20%20%20%20%20CentralToronto%209%20%20%20%20%20%20CentralToronto%2010%20%20%20%20DowntownToronto%2011%20%20%20%20DowntownToronto%2012%20%20%20%20DowntownToronto%2013%20%20%20%20DowntownToronto%2014%20%20%20%20DowntownToronto%2015%20%20%20%20DowntownToronto%2016%20%20%20%20DowntownToronto%2017%20%20%20%20DowntownToronto%2018%20%20%20%20DowntownToronto%2019%20%20%20%20DowntownToronto%2020%20%20%20%20DowntownToronto%2021%20%20%20%20DowntownToronto%2022%20%20%20%20%20CentralToronto%2023%20%20%20%20%20CentralToronto%2024%20%20%20%20%20CentralToronto%2025%20%20%20%20DowntownToronto%2026%20%20%20%20DowntownToronto%2027%20%20%20%20DowntownToronto%2028%20%20%20%20DowntownToronto%2029%20%20%20%20DowntownToronto%2030%20%20%20%20DowntownToronto%2031%20%20%20%20%20%20%20%20WestToronto%2032%20%20%20%20%20%20%20%20WestToronto%2033%20%20%20%20%20%20%20%20WestToronto%2034%20%20%20%20%20%20%20%20WestToronto%2035%20%20%20%20%20%20%20%20WestToronto%2036%20%20%20%20%20%20%20%20WestToronto%2037%20%20%20%20DowntownToronto%2038%20%20%20%20%20%20%20%20EastToronto%20Name%3A%20Borough%2C%20dtype%3A%20object%20Cluster%201%3C/div%3E%60%29%5B0%5D%3B%0A%20%20%20%20%20%20%20%20%20%20%20%20popup_960c2d9ac3b24104b88bca7b4d020d15.setContent%28html_d1ad7b6e8ad24658b714bdcdb2f877c2%29%3B%0A%20%20%20%20%20%20%20%20%0A%0A%20%20%20%20%20%20%20%20circle_marker_d1964716946a4c74a8a4f6ff4fffca16.bindPopup%28popup_960c2d9ac3b24104b88bca7b4d020d15%29%0A%20%20%20%20%20%20%20%20%3B%0A%0A%20%20%20%20%20%20%20%20%0A%20%20%20%20%0A%20%20%20%20%0A%20%20%20%20%20%20%20%20%20%20%20%20var%20circle_marker_e5bf6160b67e4cecbb71d71e6ecace2b%20%3D%20L.circleMarker%28%0A%20%20%20%20%20%20%20%20%20%20%20%20%20%20%20%20%5B43.6408157%2C%20-79.38175229999999%5D%2C%0A%20%20%20%20%20%20%20%20%20%20%20%20%20%20%20%20%7B%22bubblingMouseEvents%22%3A%20true%2C%20%22color%22%3A%20%22%238000ff%22%2C%20%22dashArray%22%3A%20null%2C%20%22dashOffset%22%3A%20null%2C%20%22fill%22%3A%20true%2C%20%22fillColor%22%3A%20%22%238000ff%22%2C%20%22fillOpacity%22%3A%200.7%2C%20%22fillRule%22%3A%20%22evenodd%22%2C%20%22lineCap%22%3A%20%22round%22%2C%20%22lineJoin%22%3A%20%22round%22%2C%20%22opacity%22%3A%201.0%2C%20%22radius%22%3A%205%2C%20%22stroke%22%3A%20true%2C%20%22weight%22%3A%203%7D%0A%20%20%20%20%20%20%20%20%20%20%20%20%29.addTo%28map_bb9a0736adde40079461befc4b5e56dd%29%3B%0A%20%20%20%20%20%20%20%20%0A%20%20%20%20%0A%20%20%20%20%20%20%20%20var%20popup_03ba543535574975b44652be6dd9368b%20%3D%20L.popup%28%7B%22maxWidth%22%3A%20%22100%25%22%7D%29%3B%0A%0A%20%20%20%20%20%20%20%20%0A%20%20%20%20%20%20%20%20%20%20%20%20var%20html_93d930f30b044ecfbfa26d14945b6b39%20%3D%20%24%28%60%3Cdiv%20id%3D%22html_93d930f30b044ecfbfa26d14945b6b39%22%20style%3D%22width%3A%20100.0%25%3B%20height%3A%20100.0%25%3B%22%3E0%20%20%20%20%20%20%20%20%20EastToronto%201%20%20%20%20%20%20%20%20%20EastToronto%202%20%20%20%20%20%20%20%20%20EastToronto%203%20%20%20%20%20%20%20%20%20EastToronto%204%20%20%20%20%20%20CentralToronto%205%20%20%20%20%20%20CentralToronto%206%20%20%20%20%20%20CentralToronto%207%20%20%20%20%20%20CentralToronto%208%20%20%20%20%20%20CentralToronto%209%20%20%20%20%20%20CentralToronto%2010%20%20%20%20DowntownToronto%2011%20%20%20%20DowntownToronto%2012%20%20%20%20DowntownToronto%2013%20%20%20%20DowntownToronto%2014%20%20%20%20DowntownToronto%2015%20%20%20%20DowntownToronto%2016%20%20%20%20DowntownToronto%2017%20%20%20%20DowntownToronto%2018%20%20%20%20DowntownToronto%2019%20%20%20%20DowntownToronto%2020%20%20%20%20DowntownToronto%2021%20%20%20%20DowntownToronto%2022%20%20%20%20%20CentralToronto%2023%20%20%20%20%20CentralToronto%2024%20%20%20%20%20CentralToronto%2025%20%20%20%20DowntownToronto%2026%20%20%20%20DowntownToronto%2027%20%20%20%20DowntownToronto%2028%20%20%20%20DowntownToronto%2029%20%20%20%20DowntownToronto%2030%20%20%20%20DowntownToronto%2031%20%20%20%20%20%20%20%20WestToronto%2032%20%20%20%20%20%20%20%20WestToronto%2033%20%20%20%20%20%20%20%20WestToronto%2034%20%20%20%20%20%20%20%20WestToronto%2035%20%20%20%20%20%20%20%20WestToronto%2036%20%20%20%20%20%20%20%20WestToronto%2037%20%20%20%20DowntownToronto%2038%20%20%20%20%20%20%20%20EastToronto%20Name%3A%20Borough%2C%20dtype%3A%20object%20Cluster%201%3C/div%3E%60%29%5B0%5D%3B%0A%20%20%20%20%20%20%20%20%20%20%20%20popup_03ba543535574975b44652be6dd9368b.setContent%28html_93d930f30b044ecfbfa26d14945b6b39%29%3B%0A%20%20%20%20%20%20%20%20%0A%0A%20%20%20%20%20%20%20%20circle_marker_e5bf6160b67e4cecbb71d71e6ecace2b.bindPopup%28popup_03ba543535574975b44652be6dd9368b%29%0A%20%20%20%20%20%20%20%20%3B%0A%0A%20%20%20%20%20%20%20%20%0A%20%20%20%20%0A%20%20%20%20%0A%20%20%20%20%20%20%20%20%20%20%20%20var%20circle_marker_14c1b446ffc041c7b3b63af4be818239%20%3D%20L.circleMarker%28%0A%20%20%20%20%20%20%20%20%20%20%20%20%20%20%20%20%5B43.6471768%2C%20-79.38157640000001%5D%2C%0A%20%20%20%20%20%20%20%20%20%20%20%20%20%20%20%20%7B%22bubblingMouseEvents%22%3A%20true%2C%20%22color%22%3A%20%22%238000ff%22%2C%20%22dashArray%22%3A%20null%2C%20%22dashOffset%22%3A%20null%2C%20%22fill%22%3A%20true%2C%20%22fillColor%22%3A%20%22%238000ff%22%2C%20%22fillOpacity%22%3A%200.7%2C%20%22fillRule%22%3A%20%22evenodd%22%2C%20%22lineCap%22%3A%20%22round%22%2C%20%22lineJoin%22%3A%20%22round%22%2C%20%22opacity%22%3A%201.0%2C%20%22radius%22%3A%205%2C%20%22stroke%22%3A%20true%2C%20%22weight%22%3A%203%7D%0A%20%20%20%20%20%20%20%20%20%20%20%20%29.addTo%28map_bb9a0736adde40079461befc4b5e56dd%29%3B%0A%20%20%20%20%20%20%20%20%0A%20%20%20%20%0A%20%20%20%20%20%20%20%20var%20popup_6c38337cccd04ecca59fa172f0e658e7%20%3D%20L.popup%28%7B%22maxWidth%22%3A%20%22100%25%22%7D%29%3B%0A%0A%20%20%20%20%20%20%20%20%0A%20%20%20%20%20%20%20%20%20%20%20%20var%20html_dff36d6b46844c43916c4dda607529e6%20%3D%20%24%28%60%3Cdiv%20id%3D%22html_dff36d6b46844c43916c4dda607529e6%22%20style%3D%22width%3A%20100.0%25%3B%20height%3A%20100.0%25%3B%22%3E0%20%20%20%20%20%20%20%20%20EastToronto%201%20%20%20%20%20%20%20%20%20EastToronto%202%20%20%20%20%20%20%20%20%20EastToronto%203%20%20%20%20%20%20%20%20%20EastToronto%204%20%20%20%20%20%20CentralToronto%205%20%20%20%20%20%20CentralToronto%206%20%20%20%20%20%20CentralToronto%207%20%20%20%20%20%20CentralToronto%208%20%20%20%20%20%20CentralToronto%209%20%20%20%20%20%20CentralToronto%2010%20%20%20%20DowntownToronto%2011%20%20%20%20DowntownToronto%2012%20%20%20%20DowntownToronto%2013%20%20%20%20DowntownToronto%2014%20%20%20%20DowntownToronto%2015%20%20%20%20DowntownToronto%2016%20%20%20%20DowntownToronto%2017%20%20%20%20DowntownToronto%2018%20%20%20%20DowntownToronto%2019%20%20%20%20DowntownToronto%2020%20%20%20%20DowntownToronto%2021%20%20%20%20DowntownToronto%2022%20%20%20%20%20CentralToronto%2023%20%20%20%20%20CentralToronto%2024%20%20%20%20%20CentralToronto%2025%20%20%20%20DowntownToronto%2026%20%20%20%20DowntownToronto%2027%20%20%20%20DowntownToronto%2028%20%20%20%20DowntownToronto%2029%20%20%20%20DowntownToronto%2030%20%20%20%20DowntownToronto%2031%20%20%20%20%20%20%20%20WestToronto%2032%20%20%20%20%20%20%20%20WestToronto%2033%20%20%20%20%20%20%20%20WestToronto%2034%20%20%20%20%20%20%20%20WestToronto%2035%20%20%20%20%20%20%20%20WestToronto%2036%20%20%20%20%20%20%20%20WestToronto%2037%20%20%20%20DowntownToronto%2038%20%20%20%20%20%20%20%20EastToronto%20Name%3A%20Borough%2C%20dtype%3A%20object%20Cluster%201%3C/div%3E%60%29%5B0%5D%3B%0A%20%20%20%20%20%20%20%20%20%20%20%20popup_6c38337cccd04ecca59fa172f0e658e7.setContent%28html_dff36d6b46844c43916c4dda607529e6%29%3B%0A%20%20%20%20%20%20%20%20%0A%0A%20%20%20%20%20%20%20%20circle_marker_14c1b446ffc041c7b3b63af4be818239.bindPopup%28popup_6c38337cccd04ecca59fa172f0e658e7%29%0A%20%20%20%20%20%20%20%20%3B%0A%0A%20%20%20%20%20%20%20%20%0A%20%20%20%20%0A%20%20%20%20%0A%20%20%20%20%20%20%20%20%20%20%20%20var%20circle_marker_4edd5b563029418cac479d2ec8d72613%20%3D%20L.circleMarker%28%0A%20%20%20%20%20%20%20%20%20%20%20%20%20%20%20%20%5B43.6481985%2C%20-79.37981690000001%5D%2C%0A%20%20%20%20%20%20%20%20%20%20%20%20%20%20%20%20%7B%22bubblingMouseEvents%22%3A%20true%2C%20%22color%22%3A%20%22%238000ff%22%2C%20%22dashArray%22%3A%20null%2C%20%22dashOffset%22%3A%20null%2C%20%22fill%22%3A%20true%2C%20%22fillColor%22%3A%20%22%238000ff%22%2C%20%22fillOpacity%22%3A%200.7%2C%20%22fillRule%22%3A%20%22evenodd%22%2C%20%22lineCap%22%3A%20%22round%22%2C%20%22lineJoin%22%3A%20%22round%22%2C%20%22opacity%22%3A%201.0%2C%20%22radius%22%3A%205%2C%20%22stroke%22%3A%20true%2C%20%22weight%22%3A%203%7D%0A%20%20%20%20%20%20%20%20%20%20%20%20%29.addTo%28map_bb9a0736adde40079461befc4b5e56dd%29%3B%0A%20%20%20%20%20%20%20%20%0A%20%20%20%20%0A%20%20%20%20%20%20%20%20var%20popup_458fb0140f404920a242598945b6d187%20%3D%20L.popup%28%7B%22maxWidth%22%3A%20%22100%25%22%7D%29%3B%0A%0A%20%20%20%20%20%20%20%20%0A%20%20%20%20%20%20%20%20%20%20%20%20var%20html_c80dc9da16c84ae4af9963a9ee926d76%20%3D%20%24%28%60%3Cdiv%20id%3D%22html_c80dc9da16c84ae4af9963a9ee926d76%22%20style%3D%22width%3A%20100.0%25%3B%20height%3A%20100.0%25%3B%22%3E0%20%20%20%20%20%20%20%20%20EastToronto%201%20%20%20%20%20%20%20%20%20EastToronto%202%20%20%20%20%20%20%20%20%20EastToronto%203%20%20%20%20%20%20%20%20%20EastToronto%204%20%20%20%20%20%20CentralToronto%205%20%20%20%20%20%20CentralToronto%206%20%20%20%20%20%20CentralToronto%207%20%20%20%20%20%20CentralToronto%208%20%20%20%20%20%20CentralToronto%209%20%20%20%20%20%20CentralToronto%2010%20%20%20%20DowntownToronto%2011%20%20%20%20DowntownToronto%2012%20%20%20%20DowntownToronto%2013%20%20%20%20DowntownToronto%2014%20%20%20%20DowntownToronto%2015%20%20%20%20DowntownToronto%2016%20%20%20%20DowntownToronto%2017%20%20%20%20DowntownToronto%2018%20%20%20%20DowntownToronto%2019%20%20%20%20DowntownToronto%2020%20%20%20%20DowntownToronto%2021%20%20%20%20DowntownToronto%2022%20%20%20%20%20CentralToronto%2023%20%20%20%20%20CentralToronto%2024%20%20%20%20%20CentralToronto%2025%20%20%20%20DowntownToronto%2026%20%20%20%20DowntownToronto%2027%20%20%20%20DowntownToronto%2028%20%20%20%20DowntownToronto%2029%20%20%20%20DowntownToronto%2030%20%20%20%20DowntownToronto%2031%20%20%20%20%20%20%20%20WestToronto%2032%20%20%20%20%20%20%20%20WestToronto%2033%20%20%20%20%20%20%20%20WestToronto%2034%20%20%20%20%20%20%20%20WestToronto%2035%20%20%20%20%20%20%20%20WestToronto%2036%20%20%20%20%20%20%20%20WestToronto%2037%20%20%20%20DowntownToronto%2038%20%20%20%20%20%20%20%20EastToronto%20Name%3A%20Borough%2C%20dtype%3A%20object%20Cluster%201%3C/div%3E%60%29%5B0%5D%3B%0A%20%20%20%20%20%20%20%20%20%20%20%20popup_458fb0140f404920a242598945b6d187.setContent%28html_c80dc9da16c84ae4af9963a9ee926d76%29%3B%0A%20%20%20%20%20%20%20%20%0A%0A%20%20%20%20%20%20%20%20circle_marker_4edd5b563029418cac479d2ec8d72613.bindPopup%28popup_458fb0140f404920a242598945b6d187%29%0A%20%20%20%20%20%20%20%20%3B%0A%0A%20%20%20%20%20%20%20%20%0A%20%20%20%20%0A%20%20%20%20%0A%20%20%20%20%20%20%20%20%20%20%20%20var%20circle_marker_449b1dd3628640a68f5990c9ccb9d012%20%3D%20L.circleMarker%28%0A%20%20%20%20%20%20%20%20%20%20%20%20%20%20%20%20%5B43.7116948%2C%20-79.41693559999999%5D%2C%0A%20%20%20%20%20%20%20%20%20%20%20%20%20%20%20%20%7B%22bubblingMouseEvents%22%3A%20true%2C%20%22color%22%3A%20%22%232adddd%22%2C%20%22dashArray%22%3A%20null%2C%20%22dashOffset%22%3A%20null%2C%20%22fill%22%3A%20true%2C%20%22fillColor%22%3A%20%22%232adddd%22%2C%20%22fillOpacity%22%3A%200.7%2C%20%22fillRule%22%3A%20%22evenodd%22%2C%20%22lineCap%22%3A%20%22round%22%2C%20%22lineJoin%22%3A%20%22round%22%2C%20%22opacity%22%3A%201.0%2C%20%22radius%22%3A%205%2C%20%22stroke%22%3A%20true%2C%20%22weight%22%3A%203%7D%0A%20%20%20%20%20%20%20%20%20%20%20%20%29.addTo%28map_bb9a0736adde40079461befc4b5e56dd%29%3B%0A%20%20%20%20%20%20%20%20%0A%20%20%20%20%0A%20%20%20%20%20%20%20%20var%20popup_7eca97205c334e62ba22314485acfc66%20%3D%20L.popup%28%7B%22maxWidth%22%3A%20%22100%25%22%7D%29%3B%0A%0A%20%20%20%20%20%20%20%20%0A%20%20%20%20%20%20%20%20%20%20%20%20var%20html_cfdd30ba2eae478ba19bb370f8d7a3e8%20%3D%20%24%28%60%3Cdiv%20id%3D%22html_cfdd30ba2eae478ba19bb370f8d7a3e8%22%20style%3D%22width%3A%20100.0%25%3B%20height%3A%20100.0%25%3B%22%3E0%20%20%20%20%20%20%20%20%20EastToronto%201%20%20%20%20%20%20%20%20%20EastToronto%202%20%20%20%20%20%20%20%20%20EastToronto%203%20%20%20%20%20%20%20%20%20EastToronto%204%20%20%20%20%20%20CentralToronto%205%20%20%20%20%20%20CentralToronto%206%20%20%20%20%20%20CentralToronto%207%20%20%20%20%20%20CentralToronto%208%20%20%20%20%20%20CentralToronto%209%20%20%20%20%20%20CentralToronto%2010%20%20%20%20DowntownToronto%2011%20%20%20%20DowntownToronto%2012%20%20%20%20DowntownToronto%2013%20%20%20%20DowntownToronto%2014%20%20%20%20DowntownToronto%2015%20%20%20%20DowntownToronto%2016%20%20%20%20DowntownToronto%2017%20%20%20%20DowntownToronto%2018%20%20%20%20DowntownToronto%2019%20%20%20%20DowntownToronto%2020%20%20%20%20DowntownToronto%2021%20%20%20%20DowntownToronto%2022%20%20%20%20%20CentralToronto%2023%20%20%20%20%20CentralToronto%2024%20%20%20%20%20CentralToronto%2025%20%20%20%20DowntownToronto%2026%20%20%20%20DowntownToronto%2027%20%20%20%20DowntownToronto%2028%20%20%20%20DowntownToronto%2029%20%20%20%20DowntownToronto%2030%20%20%20%20DowntownToronto%2031%20%20%20%20%20%20%20%20WestToronto%2032%20%20%20%20%20%20%20%20WestToronto%2033%20%20%20%20%20%20%20%20WestToronto%2034%20%20%20%20%20%20%20%20WestToronto%2035%20%20%20%20%20%20%20%20WestToronto%2036%20%20%20%20%20%20%20%20WestToronto%2037%20%20%20%20DowntownToronto%2038%20%20%20%20%20%20%20%20EastToronto%20Name%3A%20Borough%2C%20dtype%3A%20object%20Cluster%202%3C/div%3E%60%29%5B0%5D%3B%0A%20%20%20%20%20%20%20%20%20%20%20%20popup_7eca97205c334e62ba22314485acfc66.setContent%28html_cfdd30ba2eae478ba19bb370f8d7a3e8%29%3B%0A%20%20%20%20%20%20%20%20%0A%0A%20%20%20%20%20%20%20%20circle_marker_449b1dd3628640a68f5990c9ccb9d012.bindPopup%28popup_7eca97205c334e62ba22314485acfc66%29%0A%20%20%20%20%20%20%20%20%3B%0A%0A%20%20%20%20%20%20%20%20%0A%20%20%20%20%0A%20%20%20%20%0A%20%20%20%20%20%20%20%20%20%20%20%20var%20circle_marker_e8c66d9bf6404c00a07a0fd83862634f%20%3D%20L.circleMarker%28%0A%20%20%20%20%20%20%20%20%20%20%20%20%20%20%20%20%5B43.6969476%2C%20-79.41130720000001%5D%2C%0A%20%20%20%20%20%20%20%20%20%20%20%20%20%20%20%20%7B%22bubblingMouseEvents%22%3A%20true%2C%20%22color%22%3A%20%22%232adddd%22%2C%20%22dashArray%22%3A%20null%2C%20%22dashOffset%22%3A%20null%2C%20%22fill%22%3A%20true%2C%20%22fillColor%22%3A%20%22%232adddd%22%2C%20%22fillOpacity%22%3A%200.7%2C%20%22fillRule%22%3A%20%22evenodd%22%2C%20%22lineCap%22%3A%20%22round%22%2C%20%22lineJoin%22%3A%20%22round%22%2C%20%22opacity%22%3A%201.0%2C%20%22radius%22%3A%205%2C%20%22stroke%22%3A%20true%2C%20%22weight%22%3A%203%7D%0A%20%20%20%20%20%20%20%20%20%20%20%20%29.addTo%28map_bb9a0736adde40079461befc4b5e56dd%29%3B%0A%20%20%20%20%20%20%20%20%0A%20%20%20%20%0A%20%20%20%20%20%20%20%20var%20popup_a8d7834580ec4026a3905d30aa92c7b8%20%3D%20L.popup%28%7B%22maxWidth%22%3A%20%22100%25%22%7D%29%3B%0A%0A%20%20%20%20%20%20%20%20%0A%20%20%20%20%20%20%20%20%20%20%20%20var%20html_a454eed8043c450ebcb8ccfd38b2454a%20%3D%20%24%28%60%3Cdiv%20id%3D%22html_a454eed8043c450ebcb8ccfd38b2454a%22%20style%3D%22width%3A%20100.0%25%3B%20height%3A%20100.0%25%3B%22%3E0%20%20%20%20%20%20%20%20%20EastToronto%201%20%20%20%20%20%20%20%20%20EastToronto%202%20%20%20%20%20%20%20%20%20EastToronto%203%20%20%20%20%20%20%20%20%20EastToronto%204%20%20%20%20%20%20CentralToronto%205%20%20%20%20%20%20CentralToronto%206%20%20%20%20%20%20CentralToronto%207%20%20%20%20%20%20CentralToronto%208%20%20%20%20%20%20CentralToronto%209%20%20%20%20%20%20CentralToronto%2010%20%20%20%20DowntownToronto%2011%20%20%20%20DowntownToronto%2012%20%20%20%20DowntownToronto%2013%20%20%20%20DowntownToronto%2014%20%20%20%20DowntownToronto%2015%20%20%20%20DowntownToronto%2016%20%20%20%20DowntownToronto%2017%20%20%20%20DowntownToronto%2018%20%20%20%20DowntownToronto%2019%20%20%20%20DowntownToronto%2020%20%20%20%20DowntownToronto%2021%20%20%20%20DowntownToronto%2022%20%20%20%20%20CentralToronto%2023%20%20%20%20%20CentralToronto%2024%20%20%20%20%20CentralToronto%2025%20%20%20%20DowntownToronto%2026%20%20%20%20DowntownToronto%2027%20%20%20%20DowntownToronto%2028%20%20%20%20DowntownToronto%2029%20%20%20%20DowntownToronto%2030%20%20%20%20DowntownToronto%2031%20%20%20%20%20%20%20%20WestToronto%2032%20%20%20%20%20%20%20%20WestToronto%2033%20%20%20%20%20%20%20%20WestToronto%2034%20%20%20%20%20%20%20%20WestToronto%2035%20%20%20%20%20%20%20%20WestToronto%2036%20%20%20%20%20%20%20%20WestToronto%2037%20%20%20%20DowntownToronto%2038%20%20%20%20%20%20%20%20EastToronto%20Name%3A%20Borough%2C%20dtype%3A%20object%20Cluster%202%3C/div%3E%60%29%5B0%5D%3B%0A%20%20%20%20%20%20%20%20%20%20%20%20popup_a8d7834580ec4026a3905d30aa92c7b8.setContent%28html_a454eed8043c450ebcb8ccfd38b2454a%29%3B%0A%20%20%20%20%20%20%20%20%0A%0A%20%20%20%20%20%20%20%20circle_marker_e8c66d9bf6404c00a07a0fd83862634f.bindPopup%28popup_a8d7834580ec4026a3905d30aa92c7b8%29%0A%20%20%20%20%20%20%20%20%3B%0A%0A%20%20%20%20%20%20%20%20%0A%20%20%20%20%0A%20%20%20%20%0A%20%20%20%20%20%20%20%20%20%20%20%20var%20circle_marker_fe57295606a14b8ca527de8878385a1b%20%3D%20L.circleMarker%28%0A%20%20%20%20%20%20%20%20%20%20%20%20%20%20%20%20%5B43.6727097%2C%20-79.40567840000001%5D%2C%0A%20%20%20%20%20%20%20%20%20%20%20%20%20%20%20%20%7B%22bubblingMouseEvents%22%3A%20true%2C%20%22color%22%3A%20%22%232adddd%22%2C%20%22dashArray%22%3A%20null%2C%20%22dashOffset%22%3A%20null%2C%20%22fill%22%3A%20true%2C%20%22fillColor%22%3A%20%22%232adddd%22%2C%20%22fillOpacity%22%3A%200.7%2C%20%22fillRule%22%3A%20%22evenodd%22%2C%20%22lineCap%22%3A%20%22round%22%2C%20%22lineJoin%22%3A%20%22round%22%2C%20%22opacity%22%3A%201.0%2C%20%22radius%22%3A%205%2C%20%22stroke%22%3A%20true%2C%20%22weight%22%3A%203%7D%0A%20%20%20%20%20%20%20%20%20%20%20%20%29.addTo%28map_bb9a0736adde40079461befc4b5e56dd%29%3B%0A%20%20%20%20%20%20%20%20%0A%20%20%20%20%0A%20%20%20%20%20%20%20%20var%20popup_27304e4c85514745b99dd55ac18c7805%20%3D%20L.popup%28%7B%22maxWidth%22%3A%20%22100%25%22%7D%29%3B%0A%0A%20%20%20%20%20%20%20%20%0A%20%20%20%20%20%20%20%20%20%20%20%20var%20html_d3f735d8acbd4b239b98c4436f859340%20%3D%20%24%28%60%3Cdiv%20id%3D%22html_d3f735d8acbd4b239b98c4436f859340%22%20style%3D%22width%3A%20100.0%25%3B%20height%3A%20100.0%25%3B%22%3E0%20%20%20%20%20%20%20%20%20EastToronto%201%20%20%20%20%20%20%20%20%20EastToronto%202%20%20%20%20%20%20%20%20%20EastToronto%203%20%20%20%20%20%20%20%20%20EastToronto%204%20%20%20%20%20%20CentralToronto%205%20%20%20%20%20%20CentralToronto%206%20%20%20%20%20%20CentralToronto%207%20%20%20%20%20%20CentralToronto%208%20%20%20%20%20%20CentralToronto%209%20%20%20%20%20%20CentralToronto%2010%20%20%20%20DowntownToronto%2011%20%20%20%20DowntownToronto%2012%20%20%20%20DowntownToronto%2013%20%20%20%20DowntownToronto%2014%20%20%20%20DowntownToronto%2015%20%20%20%20DowntownToronto%2016%20%20%20%20DowntownToronto%2017%20%20%20%20DowntownToronto%2018%20%20%20%20DowntownToronto%2019%20%20%20%20DowntownToronto%2020%20%20%20%20DowntownToronto%2021%20%20%20%20DowntownToronto%2022%20%20%20%20%20CentralToronto%2023%20%20%20%20%20CentralToronto%2024%20%20%20%20%20CentralToronto%2025%20%20%20%20DowntownToronto%2026%20%20%20%20DowntownToronto%2027%20%20%20%20DowntownToronto%2028%20%20%20%20DowntownToronto%2029%20%20%20%20DowntownToronto%2030%20%20%20%20DowntownToronto%2031%20%20%20%20%20%20%20%20WestToronto%2032%20%20%20%20%20%20%20%20WestToronto%2033%20%20%20%20%20%20%20%20WestToronto%2034%20%20%20%20%20%20%20%20WestToronto%2035%20%20%20%20%20%20%20%20WestToronto%2036%20%20%20%20%20%20%20%20WestToronto%2037%20%20%20%20DowntownToronto%2038%20%20%20%20%20%20%20%20EastToronto%20Name%3A%20Borough%2C%20dtype%3A%20object%20Cluster%202%3C/div%3E%60%29%5B0%5D%3B%0A%20%20%20%20%20%20%20%20%20%20%20%20popup_27304e4c85514745b99dd55ac18c7805.setContent%28html_d3f735d8acbd4b239b98c4436f859340%29%3B%0A%20%20%20%20%20%20%20%20%0A%0A%20%20%20%20%20%20%20%20circle_marker_fe57295606a14b8ca527de8878385a1b.bindPopup%28popup_27304e4c85514745b99dd55ac18c7805%29%0A%20%20%20%20%20%20%20%20%3B%0A%0A%20%20%20%20%20%20%20%20%0A%20%20%20%20%0A%20%20%20%20%0A%20%20%20%20%20%20%20%20%20%20%20%20var%20circle_marker_1b3f7f3544e94cffb0fa6b60e3dae041%20%3D%20L.circleMarker%28%0A%20%20%20%20%20%20%20%20%20%20%20%20%20%20%20%20%5B43.6626956%2C%20-79.4000493%5D%2C%0A%20%20%20%20%20%20%20%20%20%20%20%20%20%20%20%20%7B%22bubblingMouseEvents%22%3A%20true%2C%20%22color%22%3A%20%22%238000ff%22%2C%20%22dashArray%22%3A%20null%2C%20%22dashOffset%22%3A%20null%2C%20%22fill%22%3A%20true%2C%20%22fillColor%22%3A%20%22%238000ff%22%2C%20%22fillOpacity%22%3A%200.7%2C%20%22fillRule%22%3A%20%22evenodd%22%2C%20%22lineCap%22%3A%20%22round%22%2C%20%22lineJoin%22%3A%20%22round%22%2C%20%22opacity%22%3A%201.0%2C%20%22radius%22%3A%205%2C%20%22stroke%22%3A%20true%2C%20%22weight%22%3A%203%7D%0A%20%20%20%20%20%20%20%20%20%20%20%20%29.addTo%28map_bb9a0736adde40079461befc4b5e56dd%29%3B%0A%20%20%20%20%20%20%20%20%0A%20%20%20%20%0A%20%20%20%20%20%20%20%20var%20popup_dd00b52881674c0ea25b7f7ab0ba4e64%20%3D%20L.popup%28%7B%22maxWidth%22%3A%20%22100%25%22%7D%29%3B%0A%0A%20%20%20%20%20%20%20%20%0A%20%20%20%20%20%20%20%20%20%20%20%20var%20html_de7061068727457f8318be8d1790f320%20%3D%20%24%28%60%3Cdiv%20id%3D%22html_de7061068727457f8318be8d1790f320%22%20style%3D%22width%3A%20100.0%25%3B%20height%3A%20100.0%25%3B%22%3E0%20%20%20%20%20%20%20%20%20EastToronto%201%20%20%20%20%20%20%20%20%20EastToronto%202%20%20%20%20%20%20%20%20%20EastToronto%203%20%20%20%20%20%20%20%20%20EastToronto%204%20%20%20%20%20%20CentralToronto%205%20%20%20%20%20%20CentralToronto%206%20%20%20%20%20%20CentralToronto%207%20%20%20%20%20%20CentralToronto%208%20%20%20%20%20%20CentralToronto%209%20%20%20%20%20%20CentralToronto%2010%20%20%20%20DowntownToronto%2011%20%20%20%20DowntownToronto%2012%20%20%20%20DowntownToronto%2013%20%20%20%20DowntownToronto%2014%20%20%20%20DowntownToronto%2015%20%20%20%20DowntownToronto%2016%20%20%20%20DowntownToronto%2017%20%20%20%20DowntownToronto%2018%20%20%20%20DowntownToronto%2019%20%20%20%20DowntownToronto%2020%20%20%20%20DowntownToronto%2021%20%20%20%20DowntownToronto%2022%20%20%20%20%20CentralToronto%2023%20%20%20%20%20CentralToronto%2024%20%20%20%20%20CentralToronto%2025%20%20%20%20DowntownToronto%2026%20%20%20%20DowntownToronto%2027%20%20%20%20DowntownToronto%2028%20%20%20%20DowntownToronto%2029%20%20%20%20DowntownToronto%2030%20%20%20%20DowntownToronto%2031%20%20%20%20%20%20%20%20WestToronto%2032%20%20%20%20%20%20%20%20WestToronto%2033%20%20%20%20%20%20%20%20WestToronto%2034%20%20%20%20%20%20%20%20WestToronto%2035%20%20%20%20%20%20%20%20WestToronto%2036%20%20%20%20%20%20%20%20WestToronto%2037%20%20%20%20DowntownToronto%2038%20%20%20%20%20%20%20%20EastToronto%20Name%3A%20Borough%2C%20dtype%3A%20object%20Cluster%201%3C/div%3E%60%29%5B0%5D%3B%0A%20%20%20%20%20%20%20%20%20%20%20%20popup_dd00b52881674c0ea25b7f7ab0ba4e64.setContent%28html_de7061068727457f8318be8d1790f320%29%3B%0A%20%20%20%20%20%20%20%20%0A%0A%20%20%20%20%20%20%20%20circle_marker_1b3f7f3544e94cffb0fa6b60e3dae041.bindPopup%28popup_dd00b52881674c0ea25b7f7ab0ba4e64%29%0A%20%20%20%20%20%20%20%20%3B%0A%0A%20%20%20%20%20%20%20%20%0A%20%20%20%20%0A%20%20%20%20%0A%20%20%20%20%20%20%20%20%20%20%20%20var%20circle_marker_cde5c9fcdc804dc2bf3bcc72625c864d%20%3D%20L.circleMarker%28%0A%20%20%20%20%20%20%20%20%20%20%20%20%20%20%20%20%5B43.6532057%2C%20-79.4000493%5D%2C%0A%20%20%20%20%20%20%20%20%20%20%20%20%20%20%20%20%7B%22bubblingMouseEvents%22%3A%20true%2C%20%22color%22%3A%20%22%238000ff%22%2C%20%22dashArray%22%3A%20null%2C%20%22dashOffset%22%3A%20null%2C%20%22fill%22%3A%20true%2C%20%22fillColor%22%3A%20%22%238000ff%22%2C%20%22fillOpacity%22%3A%200.7%2C%20%22fillRule%22%3A%20%22evenodd%22%2C%20%22lineCap%22%3A%20%22round%22%2C%20%22lineJoin%22%3A%20%22round%22%2C%20%22opacity%22%3A%201.0%2C%20%22radius%22%3A%205%2C%20%22stroke%22%3A%20true%2C%20%22weight%22%3A%203%7D%0A%20%20%20%20%20%20%20%20%20%20%20%20%29.addTo%28map_bb9a0736adde40079461befc4b5e56dd%29%3B%0A%20%20%20%20%20%20%20%20%0A%20%20%20%20%0A%20%20%20%20%20%20%20%20var%20popup_bae8f09a9dad4ad8b47e956855022b91%20%3D%20L.popup%28%7B%22maxWidth%22%3A%20%22100%25%22%7D%29%3B%0A%0A%20%20%20%20%20%20%20%20%0A%20%20%20%20%20%20%20%20%20%20%20%20var%20html_45a20b98a34a45789121c55289d7eea3%20%3D%20%24%28%60%3Cdiv%20id%3D%22html_45a20b98a34a45789121c55289d7eea3%22%20style%3D%22width%3A%20100.0%25%3B%20height%3A%20100.0%25%3B%22%3E0%20%20%20%20%20%20%20%20%20EastToronto%201%20%20%20%20%20%20%20%20%20EastToronto%202%20%20%20%20%20%20%20%20%20EastToronto%203%20%20%20%20%20%20%20%20%20EastToronto%204%20%20%20%20%20%20CentralToronto%205%20%20%20%20%20%20CentralToronto%206%20%20%20%20%20%20CentralToronto%207%20%20%20%20%20%20CentralToronto%208%20%20%20%20%20%20CentralToronto%209%20%20%20%20%20%20CentralToronto%2010%20%20%20%20DowntownToronto%2011%20%20%20%20DowntownToronto%2012%20%20%20%20DowntownToronto%2013%20%20%20%20DowntownToronto%2014%20%20%20%20DowntownToronto%2015%20%20%20%20DowntownToronto%2016%20%20%20%20DowntownToronto%2017%20%20%20%20DowntownToronto%2018%20%20%20%20DowntownToronto%2019%20%20%20%20DowntownToronto%2020%20%20%20%20DowntownToronto%2021%20%20%20%20DowntownToronto%2022%20%20%20%20%20CentralToronto%2023%20%20%20%20%20CentralToronto%2024%20%20%20%20%20CentralToronto%2025%20%20%20%20DowntownToronto%2026%20%20%20%20DowntownToronto%2027%20%20%20%20DowntownToronto%2028%20%20%20%20DowntownToronto%2029%20%20%20%20DowntownToronto%2030%20%20%20%20DowntownToronto%2031%20%20%20%20%20%20%20%20WestToronto%2032%20%20%20%20%20%20%20%20WestToronto%2033%20%20%20%20%20%20%20%20WestToronto%2034%20%20%20%20%20%20%20%20WestToronto%2035%20%20%20%20%20%20%20%20WestToronto%2036%20%20%20%20%20%20%20%20WestToronto%2037%20%20%20%20DowntownToronto%2038%20%20%20%20%20%20%20%20EastToronto%20Name%3A%20Borough%2C%20dtype%3A%20object%20Cluster%201%3C/div%3E%60%29%5B0%5D%3B%0A%20%20%20%20%20%20%20%20%20%20%20%20popup_bae8f09a9dad4ad8b47e956855022b91.setContent%28html_45a20b98a34a45789121c55289d7eea3%29%3B%0A%20%20%20%20%20%20%20%20%0A%0A%20%20%20%20%20%20%20%20circle_marker_cde5c9fcdc804dc2bf3bcc72625c864d.bindPopup%28popup_bae8f09a9dad4ad8b47e956855022b91%29%0A%20%20%20%20%20%20%20%20%3B%0A%0A%20%20%20%20%20%20%20%20%0A%20%20%20%20%0A%20%20%20%20%0A%20%20%20%20%20%20%20%20%20%20%20%20var%20circle_marker_4e7dd3a147a2477c95f2adbf23159f60%20%3D%20L.circleMarker%28%0A%20%20%20%20%20%20%20%20%20%20%20%20%20%20%20%20%5B43.6289467%2C%20-79.3944199%5D%2C%0A%20%20%20%20%20%20%20%20%20%20%20%20%20%20%20%20%7B%22bubblingMouseEvents%22%3A%20true%2C%20%22color%22%3A%20%22%238000ff%22%2C%20%22dashArray%22%3A%20null%2C%20%22dashOffset%22%3A%20null%2C%20%22fill%22%3A%20true%2C%20%22fillColor%22%3A%20%22%238000ff%22%2C%20%22fillOpacity%22%3A%200.7%2C%20%22fillRule%22%3A%20%22evenodd%22%2C%20%22lineCap%22%3A%20%22round%22%2C%20%22lineJoin%22%3A%20%22round%22%2C%20%22opacity%22%3A%201.0%2C%20%22radius%22%3A%205%2C%20%22stroke%22%3A%20true%2C%20%22weight%22%3A%203%7D%0A%20%20%20%20%20%20%20%20%20%20%20%20%29.addTo%28map_bb9a0736adde40079461befc4b5e56dd%29%3B%0A%20%20%20%20%20%20%20%20%0A%20%20%20%20%0A%20%20%20%20%20%20%20%20var%20popup_c6554ff286394ae087470b5323a8b59c%20%3D%20L.popup%28%7B%22maxWidth%22%3A%20%22100%25%22%7D%29%3B%0A%0A%20%20%20%20%20%20%20%20%0A%20%20%20%20%20%20%20%20%20%20%20%20var%20html_40a74f99b93a4f2ca71474ce3c466737%20%3D%20%24%28%60%3Cdiv%20id%3D%22html_40a74f99b93a4f2ca71474ce3c466737%22%20style%3D%22width%3A%20100.0%25%3B%20height%3A%20100.0%25%3B%22%3E0%20%20%20%20%20%20%20%20%20EastToronto%201%20%20%20%20%20%20%20%20%20EastToronto%202%20%20%20%20%20%20%20%20%20EastToronto%203%20%20%20%20%20%20%20%20%20EastToronto%204%20%20%20%20%20%20CentralToronto%205%20%20%20%20%20%20CentralToronto%206%20%20%20%20%20%20CentralToronto%207%20%20%20%20%20%20CentralToronto%208%20%20%20%20%20%20CentralToronto%209%20%20%20%20%20%20CentralToronto%2010%20%20%20%20DowntownToronto%2011%20%20%20%20DowntownToronto%2012%20%20%20%20DowntownToronto%2013%20%20%20%20DowntownToronto%2014%20%20%20%20DowntownToronto%2015%20%20%20%20DowntownToronto%2016%20%20%20%20DowntownToronto%2017%20%20%20%20DowntownToronto%2018%20%20%20%20DowntownToronto%2019%20%20%20%20DowntownToronto%2020%20%20%20%20DowntownToronto%2021%20%20%20%20DowntownToronto%2022%20%20%20%20%20CentralToronto%2023%20%20%20%20%20CentralToronto%2024%20%20%20%20%20CentralToronto%2025%20%20%20%20DowntownToronto%2026%20%20%20%20DowntownToronto%2027%20%20%20%20DowntownToronto%2028%20%20%20%20DowntownToronto%2029%20%20%20%20DowntownToronto%2030%20%20%20%20DowntownToronto%2031%20%20%20%20%20%20%20%20WestToronto%2032%20%20%20%20%20%20%20%20WestToronto%2033%20%20%20%20%20%20%20%20WestToronto%2034%20%20%20%20%20%20%20%20WestToronto%2035%20%20%20%20%20%20%20%20WestToronto%2036%20%20%20%20%20%20%20%20WestToronto%2037%20%20%20%20DowntownToronto%2038%20%20%20%20%20%20%20%20EastToronto%20Name%3A%20Borough%2C%20dtype%3A%20object%20Cluster%201%3C/div%3E%60%29%5B0%5D%3B%0A%20%20%20%20%20%20%20%20%20%20%20%20popup_c6554ff286394ae087470b5323a8b59c.setContent%28html_40a74f99b93a4f2ca71474ce3c466737%29%3B%0A%20%20%20%20%20%20%20%20%0A%0A%20%20%20%20%20%20%20%20circle_marker_4e7dd3a147a2477c95f2adbf23159f60.bindPopup%28popup_c6554ff286394ae087470b5323a8b59c%29%0A%20%20%20%20%20%20%20%20%3B%0A%0A%20%20%20%20%20%20%20%20%0A%20%20%20%20%0A%20%20%20%20%0A%20%20%20%20%20%20%20%20%20%20%20%20var%20circle_marker_1b059e0244bf4e89962476476234348a%20%3D%20L.circleMarker%28%0A%20%20%20%20%20%20%20%20%20%20%20%20%20%20%20%20%5B43.6464352%2C%20-79.37484599999999%5D%2C%0A%20%20%20%20%20%20%20%20%20%20%20%20%20%20%20%20%7B%22bubblingMouseEvents%22%3A%20true%2C%20%22color%22%3A%20%22%238000ff%22%2C%20%22dashArray%22%3A%20null%2C%20%22dashOffset%22%3A%20null%2C%20%22fill%22%3A%20true%2C%20%22fillColor%22%3A%20%22%238000ff%22%2C%20%22fillOpacity%22%3A%200.7%2C%20%22fillRule%22%3A%20%22evenodd%22%2C%20%22lineCap%22%3A%20%22round%22%2C%20%22lineJoin%22%3A%20%22round%22%2C%20%22opacity%22%3A%201.0%2C%20%22radius%22%3A%205%2C%20%22stroke%22%3A%20true%2C%20%22weight%22%3A%203%7D%0A%20%20%20%20%20%20%20%20%20%20%20%20%29.addTo%28map_bb9a0736adde40079461befc4b5e56dd%29%3B%0A%20%20%20%20%20%20%20%20%0A%20%20%20%20%0A%20%20%20%20%20%20%20%20var%20popup_a15c96c27f094f08bd6302578d216a96%20%3D%20L.popup%28%7B%22maxWidth%22%3A%20%22100%25%22%7D%29%3B%0A%0A%20%20%20%20%20%20%20%20%0A%20%20%20%20%20%20%20%20%20%20%20%20var%20html_93e62db39f834d7399fc406cae81d832%20%3D%20%24%28%60%3Cdiv%20id%3D%22html_93e62db39f834d7399fc406cae81d832%22%20style%3D%22width%3A%20100.0%25%3B%20height%3A%20100.0%25%3B%22%3E0%20%20%20%20%20%20%20%20%20EastToronto%201%20%20%20%20%20%20%20%20%20EastToronto%202%20%20%20%20%20%20%20%20%20EastToronto%203%20%20%20%20%20%20%20%20%20EastToronto%204%20%20%20%20%20%20CentralToronto%205%20%20%20%20%20%20CentralToronto%206%20%20%20%20%20%20CentralToronto%207%20%20%20%20%20%20CentralToronto%208%20%20%20%20%20%20CentralToronto%209%20%20%20%20%20%20CentralToronto%2010%20%20%20%20DowntownToronto%2011%20%20%20%20DowntownToronto%2012%20%20%20%20DowntownToronto%2013%20%20%20%20DowntownToronto%2014%20%20%20%20DowntownToronto%2015%20%20%20%20DowntownToronto%2016%20%20%20%20DowntownToronto%2017%20%20%20%20DowntownToronto%2018%20%20%20%20DowntownToronto%2019%20%20%20%20DowntownToronto%2020%20%20%20%20DowntownToronto%2021%20%20%20%20DowntownToronto%2022%20%20%20%20%20CentralToronto%2023%20%20%20%20%20CentralToronto%2024%20%20%20%20%20CentralToronto%2025%20%20%20%20DowntownToronto%2026%20%20%20%20DowntownToronto%2027%20%20%20%20DowntownToronto%2028%20%20%20%20DowntownToronto%2029%20%20%20%20DowntownToronto%2030%20%20%20%20DowntownToronto%2031%20%20%20%20%20%20%20%20WestToronto%2032%20%20%20%20%20%20%20%20WestToronto%2033%20%20%20%20%20%20%20%20WestToronto%2034%20%20%20%20%20%20%20%20WestToronto%2035%20%20%20%20%20%20%20%20WestToronto%2036%20%20%20%20%20%20%20%20WestToronto%2037%20%20%20%20DowntownToronto%2038%20%20%20%20%20%20%20%20EastToronto%20Name%3A%20Borough%2C%20dtype%3A%20object%20Cluster%201%3C/div%3E%60%29%5B0%5D%3B%0A%20%20%20%20%20%20%20%20%20%20%20%20popup_a15c96c27f094f08bd6302578d216a96.setContent%28html_93e62db39f834d7399fc406cae81d832%29%3B%0A%20%20%20%20%20%20%20%20%0A%0A%20%20%20%20%20%20%20%20circle_marker_1b059e0244bf4e89962476476234348a.bindPopup%28popup_a15c96c27f094f08bd6302578d216a96%29%0A%20%20%20%20%20%20%20%20%3B%0A%0A%20%20%20%20%20%20%20%20%0A%20%20%20%20%0A%20%20%20%20%0A%20%20%20%20%20%20%20%20%20%20%20%20var%20circle_marker_60c2c9dce7d44b67857411fd29aa633b%20%3D%20L.circleMarker%28%0A%20%20%20%20%20%20%20%20%20%20%20%20%20%20%20%20%5B43.6484292%2C%20-79.3822802%5D%2C%0A%20%20%20%20%20%20%20%20%20%20%20%20%20%20%20%20%7B%22bubblingMouseEvents%22%3A%20true%2C%20%22color%22%3A%20%22%238000ff%22%2C%20%22dashArray%22%3A%20null%2C%20%22dashOffset%22%3A%20null%2C%20%22fill%22%3A%20true%2C%20%22fillColor%22%3A%20%22%238000ff%22%2C%20%22fillOpacity%22%3A%200.7%2C%20%22fillRule%22%3A%20%22evenodd%22%2C%20%22lineCap%22%3A%20%22round%22%2C%20%22lineJoin%22%3A%20%22round%22%2C%20%22opacity%22%3A%201.0%2C%20%22radius%22%3A%205%2C%20%22stroke%22%3A%20true%2C%20%22weight%22%3A%203%7D%0A%20%20%20%20%20%20%20%20%20%20%20%20%29.addTo%28map_bb9a0736adde40079461befc4b5e56dd%29%3B%0A%20%20%20%20%20%20%20%20%0A%20%20%20%20%0A%20%20%20%20%20%20%20%20var%20popup_9f62e74ce3f6472780392b08bc60c935%20%3D%20L.popup%28%7B%22maxWidth%22%3A%20%22100%25%22%7D%29%3B%0A%0A%20%20%20%20%20%20%20%20%0A%20%20%20%20%20%20%20%20%20%20%20%20var%20html_4eb1ac3570004778a2701df8353a9f1b%20%3D%20%24%28%60%3Cdiv%20id%3D%22html_4eb1ac3570004778a2701df8353a9f1b%22%20style%3D%22width%3A%20100.0%25%3B%20height%3A%20100.0%25%3B%22%3E0%20%20%20%20%20%20%20%20%20EastToronto%201%20%20%20%20%20%20%20%20%20EastToronto%202%20%20%20%20%20%20%20%20%20EastToronto%203%20%20%20%20%20%20%20%20%20EastToronto%204%20%20%20%20%20%20CentralToronto%205%20%20%20%20%20%20CentralToronto%206%20%20%20%20%20%20CentralToronto%207%20%20%20%20%20%20CentralToronto%208%20%20%20%20%20%20CentralToronto%209%20%20%20%20%20%20CentralToronto%2010%20%20%20%20DowntownToronto%2011%20%20%20%20DowntownToronto%2012%20%20%20%20DowntownToronto%2013%20%20%20%20DowntownToronto%2014%20%20%20%20DowntownToronto%2015%20%20%20%20DowntownToronto%2016%20%20%20%20DowntownToronto%2017%20%20%20%20DowntownToronto%2018%20%20%20%20DowntownToronto%2019%20%20%20%20DowntownToronto%2020%20%20%20%20DowntownToronto%2021%20%20%20%20DowntownToronto%2022%20%20%20%20%20CentralToronto%2023%20%20%20%20%20CentralToronto%2024%20%20%20%20%20CentralToronto%2025%20%20%20%20DowntownToronto%2026%20%20%20%20DowntownToronto%2027%20%20%20%20DowntownToronto%2028%20%20%20%20DowntownToronto%2029%20%20%20%20DowntownToronto%2030%20%20%20%20DowntownToronto%2031%20%20%20%20%20%20%20%20WestToronto%2032%20%20%20%20%20%20%20%20WestToronto%2033%20%20%20%20%20%20%20%20WestToronto%2034%20%20%20%20%20%20%20%20WestToronto%2035%20%20%20%20%20%20%20%20WestToronto%2036%20%20%20%20%20%20%20%20WestToronto%2037%20%20%20%20DowntownToronto%2038%20%20%20%20%20%20%20%20EastToronto%20Name%3A%20Borough%2C%20dtype%3A%20object%20Cluster%201%3C/div%3E%60%29%5B0%5D%3B%0A%20%20%20%20%20%20%20%20%20%20%20%20popup_9f62e74ce3f6472780392b08bc60c935.setContent%28html_4eb1ac3570004778a2701df8353a9f1b%29%3B%0A%20%20%20%20%20%20%20%20%0A%0A%20%20%20%20%20%20%20%20circle_marker_60c2c9dce7d44b67857411fd29aa633b.bindPopup%28popup_9f62e74ce3f6472780392b08bc60c935%29%0A%20%20%20%20%20%20%20%20%3B%0A%0A%20%20%20%20%20%20%20%20%0A%20%20%20%20%0A%20%20%20%20%0A%20%20%20%20%20%20%20%20%20%20%20%20var%20circle_marker_56d9293d61d14c19875534eed643ac7e%20%3D%20L.circleMarker%28%0A%20%20%20%20%20%20%20%20%20%20%20%20%20%20%20%20%5B43.669542%2C%20-79.4225637%5D%2C%0A%20%20%20%20%20%20%20%20%20%20%20%20%20%20%20%20%7B%22bubblingMouseEvents%22%3A%20true%2C%20%22color%22%3A%20%22%238000ff%22%2C%20%22dashArray%22%3A%20null%2C%20%22dashOffset%22%3A%20null%2C%20%22fill%22%3A%20true%2C%20%22fillColor%22%3A%20%22%238000ff%22%2C%20%22fillOpacity%22%3A%200.7%2C%20%22fillRule%22%3A%20%22evenodd%22%2C%20%22lineCap%22%3A%20%22round%22%2C%20%22lineJoin%22%3A%20%22round%22%2C%20%22opacity%22%3A%201.0%2C%20%22radius%22%3A%205%2C%20%22stroke%22%3A%20true%2C%20%22weight%22%3A%203%7D%0A%20%20%20%20%20%20%20%20%20%20%20%20%29.addTo%28map_bb9a0736adde40079461befc4b5e56dd%29%3B%0A%20%20%20%20%20%20%20%20%0A%20%20%20%20%0A%20%20%20%20%20%20%20%20var%20popup_9829a507d1eb4e0c898f191b5b3d1a91%20%3D%20L.popup%28%7B%22maxWidth%22%3A%20%22100%25%22%7D%29%3B%0A%0A%20%20%20%20%20%20%20%20%0A%20%20%20%20%20%20%20%20%20%20%20%20var%20html_5c669958df15431fb2235e02ceba9ddd%20%3D%20%24%28%60%3Cdiv%20id%3D%22html_5c669958df15431fb2235e02ceba9ddd%22%20style%3D%22width%3A%20100.0%25%3B%20height%3A%20100.0%25%3B%22%3E0%20%20%20%20%20%20%20%20%20EastToronto%201%20%20%20%20%20%20%20%20%20EastToronto%202%20%20%20%20%20%20%20%20%20EastToronto%203%20%20%20%20%20%20%20%20%20EastToronto%204%20%20%20%20%20%20CentralToronto%205%20%20%20%20%20%20CentralToronto%206%20%20%20%20%20%20CentralToronto%207%20%20%20%20%20%20CentralToronto%208%20%20%20%20%20%20CentralToronto%209%20%20%20%20%20%20CentralToronto%2010%20%20%20%20DowntownToronto%2011%20%20%20%20DowntownToronto%2012%20%20%20%20DowntownToronto%2013%20%20%20%20DowntownToronto%2014%20%20%20%20DowntownToronto%2015%20%20%20%20DowntownToronto%2016%20%20%20%20DowntownToronto%2017%20%20%20%20DowntownToronto%2018%20%20%20%20DowntownToronto%2019%20%20%20%20DowntownToronto%2020%20%20%20%20DowntownToronto%2021%20%20%20%20DowntownToronto%2022%20%20%20%20%20CentralToronto%2023%20%20%20%20%20CentralToronto%2024%20%20%20%20%20CentralToronto%2025%20%20%20%20DowntownToronto%2026%20%20%20%20DowntownToronto%2027%20%20%20%20DowntownToronto%2028%20%20%20%20DowntownToronto%2029%20%20%20%20DowntownToronto%2030%20%20%20%20DowntownToronto%2031%20%20%20%20%20%20%20%20WestToronto%2032%20%20%20%20%20%20%20%20WestToronto%2033%20%20%20%20%20%20%20%20WestToronto%2034%20%20%20%20%20%20%20%20WestToronto%2035%20%20%20%20%20%20%20%20WestToronto%2036%20%20%20%20%20%20%20%20WestToronto%2037%20%20%20%20DowntownToronto%2038%20%20%20%20%20%20%20%20EastToronto%20Name%3A%20Borough%2C%20dtype%3A%20object%20Cluster%201%3C/div%3E%60%29%5B0%5D%3B%0A%20%20%20%20%20%20%20%20%20%20%20%20popup_9829a507d1eb4e0c898f191b5b3d1a91.setContent%28html_5c669958df15431fb2235e02ceba9ddd%29%3B%0A%20%20%20%20%20%20%20%20%0A%0A%20%20%20%20%20%20%20%20circle_marker_56d9293d61d14c19875534eed643ac7e.bindPopup%28popup_9829a507d1eb4e0c898f191b5b3d1a91%29%0A%20%20%20%20%20%20%20%20%3B%0A%0A%20%20%20%20%20%20%20%20%0A%20%20%20%20%0A%20%20%20%20%0A%20%20%20%20%20%20%20%20%20%20%20%20var%20circle_marker_363b7979a2f54f4b96755b9e8422a692%20%3D%20L.circleMarker%28%0A%20%20%20%20%20%20%20%20%20%20%20%20%20%20%20%20%5B43.66900510000001%2C%20-79.4422593%5D%2C%0A%20%20%20%20%20%20%20%20%20%20%20%20%20%20%20%20%7B%22bubblingMouseEvents%22%3A%20true%2C%20%22color%22%3A%20%22%23d4dd80%22%2C%20%22dashArray%22%3A%20null%2C%20%22dashOffset%22%3A%20null%2C%20%22fill%22%3A%20true%2C%20%22fillColor%22%3A%20%22%23d4dd80%22%2C%20%22fillOpacity%22%3A%200.7%2C%20%22fillRule%22%3A%20%22evenodd%22%2C%20%22lineCap%22%3A%20%22round%22%2C%20%22lineJoin%22%3A%20%22round%22%2C%20%22opacity%22%3A%201.0%2C%20%22radius%22%3A%205%2C%20%22stroke%22%3A%20true%2C%20%22weight%22%3A%203%7D%0A%20%20%20%20%20%20%20%20%20%20%20%20%29.addTo%28map_bb9a0736adde40079461befc4b5e56dd%29%3B%0A%20%20%20%20%20%20%20%20%0A%20%20%20%20%0A%20%20%20%20%20%20%20%20var%20popup_4bf5781632084aa19a931333a60eb3fd%20%3D%20L.popup%28%7B%22maxWidth%22%3A%20%22100%25%22%7D%29%3B%0A%0A%20%20%20%20%20%20%20%20%0A%20%20%20%20%20%20%20%20%20%20%20%20var%20html_e47bd8192a03420ea18e62137966df87%20%3D%20%24%28%60%3Cdiv%20id%3D%22html_e47bd8192a03420ea18e62137966df87%22%20style%3D%22width%3A%20100.0%25%3B%20height%3A%20100.0%25%3B%22%3E0%20%20%20%20%20%20%20%20%20EastToronto%201%20%20%20%20%20%20%20%20%20EastToronto%202%20%20%20%20%20%20%20%20%20EastToronto%203%20%20%20%20%20%20%20%20%20EastToronto%204%20%20%20%20%20%20CentralToronto%205%20%20%20%20%20%20CentralToronto%206%20%20%20%20%20%20CentralToronto%207%20%20%20%20%20%20CentralToronto%208%20%20%20%20%20%20CentralToronto%209%20%20%20%20%20%20CentralToronto%2010%20%20%20%20DowntownToronto%2011%20%20%20%20DowntownToronto%2012%20%20%20%20DowntownToronto%2013%20%20%20%20DowntownToronto%2014%20%20%20%20DowntownToronto%2015%20%20%20%20DowntownToronto%2016%20%20%20%20DowntownToronto%2017%20%20%20%20DowntownToronto%2018%20%20%20%20DowntownToronto%2019%20%20%20%20DowntownToronto%2020%20%20%20%20DowntownToronto%2021%20%20%20%20DowntownToronto%2022%20%20%20%20%20CentralToronto%2023%20%20%20%20%20CentralToronto%2024%20%20%20%20%20CentralToronto%2025%20%20%20%20DowntownToronto%2026%20%20%20%20DowntownToronto%2027%20%20%20%20DowntownToronto%2028%20%20%20%20DowntownToronto%2029%20%20%20%20DowntownToronto%2030%20%20%20%20DowntownToronto%2031%20%20%20%20%20%20%20%20WestToronto%2032%20%20%20%20%20%20%20%20WestToronto%2033%20%20%20%20%20%20%20%20WestToronto%2034%20%20%20%20%20%20%20%20WestToronto%2035%20%20%20%20%20%20%20%20WestToronto%2036%20%20%20%20%20%20%20%20WestToronto%2037%20%20%20%20DowntownToronto%2038%20%20%20%20%20%20%20%20EastToronto%20Name%3A%20Borough%2C%20dtype%3A%20object%20Cluster%203%3C/div%3E%60%29%5B0%5D%3B%0A%20%20%20%20%20%20%20%20%20%20%20%20popup_4bf5781632084aa19a931333a60eb3fd.setContent%28html_e47bd8192a03420ea18e62137966df87%29%3B%0A%20%20%20%20%20%20%20%20%0A%0A%20%20%20%20%20%20%20%20circle_marker_363b7979a2f54f4b96755b9e8422a692.bindPopup%28popup_4bf5781632084aa19a931333a60eb3fd%29%0A%20%20%20%20%20%20%20%20%3B%0A%0A%20%20%20%20%20%20%20%20%0A%20%20%20%20%0A%20%20%20%20%0A%20%20%20%20%20%20%20%20%20%20%20%20var%20circle_marker_64c0a354aec14c99bf92eb1a3664d842%20%3D%20L.circleMarker%28%0A%20%20%20%20%20%20%20%20%20%20%20%20%20%20%20%20%5B43.647926700000006%2C%20-79.4197497%5D%2C%0A%20%20%20%20%20%20%20%20%20%20%20%20%20%20%20%20%7B%22bubblingMouseEvents%22%3A%20true%2C%20%22color%22%3A%20%22%23d4dd80%22%2C%20%22dashArray%22%3A%20null%2C%20%22dashOffset%22%3A%20null%2C%20%22fill%22%3A%20true%2C%20%22fillColor%22%3A%20%22%23d4dd80%22%2C%20%22fillOpacity%22%3A%200.7%2C%20%22fillRule%22%3A%20%22evenodd%22%2C%20%22lineCap%22%3A%20%22round%22%2C%20%22lineJoin%22%3A%20%22round%22%2C%20%22opacity%22%3A%201.0%2C%20%22radius%22%3A%205%2C%20%22stroke%22%3A%20true%2C%20%22weight%22%3A%203%7D%0A%20%20%20%20%20%20%20%20%20%20%20%20%29.addTo%28map_bb9a0736adde40079461befc4b5e56dd%29%3B%0A%20%20%20%20%20%20%20%20%0A%20%20%20%20%0A%20%20%20%20%20%20%20%20var%20popup_6aff274b5665496c813f7f8886216be2%20%3D%20L.popup%28%7B%22maxWidth%22%3A%20%22100%25%22%7D%29%3B%0A%0A%20%20%20%20%20%20%20%20%0A%20%20%20%20%20%20%20%20%20%20%20%20var%20html_148e4f6d95c942feb6e551d0f231a222%20%3D%20%24%28%60%3Cdiv%20id%3D%22html_148e4f6d95c942feb6e551d0f231a222%22%20style%3D%22width%3A%20100.0%25%3B%20height%3A%20100.0%25%3B%22%3E0%20%20%20%20%20%20%20%20%20EastToronto%201%20%20%20%20%20%20%20%20%20EastToronto%202%20%20%20%20%20%20%20%20%20EastToronto%203%20%20%20%20%20%20%20%20%20EastToronto%204%20%20%20%20%20%20CentralToronto%205%20%20%20%20%20%20CentralToronto%206%20%20%20%20%20%20CentralToronto%207%20%20%20%20%20%20CentralToronto%208%20%20%20%20%20%20CentralToronto%209%20%20%20%20%20%20CentralToronto%2010%20%20%20%20DowntownToronto%2011%20%20%20%20DowntownToronto%2012%20%20%20%20DowntownToronto%2013%20%20%20%20DowntownToronto%2014%20%20%20%20DowntownToronto%2015%20%20%20%20DowntownToronto%2016%20%20%20%20DowntownToronto%2017%20%20%20%20DowntownToronto%2018%20%20%20%20DowntownToronto%2019%20%20%20%20DowntownToronto%2020%20%20%20%20DowntownToronto%2021%20%20%20%20DowntownToronto%2022%20%20%20%20%20CentralToronto%2023%20%20%20%20%20CentralToronto%2024%20%20%20%20%20CentralToronto%2025%20%20%20%20DowntownToronto%2026%20%20%20%20DowntownToronto%2027%20%20%20%20DowntownToronto%2028%20%20%20%20DowntownToronto%2029%20%20%20%20DowntownToronto%2030%20%20%20%20DowntownToronto%2031%20%20%20%20%20%20%20%20WestToronto%2032%20%20%20%20%20%20%20%20WestToronto%2033%20%20%20%20%20%20%20%20WestToronto%2034%20%20%20%20%20%20%20%20WestToronto%2035%20%20%20%20%20%20%20%20WestToronto%2036%20%20%20%20%20%20%20%20WestToronto%2037%20%20%20%20DowntownToronto%2038%20%20%20%20%20%20%20%20EastToronto%20Name%3A%20Borough%2C%20dtype%3A%20object%20Cluster%203%3C/div%3E%60%29%5B0%5D%3B%0A%20%20%20%20%20%20%20%20%20%20%20%20popup_6aff274b5665496c813f7f8886216be2.setContent%28html_148e4f6d95c942feb6e551d0f231a222%29%3B%0A%20%20%20%20%20%20%20%20%0A%0A%20%20%20%20%20%20%20%20circle_marker_64c0a354aec14c99bf92eb1a3664d842.bindPopup%28popup_6aff274b5665496c813f7f8886216be2%29%0A%20%20%20%20%20%20%20%20%3B%0A%0A%20%20%20%20%20%20%20%20%0A%20%20%20%20%0A%20%20%20%20%0A%20%20%20%20%20%20%20%20%20%20%20%20var%20circle_marker_0717e1b8d0054f4cb980b44a7f02ed0e%20%3D%20L.circleMarker%28%0A%20%20%20%20%20%20%20%20%20%20%20%20%20%20%20%20%5B43.6368472%2C%20-79.42819140000002%5D%2C%0A%20%20%20%20%20%20%20%20%20%20%20%20%20%20%20%20%7B%22bubblingMouseEvents%22%3A%20true%2C%20%22color%22%3A%20%22%23d4dd80%22%2C%20%22dashArray%22%3A%20null%2C%20%22dashOffset%22%3A%20null%2C%20%22fill%22%3A%20true%2C%20%22fillColor%22%3A%20%22%23d4dd80%22%2C%20%22fillOpacity%22%3A%200.7%2C%20%22fillRule%22%3A%20%22evenodd%22%2C%20%22lineCap%22%3A%20%22round%22%2C%20%22lineJoin%22%3A%20%22round%22%2C%20%22opacity%22%3A%201.0%2C%20%22radius%22%3A%205%2C%20%22stroke%22%3A%20true%2C%20%22weight%22%3A%203%7D%0A%20%20%20%20%20%20%20%20%20%20%20%20%29.addTo%28map_bb9a0736adde40079461befc4b5e56dd%29%3B%0A%20%20%20%20%20%20%20%20%0A%20%20%20%20%0A%20%20%20%20%20%20%20%20var%20popup_f29d916c26c54dcf87a61e3cbb1e87e2%20%3D%20L.popup%28%7B%22maxWidth%22%3A%20%22100%25%22%7D%29%3B%0A%0A%20%20%20%20%20%20%20%20%0A%20%20%20%20%20%20%20%20%20%20%20%20var%20html_9f2899b0729a4c5fa96fe4999dfb4edd%20%3D%20%24%28%60%3Cdiv%20id%3D%22html_9f2899b0729a4c5fa96fe4999dfb4edd%22%20style%3D%22width%3A%20100.0%25%3B%20height%3A%20100.0%25%3B%22%3E0%20%20%20%20%20%20%20%20%20EastToronto%201%20%20%20%20%20%20%20%20%20EastToronto%202%20%20%20%20%20%20%20%20%20EastToronto%203%20%20%20%20%20%20%20%20%20EastToronto%204%20%20%20%20%20%20CentralToronto%205%20%20%20%20%20%20CentralToronto%206%20%20%20%20%20%20CentralToronto%207%20%20%20%20%20%20CentralToronto%208%20%20%20%20%20%20CentralToronto%209%20%20%20%20%20%20CentralToronto%2010%20%20%20%20DowntownToronto%2011%20%20%20%20DowntownToronto%2012%20%20%20%20DowntownToronto%2013%20%20%20%20DowntownToronto%2014%20%20%20%20DowntownToronto%2015%20%20%20%20DowntownToronto%2016%20%20%20%20DowntownToronto%2017%20%20%20%20DowntownToronto%2018%20%20%20%20DowntownToronto%2019%20%20%20%20DowntownToronto%2020%20%20%20%20DowntownToronto%2021%20%20%20%20DowntownToronto%2022%20%20%20%20%20CentralToronto%2023%20%20%20%20%20CentralToronto%2024%20%20%20%20%20CentralToronto%2025%20%20%20%20DowntownToronto%2026%20%20%20%20DowntownToronto%2027%20%20%20%20DowntownToronto%2028%20%20%20%20DowntownToronto%2029%20%20%20%20DowntownToronto%2030%20%20%20%20DowntownToronto%2031%20%20%20%20%20%20%20%20WestToronto%2032%20%20%20%20%20%20%20%20WestToronto%2033%20%20%20%20%20%20%20%20WestToronto%2034%20%20%20%20%20%20%20%20WestToronto%2035%20%20%20%20%20%20%20%20WestToronto%2036%20%20%20%20%20%20%20%20WestToronto%2037%20%20%20%20DowntownToronto%2038%20%20%20%20%20%20%20%20EastToronto%20Name%3A%20Borough%2C%20dtype%3A%20object%20Cluster%203%3C/div%3E%60%29%5B0%5D%3B%0A%20%20%20%20%20%20%20%20%20%20%20%20popup_f29d916c26c54dcf87a61e3cbb1e87e2.setContent%28html_9f2899b0729a4c5fa96fe4999dfb4edd%29%3B%0A%20%20%20%20%20%20%20%20%0A%0A%20%20%20%20%20%20%20%20circle_marker_0717e1b8d0054f4cb980b44a7f02ed0e.bindPopup%28popup_f29d916c26c54dcf87a61e3cbb1e87e2%29%0A%20%20%20%20%20%20%20%20%3B%0A%0A%20%20%20%20%20%20%20%20%0A%20%20%20%20%0A%20%20%20%20%0A%20%20%20%20%20%20%20%20%20%20%20%20var%20circle_marker_9f093257a74f453dbccb81c698a4020e%20%3D%20L.circleMarker%28%0A%20%20%20%20%20%20%20%20%20%20%20%20%20%20%20%20%5B43.6616083%2C%20-79.46476329999999%5D%2C%0A%20%20%20%20%20%20%20%20%20%20%20%20%20%20%20%20%7B%22bubblingMouseEvents%22%3A%20true%2C%20%22color%22%3A%20%22%23d4dd80%22%2C%20%22dashArray%22%3A%20null%2C%20%22dashOffset%22%3A%20null%2C%20%22fill%22%3A%20true%2C%20%22fillColor%22%3A%20%22%23d4dd80%22%2C%20%22fillOpacity%22%3A%200.7%2C%20%22fillRule%22%3A%20%22evenodd%22%2C%20%22lineCap%22%3A%20%22round%22%2C%20%22lineJoin%22%3A%20%22round%22%2C%20%22opacity%22%3A%201.0%2C%20%22radius%22%3A%205%2C%20%22stroke%22%3A%20true%2C%20%22weight%22%3A%203%7D%0A%20%20%20%20%20%20%20%20%20%20%20%20%29.addTo%28map_bb9a0736adde40079461befc4b5e56dd%29%3B%0A%20%20%20%20%20%20%20%20%0A%20%20%20%20%0A%20%20%20%20%20%20%20%20var%20popup_a7d9d9c974dd4b009293feceea403d54%20%3D%20L.popup%28%7B%22maxWidth%22%3A%20%22100%25%22%7D%29%3B%0A%0A%20%20%20%20%20%20%20%20%0A%20%20%20%20%20%20%20%20%20%20%20%20var%20html_344cadbb6e274e83846c9a79d8ece934%20%3D%20%24%28%60%3Cdiv%20id%3D%22html_344cadbb6e274e83846c9a79d8ece934%22%20style%3D%22width%3A%20100.0%25%3B%20height%3A%20100.0%25%3B%22%3E0%20%20%20%20%20%20%20%20%20EastToronto%201%20%20%20%20%20%20%20%20%20EastToronto%202%20%20%20%20%20%20%20%20%20EastToronto%203%20%20%20%20%20%20%20%20%20EastToronto%204%20%20%20%20%20%20CentralToronto%205%20%20%20%20%20%20CentralToronto%206%20%20%20%20%20%20CentralToronto%207%20%20%20%20%20%20CentralToronto%208%20%20%20%20%20%20CentralToronto%209%20%20%20%20%20%20CentralToronto%2010%20%20%20%20DowntownToronto%2011%20%20%20%20DowntownToronto%2012%20%20%20%20DowntownToronto%2013%20%20%20%20DowntownToronto%2014%20%20%20%20DowntownToronto%2015%20%20%20%20DowntownToronto%2016%20%20%20%20DowntownToronto%2017%20%20%20%20DowntownToronto%2018%20%20%20%20DowntownToronto%2019%20%20%20%20DowntownToronto%2020%20%20%20%20DowntownToronto%2021%20%20%20%20DowntownToronto%2022%20%20%20%20%20CentralToronto%2023%20%20%20%20%20CentralToronto%2024%20%20%20%20%20CentralToronto%2025%20%20%20%20DowntownToronto%2026%20%20%20%20DowntownToronto%2027%20%20%20%20DowntownToronto%2028%20%20%20%20DowntownToronto%2029%20%20%20%20DowntownToronto%2030%20%20%20%20DowntownToronto%2031%20%20%20%20%20%20%20%20WestToronto%2032%20%20%20%20%20%20%20%20WestToronto%2033%20%20%20%20%20%20%20%20WestToronto%2034%20%20%20%20%20%20%20%20WestToronto%2035%20%20%20%20%20%20%20%20WestToronto%2036%20%20%20%20%20%20%20%20WestToronto%2037%20%20%20%20DowntownToronto%2038%20%20%20%20%20%20%20%20EastToronto%20Name%3A%20Borough%2C%20dtype%3A%20object%20Cluster%203%3C/div%3E%60%29%5B0%5D%3B%0A%20%20%20%20%20%20%20%20%20%20%20%20popup_a7d9d9c974dd4b009293feceea403d54.setContent%28html_344cadbb6e274e83846c9a79d8ece934%29%3B%0A%20%20%20%20%20%20%20%20%0A%0A%20%20%20%20%20%20%20%20circle_marker_9f093257a74f453dbccb81c698a4020e.bindPopup%28popup_a7d9d9c974dd4b009293feceea403d54%29%0A%20%20%20%20%20%20%20%20%3B%0A%0A%20%20%20%20%20%20%20%20%0A%20%20%20%20%0A%20%20%20%20%0A%20%20%20%20%20%20%20%20%20%20%20%20var%20circle_marker_9c3e103afccd4ecba98bbc655a1f3a9c%20%3D%20L.circleMarker%28%0A%20%20%20%20%20%20%20%20%20%20%20%20%20%20%20%20%5B43.6489597%2C%20-79.456325%5D%2C%0A%20%20%20%20%20%20%20%20%20%20%20%20%20%20%20%20%7B%22bubblingMouseEvents%22%3A%20true%2C%20%22color%22%3A%20%22%23d4dd80%22%2C%20%22dashArray%22%3A%20null%2C%20%22dashOffset%22%3A%20null%2C%20%22fill%22%3A%20true%2C%20%22fillColor%22%3A%20%22%23d4dd80%22%2C%20%22fillOpacity%22%3A%200.7%2C%20%22fillRule%22%3A%20%22evenodd%22%2C%20%22lineCap%22%3A%20%22round%22%2C%20%22lineJoin%22%3A%20%22round%22%2C%20%22opacity%22%3A%201.0%2C%20%22radius%22%3A%205%2C%20%22stroke%22%3A%20true%2C%20%22weight%22%3A%203%7D%0A%20%20%20%20%20%20%20%20%20%20%20%20%29.addTo%28map_bb9a0736adde40079461befc4b5e56dd%29%3B%0A%20%20%20%20%20%20%20%20%0A%20%20%20%20%0A%20%20%20%20%20%20%20%20var%20popup_925f4ba871e2433bb1b7a80d7941d8f7%20%3D%20L.popup%28%7B%22maxWidth%22%3A%20%22100%25%22%7D%29%3B%0A%0A%20%20%20%20%20%20%20%20%0A%20%20%20%20%20%20%20%20%20%20%20%20var%20html_7a41cbc5058740f383e7a63f57c83903%20%3D%20%24%28%60%3Cdiv%20id%3D%22html_7a41cbc5058740f383e7a63f57c83903%22%20style%3D%22width%3A%20100.0%25%3B%20height%3A%20100.0%25%3B%22%3E0%20%20%20%20%20%20%20%20%20EastToronto%201%20%20%20%20%20%20%20%20%20EastToronto%202%20%20%20%20%20%20%20%20%20EastToronto%203%20%20%20%20%20%20%20%20%20EastToronto%204%20%20%20%20%20%20CentralToronto%205%20%20%20%20%20%20CentralToronto%206%20%20%20%20%20%20CentralToronto%207%20%20%20%20%20%20CentralToronto%208%20%20%20%20%20%20CentralToronto%209%20%20%20%20%20%20CentralToronto%2010%20%20%20%20DowntownToronto%2011%20%20%20%20DowntownToronto%2012%20%20%20%20DowntownToronto%2013%20%20%20%20DowntownToronto%2014%20%20%20%20DowntownToronto%2015%20%20%20%20DowntownToronto%2016%20%20%20%20DowntownToronto%2017%20%20%20%20DowntownToronto%2018%20%20%20%20DowntownToronto%2019%20%20%20%20DowntownToronto%2020%20%20%20%20DowntownToronto%2021%20%20%20%20DowntownToronto%2022%20%20%20%20%20CentralToronto%2023%20%20%20%20%20CentralToronto%2024%20%20%20%20%20CentralToronto%2025%20%20%20%20DowntownToronto%2026%20%20%20%20DowntownToronto%2027%20%20%20%20DowntownToronto%2028%20%20%20%20DowntownToronto%2029%20%20%20%20DowntownToronto%2030%20%20%20%20DowntownToronto%2031%20%20%20%20%20%20%20%20WestToronto%2032%20%20%20%20%20%20%20%20WestToronto%2033%20%20%20%20%20%20%20%20WestToronto%2034%20%20%20%20%20%20%20%20WestToronto%2035%20%20%20%20%20%20%20%20WestToronto%2036%20%20%20%20%20%20%20%20WestToronto%2037%20%20%20%20DowntownToronto%2038%20%20%20%20%20%20%20%20EastToronto%20Name%3A%20Borough%2C%20dtype%3A%20object%20Cluster%203%3C/div%3E%60%29%5B0%5D%3B%0A%20%20%20%20%20%20%20%20%20%20%20%20popup_925f4ba871e2433bb1b7a80d7941d8f7.setContent%28html_7a41cbc5058740f383e7a63f57c83903%29%3B%0A%20%20%20%20%20%20%20%20%0A%0A%20%20%20%20%20%20%20%20circle_marker_9c3e103afccd4ecba98bbc655a1f3a9c.bindPopup%28popup_925f4ba871e2433bb1b7a80d7941d8f7%29%0A%20%20%20%20%20%20%20%20%3B%0A%0A%20%20%20%20%20%20%20%20%0A%20%20%20%20%0A%20%20%20%20%0A%20%20%20%20%20%20%20%20%20%20%20%20var%20circle_marker_83d0c25b739d4e5a925cff5752e8ab4f%20%3D%20L.circleMarker%28%0A%20%20%20%20%20%20%20%20%20%20%20%20%20%20%20%20%5B43.6515706%2C%20-79.4844499%5D%2C%0A%20%20%20%20%20%20%20%20%20%20%20%20%20%20%20%20%7B%22bubblingMouseEvents%22%3A%20true%2C%20%22color%22%3A%20%22%23d4dd80%22%2C%20%22dashArray%22%3A%20null%2C%20%22dashOffset%22%3A%20null%2C%20%22fill%22%3A%20true%2C%20%22fillColor%22%3A%20%22%23d4dd80%22%2C%20%22fillOpacity%22%3A%200.7%2C%20%22fillRule%22%3A%20%22evenodd%22%2C%20%22lineCap%22%3A%20%22round%22%2C%20%22lineJoin%22%3A%20%22round%22%2C%20%22opacity%22%3A%201.0%2C%20%22radius%22%3A%205%2C%20%22stroke%22%3A%20true%2C%20%22weight%22%3A%203%7D%0A%20%20%20%20%20%20%20%20%20%20%20%20%29.addTo%28map_bb9a0736adde40079461befc4b5e56dd%29%3B%0A%20%20%20%20%20%20%20%20%0A%20%20%20%20%0A%20%20%20%20%20%20%20%20var%20popup_a2fa706d565b4d368493c7eb11458b8a%20%3D%20L.popup%28%7B%22maxWidth%22%3A%20%22100%25%22%7D%29%3B%0A%0A%20%20%20%20%20%20%20%20%0A%20%20%20%20%20%20%20%20%20%20%20%20var%20html_25a12ec2c4b04b28afe30b8d0e67a5f0%20%3D%20%24%28%60%3Cdiv%20id%3D%22html_25a12ec2c4b04b28afe30b8d0e67a5f0%22%20style%3D%22width%3A%20100.0%25%3B%20height%3A%20100.0%25%3B%22%3E0%20%20%20%20%20%20%20%20%20EastToronto%201%20%20%20%20%20%20%20%20%20EastToronto%202%20%20%20%20%20%20%20%20%20EastToronto%203%20%20%20%20%20%20%20%20%20EastToronto%204%20%20%20%20%20%20CentralToronto%205%20%20%20%20%20%20CentralToronto%206%20%20%20%20%20%20CentralToronto%207%20%20%20%20%20%20CentralToronto%208%20%20%20%20%20%20CentralToronto%209%20%20%20%20%20%20CentralToronto%2010%20%20%20%20DowntownToronto%2011%20%20%20%20DowntownToronto%2012%20%20%20%20DowntownToronto%2013%20%20%20%20DowntownToronto%2014%20%20%20%20DowntownToronto%2015%20%20%20%20DowntownToronto%2016%20%20%20%20DowntownToronto%2017%20%20%20%20DowntownToronto%2018%20%20%20%20DowntownToronto%2019%20%20%20%20DowntownToronto%2020%20%20%20%20DowntownToronto%2021%20%20%20%20DowntownToronto%2022%20%20%20%20%20CentralToronto%2023%20%20%20%20%20CentralToronto%2024%20%20%20%20%20CentralToronto%2025%20%20%20%20DowntownToronto%2026%20%20%20%20DowntownToronto%2027%20%20%20%20DowntownToronto%2028%20%20%20%20DowntownToronto%2029%20%20%20%20DowntownToronto%2030%20%20%20%20DowntownToronto%2031%20%20%20%20%20%20%20%20WestToronto%2032%20%20%20%20%20%20%20%20WestToronto%2033%20%20%20%20%20%20%20%20WestToronto%2034%20%20%20%20%20%20%20%20WestToronto%2035%20%20%20%20%20%20%20%20WestToronto%2036%20%20%20%20%20%20%20%20WestToronto%2037%20%20%20%20DowntownToronto%2038%20%20%20%20%20%20%20%20EastToronto%20Name%3A%20Borough%2C%20dtype%3A%20object%20Cluster%203%3C/div%3E%60%29%5B0%5D%3B%0A%20%20%20%20%20%20%20%20%20%20%20%20popup_a2fa706d565b4d368493c7eb11458b8a.setContent%28html_25a12ec2c4b04b28afe30b8d0e67a5f0%29%3B%0A%20%20%20%20%20%20%20%20%0A%0A%20%20%20%20%20%20%20%20circle_marker_83d0c25b739d4e5a925cff5752e8ab4f.bindPopup%28popup_a2fa706d565b4d368493c7eb11458b8a%29%0A%20%20%20%20%20%20%20%20%3B%0A%0A%20%20%20%20%20%20%20%20%0A%20%20%20%20%0A%20%20%20%20%0A%20%20%20%20%20%20%20%20%20%20%20%20var%20circle_marker_11336ede953e432ab9a523c0b0231677%20%3D%20L.circleMarker%28%0A%20%20%20%20%20%20%20%20%20%20%20%20%20%20%20%20%5B43.6623015%2C%20-79.3894938%5D%2C%0A%20%20%20%20%20%20%20%20%20%20%20%20%20%20%20%20%7B%22bubblingMouseEvents%22%3A%20true%2C%20%22color%22%3A%20%22%238000ff%22%2C%20%22dashArray%22%3A%20null%2C%20%22dashOffset%22%3A%20null%2C%20%22fill%22%3A%20true%2C%20%22fillColor%22%3A%20%22%238000ff%22%2C%20%22fillOpacity%22%3A%200.7%2C%20%22fillRule%22%3A%20%22evenodd%22%2C%20%22lineCap%22%3A%20%22round%22%2C%20%22lineJoin%22%3A%20%22round%22%2C%20%22opacity%22%3A%201.0%2C%20%22radius%22%3A%205%2C%20%22stroke%22%3A%20true%2C%20%22weight%22%3A%203%7D%0A%20%20%20%20%20%20%20%20%20%20%20%20%29.addTo%28map_bb9a0736adde40079461befc4b5e56dd%29%3B%0A%20%20%20%20%20%20%20%20%0A%20%20%20%20%0A%20%20%20%20%20%20%20%20var%20popup_ab1ae6569f9348768efb29bb37a5df43%20%3D%20L.popup%28%7B%22maxWidth%22%3A%20%22100%25%22%7D%29%3B%0A%0A%20%20%20%20%20%20%20%20%0A%20%20%20%20%20%20%20%20%20%20%20%20var%20html_a0531866269b4a07a3ffea1fa6c4e338%20%3D%20%24%28%60%3Cdiv%20id%3D%22html_a0531866269b4a07a3ffea1fa6c4e338%22%20style%3D%22width%3A%20100.0%25%3B%20height%3A%20100.0%25%3B%22%3E0%20%20%20%20%20%20%20%20%20EastToronto%201%20%20%20%20%20%20%20%20%20EastToronto%202%20%20%20%20%20%20%20%20%20EastToronto%203%20%20%20%20%20%20%20%20%20EastToronto%204%20%20%20%20%20%20CentralToronto%205%20%20%20%20%20%20CentralToronto%206%20%20%20%20%20%20CentralToronto%207%20%20%20%20%20%20CentralToronto%208%20%20%20%20%20%20CentralToronto%209%20%20%20%20%20%20CentralToronto%2010%20%20%20%20DowntownToronto%2011%20%20%20%20DowntownToronto%2012%20%20%20%20DowntownToronto%2013%20%20%20%20DowntownToronto%2014%20%20%20%20DowntownToronto%2015%20%20%20%20DowntownToronto%2016%20%20%20%20DowntownToronto%2017%20%20%20%20DowntownToronto%2018%20%20%20%20DowntownToronto%2019%20%20%20%20DowntownToronto%2020%20%20%20%20DowntownToronto%2021%20%20%20%20DowntownToronto%2022%20%20%20%20%20CentralToronto%2023%20%20%20%20%20CentralToronto%2024%20%20%20%20%20CentralToronto%2025%20%20%20%20DowntownToronto%2026%20%20%20%20DowntownToronto%2027%20%20%20%20DowntownToronto%2028%20%20%20%20DowntownToronto%2029%20%20%20%20DowntownToronto%2030%20%20%20%20DowntownToronto%2031%20%20%20%20%20%20%20%20WestToronto%2032%20%20%20%20%20%20%20%20WestToronto%2033%20%20%20%20%20%20%20%20WestToronto%2034%20%20%20%20%20%20%20%20WestToronto%2035%20%20%20%20%20%20%20%20WestToronto%2036%20%20%20%20%20%20%20%20WestToronto%2037%20%20%20%20DowntownToronto%2038%20%20%20%20%20%20%20%20EastToronto%20Name%3A%20Borough%2C%20dtype%3A%20object%20Cluster%201%3C/div%3E%60%29%5B0%5D%3B%0A%20%20%20%20%20%20%20%20%20%20%20%20popup_ab1ae6569f9348768efb29bb37a5df43.setContent%28html_a0531866269b4a07a3ffea1fa6c4e338%29%3B%0A%20%20%20%20%20%20%20%20%0A%0A%20%20%20%20%20%20%20%20circle_marker_11336ede953e432ab9a523c0b0231677.bindPopup%28popup_ab1ae6569f9348768efb29bb37a5df43%29%0A%20%20%20%20%20%20%20%20%3B%0A%0A%20%20%20%20%20%20%20%20%0A%20%20%20%20%0A%20%20%20%20%0A%20%20%20%20%20%20%20%20%20%20%20%20var%20circle_marker_a7e12a3df1db4050abef76ea8aee2764%20%3D%20L.circleMarker%28%0A%20%20%20%20%20%20%20%20%20%20%20%20%20%20%20%20%5B43.6627439%2C%20-79.321558%5D%2C%0A%20%20%20%20%20%20%20%20%20%20%20%20%20%20%20%20%7B%22bubblingMouseEvents%22%3A%20true%2C%20%22color%22%3A%20%22%23ff0000%22%2C%20%22dashArray%22%3A%20null%2C%20%22dashOffset%22%3A%20null%2C%20%22fill%22%3A%20true%2C%20%22fillColor%22%3A%20%22%23ff0000%22%2C%20%22fillOpacity%22%3A%200.7%2C%20%22fillRule%22%3A%20%22evenodd%22%2C%20%22lineCap%22%3A%20%22round%22%2C%20%22lineJoin%22%3A%20%22round%22%2C%20%22opacity%22%3A%201.0%2C%20%22radius%22%3A%205%2C%20%22stroke%22%3A%20true%2C%20%22weight%22%3A%203%7D%0A%20%20%20%20%20%20%20%20%20%20%20%20%29.addTo%28map_bb9a0736adde40079461befc4b5e56dd%29%3B%0A%20%20%20%20%20%20%20%20%0A%20%20%20%20%0A%20%20%20%20%20%20%20%20var%20popup_9341c78d860141978bcb5b06b014e098%20%3D%20L.popup%28%7B%22maxWidth%22%3A%20%22100%25%22%7D%29%3B%0A%0A%20%20%20%20%20%20%20%20%0A%20%20%20%20%20%20%20%20%20%20%20%20var%20html_05b7dde27fa345159ed86e888af06e30%20%3D%20%24%28%60%3Cdiv%20id%3D%22html_05b7dde27fa345159ed86e888af06e30%22%20style%3D%22width%3A%20100.0%25%3B%20height%3A%20100.0%25%3B%22%3E0%20%20%20%20%20%20%20%20%20EastToronto%201%20%20%20%20%20%20%20%20%20EastToronto%202%20%20%20%20%20%20%20%20%20EastToronto%203%20%20%20%20%20%20%20%20%20EastToronto%204%20%20%20%20%20%20CentralToronto%205%20%20%20%20%20%20CentralToronto%206%20%20%20%20%20%20CentralToronto%207%20%20%20%20%20%20CentralToronto%208%20%20%20%20%20%20CentralToronto%209%20%20%20%20%20%20CentralToronto%2010%20%20%20%20DowntownToronto%2011%20%20%20%20DowntownToronto%2012%20%20%20%20DowntownToronto%2013%20%20%20%20DowntownToronto%2014%20%20%20%20DowntownToronto%2015%20%20%20%20DowntownToronto%2016%20%20%20%20DowntownToronto%2017%20%20%20%20DowntownToronto%2018%20%20%20%20DowntownToronto%2019%20%20%20%20DowntownToronto%2020%20%20%20%20DowntownToronto%2021%20%20%20%20DowntownToronto%2022%20%20%20%20%20CentralToronto%2023%20%20%20%20%20CentralToronto%2024%20%20%20%20%20CentralToronto%2025%20%20%20%20DowntownToronto%2026%20%20%20%20DowntownToronto%2027%20%20%20%20DowntownToronto%2028%20%20%20%20DowntownToronto%2029%20%20%20%20DowntownToronto%2030%20%20%20%20DowntownToronto%2031%20%20%20%20%20%20%20%20WestToronto%2032%20%20%20%20%20%20%20%20WestToronto%2033%20%20%20%20%20%20%20%20WestToronto%2034%20%20%20%20%20%20%20%20WestToronto%2035%20%20%20%20%20%20%20%20WestToronto%2036%20%20%20%20%20%20%20%20WestToronto%2037%20%20%20%20DowntownToronto%2038%20%20%20%20%20%20%20%20EastToronto%20Name%3A%20Borough%2C%20dtype%3A%20object%20Cluster%204%3C/div%3E%60%29%5B0%5D%3B%0A%20%20%20%20%20%20%20%20%20%20%20%20popup_9341c78d860141978bcb5b06b014e098.setContent%28html_05b7dde27fa345159ed86e888af06e30%29%3B%0A%20%20%20%20%20%20%20%20%0A%0A%20%20%20%20%20%20%20%20circle_marker_a7e12a3df1db4050abef76ea8aee2764.bindPopup%28popup_9341c78d860141978bcb5b06b014e098%29%0A%20%20%20%20%20%20%20%20%3B%0A%0A%20%20%20%20%20%20%20%20%0A%20%20%20%20%0A%3C/script%3E onload=\"this.contentDocument.open();this.contentDocument.write(    decodeURIComponent(this.getAttribute('data-html')));this.contentDocument.close();\" allowfullscreen webkitallowfullscreen mozallowfullscreen></iframe></div></div>"
      ],
      "text/plain": [
       "<folium.folium.Map at 0x1f20dd0c820>"
      ]
     },
     "execution_count": 18,
     "metadata": {},
     "output_type": "execute_result"
    }
   ],
   "source": [
    "map_toronto"
   ]
  },
  {
   "cell_type": "code",
   "execution_count": null,
   "metadata": {},
   "outputs": [],
   "source": []
  },
  {
   "cell_type": "code",
   "execution_count": null,
   "metadata": {},
   "outputs": [],
   "source": []
  }
 ],
 "metadata": {
  "kernelspec": {
   "display_name": "Python 3",
   "language": "python",
   "name": "python3"
  },
  "language_info": {
   "codemirror_mode": {
    "name": "ipython",
    "version": 3
   },
   "file_extension": ".py",
   "mimetype": "text/x-python",
   "name": "python",
   "nbconvert_exporter": "python",
   "pygments_lexer": "ipython3",
   "version": "3.8.5"
  }
 },
 "nbformat": 4,
 "nbformat_minor": 4
}
